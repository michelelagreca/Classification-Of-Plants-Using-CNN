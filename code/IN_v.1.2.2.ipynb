{
 "cells": [
  {
   "cell_type": "code",
   "execution_count": 1,
   "id": "d3b68797",
   "metadata": {
    "execution": {
     "iopub.execute_input": "2022-11-19T14:26:09.152233Z",
     "iopub.status.busy": "2022-11-19T14:26:09.151761Z",
     "iopub.status.idle": "2022-11-19T14:26:15.090478Z",
     "shell.execute_reply": "2022-11-19T14:26:15.089502Z"
    },
    "papermill": {
     "duration": 5.950469,
     "end_time": "2022-11-19T14:26:15.093024",
     "exception": false,
     "start_time": "2022-11-19T14:26:09.142555",
     "status": "completed"
    },
    "tags": []
   },
   "outputs": [],
   "source": [
    "import tensorflow as tf\n",
    "import numpy as np\n",
    "import os\n",
    "import random\n",
    "import pandas as pd\n",
    "import seaborn as sns\n",
    "import matplotlib as mpl\n",
    "import matplotlib.pyplot as plt\n",
    "from sklearn.model_selection import train_test_split\n",
    "from sklearn.metrics import accuracy_score, f1_score, precision_score, recall_score\n",
    "from sklearn.metrics import confusion_matrix\n",
    "from PIL import Image\n",
    "\n",
    "tfk = tf.keras\n",
    "tfkl = tf.keras.layers"
   ]
  },
  {
   "cell_type": "code",
   "execution_count": 2,
   "id": "cdba1405",
   "metadata": {
    "execution": {
     "iopub.execute_input": "2022-11-19T14:26:15.104255Z",
     "iopub.status.busy": "2022-11-19T14:26:15.103552Z",
     "iopub.status.idle": "2022-11-19T14:26:15.108648Z",
     "shell.execute_reply": "2022-11-19T14:26:15.107759Z"
    },
    "papermill": {
     "duration": 0.012807,
     "end_time": "2022-11-19T14:26:15.110612",
     "exception": false,
     "start_time": "2022-11-19T14:26:15.097805",
     "status": "completed"
    },
    "tags": []
   },
   "outputs": [],
   "source": [
    "# Random seed for reproducibility\n",
    "seed = 42\n",
    "\n",
    "random.seed(seed)\n",
    "os.environ['PYTHONHASHSEED'] = str(seed)\n",
    "np.random.seed(seed)\n",
    "tf.random.set_seed(seed)\n",
    "tf.compat.v1.set_random_seed(seed)"
   ]
  },
  {
   "cell_type": "code",
   "execution_count": 3,
   "id": "fdbc2b69",
   "metadata": {
    "execution": {
     "iopub.execute_input": "2022-11-19T14:26:15.120223Z",
     "iopub.status.busy": "2022-11-19T14:26:15.119969Z",
     "iopub.status.idle": "2022-11-19T14:26:15.126977Z",
     "shell.execute_reply": "2022-11-19T14:26:15.126159Z"
    },
    "papermill": {
     "duration": 0.014028,
     "end_time": "2022-11-19T14:26:15.128862",
     "exception": false,
     "start_time": "2022-11-19T14:26:15.114834",
     "status": "completed"
    },
    "tags": []
   },
   "outputs": [],
   "source": [
    "import warnings\n",
    "import logging\n",
    "\n",
    "os.environ['TF_CPP_MIN_LOG_LEVEL'] = '2'\n",
    "warnings.simplefilter(action='ignore', category=FutureWarning)\n",
    "warnings.simplefilter(action='ignore', category=Warning)\n",
    "tf.get_logger().setLevel('INFO')\n",
    "tf.autograph.set_verbosity(0)\n",
    "\n",
    "tf.get_logger().setLevel(logging.ERROR)\n",
    "tf.get_logger().setLevel('ERROR')\n",
    "tf.compat.v1.logging.set_verbosity(tf.compat.v1.logging.ERROR)"
   ]
  },
  {
   "cell_type": "markdown",
   "id": "98400957",
   "metadata": {
    "papermill": {
     "duration": 0.004079,
     "end_time": "2022-11-19T14:26:15.137171",
     "exception": false,
     "start_time": "2022-11-19T14:26:15.133092",
     "status": "completed"
    },
    "tags": []
   },
   "source": [
    "## Importing data"
   ]
  },
  {
   "cell_type": "code",
   "execution_count": 4,
   "id": "98042d50",
   "metadata": {
    "execution": {
     "iopub.execute_input": "2022-11-19T14:26:15.146982Z",
     "iopub.status.busy": "2022-11-19T14:26:15.146392Z",
     "iopub.status.idle": "2022-11-19T14:26:15.151213Z",
     "shell.execute_reply": "2022-11-19T14:26:15.150417Z"
    },
    "papermill": {
     "duration": 0.011766,
     "end_time": "2022-11-19T14:26:15.153142",
     "exception": false,
     "start_time": "2022-11-19T14:26:15.141376",
     "status": "completed"
    },
    "tags": []
   },
   "outputs": [],
   "source": [
    "# Dataset folders \n",
    "dataset_dir = '/kaggle/input/an2dl-challenge-1-nt/data_splitted_no_test'\n",
    "training_dir = os.path.join(dataset_dir, 'train')\n",
    "validation_dir = os.path.join(dataset_dir, 'val')"
   ]
  },
  {
   "cell_type": "code",
   "execution_count": 5,
   "id": "6f4e6ddf",
   "metadata": {
    "execution": {
     "iopub.execute_input": "2022-11-19T14:26:15.163529Z",
     "iopub.status.busy": "2022-11-19T14:26:15.162912Z",
     "iopub.status.idle": "2022-11-19T14:26:15.793652Z",
     "shell.execute_reply": "2022-11-19T14:26:15.792608Z"
    },
    "papermill": {
     "duration": 0.640208,
     "end_time": "2022-11-19T14:26:15.797807",
     "exception": false,
     "start_time": "2022-11-19T14:26:15.157599",
     "status": "completed"
    },
    "tags": []
   },
   "outputs": [
    {
     "name": "stdout",
     "output_type": "stream",
     "text": [
      "Found 3648 images belonging to 8 classes.\n",
      "Found 648 images belonging to 8 classes.\n"
     ]
    }
   ],
   "source": [
    "# Images are divided into folders, one for each class. \n",
    "# If the images are organized in such a way, we can exploit the \n",
    "# ImageDataGenerator to read them from disk.\n",
    "from tensorflow.keras.preprocessing.image import ImageDataGenerator\n",
    "\n",
    "# Create an instance of ImageDataGenerator, and for the trainign with Data Augmentation\n",
    "train_data_gen = ImageDataGenerator(rotation_range=15, \n",
    "                                    height_shift_range=0.2, \n",
    "                                    width_shift_range=0.2, \n",
    "                                    zoom_range=0.2, \n",
    "                                    horizontal_flip=True, \n",
    "                                    shear_range=0.2, \n",
    "                                    fill_mode='reflect',\n",
    "                                    rescale=1/255.) # rescale value is multiplied to the image ############################################\n",
    "valid_data_gen = ImageDataGenerator(rescale=1/255.)\n",
    "\n",
    "# Obtain a data generator with the 'ImageDataGenerator.flow_from_directory' method\n",
    "train_gen = train_data_gen.flow_from_directory(directory=training_dir,\n",
    "                                                       target_size=(96,96),\n",
    "                                                       color_mode='rgb',\n",
    "                                                       classes=None, # can be set to labels\n",
    "                                                       class_mode='categorical',\n",
    "                                                       batch_size=8,\n",
    "                                                       shuffle=True,\n",
    "                                                       seed=seed)\n",
    "\n",
    "valid_gen = valid_data_gen.flow_from_directory(directory=validation_dir,\n",
    "                                               target_size=(96,96),\n",
    "                                               color_mode='rgb',\n",
    "                                               classes=None, # can be set to labels\n",
    "                                               class_mode='categorical',\n",
    "                                               batch_size=8,\n",
    "                                               shuffle=False,\n",
    "                                               seed=seed)"
   ]
  },
  {
   "cell_type": "markdown",
   "id": "2adb0498",
   "metadata": {
    "papermill": {
     "duration": 0.004755,
     "end_time": "2022-11-19T14:26:15.807309",
     "exception": false,
     "start_time": "2022-11-19T14:26:15.802554",
     "status": "completed"
    },
    "tags": []
   },
   "source": [
    "## Model"
   ]
  },
  {
   "cell_type": "code",
   "execution_count": 6,
   "id": "2f5f0681",
   "metadata": {
    "execution": {
     "iopub.execute_input": "2022-11-19T14:26:15.817307Z",
     "iopub.status.busy": "2022-11-19T14:26:15.817012Z",
     "iopub.status.idle": "2022-11-19T14:26:15.827809Z",
     "shell.execute_reply": "2022-11-19T14:26:15.826840Z"
    },
    "papermill": {
     "duration": 0.018017,
     "end_time": "2022-11-19T14:26:15.829709",
     "exception": false,
     "start_time": "2022-11-19T14:26:15.811692",
     "status": "completed"
    },
    "tags": []
   },
   "outputs": [
    {
     "data": {
      "text/plain": [
       "['variables', 'saved_model.pb', 'keras_metadata.pb']"
      ]
     },
     "execution_count": 6,
     "metadata": {},
     "output_type": "execute_result"
    }
   ],
   "source": [
    "import os\n",
    "os.listdir(\"/kaggle/input/inceptionv3/IN_v1.2.1\")"
   ]
  },
  {
   "cell_type": "code",
   "execution_count": 7,
   "id": "ac26609a",
   "metadata": {
    "execution": {
     "iopub.execute_input": "2022-11-19T14:26:15.841489Z",
     "iopub.status.busy": "2022-11-19T14:26:15.840844Z",
     "iopub.status.idle": "2022-11-19T14:26:34.874288Z",
     "shell.execute_reply": "2022-11-19T14:26:34.873171Z"
    },
    "papermill": {
     "duration": 19.042663,
     "end_time": "2022-11-19T14:26:34.878193",
     "exception": false,
     "start_time": "2022-11-19T14:26:15.835530",
     "status": "completed"
    },
    "tags": []
   },
   "outputs": [
    {
     "name": "stdout",
     "output_type": "stream",
     "text": [
      "Model: \"model\"\n",
      "_________________________________________________________________\n",
      "Layer (type)                 Output Shape              Param #   \n",
      "=================================================================\n",
      "input_layer (InputLayer)     [(None, 96, 96, 3)]       0         \n",
      "_________________________________________________________________\n",
      "inception_v3 (Functional)    (None, 1, 1, 2048)        21802784  \n",
      "_________________________________________________________________\n",
      "global_average_pooling2d (Gl (None, 2048)              0         \n",
      "_________________________________________________________________\n",
      "dropout (Dropout)            (None, 2048)              0         \n",
      "_________________________________________________________________\n",
      "Classifier1 (Dense)          (None, 512)               1049088   \n",
      "_________________________________________________________________\n",
      "activation_94 (Activation)   (None, 512)               0         \n",
      "_________________________________________________________________\n",
      "batch_normalization_94 (Batc (None, 512)               2048      \n",
      "_________________________________________________________________\n",
      "dropout_1 (Dropout)          (None, 512)               0         \n",
      "_________________________________________________________________\n",
      "Classifier2 (Dense)          (None, 60)                30780     \n",
      "_________________________________________________________________\n",
      "activation_95 (Activation)   (None, 60)                0         \n",
      "_________________________________________________________________\n",
      "batch_normalization_95 (Batc (None, 60)                240       \n",
      "_________________________________________________________________\n",
      "dropout_2 (Dropout)          (None, 60)                0         \n",
      "_________________________________________________________________\n",
      "output_layer (Dense)         (None, 8)                 488       \n",
      "=================================================================\n",
      "Total params: 22,885,428\n",
      "Trainable params: 1,081,500\n",
      "Non-trainable params: 21,803,928\n",
      "_________________________________________________________________\n"
     ]
    }
   ],
   "source": [
    "# Re-load the model after transfer learning\n",
    "IN = tfk.models.load_model('/kaggle/input/inceptionv3/IN_v1.2.1')\n",
    "IN.summary()"
   ]
  },
  {
   "cell_type": "code",
   "execution_count": 8,
   "id": "87cba3eb",
   "metadata": {
    "execution": {
     "iopub.execute_input": "2022-11-19T14:26:34.890081Z",
     "iopub.status.busy": "2022-11-19T14:26:34.889783Z",
     "iopub.status.idle": "2022-11-19T14:26:34.897017Z",
     "shell.execute_reply": "2022-11-19T14:26:34.895979Z"
    },
    "papermill": {
     "duration": 0.01507,
     "end_time": "2022-11-19T14:26:34.899090",
     "exception": false,
     "start_time": "2022-11-19T14:26:34.884020",
     "status": "completed"
    },
    "tags": []
   },
   "outputs": [
    {
     "data": {
      "text/plain": [
       "'# to create a folder\\nimport os\\ndirectory = \"Inception\"\\nparent_dir = \"/kaggle/working\"\\npath = os.path.join(parent_dir, directory)\\nos.mkdir(path)'"
      ]
     },
     "execution_count": 8,
     "metadata": {},
     "output_type": "execute_result"
    }
   ],
   "source": [
    "'''# to create a folder\n",
    "import os\n",
    "directory = \"Inception\"\n",
    "parent_dir = \"/kaggle/working\"\n",
    "path = os.path.join(parent_dir, directory)\n",
    "os.mkdir(path)'''"
   ]
  },
  {
   "cell_type": "code",
   "execution_count": 9,
   "id": "351a69d4",
   "metadata": {
    "execution": {
     "iopub.execute_input": "2022-11-19T14:26:34.909383Z",
     "iopub.status.busy": "2022-11-19T14:26:34.909114Z",
     "iopub.status.idle": "2022-11-19T14:26:36.082737Z",
     "shell.execute_reply": "2022-11-19T14:26:36.081577Z"
    },
    "papermill": {
     "duration": 1.182248,
     "end_time": "2022-11-19T14:26:36.085962",
     "exception": false,
     "start_time": "2022-11-19T14:26:34.903714",
     "status": "completed"
    },
    "tags": []
   },
   "outputs": [
    {
     "name": "stdout",
     "output_type": "stream",
     "text": [
      "/bin/bash: line 0: cd: /kaggle/working/Inception: No such file or directory\r\n"
     ]
    }
   ],
   "source": [
    "!cd /kaggle/working/Inception"
   ]
  },
  {
   "cell_type": "code",
   "execution_count": 10,
   "id": "ed3d821e",
   "metadata": {
    "execution": {
     "iopub.execute_input": "2022-11-19T14:26:36.102062Z",
     "iopub.status.busy": "2022-11-19T14:26:36.101669Z",
     "iopub.status.idle": "2022-11-19T14:26:36.123859Z",
     "shell.execute_reply": "2022-11-19T14:26:36.123052Z"
    },
    "papermill": {
     "duration": 0.032867,
     "end_time": "2022-11-19T14:26:36.126082",
     "exception": false,
     "start_time": "2022-11-19T14:26:36.093215",
     "status": "completed"
    },
    "tags": []
   },
   "outputs": [],
   "source": [
    "# Set all VGG layers to True\n",
    "IN.get_layer('inception_v3').trainable = True"
   ]
  },
  {
   "cell_type": "code",
   "execution_count": 11,
   "id": "d4574bfc",
   "metadata": {
    "execution": {
     "iopub.execute_input": "2022-11-19T14:26:36.141463Z",
     "iopub.status.busy": "2022-11-19T14:26:36.140898Z",
     "iopub.status.idle": "2022-11-19T14:26:36.149033Z",
     "shell.execute_reply": "2022-11-19T14:26:36.148215Z"
    },
    "papermill": {
     "duration": 0.018523,
     "end_time": "2022-11-19T14:26:36.151512",
     "exception": false,
     "start_time": "2022-11-19T14:26:36.132989",
     "status": "completed"
    },
    "tags": []
   },
   "outputs": [
    {
     "data": {
      "text/plain": [
       "\"for i, layer in enumerate(IN.get_layer('inception_v3').layers):\\n   print(i, layer.name, layer.trainable)\""
      ]
     },
     "execution_count": 11,
     "metadata": {},
     "output_type": "execute_result"
    }
   ],
   "source": [
    "'''for i, layer in enumerate(IN.get_layer('inception_v3').layers):\n",
    "   print(i, layer.name, layer.trainable)'''"
   ]
  },
  {
   "cell_type": "code",
   "execution_count": 12,
   "id": "591601b9",
   "metadata": {
    "execution": {
     "iopub.execute_input": "2022-11-19T14:26:36.167227Z",
     "iopub.status.busy": "2022-11-19T14:26:36.166917Z",
     "iopub.status.idle": "2022-11-19T14:26:36.218799Z",
     "shell.execute_reply": "2022-11-19T14:26:36.218011Z"
    },
    "papermill": {
     "duration": 0.062774,
     "end_time": "2022-11-19T14:26:36.221230",
     "exception": false,
     "start_time": "2022-11-19T14:26:36.158456",
     "status": "completed"
    },
    "tags": []
   },
   "outputs": [
    {
     "name": "stdout",
     "output_type": "stream",
     "text": [
      "Model: \"model\"\n",
      "_________________________________________________________________\n",
      "Layer (type)                 Output Shape              Param #   \n",
      "=================================================================\n",
      "input_layer (InputLayer)     [(None, 96, 96, 3)]       0         \n",
      "_________________________________________________________________\n",
      "inception_v3 (Functional)    (None, 1, 1, 2048)        21802784  \n",
      "_________________________________________________________________\n",
      "global_average_pooling2d (Gl (None, 2048)              0         \n",
      "_________________________________________________________________\n",
      "dropout (Dropout)            (None, 2048)              0         \n",
      "_________________________________________________________________\n",
      "Classifier1 (Dense)          (None, 512)               1049088   \n",
      "_________________________________________________________________\n",
      "activation_94 (Activation)   (None, 512)               0         \n",
      "_________________________________________________________________\n",
      "batch_normalization_94 (Batc (None, 512)               2048      \n",
      "_________________________________________________________________\n",
      "dropout_1 (Dropout)          (None, 512)               0         \n",
      "_________________________________________________________________\n",
      "Classifier2 (Dense)          (None, 60)                30780     \n",
      "_________________________________________________________________\n",
      "activation_95 (Activation)   (None, 60)                0         \n",
      "_________________________________________________________________\n",
      "batch_normalization_95 (Batc (None, 60)                240       \n",
      "_________________________________________________________________\n",
      "dropout_2 (Dropout)          (None, 60)                0         \n",
      "_________________________________________________________________\n",
      "output_layer (Dense)         (None, 8)                 488       \n",
      "=================================================================\n",
      "Total params: 22,885,428\n",
      "Trainable params: 19,411,996\n",
      "Non-trainable params: 3,473,432\n",
      "_________________________________________________________________\n"
     ]
    }
   ],
   "source": [
    "# Freeze first N layers (because the first layers has learned the edges, and they usually are still good)\n",
    "# we can set this aspect as an hyperparam\n",
    "N = 132\n",
    "for i, layer in enumerate(IN.get_layer('inception_v3').layers[:N]):\n",
    "  layer.trainable=False\n",
    "IN.summary()"
   ]
  },
  {
   "cell_type": "markdown",
   "id": "3fbd0822",
   "metadata": {
    "papermill": {
     "duration": 0.006893,
     "end_time": "2022-11-19T14:26:36.235582",
     "exception": false,
     "start_time": "2022-11-19T14:26:36.228689",
     "status": "completed"
    },
    "tags": []
   },
   "source": [
    "## Training"
   ]
  },
  {
   "cell_type": "code",
   "execution_count": 13,
   "id": "f21a62b5",
   "metadata": {
    "execution": {
     "iopub.execute_input": "2022-11-19T14:26:36.251411Z",
     "iopub.status.busy": "2022-11-19T14:26:36.251111Z",
     "iopub.status.idle": "2022-11-19T14:26:36.278269Z",
     "shell.execute_reply": "2022-11-19T14:26:36.277466Z"
    },
    "papermill": {
     "duration": 0.037637,
     "end_time": "2022-11-19T14:26:36.280676",
     "exception": false,
     "start_time": "2022-11-19T14:26:36.243039",
     "status": "completed"
    },
    "tags": []
   },
   "outputs": [],
   "source": [
    "# Compile the model\n",
    "IN.compile(loss=tfk.losses.CategoricalCrossentropy(), optimizer=tfk.optimizers.RMSprop(learning_rate=0.0001), metrics='accuracy')"
   ]
  },
  {
   "cell_type": "code",
   "execution_count": 14,
   "id": "5901888d",
   "metadata": {
    "execution": {
     "iopub.execute_input": "2022-11-19T14:26:36.296459Z",
     "iopub.status.busy": "2022-11-19T14:26:36.296160Z",
     "iopub.status.idle": "2022-11-19T15:36:31.665804Z",
     "shell.execute_reply": "2022-11-19T15:36:31.664749Z"
    },
    "papermill": {
     "duration": 4195.380239,
     "end_time": "2022-11-19T15:36:31.668450",
     "exception": false,
     "start_time": "2022-11-19T14:26:36.288211",
     "status": "completed"
    },
    "tags": []
   },
   "outputs": [
    {
     "name": "stdout",
     "output_type": "stream",
     "text": [
      "Epoch 1/200\n",
      "456/456 [==============================] - 49s 73ms/step - loss: 1.9001 - accuracy: 0.3103 - val_loss: 1.6620 - val_accuracy: 0.4136\n",
      "Epoch 2/200\n",
      "456/456 [==============================] - 24s 53ms/step - loss: 1.6394 - accuracy: 0.4052 - val_loss: 1.7555 - val_accuracy: 0.4691\n",
      "Epoch 3/200\n",
      "456/456 [==============================] - 25s 56ms/step - loss: 1.5570 - accuracy: 0.4465 - val_loss: 1.7686 - val_accuracy: 0.5648\n",
      "Epoch 4/200\n",
      "456/456 [==============================] - 24s 52ms/step - loss: 1.4748 - accuracy: 0.4729 - val_loss: 1.2754 - val_accuracy: 0.6265\n",
      "Epoch 5/200\n",
      "456/456 [==============================] - 24s 53ms/step - loss: 1.4003 - accuracy: 0.5047 - val_loss: 1.2029 - val_accuracy: 0.6096\n",
      "Epoch 6/200\n",
      "456/456 [==============================] - 24s 53ms/step - loss: 1.3403 - accuracy: 0.5266 - val_loss: 1.5256 - val_accuracy: 0.6682\n",
      "Epoch 7/200\n",
      "456/456 [==============================] - 25s 55ms/step - loss: 1.3212 - accuracy: 0.5403 - val_loss: 1.2156 - val_accuracy: 0.7114\n",
      "Epoch 8/200\n",
      "456/456 [==============================] - 24s 52ms/step - loss: 1.2901 - accuracy: 0.5521 - val_loss: 1.2527 - val_accuracy: 0.6728\n",
      "Epoch 9/200\n",
      "456/456 [==============================] - 25s 54ms/step - loss: 1.2334 - accuracy: 0.5762 - val_loss: 0.9411 - val_accuracy: 0.7130\n",
      "Epoch 10/200\n",
      "456/456 [==============================] - 25s 54ms/step - loss: 1.2039 - accuracy: 0.6001 - val_loss: 1.0771 - val_accuracy: 0.6883\n",
      "Epoch 11/200\n",
      "456/456 [==============================] - 25s 54ms/step - loss: 1.1811 - accuracy: 0.6061 - val_loss: 0.9546 - val_accuracy: 0.6883\n",
      "Epoch 12/200\n",
      "456/456 [==============================] - 24s 53ms/step - loss: 1.1406 - accuracy: 0.6220 - val_loss: 0.9392 - val_accuracy: 0.7099\n",
      "Epoch 13/200\n",
      "456/456 [==============================] - 24s 52ms/step - loss: 1.1177 - accuracy: 0.6332 - val_loss: 0.9189 - val_accuracy: 0.7284\n",
      "Epoch 14/200\n",
      "456/456 [==============================] - 24s 53ms/step - loss: 1.0870 - accuracy: 0.6360 - val_loss: 0.9375 - val_accuracy: 0.7361\n",
      "Epoch 15/200\n",
      "456/456 [==============================] - 25s 55ms/step - loss: 1.1037 - accuracy: 0.6340 - val_loss: 0.9248 - val_accuracy: 0.7423\n",
      "Epoch 16/200\n",
      "456/456 [==============================] - 25s 55ms/step - loss: 1.0843 - accuracy: 0.6423 - val_loss: 0.9216 - val_accuracy: 0.7639\n",
      "Epoch 17/200\n",
      "456/456 [==============================] - 25s 55ms/step - loss: 1.0421 - accuracy: 0.6554 - val_loss: 0.8315 - val_accuracy: 0.7454\n",
      "Epoch 18/200\n",
      "456/456 [==============================] - 26s 57ms/step - loss: 1.0362 - accuracy: 0.6664 - val_loss: 0.9771 - val_accuracy: 0.7346\n",
      "Epoch 19/200\n",
      "456/456 [==============================] - 26s 56ms/step - loss: 1.0177 - accuracy: 0.6631 - val_loss: 1.6329 - val_accuracy: 0.7238\n",
      "Epoch 20/200\n",
      "456/456 [==============================] - 27s 58ms/step - loss: 1.0072 - accuracy: 0.6705 - val_loss: 0.7588 - val_accuracy: 0.7685\n",
      "Epoch 21/200\n",
      "456/456 [==============================] - 27s 59ms/step - loss: 1.0005 - accuracy: 0.6730 - val_loss: 0.7845 - val_accuracy: 0.7716\n",
      "Epoch 22/200\n",
      "456/456 [==============================] - 26s 58ms/step - loss: 0.9751 - accuracy: 0.6746 - val_loss: 0.7351 - val_accuracy: 0.7809\n",
      "Epoch 23/200\n",
      "456/456 [==============================] - 26s 56ms/step - loss: 0.9527 - accuracy: 0.6985 - val_loss: 0.8527 - val_accuracy: 0.7500\n",
      "Epoch 24/200\n",
      "456/456 [==============================] - 27s 59ms/step - loss: 0.9489 - accuracy: 0.6891 - val_loss: 0.8380 - val_accuracy: 0.7515\n",
      "Epoch 25/200\n",
      "456/456 [==============================] - 26s 56ms/step - loss: 0.9131 - accuracy: 0.7070 - val_loss: 0.7785 - val_accuracy: 0.7670\n",
      "Epoch 26/200\n",
      "456/456 [==============================] - 26s 56ms/step - loss: 0.9097 - accuracy: 0.7130 - val_loss: 0.8910 - val_accuracy: 0.7562\n",
      "Epoch 27/200\n",
      "456/456 [==============================] - 26s 57ms/step - loss: 0.8960 - accuracy: 0.7053 - val_loss: 0.9324 - val_accuracy: 0.7593\n",
      "Epoch 28/200\n",
      "456/456 [==============================] - 26s 57ms/step - loss: 0.8831 - accuracy: 0.7204 - val_loss: 1.0325 - val_accuracy: 0.7546\n",
      "Epoch 29/200\n",
      "456/456 [==============================] - 27s 58ms/step - loss: 0.8646 - accuracy: 0.7240 - val_loss: 0.8175 - val_accuracy: 0.7809\n",
      "Epoch 30/200\n",
      "456/456 [==============================] - 26s 56ms/step - loss: 0.8417 - accuracy: 0.7333 - val_loss: 1.7006 - val_accuracy: 0.7346\n",
      "Epoch 31/200\n",
      "456/456 [==============================] - 25s 55ms/step - loss: 0.8434 - accuracy: 0.7229 - val_loss: 0.9096 - val_accuracy: 0.7670\n",
      "Epoch 32/200\n",
      "456/456 [==============================] - 27s 59ms/step - loss: 0.8294 - accuracy: 0.7388 - val_loss: 0.7267 - val_accuracy: 0.7824\n",
      "Epoch 33/200\n",
      "456/456 [==============================] - 28s 60ms/step - loss: 0.8173 - accuracy: 0.7437 - val_loss: 0.7713 - val_accuracy: 0.7824\n",
      "Epoch 34/200\n",
      "456/456 [==============================] - 26s 57ms/step - loss: 0.8298 - accuracy: 0.7377 - val_loss: 0.8414 - val_accuracy: 0.7685\n",
      "Epoch 35/200\n",
      "456/456 [==============================] - 26s 57ms/step - loss: 0.7831 - accuracy: 0.7511 - val_loss: 0.8619 - val_accuracy: 0.7546\n",
      "Epoch 36/200\n",
      "456/456 [==============================] - 24s 53ms/step - loss: 0.7913 - accuracy: 0.7579 - val_loss: 1.1953 - val_accuracy: 0.7531\n",
      "Epoch 37/200\n",
      "456/456 [==============================] - 24s 53ms/step - loss: 0.7960 - accuracy: 0.7442 - val_loss: 0.7879 - val_accuracy: 0.7639\n",
      "Epoch 38/200\n",
      "456/456 [==============================] - 25s 55ms/step - loss: 0.7981 - accuracy: 0.7445 - val_loss: 0.8244 - val_accuracy: 0.7716\n",
      "Epoch 39/200\n",
      "456/456 [==============================] - 25s 55ms/step - loss: 0.7497 - accuracy: 0.7654 - val_loss: 0.7537 - val_accuracy: 0.7762\n",
      "Epoch 40/200\n",
      "456/456 [==============================] - 25s 56ms/step - loss: 0.7485 - accuracy: 0.7717 - val_loss: 0.7361 - val_accuracy: 0.7840\n",
      "Epoch 41/200\n",
      "456/456 [==============================] - 24s 52ms/step - loss: 0.7502 - accuracy: 0.7697 - val_loss: 0.8276 - val_accuracy: 0.7608\n",
      "Epoch 42/200\n",
      "456/456 [==============================] - 26s 57ms/step - loss: 0.7260 - accuracy: 0.7738 - val_loss: 0.7167 - val_accuracy: 0.8056\n",
      "Epoch 43/200\n",
      "456/456 [==============================] - 26s 57ms/step - loss: 0.7346 - accuracy: 0.7722 - val_loss: 0.7596 - val_accuracy: 0.7886\n",
      "Epoch 44/200\n",
      "456/456 [==============================] - 26s 57ms/step - loss: 0.7299 - accuracy: 0.7769 - val_loss: 0.8338 - val_accuracy: 0.7809\n",
      "Epoch 45/200\n",
      "456/456 [==============================] - 26s 58ms/step - loss: 0.7273 - accuracy: 0.7741 - val_loss: 0.8894 - val_accuracy: 0.7639\n",
      "Epoch 46/200\n",
      "456/456 [==============================] - 25s 56ms/step - loss: 0.7250 - accuracy: 0.7719 - val_loss: 0.8797 - val_accuracy: 0.7562\n",
      "Epoch 47/200\n",
      "456/456 [==============================] - 26s 57ms/step - loss: 0.7281 - accuracy: 0.7744 - val_loss: 0.8829 - val_accuracy: 0.7701\n",
      "Epoch 48/200\n",
      "456/456 [==============================] - 26s 57ms/step - loss: 0.7146 - accuracy: 0.7810 - val_loss: 1.0029 - val_accuracy: 0.7701\n",
      "Epoch 49/200\n",
      "456/456 [==============================] - 25s 55ms/step - loss: 0.6915 - accuracy: 0.7823 - val_loss: 1.4349 - val_accuracy: 0.7747\n",
      "Epoch 50/200\n",
      "456/456 [==============================] - 26s 57ms/step - loss: 0.7006 - accuracy: 0.7856 - val_loss: 0.8196 - val_accuracy: 0.7747\n",
      "Epoch 51/200\n",
      "456/456 [==============================] - 27s 59ms/step - loss: 0.6986 - accuracy: 0.7840 - val_loss: 1.4393 - val_accuracy: 0.7654\n",
      "Epoch 52/200\n",
      "456/456 [==============================] - 26s 57ms/step - loss: 0.6939 - accuracy: 0.7832 - val_loss: 0.8150 - val_accuracy: 0.7886\n",
      "Epoch 53/200\n",
      "456/456 [==============================] - 26s 58ms/step - loss: 0.6728 - accuracy: 0.7939 - val_loss: 0.8115 - val_accuracy: 0.7778\n",
      "Epoch 54/200\n",
      "456/456 [==============================] - 25s 55ms/step - loss: 0.6708 - accuracy: 0.7982 - val_loss: 0.8295 - val_accuracy: 0.7840\n",
      "Epoch 55/200\n",
      "456/456 [==============================] - 26s 57ms/step - loss: 0.6548 - accuracy: 0.8048 - val_loss: 0.9020 - val_accuracy: 0.7685\n",
      "Epoch 56/200\n",
      "456/456 [==============================] - 27s 59ms/step - loss: 0.6790 - accuracy: 0.7887 - val_loss: 0.9422 - val_accuracy: 0.7917\n",
      "Epoch 57/200\n",
      "456/456 [==============================] - 26s 58ms/step - loss: 0.6529 - accuracy: 0.8013 - val_loss: 0.9458 - val_accuracy: 0.7701\n",
      "Epoch 58/200\n",
      "456/456 [==============================] - 26s 57ms/step - loss: 0.6141 - accuracy: 0.8120 - val_loss: 0.8502 - val_accuracy: 0.7731\n",
      "Epoch 59/200\n",
      "456/456 [==============================] - 26s 58ms/step - loss: 0.6320 - accuracy: 0.8059 - val_loss: 1.1855 - val_accuracy: 0.7670\n",
      "Epoch 60/200\n",
      "456/456 [==============================] - 25s 54ms/step - loss: 0.6281 - accuracy: 0.8078 - val_loss: 1.2353 - val_accuracy: 0.7639\n",
      "Epoch 61/200\n",
      "456/456 [==============================] - 26s 58ms/step - loss: 0.6585 - accuracy: 0.7999 - val_loss: 0.6887 - val_accuracy: 0.8086\n",
      "Epoch 62/200\n",
      "456/456 [==============================] - 26s 57ms/step - loss: 0.6428 - accuracy: 0.8018 - val_loss: 1.0925 - val_accuracy: 0.7840\n",
      "Epoch 63/200\n",
      "456/456 [==============================] - 26s 58ms/step - loss: 0.6277 - accuracy: 0.8100 - val_loss: 1.1315 - val_accuracy: 0.7948\n",
      "Epoch 64/200\n",
      "456/456 [==============================] - 27s 58ms/step - loss: 0.6097 - accuracy: 0.8081 - val_loss: 1.0196 - val_accuracy: 0.7886\n",
      "Epoch 65/200\n",
      "456/456 [==============================] - 25s 55ms/step - loss: 0.5991 - accuracy: 0.8215 - val_loss: 1.5837 - val_accuracy: 0.7546\n",
      "Epoch 66/200\n",
      "456/456 [==============================] - 25s 54ms/step - loss: 0.6029 - accuracy: 0.8163 - val_loss: 1.0248 - val_accuracy: 0.8086\n",
      "Epoch 67/200\n",
      "456/456 [==============================] - 26s 58ms/step - loss: 0.6019 - accuracy: 0.8169 - val_loss: 1.0610 - val_accuracy: 0.7701\n",
      "Epoch 68/200\n",
      "456/456 [==============================] - 25s 56ms/step - loss: 0.5891 - accuracy: 0.8169 - val_loss: 1.3592 - val_accuracy: 0.7870\n",
      "Epoch 69/200\n",
      "456/456 [==============================] - 25s 54ms/step - loss: 0.5744 - accuracy: 0.8284 - val_loss: 0.9082 - val_accuracy: 0.7994\n",
      "Epoch 70/200\n",
      "456/456 [==============================] - 26s 56ms/step - loss: 0.5700 - accuracy: 0.8279 - val_loss: 1.1339 - val_accuracy: 0.7716\n",
      "Epoch 71/200\n",
      "456/456 [==============================] - 25s 56ms/step - loss: 0.5836 - accuracy: 0.8292 - val_loss: 0.7435 - val_accuracy: 0.8287\n",
      "Epoch 72/200\n",
      "456/456 [==============================] - 25s 55ms/step - loss: 0.5595 - accuracy: 0.8339 - val_loss: 0.9238 - val_accuracy: 0.8102\n",
      "Epoch 73/200\n",
      "456/456 [==============================] - 25s 54ms/step - loss: 0.5587 - accuracy: 0.8342 - val_loss: 0.9978 - val_accuracy: 0.8071\n",
      "Epoch 74/200\n",
      "456/456 [==============================] - 26s 56ms/step - loss: 0.5774 - accuracy: 0.8251 - val_loss: 0.9096 - val_accuracy: 0.7840\n",
      "Epoch 75/200\n",
      "456/456 [==============================] - 26s 57ms/step - loss: 0.5502 - accuracy: 0.8333 - val_loss: 1.0787 - val_accuracy: 0.8164\n",
      "Epoch 76/200\n",
      "456/456 [==============================] - 25s 54ms/step - loss: 0.5474 - accuracy: 0.8374 - val_loss: 0.9351 - val_accuracy: 0.8009\n",
      "Epoch 77/200\n",
      "456/456 [==============================] - 26s 57ms/step - loss: 0.5425 - accuracy: 0.8333 - val_loss: 1.0156 - val_accuracy: 0.8025\n",
      "Epoch 78/200\n",
      "456/456 [==============================] - 27s 59ms/step - loss: 0.5449 - accuracy: 0.8402 - val_loss: 1.2663 - val_accuracy: 0.8025\n",
      "Epoch 79/200\n",
      "456/456 [==============================] - 26s 57ms/step - loss: 0.5663 - accuracy: 0.8374 - val_loss: 1.4306 - val_accuracy: 0.7840\n",
      "Epoch 80/200\n",
      "456/456 [==============================] - 27s 59ms/step - loss: 0.5421 - accuracy: 0.8402 - val_loss: 0.9918 - val_accuracy: 0.7994\n",
      "Epoch 81/200\n",
      "456/456 [==============================] - 26s 58ms/step - loss: 0.5421 - accuracy: 0.8421 - val_loss: 1.6625 - val_accuracy: 0.7840\n",
      "Epoch 82/200\n",
      "456/456 [==============================] - 26s 56ms/step - loss: 0.5538 - accuracy: 0.8358 - val_loss: 0.7719 - val_accuracy: 0.8071\n",
      "Epoch 83/200\n",
      "456/456 [==============================] - 27s 58ms/step - loss: 0.5236 - accuracy: 0.8459 - val_loss: 2.0339 - val_accuracy: 0.7701\n",
      "Epoch 84/200\n",
      "456/456 [==============================] - 26s 58ms/step - loss: 0.5293 - accuracy: 0.8427 - val_loss: 0.8752 - val_accuracy: 0.7994\n",
      "Epoch 85/200\n",
      "456/456 [==============================] - 27s 58ms/step - loss: 0.5006 - accuracy: 0.8561 - val_loss: 0.9887 - val_accuracy: 0.8009\n",
      "Epoch 86/200\n",
      "456/456 [==============================] - 27s 58ms/step - loss: 0.4890 - accuracy: 0.8599 - val_loss: 0.7922 - val_accuracy: 0.8302\n",
      "Epoch 87/200\n",
      "456/456 [==============================] - 26s 57ms/step - loss: 0.5083 - accuracy: 0.8555 - val_loss: 0.8052 - val_accuracy: 0.8102\n",
      "Epoch 88/200\n",
      "456/456 [==============================] - 26s 57ms/step - loss: 0.4959 - accuracy: 0.8481 - val_loss: 0.8970 - val_accuracy: 0.8102\n",
      "Epoch 89/200\n",
      "456/456 [==============================] - 24s 53ms/step - loss: 0.5028 - accuracy: 0.8517 - val_loss: 0.9743 - val_accuracy: 0.8148\n",
      "Epoch 90/200\n",
      "456/456 [==============================] - 26s 56ms/step - loss: 0.4845 - accuracy: 0.8561 - val_loss: 1.0507 - val_accuracy: 0.7840\n",
      "Epoch 91/200\n",
      "456/456 [==============================] - 26s 56ms/step - loss: 0.4984 - accuracy: 0.8566 - val_loss: 0.9061 - val_accuracy: 0.7994\n",
      "Epoch 92/200\n",
      "456/456 [==============================] - 26s 56ms/step - loss: 0.4772 - accuracy: 0.8638 - val_loss: 0.9634 - val_accuracy: 0.7978\n",
      "Epoch 93/200\n",
      "456/456 [==============================] - 25s 56ms/step - loss: 0.4942 - accuracy: 0.8586 - val_loss: 0.9774 - val_accuracy: 0.8056\n",
      "Epoch 94/200\n",
      "456/456 [==============================] - 26s 58ms/step - loss: 0.4784 - accuracy: 0.8577 - val_loss: 0.8692 - val_accuracy: 0.8040\n",
      "Epoch 95/200\n",
      "456/456 [==============================] - 26s 57ms/step - loss: 0.5082 - accuracy: 0.8473 - val_loss: 0.7813 - val_accuracy: 0.8102\n",
      "Epoch 96/200\n",
      "456/456 [==============================] - 27s 59ms/step - loss: 0.5092 - accuracy: 0.8533 - val_loss: 0.8740 - val_accuracy: 0.8148\n",
      "Epoch 97/200\n",
      "456/456 [==============================] - 26s 57ms/step - loss: 0.4977 - accuracy: 0.8487 - val_loss: 0.9195 - val_accuracy: 0.8179\n",
      "Epoch 98/200\n",
      "456/456 [==============================] - 27s 59ms/step - loss: 0.4872 - accuracy: 0.8520 - val_loss: 0.8072 - val_accuracy: 0.8117\n",
      "Epoch 99/200\n",
      "456/456 [==============================] - 26s 57ms/step - loss: 0.4630 - accuracy: 0.8580 - val_loss: 0.8876 - val_accuracy: 0.7978\n",
      "Epoch 100/200\n",
      "456/456 [==============================] - 25s 55ms/step - loss: 0.4731 - accuracy: 0.8605 - val_loss: 1.2352 - val_accuracy: 0.7978\n",
      "Epoch 101/200\n",
      "456/456 [==============================] - 26s 58ms/step - loss: 0.4826 - accuracy: 0.8596 - val_loss: 1.0668 - val_accuracy: 0.7963\n",
      "Epoch 102/200\n",
      "456/456 [==============================] - 27s 58ms/step - loss: 0.4936 - accuracy: 0.8550 - val_loss: 0.8939 - val_accuracy: 0.8318\n",
      "Epoch 103/200\n",
      "456/456 [==============================] - 26s 56ms/step - loss: 0.4649 - accuracy: 0.8668 - val_loss: 0.7523 - val_accuracy: 0.8380\n",
      "Epoch 104/200\n",
      "456/456 [==============================] - 27s 59ms/step - loss: 0.4400 - accuracy: 0.8692 - val_loss: 0.9004 - val_accuracy: 0.8272\n",
      "Epoch 105/200\n",
      "456/456 [==============================] - 27s 58ms/step - loss: 0.4693 - accuracy: 0.8668 - val_loss: 1.2661 - val_accuracy: 0.7901\n",
      "Epoch 106/200\n",
      "456/456 [==============================] - 25s 55ms/step - loss: 0.4737 - accuracy: 0.8624 - val_loss: 1.1894 - val_accuracy: 0.7670\n",
      "Epoch 107/200\n",
      "456/456 [==============================] - 27s 59ms/step - loss: 0.4645 - accuracy: 0.8692 - val_loss: 0.9258 - val_accuracy: 0.7917\n",
      "Epoch 108/200\n",
      "456/456 [==============================] - 27s 59ms/step - loss: 0.4537 - accuracy: 0.8681 - val_loss: 0.9220 - val_accuracy: 0.7994\n",
      "Epoch 109/200\n",
      "456/456 [==============================] - 27s 59ms/step - loss: 0.4221 - accuracy: 0.8742 - val_loss: 1.1210 - val_accuracy: 0.8133\n",
      "Epoch 110/200\n",
      "456/456 [==============================] - 27s 59ms/step - loss: 0.4454 - accuracy: 0.8709 - val_loss: 0.7400 - val_accuracy: 0.8117\n",
      "Epoch 111/200\n",
      "456/456 [==============================] - 27s 59ms/step - loss: 0.4377 - accuracy: 0.8654 - val_loss: 0.6974 - val_accuracy: 0.8410\n",
      "Epoch 112/200\n",
      "456/456 [==============================] - 27s 60ms/step - loss: 0.4154 - accuracy: 0.8821 - val_loss: 0.8767 - val_accuracy: 0.8395\n",
      "Epoch 113/200\n",
      "456/456 [==============================] - 26s 58ms/step - loss: 0.4410 - accuracy: 0.8709 - val_loss: 0.8324 - val_accuracy: 0.8102\n",
      "Epoch 114/200\n",
      "456/456 [==============================] - 26s 56ms/step - loss: 0.4388 - accuracy: 0.8755 - val_loss: 0.7083 - val_accuracy: 0.8519\n",
      "Epoch 115/200\n",
      "456/456 [==============================] - 26s 58ms/step - loss: 0.4128 - accuracy: 0.8791 - val_loss: 0.8281 - val_accuracy: 0.8225\n",
      "Epoch 116/200\n",
      "456/456 [==============================] - 26s 58ms/step - loss: 0.4089 - accuracy: 0.8895 - val_loss: 0.8187 - val_accuracy: 0.8194\n",
      "Epoch 117/200\n",
      "456/456 [==============================] - 27s 60ms/step - loss: 0.4407 - accuracy: 0.8755 - val_loss: 0.8118 - val_accuracy: 0.8056\n",
      "Epoch 118/200\n",
      "456/456 [==============================] - 25s 55ms/step - loss: 0.4004 - accuracy: 0.8849 - val_loss: 0.8010 - val_accuracy: 0.8102\n",
      "Epoch 119/200\n",
      "456/456 [==============================] - 27s 58ms/step - loss: 0.3856 - accuracy: 0.8854 - val_loss: 1.0378 - val_accuracy: 0.8040\n",
      "Epoch 120/200\n",
      "456/456 [==============================] - 26s 58ms/step - loss: 0.4322 - accuracy: 0.8786 - val_loss: 0.7016 - val_accuracy: 0.8210\n",
      "Epoch 121/200\n",
      "456/456 [==============================] - 26s 56ms/step - loss: 0.4413 - accuracy: 0.8734 - val_loss: 0.9989 - val_accuracy: 0.7917\n",
      "Epoch 122/200\n",
      "456/456 [==============================] - 25s 55ms/step - loss: 0.4248 - accuracy: 0.8813 - val_loss: 0.9617 - val_accuracy: 0.8056\n",
      "Epoch 123/200\n",
      "456/456 [==============================] - 26s 56ms/step - loss: 0.4218 - accuracy: 0.8821 - val_loss: 0.8088 - val_accuracy: 0.8380\n",
      "Epoch 124/200\n",
      "456/456 [==============================] - 25s 55ms/step - loss: 0.4239 - accuracy: 0.8816 - val_loss: 0.9306 - val_accuracy: 0.7978\n",
      "Epoch 125/200\n",
      "456/456 [==============================] - 27s 60ms/step - loss: 0.4050 - accuracy: 0.8879 - val_loss: 0.6706 - val_accuracy: 0.8272\n",
      "Epoch 126/200\n",
      "456/456 [==============================] - 27s 59ms/step - loss: 0.4064 - accuracy: 0.8854 - val_loss: 0.7817 - val_accuracy: 0.8318\n",
      "Epoch 127/200\n",
      "456/456 [==============================] - 27s 59ms/step - loss: 0.4005 - accuracy: 0.8887 - val_loss: 1.4234 - val_accuracy: 0.7932\n",
      "Epoch 128/200\n",
      "456/456 [==============================] - 24s 53ms/step - loss: 0.4183 - accuracy: 0.8780 - val_loss: 0.8837 - val_accuracy: 0.8194\n",
      "Epoch 129/200\n",
      "456/456 [==============================] - 26s 57ms/step - loss: 0.3939 - accuracy: 0.8917 - val_loss: 0.7207 - val_accuracy: 0.8349\n",
      "Epoch 130/200\n",
      "456/456 [==============================] - 25s 56ms/step - loss: 0.3937 - accuracy: 0.8920 - val_loss: 0.7276 - val_accuracy: 0.8318\n",
      "Epoch 131/200\n",
      "456/456 [==============================] - 26s 57ms/step - loss: 0.3862 - accuracy: 0.8912 - val_loss: 0.9540 - val_accuracy: 0.8071\n",
      "Epoch 132/200\n",
      "456/456 [==============================] - 27s 58ms/step - loss: 0.4118 - accuracy: 0.8805 - val_loss: 0.7252 - val_accuracy: 0.8287\n",
      "Epoch 133/200\n",
      "456/456 [==============================] - 28s 60ms/step - loss: 0.3854 - accuracy: 0.8884 - val_loss: 0.7826 - val_accuracy: 0.8056\n",
      "Epoch 134/200\n",
      "456/456 [==============================] - 27s 58ms/step - loss: 0.3989 - accuracy: 0.8876 - val_loss: 0.7820 - val_accuracy: 0.8318\n",
      "Epoch 135/200\n",
      "456/456 [==============================] - 25s 54ms/step - loss: 0.3807 - accuracy: 0.8909 - val_loss: 0.7929 - val_accuracy: 0.8364\n",
      "Epoch 136/200\n",
      "456/456 [==============================] - 27s 59ms/step - loss: 0.3984 - accuracy: 0.8851 - val_loss: 0.7039 - val_accuracy: 0.8364\n",
      "Epoch 137/200\n",
      "456/456 [==============================] - 27s 59ms/step - loss: 0.4142 - accuracy: 0.8871 - val_loss: 0.6452 - val_accuracy: 0.8364\n",
      "Epoch 138/200\n",
      "456/456 [==============================] - 30s 66ms/step - loss: 0.3881 - accuracy: 0.8895 - val_loss: 0.7140 - val_accuracy: 0.8071\n",
      "Epoch 139/200\n",
      "456/456 [==============================] - 28s 61ms/step - loss: 0.3792 - accuracy: 0.8958 - val_loss: 0.7209 - val_accuracy: 0.8256\n",
      "Epoch 140/200\n",
      "456/456 [==============================] - 25s 55ms/step - loss: 0.3917 - accuracy: 0.8898 - val_loss: 0.8083 - val_accuracy: 0.8194\n",
      "Epoch 141/200\n",
      "456/456 [==============================] - 26s 58ms/step - loss: 0.3761 - accuracy: 0.8978 - val_loss: 0.6913 - val_accuracy: 0.8117\n",
      "Epoch 142/200\n",
      "456/456 [==============================] - 28s 60ms/step - loss: 0.3818 - accuracy: 0.8917 - val_loss: 0.6238 - val_accuracy: 0.8472\n",
      "Epoch 143/200\n",
      "456/456 [==============================] - 27s 59ms/step - loss: 0.3768 - accuracy: 0.8942 - val_loss: 0.7491 - val_accuracy: 0.8333\n",
      "Epoch 144/200\n",
      "456/456 [==============================] - 25s 56ms/step - loss: 0.3589 - accuracy: 0.9030 - val_loss: 0.7037 - val_accuracy: 0.8225\n",
      "Epoch 145/200\n",
      "456/456 [==============================] - 27s 58ms/step - loss: 0.3871 - accuracy: 0.8953 - val_loss: 0.8938 - val_accuracy: 0.7870\n",
      "Epoch 146/200\n",
      "456/456 [==============================] - 27s 60ms/step - loss: 0.3590 - accuracy: 0.9002 - val_loss: 0.7582 - val_accuracy: 0.8287\n",
      "Epoch 147/200\n",
      "456/456 [==============================] - 27s 59ms/step - loss: 0.3619 - accuracy: 0.9010 - val_loss: 0.8321 - val_accuracy: 0.8102\n",
      "Epoch 148/200\n",
      "456/456 [==============================] - 25s 54ms/step - loss: 0.3933 - accuracy: 0.8884 - val_loss: 0.8222 - val_accuracy: 0.8148\n",
      "Epoch 149/200\n",
      "456/456 [==============================] - 28s 61ms/step - loss: 0.3702 - accuracy: 0.8983 - val_loss: 0.8640 - val_accuracy: 0.8102\n",
      "Epoch 150/200\n",
      "456/456 [==============================] - 27s 59ms/step - loss: 0.3743 - accuracy: 0.8956 - val_loss: 0.9963 - val_accuracy: 0.8194\n",
      "Epoch 151/200\n",
      "456/456 [==============================] - 27s 60ms/step - loss: 0.3577 - accuracy: 0.8991 - val_loss: 0.6987 - val_accuracy: 0.8488\n",
      "Epoch 152/200\n",
      "456/456 [==============================] - 26s 57ms/step - loss: 0.3782 - accuracy: 0.8975 - val_loss: 0.7116 - val_accuracy: 0.8272\n",
      "Epoch 153/200\n",
      "456/456 [==============================] - 28s 61ms/step - loss: 0.3557 - accuracy: 0.8991 - val_loss: 0.8083 - val_accuracy: 0.8225\n",
      "Epoch 154/200\n",
      "456/456 [==============================] - 26s 57ms/step - loss: 0.3572 - accuracy: 0.9027 - val_loss: 0.8350 - val_accuracy: 0.8380\n"
     ]
    }
   ],
   "source": [
    "# Fine-tune the model\n",
    "IN_history = IN.fit(\n",
    "    x = train_gen,\n",
    "    batch_size = 256,\n",
    "    epochs = 200,\n",
    "    validation_data = valid_gen,\n",
    "    #callbacks = callbacks,\n",
    "    callbacks = [tfk.callbacks.EarlyStopping(monitor='val_accuracy', \n",
    "                                             mode='max', \n",
    "                                             patience=40, \n",
    "                                             restore_best_weights=True)],\n",
    ").history"
   ]
  },
  {
   "cell_type": "code",
   "execution_count": 15,
   "id": "3fd8c206",
   "metadata": {
    "_kg_hide-input": false,
    "execution": {
     "iopub.execute_input": "2022-11-19T15:36:37.803069Z",
     "iopub.status.busy": "2022-11-19T15:36:37.802683Z",
     "iopub.status.idle": "2022-11-19T15:36:38.414518Z",
     "shell.execute_reply": "2022-11-19T15:36:38.413614Z"
    },
    "papermill": {
     "duration": 3.611584,
     "end_time": "2022-11-19T15:36:38.416551",
     "exception": false,
     "start_time": "2022-11-19T15:36:34.804967",
     "status": "completed"
    },
    "tags": []
   },
   "outputs": [
    {
     "data": {
      "image/png": "[encoded data removed]",
      "text/plain": [
       "<Figure size 1080x360 with 1 Axes>"
      ]
     },
     "metadata": {
      "needs_background": "light"
     },
     "output_type": "display_data"
    },
    {
     "data": {
      "image/png": "[encoded data removed]",
      "text/plain": [
       "<Figure size 1080x360 with 1 Axes>"
      ]
     },
     "metadata": {
      "needs_background": "light"
     },
     "output_type": "display_data"
    }
   ],
   "source": [
    "# Plot the training\n",
    "plt.figure(figsize=(15,5))\n",
    "plt.plot(IN_history['loss'], label='Loss', alpha=.3, color='#ff7f0e', linestyle='--')\n",
    "plt.plot(IN_history['val_loss'], label='Val loss', alpha=.8, color='#ff7f0e')\n",
    "plt.legend(loc='upper left')\n",
    "plt.title('Categorical Crossentropy')\n",
    "plt.grid(alpha=.3)\n",
    "plt.savefig('IN_v1.2.2_loss.png')\n",
    "\n",
    "plt.figure(figsize=(15,5))\n",
    "plt.plot(IN_history['accuracy'], label='Accuracy', alpha=.3, color='#ff7f0e', linestyle='--')\n",
    "plt.plot(IN_history['val_accuracy'], label='Val accuracy', alpha=.8, color='#ff7f0e')\n",
    "plt.legend(loc='upper left')\n",
    "plt.title('Accuracy')\n",
    "plt.grid(alpha=.3)\n",
    "plt.savefig('IN_v1.2.2_acc.png')\n",
    "\n",
    "plt.show()"
   ]
  },
  {
   "cell_type": "code",
   "execution_count": 16,
   "id": "b68f55fa",
   "metadata": {
    "execution": {
     "iopub.execute_input": "2022-11-19T15:36:43.839754Z",
     "iopub.status.busy": "2022-11-19T15:36:43.839349Z",
     "iopub.status.idle": "2022-11-19T15:37:33.045769Z",
     "shell.execute_reply": "2022-11-19T15:37:33.044750Z"
    },
    "papermill": {
     "duration": 51.945993,
     "end_time": "2022-11-19T15:37:33.048626",
     "exception": false,
     "start_time": "2022-11-19T15:36:41.102633",
     "status": "completed"
    },
    "tags": []
   },
   "outputs": [],
   "source": [
    "# Save the best model\n",
    "IN.save('IN_v1.2.2')"
   ]
  },
  {
   "cell_type": "code",
   "execution_count": 17,
   "id": "e0267379",
   "metadata": {
    "execution": {
     "iopub.execute_input": "2022-11-19T15:37:38.975252Z",
     "iopub.status.busy": "2022-11-19T15:37:38.974542Z",
     "iopub.status.idle": "2022-11-19T15:37:41.612532Z",
     "shell.execute_reply": "2022-11-19T15:37:41.610883Z"
    },
    "papermill": {
     "duration": 5.780359,
     "end_time": "2022-11-19T15:37:41.614690",
     "exception": false,
     "start_time": "2022-11-19T15:37:35.834331",
     "status": "completed"
    },
    "tags": []
   },
   "outputs": [
    {
     "name": "stdout",
     "output_type": "stream",
     "text": [
      "81/81 [==============================] - 2s 22ms/step - loss: 0.7083 - accuracy: 0.8519\n",
      "\n",
      "Val metrics\n",
      "{'loss': 0.7083420753479004, 'accuracy': 0.8518518805503845}\n"
     ]
    }
   ],
   "source": [
    "# Evaluate on val\n",
    "val_metrics = IN.evaluate(valid_gen, return_dict=True)\n",
    "\n",
    "print()\n",
    "print(\"Val metrics\")\n",
    "print(val_metrics)"
   ]
  },
  {
   "cell_type": "code",
   "execution_count": 18,
   "id": "4b4d7dac",
   "metadata": {
    "execution": {
     "iopub.execute_input": "2022-11-19T15:37:47.450579Z",
     "iopub.status.busy": "2022-11-19T15:37:47.450214Z",
     "iopub.status.idle": "2022-11-19T15:37:55.605499Z",
     "shell.execute_reply": "2022-11-19T15:37:55.604520Z"
    },
    "papermill": {
     "duration": 11.037611,
     "end_time": "2022-11-19T15:37:55.608154",
     "exception": false,
     "start_time": "2022-11-19T15:37:44.570543",
     "status": "completed"
    },
    "tags": []
   },
   "outputs": [
    {
     "data": {
      "text/plain": [
       "'/kaggle/working/IN_v1.2.2.zip'"
      ]
     },
     "execution_count": 18,
     "metadata": {},
     "output_type": "execute_result"
    }
   ],
   "source": [
    "import shutil\n",
    "shutil.make_archive(\"IN_v1.2.2\", 'zip', \"/kaggle/working/IN_v1.2.2\")"
   ]
  },
  {
   "cell_type": "code",
   "execution_count": 19,
   "id": "12b31da2",
   "metadata": {
    "execution": {
     "iopub.execute_input": "2022-11-19T15:38:01.271825Z",
     "iopub.status.busy": "2022-11-19T15:38:01.271176Z",
     "iopub.status.idle": "2022-11-19T15:38:01.304374Z",
     "shell.execute_reply": "2022-11-19T15:38:01.303502Z"
    },
    "papermill": {
     "duration": 2.76916,
     "end_time": "2022-11-19T15:38:01.306357",
     "exception": false,
     "start_time": "2022-11-19T15:37:58.537197",
     "status": "completed"
    },
    "tags": []
   },
   "outputs": [],
   "source": [
    "# To delete a folder\n",
    "import shutil\n",
    "shutil.rmtree(\"/kaggle/working/IN_v1.2.2\")"
   ]
  }
 ],
 "metadata": {
  "kernelspec": {
   "display_name": "Python 3",
   "language": "python",
   "name": "python3"
  },
  "language_info": {
   "codemirror_mode": {
    "name": "ipython",
    "version": 3
   },
   "file_extension": ".py",
   "mimetype": "text/x-python",
   "name": "python",
   "nbconvert_exporter": "python",
   "pygments_lexer": "ipython3",
   "version": "3.7.12"
  },
  "papermill": {
   "default_parameters": {},
   "duration": 4325.864325,
   "end_time": "2022-11-19T15:38:06.999357",
   "environment_variables": {},
   "exception": null,
   "input_path": "__notebook__.ipynb",
   "output_path": "__notebook__.ipynb",
   "parameters": {},
   "start_time": "2022-11-19T14:26:01.135032",
   "version": "2.3.4"
  }
 },
 "nbformat": 4,
 "nbformat_minor": 5
}
