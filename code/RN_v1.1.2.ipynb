{
 "cells": [
  {
   "cell_type": "code",
   "execution_count": 1,
   "id": "82947233",
   "metadata": {
    "execution": {
     "iopub.execute_input": "2022-11-20T20:13:30.466686Z",
     "iopub.status.busy": "2022-11-20T20:13:30.465782Z",
     "iopub.status.idle": "2022-11-20T20:13:36.846546Z",
     "shell.execute_reply": "2022-11-20T20:13:36.845554Z"
    },
    "papermill": {
     "duration": 6.392031,
     "end_time": "2022-11-20T20:13:36.849166",
     "exception": false,
     "start_time": "2022-11-20T20:13:30.457135",
     "status": "completed"
    },
    "tags": []
   },
   "outputs": [],
   "source": [
    "import tensorflow as tf\n",
    "import numpy as np\n",
    "import os\n",
    "import random\n",
    "import pandas as pd\n",
    "import seaborn as sns\n",
    "import matplotlib as mpl\n",
    "import matplotlib.pyplot as plt\n",
    "from sklearn.model_selection import train_test_split\n",
    "from sklearn.metrics import accuracy_score, f1_score, precision_score, recall_score\n",
    "from sklearn.metrics import confusion_matrix\n",
    "from PIL import Image\n",
    "\n",
    "tfk = tf.keras\n",
    "tfkl = tf.keras.layers"
   ]
  },
  {
   "cell_type": "code",
   "execution_count": 2,
   "id": "6aa6d359",
   "metadata": {
    "execution": {
     "iopub.execute_input": "2022-11-20T20:13:36.860909Z",
     "iopub.status.busy": "2022-11-20T20:13:36.859179Z",
     "iopub.status.idle": "2022-11-20T20:13:36.865900Z",
     "shell.execute_reply": "2022-11-20T20:13:36.865021Z"
    },
    "papermill": {
     "duration": 0.014034,
     "end_time": "2022-11-20T20:13:36.867854",
     "exception": false,
     "start_time": "2022-11-20T20:13:36.853820",
     "status": "completed"
    },
    "tags": []
   },
   "outputs": [],
   "source": [
    "# Random seed for reproducibility\n",
    "seed = 42\n",
    "\n",
    "random.seed(seed)\n",
    "os.environ['PYTHONHASHSEED'] = str(seed)\n",
    "np.random.seed(seed)\n",
    "tf.random.set_seed(seed)\n",
    "tf.compat.v1.set_random_seed(seed)"
   ]
  },
  {
   "cell_type": "code",
   "execution_count": 3,
   "id": "a5deaf60",
   "metadata": {
    "execution": {
     "iopub.execute_input": "2022-11-20T20:13:36.878217Z",
     "iopub.status.busy": "2022-11-20T20:13:36.877188Z",
     "iopub.status.idle": "2022-11-20T20:13:36.883941Z",
     "shell.execute_reply": "2022-11-20T20:13:36.882961Z"
    },
    "papermill": {
     "duration": 0.014233,
     "end_time": "2022-11-20T20:13:36.886181",
     "exception": false,
     "start_time": "2022-11-20T20:13:36.871948",
     "status": "completed"
    },
    "tags": []
   },
   "outputs": [],
   "source": [
    "import warnings\n",
    "import logging\n",
    "\n",
    "os.environ['TF_CPP_MIN_LOG_LEVEL'] = '2'\n",
    "warnings.simplefilter(action='ignore', category=FutureWarning)\n",
    "warnings.simplefilter(action='ignore', category=Warning)\n",
    "tf.get_logger().setLevel('INFO')\n",
    "tf.autograph.set_verbosity(0)\n",
    "\n",
    "tf.get_logger().setLevel(logging.ERROR)\n",
    "tf.get_logger().setLevel('ERROR')\n",
    "tf.compat.v1.logging.set_verbosity(tf.compat.v1.logging.ERROR)"
   ]
  },
  {
   "cell_type": "markdown",
   "id": "c69b9dab",
   "metadata": {
    "papermill": {
     "duration": 0.00397,
     "end_time": "2022-11-20T20:13:36.894226",
     "exception": false,
     "start_time": "2022-11-20T20:13:36.890256",
     "status": "completed"
    },
    "tags": []
   },
   "source": [
    "## Importing data"
   ]
  },
  {
   "cell_type": "code",
   "execution_count": 4,
   "id": "6f6a29d5",
   "metadata": {
    "execution": {
     "iopub.execute_input": "2022-11-20T20:13:36.903623Z",
     "iopub.status.busy": "2022-11-20T20:13:36.903352Z",
     "iopub.status.idle": "2022-11-20T20:13:36.907602Z",
     "shell.execute_reply": "2022-11-20T20:13:36.906714Z"
    },
    "papermill": {
     "duration": 0.011164,
     "end_time": "2022-11-20T20:13:36.909534",
     "exception": false,
     "start_time": "2022-11-20T20:13:36.898370",
     "status": "completed"
    },
    "tags": []
   },
   "outputs": [],
   "source": [
    "# Dataset folders \n",
    "dataset_dir = '/kaggle/input/an2dl-challenge-1-nt/data_splitted_no_test'\n",
    "training_dir = os.path.join(dataset_dir, 'train')\n",
    "validation_dir = os.path.join(dataset_dir, 'val')"
   ]
  },
  {
   "cell_type": "code",
   "execution_count": 5,
   "id": "62343cff",
   "metadata": {
    "execution": {
     "iopub.execute_input": "2022-11-20T20:13:36.919294Z",
     "iopub.status.busy": "2022-11-20T20:13:36.918694Z",
     "iopub.status.idle": "2022-11-20T20:13:37.558805Z",
     "shell.execute_reply": "2022-11-20T20:13:37.557602Z"
    },
    "papermill": {
     "duration": 0.647361,
     "end_time": "2022-11-20T20:13:37.561003",
     "exception": false,
     "start_time": "2022-11-20T20:13:36.913642",
     "status": "completed"
    },
    "tags": []
   },
   "outputs": [
    {
     "name": "stdout",
     "output_type": "stream",
     "text": [
      "Found 3648 images belonging to 8 classes.\n",
      "Found 648 images belonging to 8 classes.\n"
     ]
    }
   ],
   "source": [
    "# Images are divided into folders, one for each class. \n",
    "# If the images are organized in such a way, we can exploit the \n",
    "# ImageDataGenerator to read them from disk.\n",
    "from tensorflow.keras.preprocessing.image import ImageDataGenerator\n",
    "\n",
    "# Create an instance of ImageDataGenerator, and for the trainign with Data Augmentation\n",
    "train_data_gen = ImageDataGenerator(rotation_range=30, \n",
    "                                    height_shift_range=0.2, \n",
    "                                    width_shift_range=0.2, \n",
    "                                    zoom_range=0.2, \n",
    "                                    horizontal_flip=True, \n",
    "                                    shear_range=0.2, \n",
    "                                    fill_mode='reflect',\n",
    "                                    rescale=1/255.) # rescale value is multiplied to the image ############################################\n",
    "valid_data_gen = ImageDataGenerator(rescale=1/255.)\n",
    "\n",
    "# Obtain a data generator with the 'ImageDataGenerator.flow_from_directory' method\n",
    "train_gen = train_data_gen.flow_from_directory(directory=training_dir,\n",
    "                                                       target_size=(96,96),\n",
    "                                                       color_mode='rgb',\n",
    "                                                       classes=None, # can be set to labels\n",
    "                                                       class_mode='categorical',\n",
    "                                                       batch_size=8,\n",
    "                                                       shuffle=True,\n",
    "                                                       seed=seed)\n",
    "\n",
    "valid_gen = valid_data_gen.flow_from_directory(directory=validation_dir,\n",
    "                                               target_size=(96,96),\n",
    "                                               color_mode='rgb',\n",
    "                                               classes=None, # can be set to labels\n",
    "                                               class_mode='categorical',\n",
    "                                               batch_size=8,\n",
    "                                               shuffle=False,\n",
    "                                               seed=seed)"
   ]
  },
  {
   "cell_type": "markdown",
   "id": "e33379ae",
   "metadata": {
    "papermill": {
     "duration": 0.004254,
     "end_time": "2022-11-20T20:13:37.570019",
     "exception": false,
     "start_time": "2022-11-20T20:13:37.565765",
     "status": "completed"
    },
    "tags": []
   },
   "source": [
    "## Model"
   ]
  },
  {
   "cell_type": "code",
   "execution_count": 6,
   "id": "a9c6fc4c",
   "metadata": {
    "execution": {
     "iopub.execute_input": "2022-11-20T20:13:37.580369Z",
     "iopub.status.busy": "2022-11-20T20:13:37.579615Z",
     "iopub.status.idle": "2022-11-20T20:13:37.593498Z",
     "shell.execute_reply": "2022-11-20T20:13:37.592653Z"
    },
    "papermill": {
     "duration": 0.021127,
     "end_time": "2022-11-20T20:13:37.595453",
     "exception": false,
     "start_time": "2022-11-20T20:13:37.574326",
     "status": "completed"
    },
    "tags": []
   },
   "outputs": [
    {
     "data": {
      "text/plain": [
       "['variables', 'saved_model.pb', 'keras_metadata.pb']"
      ]
     },
     "execution_count": 6,
     "metadata": {},
     "output_type": "execute_result"
    }
   ],
   "source": [
    "import os\n",
    "os.listdir(\"/kaggle/input/rn-v103/RN_v1.0.3\")"
   ]
  },
  {
   "cell_type": "code",
   "execution_count": 7,
   "id": "ea2b2330",
   "metadata": {
    "execution": {
     "iopub.execute_input": "2022-11-20T20:13:37.606272Z",
     "iopub.status.busy": "2022-11-20T20:13:37.605476Z",
     "iopub.status.idle": "2022-11-20T20:14:10.150370Z",
     "shell.execute_reply": "2022-11-20T20:14:10.149343Z"
    },
    "papermill": {
     "duration": 32.557979,
     "end_time": "2022-11-20T20:14:10.157911",
     "exception": false,
     "start_time": "2022-11-20T20:13:37.599932",
     "status": "completed"
    },
    "tags": []
   },
   "outputs": [
    {
     "name": "stdout",
     "output_type": "stream",
     "text": [
      "Model: \"model\"\n",
      "_________________________________________________________________\n",
      "Layer (type)                 Output Shape              Param #   \n",
      "=================================================================\n",
      "input_layer (InputLayer)     [(None, 96, 96, 3)]       0         \n",
      "_________________________________________________________________\n",
      "resnet152v2 (Functional)     (None, 3, 3, 2048)        58331648  \n",
      "_________________________________________________________________\n",
      "global_average_pooling2d (Gl (None, 2048)              0         \n",
      "_________________________________________________________________\n",
      "dropout (Dropout)            (None, 2048)              0         \n",
      "_________________________________________________________________\n",
      "Classifier1 (Dense)          (None, 512)               1049088   \n",
      "_________________________________________________________________\n",
      "activation (Activation)      (None, 512)               0         \n",
      "_________________________________________________________________\n",
      "batch_normalization (BatchNo (None, 512)               2048      \n",
      "_________________________________________________________________\n",
      "dropout_1 (Dropout)          (None, 512)               0         \n",
      "_________________________________________________________________\n",
      "Classifier2 (Dense)          (None, 60)                30780     \n",
      "_________________________________________________________________\n",
      "activation_1 (Activation)    (None, 60)                0         \n",
      "_________________________________________________________________\n",
      "batch_normalization_1 (Batch (None, 60)                240       \n",
      "_________________________________________________________________\n",
      "dropout_2 (Dropout)          (None, 60)                0         \n",
      "_________________________________________________________________\n",
      "output_layer (Dense)         (None, 8)                 488       \n",
      "=================================================================\n",
      "Total params: 59,414,292\n",
      "Trainable params: 1,081,500\n",
      "Non-trainable params: 58,332,792\n",
      "_________________________________________________________________\n"
     ]
    }
   ],
   "source": [
    "# Re-load the model after transfer learning\n",
    "RN = tfk.models.load_model('/kaggle/input/rn-v103/RN_v1.0.3')\n",
    "RN.summary()"
   ]
  },
  {
   "cell_type": "code",
   "execution_count": 8,
   "id": "dbd09ffa",
   "metadata": {
    "execution": {
     "iopub.execute_input": "2022-11-20T20:14:10.168307Z",
     "iopub.status.busy": "2022-11-20T20:14:10.167993Z",
     "iopub.status.idle": "2022-11-20T20:14:10.172942Z",
     "shell.execute_reply": "2022-11-20T20:14:10.172009Z"
    },
    "papermill": {
     "duration": 0.012366,
     "end_time": "2022-11-20T20:14:10.174935",
     "exception": false,
     "start_time": "2022-11-20T20:14:10.162569",
     "status": "completed"
    },
    "tags": []
   },
   "outputs": [],
   "source": [
    "# to create a folder\n",
    "import os\n",
    "directory = \"ResNet152V2\"\n",
    "parent_dir = \"/kaggle/working\"\n",
    "path = os.path.join(parent_dir, directory)\n",
    "os.mkdir(path)"
   ]
  },
  {
   "cell_type": "code",
   "execution_count": 9,
   "id": "80630bdd",
   "metadata": {
    "execution": {
     "iopub.execute_input": "2022-11-20T20:14:10.184898Z",
     "iopub.status.busy": "2022-11-20T20:14:10.184636Z",
     "iopub.status.idle": "2022-11-20T20:14:11.224292Z",
     "shell.execute_reply": "2022-11-20T20:14:11.222918Z"
    },
    "papermill": {
     "duration": 1.047548,
     "end_time": "2022-11-20T20:14:11.226806",
     "exception": false,
     "start_time": "2022-11-20T20:14:10.179258",
     "status": "completed"
    },
    "tags": []
   },
   "outputs": [],
   "source": [
    "!cd /kaggle/working/ResNet152V2"
   ]
  },
  {
   "cell_type": "code",
   "execution_count": 10,
   "id": "5d6d26d2",
   "metadata": {
    "execution": {
     "iopub.execute_input": "2022-11-20T20:14:11.239098Z",
     "iopub.status.busy": "2022-11-20T20:14:11.237332Z",
     "iopub.status.idle": "2022-11-20T20:14:11.265738Z",
     "shell.execute_reply": "2022-11-20T20:14:11.264831Z"
    },
    "papermill": {
     "duration": 0.036305,
     "end_time": "2022-11-20T20:14:11.267891",
     "exception": false,
     "start_time": "2022-11-20T20:14:11.231586",
     "status": "completed"
    },
    "tags": []
   },
   "outputs": [],
   "source": [
    "# Set all VGG layers to True\n",
    "RN.get_layer('resnet152v2').trainable = True"
   ]
  },
  {
   "cell_type": "code",
   "execution_count": 11,
   "id": "c6d6ca4c",
   "metadata": {
    "execution": {
     "iopub.execute_input": "2022-11-20T20:14:11.279466Z",
     "iopub.status.busy": "2022-11-20T20:14:11.278773Z",
     "iopub.status.idle": "2022-11-20T20:14:11.285620Z",
     "shell.execute_reply": "2022-11-20T20:14:11.284672Z"
    },
    "papermill": {
     "duration": 0.01524,
     "end_time": "2022-11-20T20:14:11.287555",
     "exception": false,
     "start_time": "2022-11-20T20:14:11.272315",
     "status": "completed"
    },
    "tags": []
   },
   "outputs": [
    {
     "data": {
      "text/plain": [
       "\"for i, layer in enumerate(RN.get_layer('resnet152v2').layers):\\n   print(i, layer.name, layer.trainable)\""
      ]
     },
     "execution_count": 11,
     "metadata": {},
     "output_type": "execute_result"
    }
   ],
   "source": [
    "'''for i, layer in enumerate(RN.get_layer('resnet152v2').layers):\n",
    "   print(i, layer.name, layer.trainable)'''"
   ]
  },
  {
   "cell_type": "code",
   "execution_count": 12,
   "id": "282dad6d",
   "metadata": {
    "execution": {
     "iopub.execute_input": "2022-11-20T20:14:11.297909Z",
     "iopub.status.busy": "2022-11-20T20:14:11.297145Z",
     "iopub.status.idle": "2022-11-20T20:14:11.350599Z",
     "shell.execute_reply": "2022-11-20T20:14:11.349505Z"
    },
    "papermill": {
     "duration": 0.061317,
     "end_time": "2022-11-20T20:14:11.353179",
     "exception": false,
     "start_time": "2022-11-20T20:14:11.291862",
     "status": "completed"
    },
    "tags": []
   },
   "outputs": [
    {
     "name": "stdout",
     "output_type": "stream",
     "text": [
      "Model: \"model\"\n",
      "_________________________________________________________________\n",
      "Layer (type)                 Output Shape              Param #   \n",
      "=================================================================\n",
      "input_layer (InputLayer)     [(None, 96, 96, 3)]       0         \n",
      "_________________________________________________________________\n",
      "resnet152v2 (Functional)     (None, 3, 3, 2048)        58331648  \n",
      "_________________________________________________________________\n",
      "global_average_pooling2d (Gl (None, 2048)              0         \n",
      "_________________________________________________________________\n",
      "dropout (Dropout)            (None, 2048)              0         \n",
      "_________________________________________________________________\n",
      "Classifier1 (Dense)          (None, 512)               1049088   \n",
      "_________________________________________________________________\n",
      "activation (Activation)      (None, 512)               0         \n",
      "_________________________________________________________________\n",
      "batch_normalization (BatchNo (None, 512)               2048      \n",
      "_________________________________________________________________\n",
      "dropout_1 (Dropout)          (None, 512)               0         \n",
      "_________________________________________________________________\n",
      "Classifier2 (Dense)          (None, 60)                30780     \n",
      "_________________________________________________________________\n",
      "activation_1 (Activation)    (None, 60)                0         \n",
      "_________________________________________________________________\n",
      "batch_normalization_1 (Batch (None, 60)                240       \n",
      "_________________________________________________________________\n",
      "dropout_2 (Dropout)          (None, 60)                0         \n",
      "_________________________________________________________________\n",
      "output_layer (Dense)         (None, 8)                 488       \n",
      "=================================================================\n",
      "Total params: 59,414,292\n",
      "Trainable params: 40,916,124\n",
      "Non-trainable params: 18,498,168\n",
      "_________________________________________________________________\n"
     ]
    }
   ],
   "source": [
    "# Set VGG layers between 40 and 227 to False\n",
    "for i, layer in enumerate(RN.get_layer('resnet152v2').layers[:282]):\n",
    "  layer.trainable=False\n",
    "RN.summary()"
   ]
  },
  {
   "cell_type": "markdown",
   "id": "18e90db3",
   "metadata": {
    "papermill": {
     "duration": 0.004401,
     "end_time": "2022-11-20T20:14:11.362271",
     "exception": false,
     "start_time": "2022-11-20T20:14:11.357870",
     "status": "completed"
    },
    "tags": []
   },
   "source": [
    "## Training"
   ]
  },
  {
   "cell_type": "code",
   "execution_count": 13,
   "id": "0eb318b0",
   "metadata": {
    "execution": {
     "iopub.execute_input": "2022-11-20T20:14:11.373799Z",
     "iopub.status.busy": "2022-11-20T20:14:11.373424Z",
     "iopub.status.idle": "2022-11-20T20:14:11.401766Z",
     "shell.execute_reply": "2022-11-20T20:14:11.400874Z"
    },
    "papermill": {
     "duration": 0.036755,
     "end_time": "2022-11-20T20:14:11.403803",
     "exception": false,
     "start_time": "2022-11-20T20:14:11.367048",
     "status": "completed"
    },
    "tags": []
   },
   "outputs": [],
   "source": [
    "# Compile the model\n",
    "RN.compile(loss=tfk.losses.CategoricalCrossentropy(), optimizer=tfk.optimizers.RMSprop(learning_rate=0.0001), metrics='accuracy')"
   ]
  },
  {
   "cell_type": "code",
   "execution_count": 14,
   "id": "977a6541",
   "metadata": {
    "execution": {
     "iopub.execute_input": "2022-11-20T20:14:11.414127Z",
     "iopub.status.busy": "2022-11-20T20:14:11.413815Z",
     "iopub.status.idle": "2022-11-20T21:36:05.353397Z",
     "shell.execute_reply": "2022-11-20T21:36:05.352329Z"
    },
    "papermill": {
     "duration": 4913.947335,
     "end_time": "2022-11-20T21:36:05.355758",
     "exception": false,
     "start_time": "2022-11-20T20:14:11.408423",
     "status": "completed"
    },
    "tags": []
   },
   "outputs": [
    {
     "name": "stdout",
     "output_type": "stream",
     "text": [
      "Epoch 1/200\n",
      "456/456 [==============================] - 71s 99ms/step - loss: 1.6456 - accuracy: 0.3964 - val_loss: 1.6879 - val_accuracy: 0.4630\n",
      "Epoch 2/200\n",
      "456/456 [==============================] - 41s 90ms/step - loss: 1.4861 - accuracy: 0.4586 - val_loss: 1.9339 - val_accuracy: 0.4938\n",
      "Epoch 3/200\n",
      "456/456 [==============================] - 41s 89ms/step - loss: 1.4121 - accuracy: 0.4877 - val_loss: 1.3942 - val_accuracy: 0.5309\n",
      "Epoch 4/200\n",
      "456/456 [==============================] - 41s 90ms/step - loss: 1.3220 - accuracy: 0.5145 - val_loss: 2.1145 - val_accuracy: 0.6265\n",
      "Epoch 5/200\n",
      "456/456 [==============================] - 41s 91ms/step - loss: 1.2994 - accuracy: 0.5178 - val_loss: 1.5909 - val_accuracy: 0.5926\n",
      "Epoch 6/200\n",
      "456/456 [==============================] - 41s 90ms/step - loss: 1.2716 - accuracy: 0.5378 - val_loss: 1.3110 - val_accuracy: 0.5571\n",
      "Epoch 7/200\n",
      "456/456 [==============================] - 42s 92ms/step - loss: 1.2525 - accuracy: 0.5493 - val_loss: 1.2053 - val_accuracy: 0.6759\n",
      "Epoch 8/200\n",
      "456/456 [==============================] - 41s 90ms/step - loss: 1.2246 - accuracy: 0.5622 - val_loss: 1.1670 - val_accuracy: 0.6667\n",
      "Epoch 9/200\n",
      "456/456 [==============================] - 41s 89ms/step - loss: 1.1860 - accuracy: 0.5784 - val_loss: 1.4789 - val_accuracy: 0.5802\n",
      "Epoch 10/200\n",
      "456/456 [==============================] - 42s 92ms/step - loss: 1.1306 - accuracy: 0.5951 - val_loss: 1.4249 - val_accuracy: 0.6497\n",
      "Epoch 11/200\n",
      "456/456 [==============================] - 40s 89ms/step - loss: 1.0980 - accuracy: 0.6132 - val_loss: 1.2039 - val_accuracy: 0.6836\n",
      "Epoch 12/200\n",
      "456/456 [==============================] - 41s 90ms/step - loss: 1.0899 - accuracy: 0.6162 - val_loss: 0.9782 - val_accuracy: 0.6991\n",
      "Epoch 13/200\n",
      "456/456 [==============================] - 41s 90ms/step - loss: 1.0827 - accuracy: 0.6253 - val_loss: 0.8148 - val_accuracy: 0.7377\n",
      "Epoch 14/200\n",
      "456/456 [==============================] - 41s 90ms/step - loss: 1.0562 - accuracy: 0.6302 - val_loss: 0.7945 - val_accuracy: 0.7361\n",
      "Epoch 15/200\n",
      "456/456 [==============================] - 41s 89ms/step - loss: 1.0347 - accuracy: 0.6362 - val_loss: 0.9156 - val_accuracy: 0.7392\n",
      "Epoch 16/200\n",
      "456/456 [==============================] - 42s 91ms/step - loss: 0.9963 - accuracy: 0.6576 - val_loss: 0.7711 - val_accuracy: 0.7500\n",
      "Epoch 17/200\n",
      "456/456 [==============================] - 40s 87ms/step - loss: 1.0130 - accuracy: 0.6420 - val_loss: 1.0228 - val_accuracy: 0.6759\n",
      "Epoch 18/200\n",
      "456/456 [==============================] - 41s 89ms/step - loss: 0.9837 - accuracy: 0.6606 - val_loss: 0.7335 - val_accuracy: 0.7731\n",
      "Epoch 19/200\n",
      "456/456 [==============================] - 41s 90ms/step - loss: 0.9268 - accuracy: 0.6823 - val_loss: 0.9105 - val_accuracy: 0.7006\n",
      "Epoch 20/200\n",
      "456/456 [==============================] - 42s 91ms/step - loss: 0.9485 - accuracy: 0.6631 - val_loss: 1.0054 - val_accuracy: 0.6944\n",
      "Epoch 21/200\n",
      "456/456 [==============================] - 41s 89ms/step - loss: 0.9354 - accuracy: 0.6774 - val_loss: 1.0437 - val_accuracy: 0.7438\n",
      "Epoch 22/200\n",
      "456/456 [==============================] - 41s 90ms/step - loss: 0.8878 - accuracy: 0.6965 - val_loss: 0.7786 - val_accuracy: 0.7623\n",
      "Epoch 23/200\n",
      "456/456 [==============================] - 41s 90ms/step - loss: 0.8811 - accuracy: 0.6990 - val_loss: 0.8002 - val_accuracy: 0.7485\n",
      "Epoch 24/200\n",
      "456/456 [==============================] - 41s 90ms/step - loss: 0.8909 - accuracy: 0.6894 - val_loss: 1.0200 - val_accuracy: 0.7454\n",
      "Epoch 25/200\n",
      "456/456 [==============================] - 41s 91ms/step - loss: 0.8445 - accuracy: 0.7103 - val_loss: 0.7660 - val_accuracy: 0.7701\n",
      "Epoch 26/200\n",
      "456/456 [==============================] - 42s 91ms/step - loss: 0.8181 - accuracy: 0.7204 - val_loss: 0.7578 - val_accuracy: 0.7685\n",
      "Epoch 27/200\n",
      "456/456 [==============================] - 40s 89ms/step - loss: 0.8160 - accuracy: 0.7097 - val_loss: 0.7559 - val_accuracy: 0.7840\n",
      "Epoch 28/200\n",
      "456/456 [==============================] - 42s 91ms/step - loss: 0.7990 - accuracy: 0.7305 - val_loss: 0.7474 - val_accuracy: 0.7886\n",
      "Epoch 29/200\n",
      "456/456 [==============================] - 41s 91ms/step - loss: 0.7985 - accuracy: 0.7319 - val_loss: 0.7511 - val_accuracy: 0.7809\n",
      "Epoch 30/200\n",
      "456/456 [==============================] - 41s 90ms/step - loss: 0.7744 - accuracy: 0.7352 - val_loss: 0.6934 - val_accuracy: 0.7870\n",
      "Epoch 31/200\n",
      "456/456 [==============================] - 41s 89ms/step - loss: 0.7439 - accuracy: 0.7508 - val_loss: 0.6861 - val_accuracy: 0.7840\n",
      "Epoch 32/200\n",
      "456/456 [==============================] - 42s 93ms/step - loss: 0.7403 - accuracy: 0.7484 - val_loss: 0.7659 - val_accuracy: 0.7963\n",
      "Epoch 33/200\n",
      "456/456 [==============================] - 41s 89ms/step - loss: 0.7220 - accuracy: 0.7604 - val_loss: 1.0068 - val_accuracy: 0.7870\n",
      "Epoch 34/200\n",
      "456/456 [==============================] - 41s 89ms/step - loss: 0.7139 - accuracy: 0.7615 - val_loss: 0.6658 - val_accuracy: 0.7901\n",
      "Epoch 35/200\n",
      "456/456 [==============================] - 41s 91ms/step - loss: 0.6795 - accuracy: 0.7752 - val_loss: 0.7419 - val_accuracy: 0.8148\n",
      "Epoch 36/200\n",
      "456/456 [==============================] - 41s 89ms/step - loss: 0.6814 - accuracy: 0.7777 - val_loss: 0.7259 - val_accuracy: 0.7932\n",
      "Epoch 37/200\n",
      "456/456 [==============================] - 41s 91ms/step - loss: 0.7141 - accuracy: 0.7634 - val_loss: 0.6878 - val_accuracy: 0.7994\n",
      "Epoch 38/200\n",
      "456/456 [==============================] - 42s 91ms/step - loss: 0.6979 - accuracy: 0.7667 - val_loss: 0.8408 - val_accuracy: 0.7778\n",
      "Epoch 39/200\n",
      "456/456 [==============================] - 42s 91ms/step - loss: 0.6471 - accuracy: 0.7834 - val_loss: 0.6293 - val_accuracy: 0.8472\n",
      "Epoch 40/200\n",
      "456/456 [==============================] - 40s 89ms/step - loss: 0.6504 - accuracy: 0.7873 - val_loss: 0.7524 - val_accuracy: 0.8241\n",
      "Epoch 41/200\n",
      "456/456 [==============================] - 41s 90ms/step - loss: 0.6574 - accuracy: 0.7771 - val_loss: 0.5999 - val_accuracy: 0.8117\n",
      "Epoch 42/200\n",
      "456/456 [==============================] - 41s 91ms/step - loss: 0.6233 - accuracy: 0.7856 - val_loss: 0.6734 - val_accuracy: 0.8210\n",
      "Epoch 43/200\n",
      "456/456 [==============================] - 41s 89ms/step - loss: 0.6482 - accuracy: 0.7908 - val_loss: 0.5405 - val_accuracy: 0.8272\n",
      "Epoch 44/200\n",
      "456/456 [==============================] - 41s 91ms/step - loss: 0.6237 - accuracy: 0.7980 - val_loss: 0.8345 - val_accuracy: 0.7701\n",
      "Epoch 45/200\n",
      "456/456 [==============================] - 41s 91ms/step - loss: 0.6275 - accuracy: 0.7961 - val_loss: 0.6962 - val_accuracy: 0.8179\n",
      "Epoch 46/200\n",
      "456/456 [==============================] - 40s 88ms/step - loss: 0.5878 - accuracy: 0.8098 - val_loss: 0.8038 - val_accuracy: 0.8025\n",
      "Epoch 47/200\n",
      "456/456 [==============================] - 40s 88ms/step - loss: 0.6201 - accuracy: 0.8048 - val_loss: 0.9090 - val_accuracy: 0.8225\n",
      "Epoch 48/200\n",
      "456/456 [==============================] - 40s 87ms/step - loss: 0.5805 - accuracy: 0.8098 - val_loss: 0.5227 - val_accuracy: 0.8364\n",
      "Epoch 49/200\n",
      "456/456 [==============================] - 40s 88ms/step - loss: 0.5744 - accuracy: 0.8089 - val_loss: 0.6887 - val_accuracy: 0.8179\n",
      "Epoch 50/200\n",
      "456/456 [==============================] - 40s 88ms/step - loss: 0.5815 - accuracy: 0.8100 - val_loss: 0.6708 - val_accuracy: 0.8102\n",
      "Epoch 51/200\n",
      "456/456 [==============================] - 41s 90ms/step - loss: 0.5660 - accuracy: 0.8180 - val_loss: 0.5894 - val_accuracy: 0.8441\n",
      "Epoch 52/200\n",
      "456/456 [==============================] - 39s 86ms/step - loss: 0.5690 - accuracy: 0.8194 - val_loss: 0.7366 - val_accuracy: 0.8040\n",
      "Epoch 53/200\n",
      "456/456 [==============================] - 40s 88ms/step - loss: 0.5714 - accuracy: 0.8163 - val_loss: 0.6706 - val_accuracy: 0.8256\n",
      "Epoch 54/200\n",
      "456/456 [==============================] - 40s 88ms/step - loss: 0.5296 - accuracy: 0.8257 - val_loss: 0.7238 - val_accuracy: 0.8210\n",
      "Epoch 55/200\n",
      "456/456 [==============================] - 40s 87ms/step - loss: 0.5058 - accuracy: 0.8374 - val_loss: 0.6077 - val_accuracy: 0.8534\n",
      "Epoch 56/200\n",
      "456/456 [==============================] - 40s 88ms/step - loss: 0.5495 - accuracy: 0.8188 - val_loss: 0.6899 - val_accuracy: 0.8318\n",
      "Epoch 57/200\n",
      "456/456 [==============================] - 40s 87ms/step - loss: 0.5122 - accuracy: 0.8394 - val_loss: 0.6732 - val_accuracy: 0.8287\n",
      "Epoch 58/200\n",
      "456/456 [==============================] - 41s 89ms/step - loss: 0.4873 - accuracy: 0.8396 - val_loss: 0.5952 - val_accuracy: 0.8241\n",
      "Epoch 59/200\n",
      "456/456 [==============================] - 40s 87ms/step - loss: 0.4988 - accuracy: 0.8432 - val_loss: 0.5725 - val_accuracy: 0.8395\n",
      "Epoch 60/200\n",
      "456/456 [==============================] - 40s 88ms/step - loss: 0.4971 - accuracy: 0.8427 - val_loss: 0.6527 - val_accuracy: 0.8210\n",
      "Epoch 61/200\n",
      "456/456 [==============================] - 40s 88ms/step - loss: 0.4906 - accuracy: 0.8446 - val_loss: 0.5824 - val_accuracy: 0.8349\n",
      "Epoch 62/200\n",
      "456/456 [==============================] - 41s 90ms/step - loss: 0.5126 - accuracy: 0.8421 - val_loss: 0.7157 - val_accuracy: 0.8179\n",
      "Epoch 63/200\n",
      "456/456 [==============================] - 40s 89ms/step - loss: 0.4783 - accuracy: 0.8487 - val_loss: 0.6574 - val_accuracy: 0.8040\n",
      "Epoch 64/200\n",
      "456/456 [==============================] - 40s 88ms/step - loss: 0.4835 - accuracy: 0.8462 - val_loss: 0.8272 - val_accuracy: 0.8457\n",
      "Epoch 65/200\n",
      "456/456 [==============================] - 40s 88ms/step - loss: 0.4720 - accuracy: 0.8438 - val_loss: 0.6517 - val_accuracy: 0.8102\n",
      "Epoch 66/200\n",
      "456/456 [==============================] - 40s 87ms/step - loss: 0.4483 - accuracy: 0.8649 - val_loss: 0.5979 - val_accuracy: 0.8395\n",
      "Epoch 67/200\n",
      "456/456 [==============================] - 40s 88ms/step - loss: 0.4764 - accuracy: 0.8517 - val_loss: 0.5526 - val_accuracy: 0.8488\n",
      "Epoch 68/200\n",
      "456/456 [==============================] - 40s 88ms/step - loss: 0.4219 - accuracy: 0.8692 - val_loss: 0.6780 - val_accuracy: 0.8256\n",
      "Epoch 69/200\n",
      "456/456 [==============================] - 40s 87ms/step - loss: 0.4327 - accuracy: 0.8635 - val_loss: 0.6552 - val_accuracy: 0.8380\n",
      "Epoch 70/200\n",
      "456/456 [==============================] - 40s 87ms/step - loss: 0.4263 - accuracy: 0.8638 - val_loss: 0.5983 - val_accuracy: 0.8395\n",
      "Epoch 71/200\n",
      "456/456 [==============================] - 40s 87ms/step - loss: 0.4125 - accuracy: 0.8701 - val_loss: 0.4639 - val_accuracy: 0.8565\n",
      "Epoch 72/200\n",
      "456/456 [==============================] - 41s 90ms/step - loss: 0.4417 - accuracy: 0.8627 - val_loss: 0.6039 - val_accuracy: 0.8272\n",
      "Epoch 73/200\n",
      "456/456 [==============================] - 39s 87ms/step - loss: 0.4167 - accuracy: 0.8761 - val_loss: 0.5746 - val_accuracy: 0.8225\n",
      "Epoch 74/200\n",
      "456/456 [==============================] - 40s 87ms/step - loss: 0.4164 - accuracy: 0.8786 - val_loss: 0.4630 - val_accuracy: 0.8688\n",
      "Epoch 75/200\n",
      "456/456 [==============================] - 40s 87ms/step - loss: 0.4028 - accuracy: 0.8802 - val_loss: 0.5709 - val_accuracy: 0.8256\n",
      "Epoch 76/200\n",
      "456/456 [==============================] - 40s 87ms/step - loss: 0.4121 - accuracy: 0.8758 - val_loss: 0.5736 - val_accuracy: 0.8333\n",
      "Epoch 77/200\n",
      "456/456 [==============================] - 40s 88ms/step - loss: 0.3812 - accuracy: 0.8846 - val_loss: 0.5883 - val_accuracy: 0.8302\n",
      "Epoch 78/200\n",
      "456/456 [==============================] - 40s 88ms/step - loss: 0.3891 - accuracy: 0.8805 - val_loss: 0.5350 - val_accuracy: 0.8287\n",
      "Epoch 79/200\n",
      "456/456 [==============================] - 40s 88ms/step - loss: 0.4034 - accuracy: 0.8772 - val_loss: 0.5050 - val_accuracy: 0.8395\n",
      "Epoch 80/200\n",
      "456/456 [==============================] - 40s 88ms/step - loss: 0.3741 - accuracy: 0.8862 - val_loss: 0.4405 - val_accuracy: 0.8472\n",
      "Epoch 81/200\n",
      "456/456 [==============================] - 41s 91ms/step - loss: 0.3878 - accuracy: 0.8838 - val_loss: 0.5268 - val_accuracy: 0.8333\n",
      "Epoch 82/200\n",
      "456/456 [==============================] - 42s 93ms/step - loss: 0.3770 - accuracy: 0.8799 - val_loss: 0.4981 - val_accuracy: 0.8488\n",
      "Epoch 83/200\n",
      "456/456 [==============================] - 41s 90ms/step - loss: 0.3644 - accuracy: 0.8884 - val_loss: 0.5145 - val_accuracy: 0.8472\n",
      "Epoch 84/200\n",
      "456/456 [==============================] - 42s 91ms/step - loss: 0.3841 - accuracy: 0.8824 - val_loss: 0.4616 - val_accuracy: 0.8503\n",
      "Epoch 85/200\n",
      "456/456 [==============================] - 41s 90ms/step - loss: 0.3715 - accuracy: 0.8846 - val_loss: 0.4032 - val_accuracy: 0.8657\n",
      "Epoch 86/200\n",
      "456/456 [==============================] - 42s 92ms/step - loss: 0.3776 - accuracy: 0.8816 - val_loss: 0.4252 - val_accuracy: 0.8611\n",
      "Epoch 87/200\n",
      "456/456 [==============================] - 41s 91ms/step - loss: 0.3478 - accuracy: 0.8895 - val_loss: 0.4654 - val_accuracy: 0.8441\n",
      "Epoch 88/200\n",
      "456/456 [==============================] - 41s 91ms/step - loss: 0.3549 - accuracy: 0.8967 - val_loss: 0.4453 - val_accuracy: 0.8472\n",
      "Epoch 89/200\n",
      "456/456 [==============================] - 41s 90ms/step - loss: 0.3441 - accuracy: 0.8991 - val_loss: 0.5644 - val_accuracy: 0.8488\n",
      "Epoch 90/200\n",
      "456/456 [==============================] - 41s 89ms/step - loss: 0.3281 - accuracy: 0.9016 - val_loss: 0.3856 - val_accuracy: 0.8812\n",
      "Epoch 91/200\n",
      "456/456 [==============================] - 42s 93ms/step - loss: 0.3348 - accuracy: 0.8972 - val_loss: 0.5023 - val_accuracy: 0.8349\n",
      "Epoch 92/200\n",
      "456/456 [==============================] - 44s 96ms/step - loss: 0.3356 - accuracy: 0.8999 - val_loss: 0.5942 - val_accuracy: 0.8380\n",
      "Epoch 93/200\n",
      "456/456 [==============================] - 41s 90ms/step - loss: 0.3564 - accuracy: 0.8969 - val_loss: 0.4298 - val_accuracy: 0.8642\n",
      "Epoch 94/200\n",
      "456/456 [==============================] - 41s 90ms/step - loss: 0.3156 - accuracy: 0.9049 - val_loss: 0.5224 - val_accuracy: 0.8549\n",
      "Epoch 95/200\n",
      "456/456 [==============================] - 42s 93ms/step - loss: 0.3317 - accuracy: 0.8967 - val_loss: 0.4584 - val_accuracy: 0.8426\n",
      "Epoch 96/200\n",
      "456/456 [==============================] - 42s 92ms/step - loss: 0.3152 - accuracy: 0.9082 - val_loss: 0.4490 - val_accuracy: 0.8596\n",
      "Epoch 97/200\n",
      "456/456 [==============================] - 41s 90ms/step - loss: 0.3096 - accuracy: 0.9071 - val_loss: 0.6178 - val_accuracy: 0.8503\n",
      "Epoch 98/200\n",
      "456/456 [==============================] - 42s 93ms/step - loss: 0.3247 - accuracy: 0.9062 - val_loss: 0.4718 - val_accuracy: 0.8426\n",
      "Epoch 99/200\n",
      "456/456 [==============================] - 42s 91ms/step - loss: 0.3049 - accuracy: 0.9035 - val_loss: 0.3895 - val_accuracy: 0.8688\n",
      "Epoch 100/200\n",
      "456/456 [==============================] - 43s 94ms/step - loss: 0.3129 - accuracy: 0.9076 - val_loss: 0.4444 - val_accuracy: 0.8488\n",
      "Epoch 101/200\n",
      "456/456 [==============================] - 43s 95ms/step - loss: 0.3188 - accuracy: 0.9073 - val_loss: 0.4173 - val_accuracy: 0.8580\n",
      "Epoch 102/200\n",
      "456/456 [==============================] - 41s 89ms/step - loss: 0.3174 - accuracy: 0.9079 - val_loss: 0.5302 - val_accuracy: 0.8580\n",
      "Epoch 103/200\n",
      "456/456 [==============================] - 41s 90ms/step - loss: 0.3097 - accuracy: 0.9016 - val_loss: 0.4528 - val_accuracy: 0.8596\n",
      "Epoch 104/200\n",
      "456/456 [==============================] - 42s 93ms/step - loss: 0.3012 - accuracy: 0.9134 - val_loss: 0.4844 - val_accuracy: 0.8457\n",
      "Epoch 105/200\n",
      "456/456 [==============================] - 41s 90ms/step - loss: 0.3179 - accuracy: 0.9035 - val_loss: 0.4183 - val_accuracy: 0.8611\n",
      "Epoch 106/200\n",
      "456/456 [==============================] - 42s 91ms/step - loss: 0.3119 - accuracy: 0.9142 - val_loss: 0.4164 - val_accuracy: 0.8796\n",
      "Epoch 107/200\n",
      "456/456 [==============================] - 41s 91ms/step - loss: 0.3059 - accuracy: 0.9120 - val_loss: 0.5725 - val_accuracy: 0.8457\n",
      "Epoch 108/200\n",
      "456/456 [==============================] - 41s 91ms/step - loss: 0.2961 - accuracy: 0.9128 - val_loss: 0.4636 - val_accuracy: 0.8627\n",
      "Epoch 109/200\n",
      "456/456 [==============================] - 42s 93ms/step - loss: 0.2774 - accuracy: 0.9156 - val_loss: 0.4745 - val_accuracy: 0.8719\n",
      "Epoch 110/200\n",
      "456/456 [==============================] - 43s 94ms/step - loss: 0.2807 - accuracy: 0.9150 - val_loss: 0.4974 - val_accuracy: 0.8704\n"
     ]
    }
   ],
   "source": [
    "# Fine-tune the model\n",
    "RN_history = RN.fit(\n",
    "    x = train_gen,\n",
    "    batch_size = 256,\n",
    "    epochs = 200,\n",
    "    validation_data = valid_gen,\n",
    "    callbacks = [tfk.callbacks.EarlyStopping(monitor='val_accuracy', \n",
    "                                             mode='max', \n",
    "                                             patience=20, \n",
    "                                             restore_best_weights=True)],\n",
    ").history"
   ]
  },
  {
   "cell_type": "code",
   "execution_count": 15,
   "id": "de23e616",
   "metadata": {
    "execution": {
     "iopub.execute_input": "2022-11-20T21:36:10.988097Z",
     "iopub.status.busy": "2022-11-20T21:36:10.987721Z",
     "iopub.status.idle": "2022-11-20T21:37:34.175001Z",
     "shell.execute_reply": "2022-11-20T21:37:34.174014Z"
    },
    "papermill": {
     "duration": 85.901826,
     "end_time": "2022-11-20T21:37:34.177870",
     "exception": false,
     "start_time": "2022-11-20T21:36:08.276044",
     "status": "completed"
    },
    "tags": []
   },
   "outputs": [],
   "source": [
    "# Save the best model\n",
    "RN.save('RN_v1.1.2')"
   ]
  },
  {
   "cell_type": "code",
   "execution_count": 16,
   "id": "01b8189e",
   "metadata": {
    "execution": {
     "iopub.execute_input": "2022-11-20T21:37:39.760563Z",
     "iopub.status.busy": "2022-11-20T21:37:39.757697Z",
     "iopub.status.idle": "2022-11-20T21:37:40.438595Z",
     "shell.execute_reply": "2022-11-20T21:37:40.437667Z"
    },
    "papermill": {
     "duration": 3.483341,
     "end_time": "2022-11-20T21:37:40.440683",
     "exception": false,
     "start_time": "2022-11-20T21:37:36.957342",
     "status": "completed"
    },
    "tags": []
   },
   "outputs": [
    {
     "data": {
      "image/png": "[encoded data removed]",
      "text/plain": [
       "<Figure size 1080x360 with 1 Axes>"
      ]
     },
     "metadata": {
      "needs_background": "light"
     },
     "output_type": "display_data"
    },
    {
     "data": {
      "image/png": "[encoded data removed]",
      "text/plain": [
       "<Figure size 1080x360 with 1 Axes>"
      ]
     },
     "metadata": {
      "needs_background": "light"
     },
     "output_type": "display_data"
    }
   ],
   "source": [
    "# Plot the training\n",
    "plt.figure(figsize=(15,5))\n",
    "plt.plot(RN_history['loss'], alpha=.3, color='#ff7f0e', linestyle='--')\n",
    "plt.plot(RN_history['val_loss'], label='Standard', alpha=.8, color='#ff7f0e')\n",
    "plt.legend(loc='upper left')\n",
    "plt.title('Categorical Crossentropy')\n",
    "plt.grid(alpha=.3)\n",
    "plt.savefig('RN_v1.1.2_loss.png')\n",
    "\n",
    "plt.figure(figsize=(15,5))\n",
    "plt.plot(RN_history['accuracy'], alpha=.3, color='#ff7f0e', linestyle='--')\n",
    "plt.plot(RN_history['val_accuracy'], label='Standard', alpha=.8, color='#ff7f0e')\n",
    "plt.legend(loc='upper left')\n",
    "plt.title('Accuracy')\n",
    "plt.grid(alpha=.3)\n",
    "plt.savefig('RN_v1.1.2_acc.png')\n",
    "\n",
    "plt.show()"
   ]
  },
  {
   "cell_type": "code",
   "execution_count": 17,
   "id": "be36ffa3",
   "metadata": {
    "execution": {
     "iopub.execute_input": "2022-11-20T21:37:46.227859Z",
     "iopub.status.busy": "2022-11-20T21:37:46.227495Z",
     "iopub.status.idle": "2022-11-20T21:37:49.118749Z",
     "shell.execute_reply": "2022-11-20T21:37:49.117797Z"
    },
    "papermill": {
     "duration": 5.88772,
     "end_time": "2022-11-20T21:37:49.120794",
     "exception": false,
     "start_time": "2022-11-20T21:37:43.233074",
     "status": "completed"
    },
    "tags": []
   },
   "outputs": [
    {
     "name": "stdout",
     "output_type": "stream",
     "text": [
      "81/81 [==============================] - 3s 34ms/step - loss: 0.3856 - accuracy: 0.8812\n",
      "\n",
      "Val metrics\n",
      "{'loss': 0.3855907917022705, 'accuracy': 0.8811728358268738}\n"
     ]
    }
   ],
   "source": [
    "# Evaluate on val\n",
    "val_metrics = RN.evaluate(valid_gen, return_dict=True)\n",
    "\n",
    "print()\n",
    "print(\"Val metrics\")\n",
    "print(val_metrics)"
   ]
  }
 ],
 "metadata": {
  "kernelspec": {
   "display_name": "Python 3",
   "language": "python",
   "name": "python3"
  },
  "language_info": {
   "codemirror_mode": {
    "name": "ipython",
    "version": 3
   },
   "file_extension": ".py",
   "mimetype": "text/x-python",
   "name": "python",
   "nbconvert_exporter": "python",
   "pygments_lexer": "ipython3",
   "version": "3.7.12"
  },
  "papermill": {
   "default_parameters": {},
   "duration": 5072.204354,
   "end_time": "2022-11-20T21:37:54.965364",
   "environment_variables": {},
   "exception": null,
   "input_path": "__notebook__.ipynb",
   "output_path": "__notebook__.ipynb",
   "parameters": {},
   "start_time": "2022-11-20T20:13:22.761010",
   "version": "2.3.4"
  }
 },
 "nbformat": 4,
 "nbformat_minor": 5
}
