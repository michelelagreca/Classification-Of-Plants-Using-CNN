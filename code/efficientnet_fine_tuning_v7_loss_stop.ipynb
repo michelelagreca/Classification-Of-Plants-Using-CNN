{
 "cells": [
  {
   "cell_type": "markdown",
   "id": "48b9f844",
   "metadata": {
    "papermill": {
     "duration": 0.012052,
     "end_time": "2022-11-23T13:38:42.457905",
     "exception": false,
     "start_time": "2022-11-23T13:38:42.445853",
     "status": "completed"
    },
    "tags": []
   },
   "source": [
    "## Prelimiary Operations"
   ]
  },
  {
   "cell_type": "markdown",
   "id": "052a1639",
   "metadata": {
    "papermill": {
     "duration": 0.006727,
     "end_time": "2022-11-23T13:38:42.471798",
     "exception": false,
     "start_time": "2022-11-23T13:38:42.465071",
     "status": "completed"
    },
    "tags": []
   },
   "source": [
    "### Useful operations"
   ]
  },
  {
   "cell_type": "code",
   "execution_count": 1,
   "id": "0b3ba78c",
   "metadata": {
    "execution": {
     "iopub.execute_input": "2022-11-23T13:38:42.488259Z",
     "iopub.status.busy": "2022-11-23T13:38:42.487100Z",
     "iopub.status.idle": "2022-11-23T13:38:42.497461Z",
     "shell.execute_reply": "2022-11-23T13:38:42.496492Z"
    },
    "papermill": {
     "duration": 0.021067,
     "end_time": "2022-11-23T13:38:42.499762",
     "exception": false,
     "start_time": "2022-11-23T13:38:42.478695",
     "status": "completed"
    },
    "tags": []
   },
   "outputs": [],
   "source": [
    "import os\n",
    "import shutil\n",
    "if os.path.exists(\"/kaggle/working/andrea\"):\n",
    "    shutil.rmtree(\"/kaggle/working/andrea\")"
   ]
  },
  {
   "cell_type": "code",
   "execution_count": 2,
   "id": "f14fed98",
   "metadata": {
    "execution": {
     "iopub.execute_input": "2022-11-23T13:38:42.515492Z",
     "iopub.status.busy": "2022-11-23T13:38:42.515064Z",
     "iopub.status.idle": "2022-11-23T13:38:42.519174Z",
     "shell.execute_reply": "2022-11-23T13:38:42.518434Z"
    },
    "papermill": {
     "duration": 0.014464,
     "end_time": "2022-11-23T13:38:42.521249",
     "exception": false,
     "start_time": "2022-11-23T13:38:42.506785",
     "status": "completed"
    },
    "tags": []
   },
   "outputs": [],
   "source": [
    "if os.path.exists(\"/kaggle/working/EfficientNet_experiments\"):\n",
    "    shutil.rmtree(\"/kaggle/working/EfficientNet_experiments\")"
   ]
  },
  {
   "cell_type": "code",
   "execution_count": 3,
   "id": "27ad1ccd",
   "metadata": {
    "execution": {
     "iopub.execute_input": "2022-11-23T13:38:42.537154Z",
     "iopub.status.busy": "2022-11-23T13:38:42.536546Z",
     "iopub.status.idle": "2022-11-23T13:38:42.540822Z",
     "shell.execute_reply": "2022-11-23T13:38:42.539830Z"
    },
    "papermill": {
     "duration": 0.015099,
     "end_time": "2022-11-23T13:38:42.543226",
     "exception": false,
     "start_time": "2022-11-23T13:38:42.528127",
     "status": "completed"
    },
    "tags": []
   },
   "outputs": [],
   "source": [
    "if os.path.exists(\"/kaggle/working/EfficientNet\"):\n",
    "    shutil.rmtree(\"/kaggle/working/EfficientNet\")"
   ]
  },
  {
   "cell_type": "code",
   "execution_count": 4,
   "id": "28aebe04",
   "metadata": {
    "execution": {
     "iopub.execute_input": "2022-11-23T13:38:42.559106Z",
     "iopub.status.busy": "2022-11-23T13:38:42.558687Z",
     "iopub.status.idle": "2022-11-23T13:38:42.563740Z",
     "shell.execute_reply": "2022-11-23T13:38:42.562558Z"
    },
    "papermill": {
     "duration": 0.015821,
     "end_time": "2022-11-23T13:38:42.566050",
     "exception": false,
     "start_time": "2022-11-23T13:38:42.550229",
     "status": "completed"
    },
    "tags": []
   },
   "outputs": [],
   "source": [
    "# to remove a file\n",
    "import os\n",
    "if os.path.exists(\"/kaggle/working/model.png\"):\n",
    "    os.remove(\"/kaggle/working/model.png\")"
   ]
  },
  {
   "cell_type": "code",
   "execution_count": 5,
   "id": "6129cdb9",
   "metadata": {
    "execution": {
     "iopub.execute_input": "2022-11-23T13:38:42.581546Z",
     "iopub.status.busy": "2022-11-23T13:38:42.581107Z",
     "iopub.status.idle": "2022-11-23T13:38:42.587077Z",
     "shell.execute_reply": "2022-11-23T13:38:42.586044Z"
    },
    "papermill": {
     "duration": 0.016279,
     "end_time": "2022-11-23T13:38:42.589307",
     "exception": false,
     "start_time": "2022-11-23T13:38:42.573028",
     "status": "completed"
    },
    "tags": []
   },
   "outputs": [],
   "source": [
    "# to create a folder\n",
    "import os\n",
    "directory = \"EfficientNet\"\n",
    "parent_dir = \"/kaggle/working\"\n",
    "path = os.path.join(parent_dir, directory)\n",
    "if not os.path.exists(path):\n",
    "    os.mkdir(path)"
   ]
  },
  {
   "cell_type": "markdown",
   "id": "efe8ddc1",
   "metadata": {
    "papermill": {
     "duration": 0.008097,
     "end_time": "2022-11-23T13:38:42.604231",
     "exception": false,
     "start_time": "2022-11-23T13:38:42.596134",
     "status": "completed"
    },
    "tags": []
   },
   "source": [
    "### Operations"
   ]
  },
  {
   "cell_type": "code",
   "execution_count": 6,
   "id": "81904965",
   "metadata": {
    "execution": {
     "iopub.execute_input": "2022-11-23T13:38:42.619576Z",
     "iopub.status.busy": "2022-11-23T13:38:42.619148Z",
     "iopub.status.idle": "2022-11-23T13:38:49.990023Z",
     "shell.execute_reply": "2022-11-23T13:38:49.988606Z"
    },
    "papermill": {
     "duration": 7.381872,
     "end_time": "2022-11-23T13:38:49.992935",
     "exception": false,
     "start_time": "2022-11-23T13:38:42.611063",
     "status": "completed"
    },
    "tags": []
   },
   "outputs": [],
   "source": [
    "import tensorflow as tf\n",
    "import numpy as np\n",
    "import os\n",
    "import random\n",
    "import pandas as pd\n",
    "import seaborn as sns\n",
    "import matplotlib as mpl\n",
    "import matplotlib.pyplot as plt\n",
    "from sklearn.model_selection import train_test_split\n",
    "from sklearn.metrics import accuracy_score, f1_score, precision_score, recall_score\n",
    "from sklearn.metrics import confusion_matrix\n",
    "from PIL import Image\n",
    "\n",
    "tfk = tf.keras\n",
    "tfkl = tf.keras.layers"
   ]
  },
  {
   "cell_type": "code",
   "execution_count": 7,
   "id": "7ed92db7",
   "metadata": {
    "execution": {
     "iopub.execute_input": "2022-11-23T13:38:50.010045Z",
     "iopub.status.busy": "2022-11-23T13:38:50.009323Z",
     "iopub.status.idle": "2022-11-23T13:38:50.016271Z",
     "shell.execute_reply": "2022-11-23T13:38:50.015012Z"
    },
    "papermill": {
     "duration": 0.01824,
     "end_time": "2022-11-23T13:38:50.018932",
     "exception": false,
     "start_time": "2022-11-23T13:38:50.000692",
     "status": "completed"
    },
    "tags": []
   },
   "outputs": [],
   "source": [
    "# Random seed for reproducibility\n",
    "seed = 42\n",
    "\n",
    "random.seed(seed)\n",
    "os.environ['PYTHONHASHSEED'] = str(seed)\n",
    "np.random.seed(seed)\n",
    "tf.random.set_seed(seed)\n",
    "tf.compat.v1.set_random_seed(seed)"
   ]
  },
  {
   "cell_type": "code",
   "execution_count": 8,
   "id": "3cb04ccd",
   "metadata": {
    "execution": {
     "iopub.execute_input": "2022-11-23T13:38:50.034947Z",
     "iopub.status.busy": "2022-11-23T13:38:50.034302Z",
     "iopub.status.idle": "2022-11-23T13:38:50.042107Z",
     "shell.execute_reply": "2022-11-23T13:38:50.040846Z"
    },
    "papermill": {
     "duration": 0.018989,
     "end_time": "2022-11-23T13:38:50.044928",
     "exception": false,
     "start_time": "2022-11-23T13:38:50.025939",
     "status": "completed"
    },
    "tags": []
   },
   "outputs": [],
   "source": [
    "import warnings\n",
    "import logging\n",
    "\n",
    "os.environ['TF_CPP_MIN_LOG_LEVEL'] = '2'\n",
    "warnings.simplefilter(action='ignore', category=FutureWarning)\n",
    "warnings.simplefilter(action='ignore', category=Warning)\n",
    "tf.get_logger().setLevel('INFO')\n",
    "tf.autograph.set_verbosity(0)\n",
    "\n",
    "tf.get_logger().setLevel(logging.ERROR)\n",
    "tf.get_logger().setLevel('ERROR')\n",
    "tf.compat.v1.logging.set_verbosity(tf.compat.v1.logging.ERROR)"
   ]
  },
  {
   "cell_type": "markdown",
   "id": "cb516655",
   "metadata": {
    "papermill": {
     "duration": 0.006608,
     "end_time": "2022-11-23T13:38:50.058635",
     "exception": false,
     "start_time": "2022-11-23T13:38:50.052027",
     "status": "completed"
    },
    "tags": []
   },
   "source": [
    "## Importing data"
   ]
  },
  {
   "cell_type": "code",
   "execution_count": 9,
   "id": "5516ea1c",
   "metadata": {
    "execution": {
     "iopub.execute_input": "2022-11-23T13:38:50.074545Z",
     "iopub.status.busy": "2022-11-23T13:38:50.073887Z",
     "iopub.status.idle": "2022-11-23T13:38:50.079413Z",
     "shell.execute_reply": "2022-11-23T13:38:50.078514Z"
    },
    "papermill": {
     "duration": 0.016265,
     "end_time": "2022-11-23T13:38:50.081772",
     "exception": false,
     "start_time": "2022-11-23T13:38:50.065507",
     "status": "completed"
    },
    "tags": []
   },
   "outputs": [],
   "source": [
    "labels = {\n",
    "    0: 'Species1', # 0\n",
    "    1: 'Species2', # 1\n",
    "    2: 'Species3', # 2\n",
    "    3: 'Species4', # 3\n",
    "    4: 'Species5', # 4\n",
    "    5: 'Species6', # 5\n",
    "    6: 'Species7', # 6\n",
    "    7: 'Species8'} # 7"
   ]
  },
  {
   "cell_type": "code",
   "execution_count": 10,
   "id": "a50a4e8e",
   "metadata": {
    "execution": {
     "iopub.execute_input": "2022-11-23T13:38:50.097847Z",
     "iopub.status.busy": "2022-11-23T13:38:50.097209Z",
     "iopub.status.idle": "2022-11-23T13:38:50.102482Z",
     "shell.execute_reply": "2022-11-23T13:38:50.101683Z"
    },
    "papermill": {
     "duration": 0.015881,
     "end_time": "2022-11-23T13:38:50.104690",
     "exception": false,
     "start_time": "2022-11-23T13:38:50.088809",
     "status": "completed"
    },
    "tags": []
   },
   "outputs": [],
   "source": [
    "# Dataset folders \n",
    "dataset_dir = \"../input/splitted-dataset-no-test/splitted_dataset_no_test\"\n",
    "training_dir = os.path.join(dataset_dir, 'train')\n",
    "validation_dir = os.path.join(dataset_dir, 'val')"
   ]
  },
  {
   "cell_type": "code",
   "execution_count": null,
   "id": "09db6963",
   "metadata": {},
   "outputs": [],
   "source": [
    "img_height = 96\n",
    "img_width =96\n",
    "batch_size = 32"
   ]
  },
  {
   "cell_type": "code",
   "execution_count": null,
   "id": "ae686455",
   "metadata": {},
   "outputs": [],
   "source": [
    "training_dataset = tfk.preprocessing.image_dataset_from_directory(training_dir, label_mode='categorical', image_size=(img_height, img_width))\n",
    "validation_dataset = tfk.preprocessing.image_dataset_from_directory(validation_dir, label_mode='categorical', image_size=(img_height, img_width))"
   ]
  },
  {
   "cell_type": "code",
   "execution_count": 11,
   "id": "0b2f8870",
   "metadata": {
    "execution": {
     "iopub.execute_input": "2022-11-23T13:38:50.120942Z",
     "iopub.status.busy": "2022-11-23T13:38:50.120278Z",
     "iopub.status.idle": "2022-11-23T13:38:50.455662Z",
     "shell.execute_reply": "2022-11-23T13:38:50.454506Z"
    },
    "papermill": {
     "duration": 0.347017,
     "end_time": "2022-11-23T13:38:50.458649",
     "exception": false,
     "start_time": "2022-11-23T13:38:50.111632",
     "status": "completed"
    },
    "tags": []
   },
   "outputs": [
    {
     "name": "stdout",
     "output_type": "stream",
     "text": [
      "Found 3432 images belonging to 8 classes.\n",
      "Found 864 images belonging to 8 classes.\n"
     ]
    }
   ],
   "source": [
    "# Images are divided into folders, one for each class. \n",
    "# If the images are organized in such a way, we can exploit the \n",
    "# ImageDataGenerator to read them from disk.\n",
    "from tensorflow.keras.preprocessing.image import ImageDataGenerator\n",
    "\n",
    "# Create an instance of ImageDataGenerator, and for the trainign with Data Augmentation\n",
    "\n",
    "\n",
    "# Use this for data augmentation\n",
    "train_data_gen = ImageDataGenerator(rotation_range=40,\n",
    "                                        height_shift_range=0.5,\n",
    "                                        width_shift_range=0.5,\n",
    "                                        zoom_range=0.5,\n",
    "                                        horizontal_flip=True,\n",
    "                                        fill_mode='reflect')\n",
    "\n",
    "\n",
    "# Use this for no augmentation\n",
    "#train_data_gen = ImageDataGenerator()\n",
    "valid_data_gen = ImageDataGenerator()\n",
    "\n",
    "# Obtain a data generator with the 'ImageDataGenerator.flow_from_directory' method\n",
    "train_gen = train_data_gen.flow_from_directory(directory=training_dir,\n",
    "                                                       target_size=(96,96),\n",
    "                                                       color_mode='rgb',\n",
    "                                                       classes=None, # can be set to labels\n",
    "                                                       class_mode='categorical',\n",
    "                                                       batch_size=8,\n",
    "                                                       shuffle=True,\n",
    "                                                       seed=seed)\n",
    "\n",
    "valid_gen = valid_data_gen.flow_from_directory(directory=validation_dir,\n",
    "                                               target_size=(96,96),\n",
    "                                               color_mode='rgb',\n",
    "                                               classes=None, # can be set to labels\n",
    "                                               class_mode='categorical',\n",
    "                                               batch_size=8,\n",
    "                                               shuffle=False,\n",
    "                                               seed=seed)"
   ]
  },
  {
   "cell_type": "code",
   "execution_count": null,
   "id": "b60d3d03",
   "metadata": {},
   "outputs": [],
   "source": [
    "X_train = None\n",
    "y_train = None\n",
    "for images, labels in training_dataset.as_numpy_iterator():\n",
    "    t_img = tf.constant(images)\n",
    "    if X_train is not None:\n",
    "        X_train = tf.concat([X_train,t_img], axis=0)\n",
    "        y_train = np.concatenate((y_train,labels), axis=0)\n",
    "    else:\n",
    "        X_train = t_img\n",
    "        y_train = labels\n",
    "print(X_train.shape)\n",
    "print(y_train.shape)"
   ]
  },
  {
   "cell_type": "code",
   "execution_count": null,
   "id": "5968e084",
   "metadata": {},
   "outputs": [],
   "source": [
    "X_val = None\n",
    "y_val = None\n",
    "for images, labels in validation_dataset.as_numpy_iterator():\n",
    "    t_img = tf.constant(images)\n",
    "    if X_val is not None:\n",
    "        X_val = tf.concat([X_val,t_img], axis=0)\n",
    "        y_val = np.concatenate((y_val,labels), axis=0)\n",
    "    else:\n",
    "        X_val = t_img\n",
    "        y_val = labels\n",
    "print(X_val.shape)\n",
    "print(y_val.shape)"
   ]
  },
  {
   "cell_type": "markdown",
   "id": "c44d2df5",
   "metadata": {
    "papermill": {
     "duration": 0.006944,
     "end_time": "2022-11-23T13:38:50.472726",
     "exception": false,
     "start_time": "2022-11-23T13:38:50.465782",
     "status": "completed"
    },
    "tags": []
   },
   "source": [
    "## Model"
   ]
  },
  {
   "cell_type": "code",
   "execution_count": 12,
   "id": "9e80ac71",
   "metadata": {
    "execution": {
     "iopub.execute_input": "2022-11-23T13:38:50.488523Z",
     "iopub.status.busy": "2022-11-23T13:38:50.488123Z",
     "iopub.status.idle": "2022-11-23T13:38:51.572183Z",
     "shell.execute_reply": "2022-11-23T13:38:51.570634Z"
    },
    "papermill": {
     "duration": 1.095231,
     "end_time": "2022-11-23T13:38:51.574885",
     "exception": false,
     "start_time": "2022-11-23T13:38:50.479654",
     "status": "completed"
    },
    "tags": []
   },
   "outputs": [
    {
     "name": "stdout",
     "output_type": "stream",
     "text": [
      "/bin/bash: line 0: cd: /kaggle/working/EfficieNet: No such file or directory\r\n"
     ]
    }
   ],
   "source": [
    "!cd /kaggle/working/EfficieNet"
   ]
  },
  {
   "cell_type": "code",
   "execution_count": 14,
   "id": "f7fa09f3",
   "metadata": {
    "execution": {
     "iopub.execute_input": "2022-11-23T13:38:51.616125Z",
     "iopub.status.busy": "2022-11-23T13:38:51.615251Z",
     "iopub.status.idle": "2022-11-23T13:38:57.869054Z",
     "shell.execute_reply": "2022-11-23T13:38:57.867810Z"
    },
    "papermill": {
     "duration": 6.265007,
     "end_time": "2022-11-23T13:38:57.871544",
     "exception": false,
     "start_time": "2022-11-23T13:38:51.606537",
     "status": "completed"
    },
    "tags": []
   },
   "outputs": [
    {
     "name": "stdout",
     "output_type": "stream",
     "text": [
      "Downloading data from https://storage.googleapis.com/keras-applications/efficientnetb3_notop.h5\n",
      "43941888/43941136 [==============================] - 2s 0us/step\n",
      "43950080/43941136 [==============================] - 2s 0us/step\n"
     ]
    }
   ],
   "source": [
    "# Download and plot the EfficientNet model\n",
    "eff_net = tfk.applications.efficientnet.EfficientNetB3(\n",
    "    include_top=False,\n",
    "    weights='imagenet',\n",
    "    input_shape=(96,96,3),\n",
    ")\n",
    "\n",
    "eff_net.trainable = True # we are freezing the weights of the conv part, so that they are not updated\n",
    "                            # during the training\n",
    "#tfk.utils.plot_model(eff_net)"
   ]
  },
  {
   "cell_type": "code",
   "execution_count": 15,
   "id": "1d5e4c36",
   "metadata": {
    "execution": {
     "iopub.execute_input": "2022-11-23T13:38:57.892847Z",
     "iopub.status.busy": "2022-11-23T13:38:57.891905Z",
     "iopub.status.idle": "2022-11-23T13:38:57.897572Z",
     "shell.execute_reply": "2022-11-23T13:38:57.896440Z"
    },
    "papermill": {
     "duration": 0.018723,
     "end_time": "2022-11-23T13:38:57.899983",
     "exception": false,
     "start_time": "2022-11-23T13:38:57.881260",
     "status": "completed"
    },
    "tags": []
   },
   "outputs": [],
   "source": [
    "input_shape = (96, 96, 3)\n",
    "epochs = 300\n",
    "learning_rate = 1e-4\n",
    "l1=1e-4\n",
    "l2=1e-3"
   ]
  },
  {
   "cell_type": "code",
   "execution_count": 16,
   "id": "272df579",
   "metadata": {
    "execution": {
     "iopub.execute_input": "2022-11-23T13:38:57.922174Z",
     "iopub.status.busy": "2022-11-23T13:38:57.919999Z",
     "iopub.status.idle": "2022-11-23T13:39:22.202429Z",
     "shell.execute_reply": "2022-11-23T13:39:22.200681Z"
    },
    "papermill": {
     "duration": 24.296222,
     "end_time": "2022-11-23T13:39:22.205557",
     "exception": false,
     "start_time": "2022-11-23T13:38:57.909335",
     "status": "completed"
    },
    "tags": []
   },
   "outputs": [
    {
     "name": "stdout",
     "output_type": "stream",
     "text": [
      "Model: \"efficient_net_model\"\n",
      "_________________________________________________________________\n",
      "Layer (type)                 Output Shape              Param #   \n",
      "=================================================================\n",
      "input_2 (InputLayer)         [(None, 96, 96, 3)]       0         \n",
      "_________________________________________________________________\n",
      "efficientnetb3 (Functional)  (None, 3, 3, 1536)        10783535  \n",
      "_________________________________________________________________\n",
      "global_average_pooling2d (Gl (None, 1536)              0         \n",
      "_________________________________________________________________\n",
      "dropout (Dropout)            (None, 1536)              0         \n",
      "_________________________________________________________________\n",
      "dense (Dense)                (None, 128)               196736    \n",
      "_________________________________________________________________\n",
      "dropout_1 (Dropout)          (None, 128)               0         \n",
      "_________________________________________________________________\n",
      "dense_1 (Dense)              (None, 8)                 1032      \n",
      "=================================================================\n",
      "Total params: 10,981,303\n",
      "Trainable params: 197,768\n",
      "Non-trainable params: 10,783,535\n",
      "_________________________________________________________________\n"
     ]
    }
   ],
   "source": [
    "# Load the model of the v7 notebook of efficient net. Otherwise it won't run\n",
    "# Change load folder\n",
    "eff_net_model = tfk.models.load_model(\"/kaggle/input/efficient-net-pretrained-128-dense-augmentation/efficient_net_pretrained_128_dense_more_augmentation\")\n",
    "eff_net_model.summary()"
   ]
  },
  {
   "cell_type": "code",
   "execution_count": 17,
   "id": "531f0d2b",
   "metadata": {
    "execution": {
     "iopub.execute_input": "2022-11-23T13:39:22.227757Z",
     "iopub.status.busy": "2022-11-23T13:39:22.227308Z",
     "iopub.status.idle": "2022-11-23T13:39:22.250001Z",
     "shell.execute_reply": "2022-11-23T13:39:22.248798Z"
    },
    "papermill": {
     "duration": 0.036433,
     "end_time": "2022-11-23T13:39:22.252725",
     "exception": false,
     "start_time": "2022-11-23T13:39:22.216292",
     "status": "completed"
    },
    "tags": []
   },
   "outputs": [],
   "source": [
    "eff_net = eff_net_model.get_layer(\"efficientnetb3\")\n",
    "eff_net.trainable=False\n",
    "out_cs = eff_net_model.get_layer(\"dense\")\n",
    "out_cs.trainable=False"
   ]
  },
  {
   "cell_type": "code",
   "execution_count": 18,
   "id": "83ba0094",
   "metadata": {
    "execution": {
     "iopub.execute_input": "2022-11-23T13:39:22.274292Z",
     "iopub.status.busy": "2022-11-23T13:39:22.273906Z",
     "iopub.status.idle": "2022-11-23T13:39:22.282849Z",
     "shell.execute_reply": "2022-11-23T13:39:22.281634Z"
    },
    "papermill": {
     "duration": 0.022384,
     "end_time": "2022-11-23T13:39:22.285056",
     "exception": false,
     "start_time": "2022-11-23T13:39:22.262672",
     "status": "completed"
    },
    "tags": []
   },
   "outputs": [],
   "source": [
    "def build_model(input_shape):\n",
    "\n",
    "    # Build the neural network layer by layer\n",
    "    input_layer = tfkl.Input(input_shape)\n",
    "    efficient_net_layer = eff_net(input_layer)    \n",
    "    x = tfkl.GlobalAveragePooling2D()(efficient_net_layer)\n",
    "    x = tfkl.Dropout(0.3, seed=seed)(x)\n",
    "    x = tfkl.Dense(128, activation='relu', kernel_initializer=tfk.initializers.HeUniform(seed), kernel_regularizer=tfk.regularizers.L1L2(l1=l1, l2=l2))(x)\n",
    "    x = tfkl.Dropout(0.3, seed=seed)(x)\n",
    "    output_layer = tfkl.Dense(8, activation='softmax', kernel_initializer=tfk.initializers.GlorotUniform(seed))(x)\n",
    "        # Connect input and output through the Model class\n",
    "    model = tfk.Model(inputs=input_layer, outputs=output_layer, name='efficient_net_model')\n",
    "\n",
    "    # Compile the model\n",
    "    model.compile(loss=tfk.losses.CategoricalCrossentropy(), optimizer=tfk.optimizers.Adam(learning_rate), metrics='accuracy')\n",
    "\n",
    "    # Return the model\n",
    "    return model"
   ]
  },
  {
   "cell_type": "code",
   "execution_count": 19,
   "id": "2a2521aa",
   "metadata": {
    "execution": {
     "iopub.execute_input": "2022-11-23T13:39:22.306108Z",
     "iopub.status.busy": "2022-11-23T13:39:22.305699Z",
     "iopub.status.idle": "2022-11-23T13:39:23.628532Z",
     "shell.execute_reply": "2022-11-23T13:39:23.627119Z"
    },
    "papermill": {
     "duration": 1.336991,
     "end_time": "2022-11-23T13:39:23.631844",
     "exception": false,
     "start_time": "2022-11-23T13:39:22.294853",
     "status": "completed"
    },
    "tags": []
   },
   "outputs": [
    {
     "name": "stdout",
     "output_type": "stream",
     "text": [
      "Model: \"efficient_net_model\"\n",
      "_________________________________________________________________\n",
      "Layer (type)                 Output Shape              Param #   \n",
      "=================================================================\n",
      "input_2 (InputLayer)         [(None, 96, 96, 3)]       0         \n",
      "_________________________________________________________________\n",
      "efficientnetb3 (Functional)  (None, 3, 3, 1536)        10783535  \n",
      "_________________________________________________________________\n",
      "global_average_pooling2d (Gl (None, 1536)              0         \n",
      "_________________________________________________________________\n",
      "dropout (Dropout)            (None, 1536)              0         \n",
      "_________________________________________________________________\n",
      "dense (Dense)                (None, 128)               196736    \n",
      "_________________________________________________________________\n",
      "dropout_1 (Dropout)          (None, 128)               0         \n",
      "_________________________________________________________________\n",
      "dense_1 (Dense)              (None, 8)                 1032      \n",
      "=================================================================\n",
      "Total params: 10,981,303\n",
      "Trainable params: 1,032\n",
      "Non-trainable params: 10,980,271\n",
      "_________________________________________________________________\n"
     ]
    },
    {
     "data": {
      "image/png": "[encoded data removed]",
      "text/plain": [
       "<IPython.core.display.Image object>"
      ]
     },
     "execution_count": 19,
     "metadata": {},
     "output_type": "execute_result"
    }
   ],
   "source": [
    "# Build model. Train only the very last layer.\n",
    "model_name = \"Efficient_net_B3_loaded_128_dense\"\n",
    "\n",
    "#eff_net_model = build_model(input_shape)\n",
    "eff_net_model.summary()\n",
    "tfk.utils.plot_model(eff_net_model)"
   ]
  },
  {
   "cell_type": "code",
   "execution_count": 20,
   "id": "e73af510",
   "metadata": {
    "execution": {
     "iopub.execute_input": "2022-11-23T13:39:23.655698Z",
     "iopub.status.busy": "2022-11-23T13:39:23.655219Z",
     "iopub.status.idle": "2022-11-23T13:39:23.661270Z",
     "shell.execute_reply": "2022-11-23T13:39:23.660360Z"
    },
    "papermill": {
     "duration": 0.021024,
     "end_time": "2022-11-23T13:39:23.663448",
     "exception": false,
     "start_time": "2022-11-23T13:39:23.642424",
     "status": "completed"
    },
    "tags": []
   },
   "outputs": [],
   "source": [
    "patience = 20"
   ]
  },
  {
   "cell_type": "code",
   "execution_count": 21,
   "id": "642b2bab",
   "metadata": {
    "execution": {
     "iopub.execute_input": "2022-11-23T13:39:23.686730Z",
     "iopub.status.busy": "2022-11-23T13:39:23.685499Z",
     "iopub.status.idle": "2022-11-23T14:41:28.737704Z",
     "shell.execute_reply": "2022-11-23T14:41:28.736471Z"
    },
    "papermill": {
     "duration": 3725.066504,
     "end_time": "2022-11-23T14:41:28.740244",
     "exception": false,
     "start_time": "2022-11-23T13:39:23.673740",
     "status": "completed"
    },
    "tags": []
   },
   "outputs": [
    {
     "name": "stdout",
     "output_type": "stream",
     "text": [
      "Epoch 1/300\n",
      "429/429 [==============================] - 85s 172ms/step - loss: 0.4885 - accuracy: 0.9403 - val_loss: 0.6718 - val_accuracy: 0.8900\n",
      "Epoch 2/300\n",
      "429/429 [==============================] - 65s 152ms/step - loss: 0.4616 - accuracy: 0.9438 - val_loss: 0.6754 - val_accuracy: 0.8877\n",
      "Epoch 3/300\n",
      "429/429 [==============================] - 65s 152ms/step - loss: 0.4501 - accuracy: 0.9452 - val_loss: 0.6154 - val_accuracy: 0.8993\n",
      "Epoch 4/300\n",
      "429/429 [==============================] - 65s 152ms/step - loss: 0.4327 - accuracy: 0.9484 - val_loss: 0.6353 - val_accuracy: 0.8889\n",
      "Epoch 5/300\n",
      "429/429 [==============================] - 66s 153ms/step - loss: 0.4216 - accuracy: 0.9452 - val_loss: 0.6131 - val_accuracy: 0.8912\n",
      "Epoch 6/300\n",
      "429/429 [==============================] - 66s 153ms/step - loss: 0.4045 - accuracy: 0.9496 - val_loss: 0.5962 - val_accuracy: 0.8970\n",
      "Epoch 7/300\n",
      "429/429 [==============================] - 66s 153ms/step - loss: 0.4048 - accuracy: 0.9467 - val_loss: 0.5602 - val_accuracy: 0.9005\n",
      "Epoch 8/300\n",
      "429/429 [==============================] - 65s 152ms/step - loss: 0.3996 - accuracy: 0.9446 - val_loss: 0.5487 - val_accuracy: 0.9051\n",
      "Epoch 9/300\n",
      "429/429 [==============================] - 65s 152ms/step - loss: 0.3810 - accuracy: 0.9510 - val_loss: 0.5725 - val_accuracy: 0.8854\n",
      "Epoch 10/300\n",
      "429/429 [==============================] - 66s 154ms/step - loss: 0.3794 - accuracy: 0.9484 - val_loss: 0.5423 - val_accuracy: 0.9016\n",
      "Epoch 11/300\n",
      "429/429 [==============================] - 65s 152ms/step - loss: 0.3679 - accuracy: 0.9464 - val_loss: 0.5091 - val_accuracy: 0.9086\n",
      "Epoch 12/300\n",
      "429/429 [==============================] - 64s 150ms/step - loss: 0.3531 - accuracy: 0.9566 - val_loss: 0.5289 - val_accuracy: 0.9016\n",
      "Epoch 13/300\n",
      "429/429 [==============================] - 66s 155ms/step - loss: 0.3572 - accuracy: 0.9467 - val_loss: 0.5100 - val_accuracy: 0.9039\n",
      "Epoch 14/300\n",
      "429/429 [==============================] - 65s 152ms/step - loss: 0.3543 - accuracy: 0.9438 - val_loss: 0.5830 - val_accuracy: 0.8843\n",
      "Epoch 15/300\n",
      "429/429 [==============================] - 65s 151ms/step - loss: 0.3399 - accuracy: 0.9540 - val_loss: 0.5382 - val_accuracy: 0.8866\n",
      "Epoch 16/300\n",
      "429/429 [==============================] - 65s 153ms/step - loss: 0.3382 - accuracy: 0.9508 - val_loss: 0.5189 - val_accuracy: 0.8958\n",
      "Epoch 17/300\n",
      "429/429 [==============================] - 66s 154ms/step - loss: 0.3280 - accuracy: 0.9508 - val_loss: 0.5102 - val_accuracy: 0.8993\n",
      "Epoch 18/300\n",
      "429/429 [==============================] - 66s 153ms/step - loss: 0.3121 - accuracy: 0.9522 - val_loss: 0.5042 - val_accuracy: 0.9005\n",
      "Epoch 19/300\n",
      "429/429 [==============================] - 67s 155ms/step - loss: 0.3218 - accuracy: 0.9508 - val_loss: 0.4955 - val_accuracy: 0.9005\n",
      "Epoch 20/300\n",
      "429/429 [==============================] - 65s 152ms/step - loss: 0.3106 - accuracy: 0.9522 - val_loss: 0.5105 - val_accuracy: 0.8993\n",
      "Epoch 21/300\n",
      "429/429 [==============================] - 64s 149ms/step - loss: 0.3218 - accuracy: 0.9481 - val_loss: 0.4691 - val_accuracy: 0.9028\n",
      "Epoch 22/300\n",
      "429/429 [==============================] - 65s 151ms/step - loss: 0.3154 - accuracy: 0.9513 - val_loss: 0.5036 - val_accuracy: 0.9062\n",
      "Epoch 23/300\n",
      "429/429 [==============================] - 65s 152ms/step - loss: 0.3164 - accuracy: 0.9519 - val_loss: 0.4913 - val_accuracy: 0.9097\n",
      "Epoch 24/300\n",
      "429/429 [==============================] - 64s 150ms/step - loss: 0.3266 - accuracy: 0.9499 - val_loss: 0.4990 - val_accuracy: 0.8958\n",
      "Epoch 25/300\n",
      "429/429 [==============================] - 64s 150ms/step - loss: 0.3324 - accuracy: 0.9409 - val_loss: 0.4891 - val_accuracy: 0.8924\n",
      "Epoch 26/300\n",
      "429/429 [==============================] - 73s 171ms/step - loss: 0.3070 - accuracy: 0.9464 - val_loss: 0.4760 - val_accuracy: 0.9016\n",
      "Epoch 27/300\n",
      "429/429 [==============================] - 64s 150ms/step - loss: 0.3122 - accuracy: 0.9464 - val_loss: 0.4800 - val_accuracy: 0.9005\n",
      "Epoch 28/300\n",
      "429/429 [==============================] - 65s 151ms/step - loss: 0.3385 - accuracy: 0.9379 - val_loss: 0.4429 - val_accuracy: 0.9097\n",
      "Epoch 29/300\n",
      "429/429 [==============================] - 65s 151ms/step - loss: 0.2929 - accuracy: 0.9513 - val_loss: 0.4758 - val_accuracy: 0.8958\n",
      "Epoch 30/300\n",
      "429/429 [==============================] - 64s 150ms/step - loss: 0.3111 - accuracy: 0.9441 - val_loss: 0.4685 - val_accuracy: 0.9028\n",
      "Epoch 31/300\n",
      "429/429 [==============================] - 65s 152ms/step - loss: 0.2989 - accuracy: 0.9505 - val_loss: 0.4603 - val_accuracy: 0.9062\n",
      "Epoch 32/300\n",
      "429/429 [==============================] - 65s 152ms/step - loss: 0.2998 - accuracy: 0.9493 - val_loss: 0.4829 - val_accuracy: 0.8981\n",
      "Epoch 33/300\n",
      "429/429 [==============================] - 65s 152ms/step - loss: 0.2942 - accuracy: 0.9481 - val_loss: 0.4515 - val_accuracy: 0.8993\n",
      "Epoch 34/300\n",
      "429/429 [==============================] - 63s 147ms/step - loss: 0.2803 - accuracy: 0.9502 - val_loss: 0.4786 - val_accuracy: 0.8947\n",
      "Epoch 35/300\n",
      "429/429 [==============================] - 64s 148ms/step - loss: 0.2967 - accuracy: 0.9458 - val_loss: 0.4593 - val_accuracy: 0.9086\n",
      "Epoch 36/300\n",
      "429/429 [==============================] - 63s 148ms/step - loss: 0.2841 - accuracy: 0.9519 - val_loss: 0.4878 - val_accuracy: 0.8970\n",
      "Epoch 37/300\n",
      "429/429 [==============================] - 65s 151ms/step - loss: 0.2882 - accuracy: 0.9476 - val_loss: 0.4737 - val_accuracy: 0.9016\n",
      "Epoch 38/300\n",
      "429/429 [==============================] - 64s 149ms/step - loss: 0.2704 - accuracy: 0.9569 - val_loss: 0.4728 - val_accuracy: 0.8981\n",
      "Epoch 39/300\n",
      "429/429 [==============================] - 65s 151ms/step - loss: 0.2963 - accuracy: 0.9502 - val_loss: 0.4522 - val_accuracy: 0.8947\n",
      "Epoch 40/300\n",
      "429/429 [==============================] - 65s 150ms/step - loss: 0.2693 - accuracy: 0.9554 - val_loss: 0.4603 - val_accuracy: 0.8981\n",
      "Epoch 41/300\n",
      "429/429 [==============================] - 65s 150ms/step - loss: 0.2517 - accuracy: 0.9572 - val_loss: 0.4441 - val_accuracy: 0.9074\n",
      "Epoch 42/300\n",
      "429/429 [==============================] - 64s 150ms/step - loss: 0.2758 - accuracy: 0.9510 - val_loss: 0.4504 - val_accuracy: 0.9039\n",
      "Epoch 43/300\n",
      "429/429 [==============================] - 65s 151ms/step - loss: 0.2585 - accuracy: 0.9560 - val_loss: 0.4920 - val_accuracy: 0.8993\n",
      "Epoch 44/300\n",
      "429/429 [==============================] - 66s 154ms/step - loss: 0.3144 - accuracy: 0.9350 - val_loss: 0.4517 - val_accuracy: 0.8947\n",
      "Epoch 45/300\n",
      "429/429 [==============================] - 66s 154ms/step - loss: 0.3099 - accuracy: 0.9353 - val_loss: 0.4581 - val_accuracy: 0.8970\n",
      "Epoch 46/300\n",
      "429/429 [==============================] - 65s 150ms/step - loss: 0.3048 - accuracy: 0.9374 - val_loss: 0.4795 - val_accuracy: 0.8947\n",
      "Epoch 47/300\n",
      "429/429 [==============================] - 64s 149ms/step - loss: 0.3028 - accuracy: 0.9365 - val_loss: 0.4570 - val_accuracy: 0.8866\n",
      "Epoch 48/300\n",
      "429/429 [==============================] - 64s 149ms/step - loss: 0.3013 - accuracy: 0.9409 - val_loss: 0.4540 - val_accuracy: 0.8889\n"
     ]
    }
   ],
   "source": [
    "# Train the model.\n",
    "eff_net_model_history = eff_net_model.fit(\n",
    "    x = train_gen,\n",
    "    batch_size = 256,\n",
    "    epochs = epochs,\n",
    "    validation_data = valid_gen,\n",
    "    # The callbacks here stop on the minimum of the loss, instead of the maximum of the accuracy\n",
    "    callbacks = [tfk.callbacks.EarlyStopping(monitor='val_loss', mode='min', patience=patience, restore_best_weights=True)],\n",
    ").history"
   ]
  },
  {
   "cell_type": "code",
   "execution_count": 22,
   "id": "dc5007c1",
   "metadata": {
    "execution": {
     "iopub.execute_input": "2022-11-23T14:41:31.408725Z",
     "iopub.status.busy": "2022-11-23T14:41:31.407973Z",
     "iopub.status.idle": "2022-11-23T14:41:47.224862Z",
     "shell.execute_reply": "2022-11-23T14:41:47.223999Z"
    },
    "papermill": {
     "duration": 17.159931,
     "end_time": "2022-11-23T14:41:47.227531",
     "exception": false,
     "start_time": "2022-11-23T14:41:30.067600",
     "status": "completed"
    },
    "tags": []
   },
   "outputs": [
    {
     "data": {
      "image/png": "[encoded data removed]",
      "text/plain": [
       "<Figure size 1080x360 with 1 Axes>"
      ]
     },
     "metadata": {
      "needs_background": "light"
     },
     "output_type": "display_data"
    },
    {
     "data": {
      "image/png": "[encoded data removed]",
      "text/plain": [
       "<Figure size 1080x360 with 1 Axes>"
      ]
     },
     "metadata": {
      "needs_background": "light"
     },
     "output_type": "display_data"
    }
   ],
   "source": [
    "# Plot the training\n",
    "plt.figure(figsize=(15,5))\n",
    "plt.plot(eff_net_model_history['loss'], label='Loss', alpha=.3, color='#ff7f0e', linestyle='--')\n",
    "plt.plot(eff_net_model_history['val_loss'], label='Val loss', alpha=.8, color='#ff7f0e')\n",
    "plt.legend(loc='upper left')\n",
    "plt.title('Categorical Crossentropy')\n",
    "plt.grid(alpha=.3)\n",
    "plt.savefig(model_name + \"cat_cr_en.png\")\n",
    "\n",
    "plt.figure(figsize=(15,5))\n",
    "plt.plot(eff_net_model_history['accuracy'], label='Accuracy', alpha=.3, color='#ff7f0e', linestyle='--')\n",
    "plt.plot(eff_net_model_history['val_accuracy'], label='Val accuracy', alpha=.8, color='#ff7f0e')\n",
    "plt.legend(loc='upper left')\n",
    "plt.title('Accuracy')\n",
    "plt.grid(alpha=.3)\n",
    "plt.savefig(model_name + \"acc.png\")\n",
    "\n",
    "plt.show()"
   ]
  },
  {
   "cell_type": "code",
   "execution_count": null,
   "id": "8ce269e2",
   "metadata": {},
   "outputs": [],
   "source": [
    "predictions = eff_net_model.predict(X_val)\n",
    "\n",
    "# Compute the confusion matrix\n",
    "cm = confusion_matrix(np.argmax(y_val, axis=-1), np.argmax(predictions, axis=-1))\n",
    "\n",
    "# Compute the classification metrics\n",
    "accuracy = accuracy_score(np.argmax(y_val, axis=-1), np.argmax(predictions, axis=-1))\n",
    "precision = precision_score(np.argmax(y_val, axis=-1), np.argmax(predictions, axis=-1), average='macro')\n",
    "recall = recall_score(np.argmax(y_val, axis=-1), np.argmax(predictions, axis=-1), average='macro')\n",
    "f1 = f1_score(np.argmax(y_val, axis=-1), np.argmax(predictions, axis=-1), average='macro')\n",
    "print('Accuracy:',accuracy.round(4))\n",
    "print('Precision:',precision.round(4))\n",
    "print('Recall:',recall.round(4))\n",
    "print('F1:',f1.round(4))\n",
    "\n",
    "# Plot the confusion matrix\n",
    "plt.figure(figsize=(10,8))\n",
    "sns.heatmap(cm.T, xticklabels=list(labels.values()), yticklabels=list(labels.values()))\n",
    "plt.xlabel('True labels')\n",
    "plt.ylabel('Predicted labels')\n",
    "plt.show()"
   ]
  },
  {
   "cell_type": "code",
   "execution_count": 23,
   "id": "a8a4e755",
   "metadata": {
    "execution": {
     "iopub.execute_input": "2022-11-23T14:41:49.827716Z",
     "iopub.status.busy": "2022-11-23T14:41:49.826992Z",
     "iopub.status.idle": "2022-11-23T14:42:55.999354Z",
     "shell.execute_reply": "2022-11-23T14:42:55.998194Z"
    },
    "papermill": {
     "duration": 67.434048,
     "end_time": "2022-11-23T14:42:56.002405",
     "exception": false,
     "start_time": "2022-11-23T14:41:48.568357",
     "status": "completed"
    },
    "tags": []
   },
   "outputs": [],
   "source": [
    "# Save the best model\n",
    "eff_net_model.save(model_name)"
   ]
  },
  {
   "cell_type": "code",
   "execution_count": 24,
   "id": "8b675abd",
   "metadata": {
    "execution": {
     "iopub.execute_input": "2022-11-23T14:42:58.724443Z",
     "iopub.status.busy": "2022-11-23T14:42:58.724011Z",
     "iopub.status.idle": "2022-11-23T14:42:58.748646Z",
     "shell.execute_reply": "2022-11-23T14:42:58.747533Z"
    },
    "papermill": {
     "duration": 1.38042,
     "end_time": "2022-11-23T14:42:58.750865",
     "exception": false,
     "start_time": "2022-11-23T14:42:57.370445",
     "status": "completed"
    },
    "tags": []
   },
   "outputs": [
    {
     "data": {
      "text/plain": [
       "'/kaggle/working/EfficientNet/Efficient_net_B3_loaded_128_dense.zip'"
      ]
     },
     "execution_count": 24,
     "metadata": {},
     "output_type": "execute_result"
    }
   ],
   "source": [
    "# Make zip archive for download\n",
    "import shutil\n",
    "name = \"/kaggle/working/EfficientNet/\" + model_name\n",
    "shutil.make_archive(name, 'zip', \"/kaggle/working/EfficientNet\")"
   ]
  }
 ],
 "metadata": {
  "kernelspec": {
   "display_name": "Python 3.10.2 64-bit",
   "language": "python",
   "name": "python3"
  },
  "language_info": {
   "codemirror_mode": {
    "name": "ipython",
    "version": 3
   },
   "file_extension": ".py",
   "mimetype": "text/x-python",
   "name": "python",
   "nbconvert_exporter": "python",
   "pygments_lexer": "ipython3",
   "version": "3.10.2"
  },
  "papermill": {
   "default_parameters": {},
   "duration": 3869.037035,
   "end_time": "2022-11-23T14:43:02.914351",
   "environment_variables": {},
   "exception": null,
   "input_path": "__notebook__.ipynb",
   "output_path": "__notebook__.ipynb",
   "parameters": {},
   "start_time": "2022-11-23T13:38:33.877316",
   "version": "2.3.4"
  },
  "vscode": {
   "interpreter": {
    "hash": "6847c98a8f86b01c6a19c518cd2f366693b80566b266804d5ca763cbb223f52b"
   }
  }
 },
 "nbformat": 4,
 "nbformat_minor": 5
}
