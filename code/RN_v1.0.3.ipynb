{
 "cells": [
  {
   "cell_type": "code",
   "execution_count": 1,
   "id": "e23eb600",
   "metadata": {
    "execution": {
     "iopub.execute_input": "2022-11-19T19:33:06.681740Z",
     "iopub.status.busy": "2022-11-19T19:33:06.681186Z",
     "iopub.status.idle": "2022-11-19T19:33:12.423722Z",
     "shell.execute_reply": "2022-11-19T19:33:12.422746Z"
    },
    "papermill": {
     "duration": 5.752221,
     "end_time": "2022-11-19T19:33:12.426399",
     "exception": false,
     "start_time": "2022-11-19T19:33:06.674178",
     "status": "completed"
    },
    "tags": []
   },
   "outputs": [],
   "source": [
    "import tensorflow as tf\n",
    "import numpy as np\n",
    "import os\n",
    "import random\n",
    "import pandas as pd\n",
    "import seaborn as sns\n",
    "import matplotlib as mpl\n",
    "import matplotlib.pyplot as plt\n",
    "from sklearn.model_selection import train_test_split\n",
    "from sklearn.metrics import accuracy_score, f1_score, precision_score, recall_score\n",
    "from sklearn.metrics import confusion_matrix\n",
    "from PIL import Image\n",
    "\n",
    "tfk = tf.keras\n",
    "tfkl = tf.keras.layers"
   ]
  },
  {
   "cell_type": "code",
   "execution_count": 2,
   "id": "c38d701e",
   "metadata": {
    "execution": {
     "iopub.execute_input": "2022-11-19T19:33:12.437122Z",
     "iopub.status.busy": "2022-11-19T19:33:12.436567Z",
     "iopub.status.idle": "2022-11-19T19:33:12.442983Z",
     "shell.execute_reply": "2022-11-19T19:33:12.442121Z"
    },
    "papermill": {
     "duration": 0.014207,
     "end_time": "2022-11-19T19:33:12.444985",
     "exception": false,
     "start_time": "2022-11-19T19:33:12.430778",
     "status": "completed"
    },
    "tags": []
   },
   "outputs": [],
   "source": [
    "# Random seed for reproducibility\n",
    "seed = 42\n",
    "\n",
    "random.seed(seed)\n",
    "os.environ['PYTHONHASHSEED'] = str(seed)\n",
    "np.random.seed(seed)\n",
    "tf.random.set_seed(seed)\n",
    "tf.compat.v1.set_random_seed(seed)"
   ]
  },
  {
   "cell_type": "code",
   "execution_count": 3,
   "id": "f40d6822",
   "metadata": {
    "execution": {
     "iopub.execute_input": "2022-11-19T19:33:12.454382Z",
     "iopub.status.busy": "2022-11-19T19:33:12.453758Z",
     "iopub.status.idle": "2022-11-19T19:33:12.461004Z",
     "shell.execute_reply": "2022-11-19T19:33:12.460222Z"
    },
    "papermill": {
     "duration": 0.014139,
     "end_time": "2022-11-19T19:33:12.463093",
     "exception": false,
     "start_time": "2022-11-19T19:33:12.448954",
     "status": "completed"
    },
    "tags": []
   },
   "outputs": [],
   "source": [
    "import warnings\n",
    "import logging\n",
    "\n",
    "os.environ['TF_CPP_MIN_LOG_LEVEL'] = '2'\n",
    "warnings.simplefilter(action='ignore', category=FutureWarning)\n",
    "warnings.simplefilter(action='ignore', category=Warning)\n",
    "tf.get_logger().setLevel('INFO')\n",
    "tf.autograph.set_verbosity(0)\n",
    "\n",
    "tf.get_logger().setLevel(logging.ERROR)\n",
    "tf.get_logger().setLevel('ERROR')\n",
    "tf.compat.v1.logging.set_verbosity(tf.compat.v1.logging.ERROR)"
   ]
  },
  {
   "cell_type": "markdown",
   "id": "555eebf3",
   "metadata": {
    "papermill": {
     "duration": 0.003609,
     "end_time": "2022-11-19T19:33:12.470493",
     "exception": false,
     "start_time": "2022-11-19T19:33:12.466884",
     "status": "completed"
    },
    "tags": []
   },
   "source": [
    "## Importing data"
   ]
  },
  {
   "cell_type": "code",
   "execution_count": 4,
   "id": "94ed3b4a",
   "metadata": {
    "execution": {
     "iopub.execute_input": "2022-11-19T19:33:12.479951Z",
     "iopub.status.busy": "2022-11-19T19:33:12.479165Z",
     "iopub.status.idle": "2022-11-19T19:33:12.483851Z",
     "shell.execute_reply": "2022-11-19T19:33:12.482895Z"
    },
    "papermill": {
     "duration": 0.011486,
     "end_time": "2022-11-19T19:33:12.485801",
     "exception": false,
     "start_time": "2022-11-19T19:33:12.474315",
     "status": "completed"
    },
    "tags": []
   },
   "outputs": [],
   "source": [
    "# Dataset folders \n",
    "dataset_dir = '/kaggle/input/an2dl-challenge-1-nt/data_splitted_no_test'\n",
    "training_dir = os.path.join(dataset_dir, 'train')\n",
    "validation_dir = os.path.join(dataset_dir, 'val')"
   ]
  },
  {
   "cell_type": "code",
   "execution_count": 5,
   "id": "6cc913ae",
   "metadata": {
    "execution": {
     "iopub.execute_input": "2022-11-19T19:33:12.494672Z",
     "iopub.status.busy": "2022-11-19T19:33:12.494412Z",
     "iopub.status.idle": "2022-11-19T19:33:13.846906Z",
     "shell.execute_reply": "2022-11-19T19:33:13.845345Z"
    },
    "papermill": {
     "duration": 1.359459,
     "end_time": "2022-11-19T19:33:13.848991",
     "exception": false,
     "start_time": "2022-11-19T19:33:12.489532",
     "status": "completed"
    },
    "tags": []
   },
   "outputs": [
    {
     "name": "stdout",
     "output_type": "stream",
     "text": [
      "Found 3648 images belonging to 8 classes.\n",
      "Found 648 images belonging to 8 classes.\n"
     ]
    }
   ],
   "source": [
    "# Images are divided into folders, one for each class. \n",
    "# If the images are organized in such a way, we can exploit the \n",
    "# ImageDataGenerator to read them from disk.\n",
    "from tensorflow.keras.preprocessing.image import ImageDataGenerator\n",
    "\n",
    "# Create an instance of ImageDataGenerator, and for the trainign with Data Augmentation\n",
    "train_data_gen = ImageDataGenerator(rotation_range=30, \n",
    "                                    height_shift_range=0.2, \n",
    "                                    width_shift_range=0.2, \n",
    "                                    zoom_range=0.2, \n",
    "                                    horizontal_flip=True, \n",
    "                                    shear_range=0.2, \n",
    "                                    fill_mode='reflect',\n",
    "                                    rescale=1/255.) # rescale value is multiplied to the image ############################################\n",
    "valid_data_gen = ImageDataGenerator(rescale=1/255.)\n",
    "\n",
    "# Obtain a data generator with the 'ImageDataGenerator.flow_from_directory' method\n",
    "train_gen = train_data_gen.flow_from_directory(directory=training_dir,\n",
    "                                                       target_size=(96,96),\n",
    "                                                       color_mode='rgb',\n",
    "                                                       classes=None, # can be set to labels\n",
    "                                                       class_mode='categorical',\n",
    "                                                       batch_size=8,\n",
    "                                                       shuffle=True,\n",
    "                                                       seed=seed)\n",
    "\n",
    "valid_gen = valid_data_gen.flow_from_directory(directory=validation_dir,\n",
    "                                               target_size=(96,96),\n",
    "                                               color_mode='rgb',\n",
    "                                               classes=None, # can be set to labels\n",
    "                                               class_mode='categorical',\n",
    "                                               batch_size=8,\n",
    "                                               shuffle=False,\n",
    "                                               seed=seed)"
   ]
  },
  {
   "cell_type": "markdown",
   "id": "0b66428c",
   "metadata": {
    "papermill": {
     "duration": 0.004181,
     "end_time": "2022-11-19T19:33:13.857394",
     "exception": false,
     "start_time": "2022-11-19T19:33:13.853213",
     "status": "completed"
    },
    "tags": []
   },
   "source": [
    "## Model"
   ]
  },
  {
   "cell_type": "code",
   "execution_count": 6,
   "id": "45718034",
   "metadata": {
    "execution": {
     "iopub.execute_input": "2022-11-19T19:33:13.866459Z",
     "iopub.status.busy": "2022-11-19T19:33:13.866169Z",
     "iopub.status.idle": "2022-11-19T19:33:13.871011Z",
     "shell.execute_reply": "2022-11-19T19:33:13.870027Z"
    },
    "papermill": {
     "duration": 0.011723,
     "end_time": "2022-11-19T19:33:13.872980",
     "exception": false,
     "start_time": "2022-11-19T19:33:13.861257",
     "status": "completed"
    },
    "tags": []
   },
   "outputs": [],
   "source": [
    "# to create a folder\n",
    "import os\n",
    "directory = \"ResNet152V2\"\n",
    "parent_dir = \"/kaggle/working\"\n",
    "path = os.path.join(parent_dir, directory)\n",
    "os.mkdir(path)"
   ]
  },
  {
   "cell_type": "code",
   "execution_count": 7,
   "id": "b7fe311d",
   "metadata": {
    "execution": {
     "iopub.execute_input": "2022-11-19T19:33:13.882589Z",
     "iopub.status.busy": "2022-11-19T19:33:13.881828Z",
     "iopub.status.idle": "2022-11-19T19:33:14.842043Z",
     "shell.execute_reply": "2022-11-19T19:33:14.840581Z"
    },
    "papermill": {
     "duration": 0.968338,
     "end_time": "2022-11-19T19:33:14.845471",
     "exception": false,
     "start_time": "2022-11-19T19:33:13.877133",
     "status": "completed"
    },
    "tags": []
   },
   "outputs": [],
   "source": [
    "!cd /kaggle/working/ResNet152V2"
   ]
  },
  {
   "cell_type": "code",
   "execution_count": 8,
   "id": "93ba2596",
   "metadata": {
    "execution": {
     "iopub.execute_input": "2022-11-19T19:33:14.864516Z",
     "iopub.status.busy": "2022-11-19T19:33:14.863980Z",
     "iopub.status.idle": "2022-11-19T19:33:28.103021Z",
     "shell.execute_reply": "2022-11-19T19:33:28.102040Z"
    },
    "papermill": {
     "duration": 13.248727,
     "end_time": "2022-11-19T19:33:28.105595",
     "exception": false,
     "start_time": "2022-11-19T19:33:14.856868",
     "status": "completed"
    },
    "tags": []
   },
   "outputs": [
    {
     "name": "stdout",
     "output_type": "stream",
     "text": [
      "Downloading data from https://storage.googleapis.com/tensorflow/keras-applications/resnet/resnet152v2_weights_tf_dim_ordering_tf_kernels_notop.h5\n",
      "234553344/234545216 [==============================] - 7s 0us/step\n",
      "234561536/234545216 [==============================] - 7s 0us/step\n"
     ]
    }
   ],
   "source": [
    "# Download and plot the ResNet152V2 model\n",
    "resnet = tfk.applications.ResNet152V2(\n",
    "    include_top=False, # we are using only the conv part of the network, and not the FC part\n",
    "    weights=\"imagenet\",\n",
    "    input_shape=(96,96,3)\n",
    ")\n",
    "resnet.trainable = False # we are freezing the weights of the conv part, so that they are not updated\n",
    "                            # during the training"
   ]
  },
  {
   "cell_type": "code",
   "execution_count": 9,
   "id": "65318662",
   "metadata": {
    "execution": {
     "iopub.execute_input": "2022-11-19T19:33:28.129527Z",
     "iopub.status.busy": "2022-11-19T19:33:28.128555Z",
     "iopub.status.idle": "2022-11-19T19:33:28.133464Z",
     "shell.execute_reply": "2022-11-19T19:33:28.132626Z"
    },
    "papermill": {
     "duration": 0.019222,
     "end_time": "2022-11-19T19:33:28.135489",
     "exception": false,
     "start_time": "2022-11-19T19:33:28.116267",
     "status": "completed"
    },
    "tags": []
   },
   "outputs": [],
   "source": [
    "input_shape = (96, 96, 3)\n",
    "epochs = 200"
   ]
  },
  {
   "cell_type": "code",
   "execution_count": 10,
   "id": "34c71ef7",
   "metadata": {
    "execution": {
     "iopub.execute_input": "2022-11-19T19:33:28.157614Z",
     "iopub.status.busy": "2022-11-19T19:33:28.156830Z",
     "iopub.status.idle": "2022-11-19T19:33:28.166224Z",
     "shell.execute_reply": "2022-11-19T19:33:28.165395Z"
    },
    "papermill": {
     "duration": 0.022431,
     "end_time": "2022-11-19T19:33:28.168132",
     "exception": false,
     "start_time": "2022-11-19T19:33:28.145701",
     "status": "completed"
    },
    "tags": []
   },
   "outputs": [],
   "source": [
    "def resnet152v2(input_shape):\n",
    "\n",
    "    # Build the neural network layer by layer\n",
    "    input_layer = tfkl.Input(shape=input_shape, name='input_layer')\n",
    "    \n",
    "    #x = tfkl.Resizing(64, 64, interpolation=\"bicubic\", name='resizing')(input_layer)\n",
    "    rn = resnet(input_layer)\n",
    "\n",
    "    gap = tfkl.GlobalAveragePooling2D()(rn)\n",
    "    drop1 = tfkl.Dropout(0.2, seed=seed)(gap)\n",
    "    classifier_layer1 = tfkl.Dense(units=512, name='Classifier1', kernel_initializer=tfk.initializers.HeUniform(seed))(drop1)\n",
    "    act1 = tfkl.Activation(\"relu\")(classifier_layer1)\n",
    "    batch1 = tfkl.BatchNormalization()(act1)\n",
    "    drop2 = tfkl.Dropout(0.2, seed=seed)(batch1)\n",
    "    classifier_layer2 = tfkl.Dense(units=60, name='Classifier2', kernel_initializer=tfk.initializers.HeUniform(seed))(drop2)\n",
    "    act2 = tfkl.Activation(\"relu\")(classifier_layer2)\n",
    "    batch2 = tfkl.BatchNormalization()(act2)\n",
    "    drop3 = tfkl.Dropout(0.2, seed=seed)(batch2)\n",
    "    output_layer = tfkl.Dense(units=8, activation='softmax', kernel_initializer=tfk.initializers.GlorotUniform(seed), name='output_layer')(drop3)\n",
    "\n",
    "    # Connect input and output through the Model class\n",
    "    model = tfk.Model(inputs=input_layer, outputs=output_layer, name='model')\n",
    "\n",
    "    # Compile the model\n",
    "    model.compile(loss=tfk.losses.CategoricalCrossentropy(), optimizer=tfk.optimizers.RMSprop(learning_rate=0.01), metrics='accuracy')\n",
    "\n",
    "    # Return the model\n",
    "    return model"
   ]
  },
  {
   "cell_type": "markdown",
   "id": "ce45cc80",
   "metadata": {
    "papermill": {
     "duration": 0.010355,
     "end_time": "2022-11-19T19:33:28.188613",
     "exception": false,
     "start_time": "2022-11-19T19:33:28.178258",
     "status": "completed"
    },
    "tags": []
   },
   "source": [
    "## Training"
   ]
  },
  {
   "cell_type": "code",
   "execution_count": 11,
   "id": "9a3a5646",
   "metadata": {
    "execution": {
     "iopub.execute_input": "2022-11-19T19:33:28.210607Z",
     "iopub.status.busy": "2022-11-19T19:33:28.209751Z",
     "iopub.status.idle": "2022-11-19T19:33:29.531748Z",
     "shell.execute_reply": "2022-11-19T19:33:29.530597Z"
    },
    "papermill": {
     "duration": 1.335986,
     "end_time": "2022-11-19T19:33:29.534733",
     "exception": false,
     "start_time": "2022-11-19T19:33:28.198747",
     "status": "completed"
    },
    "tags": []
   },
   "outputs": [
    {
     "name": "stdout",
     "output_type": "stream",
     "text": [
      "Model: \"model\"\n",
      "_________________________________________________________________\n",
      "Layer (type)                 Output Shape              Param #   \n",
      "=================================================================\n",
      "input_layer (InputLayer)     [(None, 96, 96, 3)]       0         \n",
      "_________________________________________________________________\n",
      "resnet152v2 (Functional)     (None, 3, 3, 2048)        58331648  \n",
      "_________________________________________________________________\n",
      "global_average_pooling2d (Gl (None, 2048)              0         \n",
      "_________________________________________________________________\n",
      "dropout (Dropout)            (None, 2048)              0         \n",
      "_________________________________________________________________\n",
      "Classifier1 (Dense)          (None, 512)               1049088   \n",
      "_________________________________________________________________\n",
      "activation (Activation)      (None, 512)               0         \n",
      "_________________________________________________________________\n",
      "batch_normalization (BatchNo (None, 512)               2048      \n",
      "_________________________________________________________________\n",
      "dropout_1 (Dropout)          (None, 512)               0         \n",
      "_________________________________________________________________\n",
      "Classifier2 (Dense)          (None, 60)                30780     \n",
      "_________________________________________________________________\n",
      "activation_1 (Activation)    (None, 60)                0         \n",
      "_________________________________________________________________\n",
      "batch_normalization_1 (Batch (None, 60)                240       \n",
      "_________________________________________________________________\n",
      "dropout_2 (Dropout)          (None, 60)                0         \n",
      "_________________________________________________________________\n",
      "output_layer (Dense)         (None, 8)                 488       \n",
      "=================================================================\n",
      "Total params: 59,414,292\n",
      "Trainable params: 1,081,500\n",
      "Non-trainable params: 58,332,792\n",
      "_________________________________________________________________\n"
     ]
    }
   ],
   "source": [
    "# Build model\n",
    "RN = resnet152v2(input_shape)\n",
    "RN.summary()"
   ]
  },
  {
   "cell_type": "code",
   "execution_count": 12,
   "id": "54680ac1",
   "metadata": {
    "execution": {
     "iopub.execute_input": "2022-11-19T19:33:29.557658Z",
     "iopub.status.busy": "2022-11-19T19:33:29.557182Z",
     "iopub.status.idle": "2022-11-19T20:56:29.351393Z",
     "shell.execute_reply": "2022-11-19T20:56:29.350338Z"
    },
    "papermill": {
     "duration": 4979.808401,
     "end_time": "2022-11-19T20:56:29.353965",
     "exception": false,
     "start_time": "2022-11-19T19:33:29.545564",
     "status": "completed"
    },
    "tags": []
   },
   "outputs": [
    {
     "name": "stdout",
     "output_type": "stream",
     "text": [
      "Epoch 1/200\n",
      "456/456 [==============================] - 52s 83ms/step - loss: 1.9154 - accuracy: 0.2966 - val_loss: 1.6232 - val_accuracy: 0.3688\n",
      "Epoch 2/200\n",
      "456/456 [==============================] - 25s 54ms/step - loss: 1.7156 - accuracy: 0.3525 - val_loss: 1.5791 - val_accuracy: 0.4352\n",
      "Epoch 3/200\n",
      "456/456 [==============================] - 21s 47ms/step - loss: 1.6815 - accuracy: 0.3758 - val_loss: 1.4971 - val_accuracy: 0.4522\n",
      "Epoch 4/200\n",
      "456/456 [==============================] - 22s 47ms/step - loss: 1.6422 - accuracy: 0.3893 - val_loss: 1.4786 - val_accuracy: 0.4583\n",
      "Epoch 5/200\n",
      "456/456 [==============================] - 21s 46ms/step - loss: 1.6109 - accuracy: 0.3923 - val_loss: 1.5024 - val_accuracy: 0.4568\n",
      "Epoch 6/200\n",
      "456/456 [==============================] - 22s 47ms/step - loss: 1.6085 - accuracy: 0.4082 - val_loss: 1.4726 - val_accuracy: 0.4444\n",
      "Epoch 7/200\n",
      "456/456 [==============================] - 22s 48ms/step - loss: 1.5720 - accuracy: 0.4156 - val_loss: 1.4249 - val_accuracy: 0.4444\n",
      "Epoch 8/200\n",
      "456/456 [==============================] - 22s 47ms/step - loss: 1.5659 - accuracy: 0.4221 - val_loss: 1.4503 - val_accuracy: 0.4630\n",
      "Epoch 9/200\n",
      "456/456 [==============================] - 21s 47ms/step - loss: 1.5775 - accuracy: 0.4145 - val_loss: 1.4290 - val_accuracy: 0.4769\n",
      "Epoch 10/200\n",
      "456/456 [==============================] - 22s 47ms/step - loss: 1.5530 - accuracy: 0.4265 - val_loss: 1.5067 - val_accuracy: 0.4506\n",
      "Epoch 11/200\n",
      "456/456 [==============================] - 22s 47ms/step - loss: 1.5351 - accuracy: 0.4367 - val_loss: 1.3958 - val_accuracy: 0.4784\n",
      "Epoch 12/200\n",
      "456/456 [==============================] - 21s 46ms/step - loss: 1.5493 - accuracy: 0.4370 - val_loss: 1.4167 - val_accuracy: 0.4861\n",
      "Epoch 13/200\n",
      "456/456 [==============================] - 22s 48ms/step - loss: 1.5324 - accuracy: 0.4419 - val_loss: 1.4596 - val_accuracy: 0.4846\n",
      "Epoch 14/200\n",
      "456/456 [==============================] - 22s 49ms/step - loss: 1.5402 - accuracy: 0.4435 - val_loss: 1.3708 - val_accuracy: 0.5139\n",
      "Epoch 15/200\n",
      "456/456 [==============================] - 21s 46ms/step - loss: 1.5160 - accuracy: 0.4449 - val_loss: 1.3866 - val_accuracy: 0.5000\n",
      "Epoch 16/200\n",
      "456/456 [==============================] - 22s 48ms/step - loss: 1.5357 - accuracy: 0.4474 - val_loss: 1.4069 - val_accuracy: 0.4660\n",
      "Epoch 17/200\n",
      "456/456 [==============================] - 22s 48ms/step - loss: 1.5103 - accuracy: 0.4548 - val_loss: 1.4196 - val_accuracy: 0.4815\n",
      "Epoch 18/200\n",
      "456/456 [==============================] - 21s 46ms/step - loss: 1.5120 - accuracy: 0.4509 - val_loss: 1.3686 - val_accuracy: 0.4954\n",
      "Epoch 19/200\n",
      "456/456 [==============================] - 22s 48ms/step - loss: 1.5183 - accuracy: 0.4474 - val_loss: 1.3816 - val_accuracy: 0.5231\n",
      "Epoch 20/200\n",
      "456/456 [==============================] - 22s 49ms/step - loss: 1.5056 - accuracy: 0.4600 - val_loss: 1.3933 - val_accuracy: 0.5093\n",
      "Epoch 21/200\n",
      "456/456 [==============================] - 21s 47ms/step - loss: 1.5053 - accuracy: 0.4545 - val_loss: 1.3785 - val_accuracy: 0.4985\n",
      "Epoch 22/200\n",
      "456/456 [==============================] - 22s 47ms/step - loss: 1.4798 - accuracy: 0.4635 - val_loss: 1.4246 - val_accuracy: 0.4846\n",
      "Epoch 23/200\n",
      "456/456 [==============================] - 22s 48ms/step - loss: 1.5239 - accuracy: 0.4454 - val_loss: 1.3823 - val_accuracy: 0.4799\n",
      "Epoch 24/200\n",
      "456/456 [==============================] - 22s 47ms/step - loss: 1.4958 - accuracy: 0.4594 - val_loss: 1.3801 - val_accuracy: 0.5062\n",
      "Epoch 25/200\n",
      "456/456 [==============================] - 21s 46ms/step - loss: 1.4701 - accuracy: 0.4592 - val_loss: 1.4142 - val_accuracy: 0.4799\n",
      "Epoch 26/200\n",
      "456/456 [==============================] - 22s 48ms/step - loss: 1.4887 - accuracy: 0.4729 - val_loss: 1.3811 - val_accuracy: 0.5000\n",
      "Epoch 27/200\n",
      "456/456 [==============================] - 22s 48ms/step - loss: 1.4742 - accuracy: 0.4745 - val_loss: 1.3345 - val_accuracy: 0.5062\n",
      "Epoch 28/200\n",
      "456/456 [==============================] - 21s 46ms/step - loss: 1.4725 - accuracy: 0.4559 - val_loss: 1.3585 - val_accuracy: 0.4954\n",
      "Epoch 29/200\n",
      "456/456 [==============================] - 24s 52ms/step - loss: 1.4691 - accuracy: 0.4715 - val_loss: 1.3692 - val_accuracy: 0.5031\n",
      "Epoch 30/200\n",
      "456/456 [==============================] - 22s 48ms/step - loss: 1.4720 - accuracy: 0.4619 - val_loss: 1.3560 - val_accuracy: 0.5077\n",
      "Epoch 31/200\n",
      "456/456 [==============================] - 23s 50ms/step - loss: 1.4587 - accuracy: 0.4762 - val_loss: 1.3603 - val_accuracy: 0.5093\n",
      "Epoch 32/200\n",
      "456/456 [==============================] - 24s 53ms/step - loss: 1.4522 - accuracy: 0.4737 - val_loss: 1.3817 - val_accuracy: 0.4738\n",
      "Epoch 33/200\n",
      "456/456 [==============================] - 27s 60ms/step - loss: 1.4718 - accuracy: 0.4731 - val_loss: 1.3228 - val_accuracy: 0.5108\n",
      "Epoch 34/200\n",
      "456/456 [==============================] - 22s 48ms/step - loss: 1.4623 - accuracy: 0.4666 - val_loss: 1.3487 - val_accuracy: 0.4907\n",
      "Epoch 35/200\n",
      "456/456 [==============================] - 24s 53ms/step - loss: 1.4359 - accuracy: 0.4805 - val_loss: 1.3324 - val_accuracy: 0.4985\n",
      "Epoch 36/200\n",
      "456/456 [==============================] - 21s 46ms/step - loss: 1.4602 - accuracy: 0.4781 - val_loss: 1.2924 - val_accuracy: 0.5309\n",
      "Epoch 37/200\n",
      "456/456 [==============================] - 22s 48ms/step - loss: 1.4819 - accuracy: 0.4729 - val_loss: 1.3913 - val_accuracy: 0.4985\n",
      "Epoch 38/200\n",
      "456/456 [==============================] - 22s 48ms/step - loss: 1.4520 - accuracy: 0.4718 - val_loss: 1.3612 - val_accuracy: 0.5123\n",
      "Epoch 39/200\n",
      "456/456 [==============================] - 21s 47ms/step - loss: 1.4580 - accuracy: 0.4655 - val_loss: 1.3745 - val_accuracy: 0.5077\n",
      "Epoch 40/200\n",
      "456/456 [==============================] - 22s 47ms/step - loss: 1.4410 - accuracy: 0.4794 - val_loss: 1.3621 - val_accuracy: 0.5031\n",
      "Epoch 41/200\n",
      "456/456 [==============================] - 22s 48ms/step - loss: 1.4738 - accuracy: 0.4627 - val_loss: 1.3020 - val_accuracy: 0.5154\n",
      "Epoch 42/200\n",
      "456/456 [==============================] - 22s 49ms/step - loss: 1.4418 - accuracy: 0.4819 - val_loss: 1.3079 - val_accuracy: 0.5231\n",
      "Epoch 43/200\n",
      "456/456 [==============================] - 21s 46ms/step - loss: 1.4395 - accuracy: 0.4863 - val_loss: 1.2992 - val_accuracy: 0.5154\n",
      "Epoch 44/200\n",
      "456/456 [==============================] - 23s 50ms/step - loss: 1.4790 - accuracy: 0.4644 - val_loss: 1.3469 - val_accuracy: 0.5340\n",
      "Epoch 45/200\n",
      "456/456 [==============================] - 23s 51ms/step - loss: 1.4580 - accuracy: 0.4740 - val_loss: 1.3298 - val_accuracy: 0.5093\n",
      "Epoch 46/200\n",
      "456/456 [==============================] - 25s 54ms/step - loss: 1.4396 - accuracy: 0.4879 - val_loss: 1.3046 - val_accuracy: 0.5077\n",
      "Epoch 47/200\n",
      "456/456 [==============================] - 23s 51ms/step - loss: 1.4590 - accuracy: 0.4825 - val_loss: 1.3036 - val_accuracy: 0.5170\n",
      "Epoch 48/200\n",
      "456/456 [==============================] - 23s 51ms/step - loss: 1.4508 - accuracy: 0.4742 - val_loss: 1.2980 - val_accuracy: 0.5293\n",
      "Epoch 49/200\n",
      "456/456 [==============================] - 24s 52ms/step - loss: 1.4664 - accuracy: 0.4704 - val_loss: 1.3277 - val_accuracy: 0.5216\n",
      "Epoch 50/200\n",
      "456/456 [==============================] - 23s 50ms/step - loss: 1.4457 - accuracy: 0.4822 - val_loss: 1.2959 - val_accuracy: 0.5077\n",
      "Epoch 51/200\n",
      "456/456 [==============================] - 24s 53ms/step - loss: 1.4476 - accuracy: 0.4830 - val_loss: 1.3180 - val_accuracy: 0.5046\n",
      "Epoch 52/200\n",
      "456/456 [==============================] - 26s 58ms/step - loss: 1.4302 - accuracy: 0.4915 - val_loss: 1.2715 - val_accuracy: 0.5231\n",
      "Epoch 53/200\n",
      "456/456 [==============================] - 27s 58ms/step - loss: 1.4269 - accuracy: 0.4921 - val_loss: 1.2840 - val_accuracy: 0.5139\n",
      "Epoch 54/200\n",
      "456/456 [==============================] - 23s 51ms/step - loss: 1.4626 - accuracy: 0.4882 - val_loss: 1.3214 - val_accuracy: 0.5077\n",
      "Epoch 55/200\n",
      "456/456 [==============================] - 23s 49ms/step - loss: 1.4640 - accuracy: 0.4720 - val_loss: 1.3003 - val_accuracy: 0.5386\n",
      "Epoch 56/200\n",
      "456/456 [==============================] - 22s 49ms/step - loss: 1.4473 - accuracy: 0.4819 - val_loss: 1.2716 - val_accuracy: 0.5309\n",
      "Epoch 57/200\n",
      "456/456 [==============================] - 22s 47ms/step - loss: 1.4415 - accuracy: 0.4868 - val_loss: 1.3397 - val_accuracy: 0.5093\n",
      "Epoch 58/200\n",
      "456/456 [==============================] - 23s 51ms/step - loss: 1.4380 - accuracy: 0.4827 - val_loss: 1.2770 - val_accuracy: 0.5340\n",
      "Epoch 59/200\n",
      "456/456 [==============================] - 22s 49ms/step - loss: 1.4248 - accuracy: 0.4921 - val_loss: 1.3174 - val_accuracy: 0.5108\n",
      "Epoch 60/200\n",
      "456/456 [==============================] - 23s 51ms/step - loss: 1.4529 - accuracy: 0.4701 - val_loss: 1.2955 - val_accuracy: 0.5355\n",
      "Epoch 61/200\n",
      "456/456 [==============================] - 21s 47ms/step - loss: 1.4464 - accuracy: 0.4770 - val_loss: 1.2893 - val_accuracy: 0.5340\n",
      "Epoch 62/200\n",
      "456/456 [==============================] - 23s 51ms/step - loss: 1.4160 - accuracy: 0.4964 - val_loss: 1.2914 - val_accuracy: 0.5123\n",
      "Epoch 63/200\n",
      "456/456 [==============================] - 23s 49ms/step - loss: 1.4395 - accuracy: 0.4786 - val_loss: 1.3425 - val_accuracy: 0.4877\n",
      "Epoch 64/200\n",
      "456/456 [==============================] - 28s 62ms/step - loss: 1.4445 - accuracy: 0.4772 - val_loss: 1.3414 - val_accuracy: 0.5000\n",
      "Epoch 65/200\n",
      "456/456 [==============================] - 25s 55ms/step - loss: 1.4193 - accuracy: 0.4945 - val_loss: 1.3091 - val_accuracy: 0.5154\n",
      "Epoch 66/200\n",
      "456/456 [==============================] - 25s 55ms/step - loss: 1.4335 - accuracy: 0.4942 - val_loss: 1.2947 - val_accuracy: 0.5309\n",
      "Epoch 67/200\n",
      "456/456 [==============================] - 24s 52ms/step - loss: 1.4400 - accuracy: 0.4814 - val_loss: 1.2999 - val_accuracy: 0.5093\n",
      "Epoch 68/200\n",
      "456/456 [==============================] - 25s 55ms/step - loss: 1.4444 - accuracy: 0.4690 - val_loss: 1.2965 - val_accuracy: 0.5247\n",
      "Epoch 69/200\n",
      "456/456 [==============================] - 23s 50ms/step - loss: 1.4387 - accuracy: 0.4731 - val_loss: 1.2963 - val_accuracy: 0.5077\n",
      "Epoch 70/200\n",
      "456/456 [==============================] - 24s 53ms/step - loss: 1.4343 - accuracy: 0.4827 - val_loss: 1.2986 - val_accuracy: 0.5123\n",
      "Epoch 71/200\n",
      "456/456 [==============================] - 29s 63ms/step - loss: 1.4425 - accuracy: 0.4772 - val_loss: 1.3159 - val_accuracy: 0.4969\n",
      "Epoch 72/200\n",
      "456/456 [==============================] - 29s 64ms/step - loss: 1.4233 - accuracy: 0.4962 - val_loss: 1.3126 - val_accuracy: 0.5154\n",
      "Epoch 73/200\n",
      "456/456 [==============================] - 30s 66ms/step - loss: 1.4138 - accuracy: 0.4849 - val_loss: 1.2782 - val_accuracy: 0.5185\n",
      "Epoch 74/200\n",
      "456/456 [==============================] - 29s 64ms/step - loss: 1.4248 - accuracy: 0.4899 - val_loss: 1.2865 - val_accuracy: 0.5216\n",
      "Epoch 75/200\n",
      "456/456 [==============================] - 25s 55ms/step - loss: 1.4028 - accuracy: 0.4959 - val_loss: 1.2788 - val_accuracy: 0.5324\n",
      "Epoch 76/200\n",
      "456/456 [==============================] - 27s 59ms/step - loss: 1.4198 - accuracy: 0.4978 - val_loss: 1.2731 - val_accuracy: 0.5355\n",
      "Epoch 77/200\n",
      "456/456 [==============================] - 26s 56ms/step - loss: 1.4214 - accuracy: 0.4871 - val_loss: 1.2806 - val_accuracy: 0.5386\n",
      "Epoch 78/200\n",
      "456/456 [==============================] - 31s 69ms/step - loss: 1.4284 - accuracy: 0.4849 - val_loss: 1.3251 - val_accuracy: 0.5093\n",
      "Epoch 79/200\n",
      "456/456 [==============================] - 25s 55ms/step - loss: 1.4330 - accuracy: 0.4918 - val_loss: 1.3072 - val_accuracy: 0.5185\n",
      "Epoch 80/200\n",
      "456/456 [==============================] - 32s 69ms/step - loss: 1.3988 - accuracy: 0.5033 - val_loss: 1.2876 - val_accuracy: 0.5123\n",
      "Epoch 81/200\n",
      "456/456 [==============================] - 31s 69ms/step - loss: 1.4220 - accuracy: 0.4852 - val_loss: 1.2891 - val_accuracy: 0.5108\n",
      "Epoch 82/200\n",
      "456/456 [==============================] - 27s 58ms/step - loss: 1.4146 - accuracy: 0.4912 - val_loss: 1.2516 - val_accuracy: 0.5386\n",
      "Epoch 83/200\n",
      "456/456 [==============================] - 22s 49ms/step - loss: 1.4204 - accuracy: 0.4792 - val_loss: 1.2595 - val_accuracy: 0.5262\n",
      "Epoch 84/200\n",
      "456/456 [==============================] - 24s 53ms/step - loss: 1.4175 - accuracy: 0.4937 - val_loss: 1.2763 - val_accuracy: 0.5247\n",
      "Epoch 85/200\n",
      "456/456 [==============================] - 28s 61ms/step - loss: 1.4018 - accuracy: 0.5011 - val_loss: 1.2657 - val_accuracy: 0.5494\n",
      "Epoch 86/200\n",
      "456/456 [==============================] - 25s 55ms/step - loss: 1.4090 - accuracy: 0.4962 - val_loss: 1.2487 - val_accuracy: 0.5340\n",
      "Epoch 87/200\n",
      "456/456 [==============================] - 21s 47ms/step - loss: 1.3939 - accuracy: 0.5134 - val_loss: 1.2594 - val_accuracy: 0.5370\n",
      "Epoch 88/200\n",
      "456/456 [==============================] - 22s 49ms/step - loss: 1.4153 - accuracy: 0.4929 - val_loss: 1.2775 - val_accuracy: 0.5478\n",
      "Epoch 89/200\n",
      "456/456 [==============================] - 22s 48ms/step - loss: 1.4143 - accuracy: 0.4915 - val_loss: 1.2672 - val_accuracy: 0.5216\n",
      "Epoch 90/200\n",
      "456/456 [==============================] - 21s 47ms/step - loss: 1.4194 - accuracy: 0.4860 - val_loss: 1.3233 - val_accuracy: 0.4923\n",
      "Epoch 91/200\n",
      "456/456 [==============================] - 23s 49ms/step - loss: 1.3989 - accuracy: 0.4931 - val_loss: 1.3021 - val_accuracy: 0.5123\n",
      "Epoch 92/200\n",
      "456/456 [==============================] - 22s 49ms/step - loss: 1.4167 - accuracy: 0.4978 - val_loss: 1.2855 - val_accuracy: 0.5170\n",
      "Epoch 93/200\n",
      "456/456 [==============================] - 21s 46ms/step - loss: 1.4319 - accuracy: 0.4882 - val_loss: 1.2502 - val_accuracy: 0.5293\n",
      "Epoch 94/200\n",
      "456/456 [==============================] - 23s 50ms/step - loss: 1.4078 - accuracy: 0.4871 - val_loss: 1.3057 - val_accuracy: 0.5154\n",
      "Epoch 95/200\n",
      "456/456 [==============================] - 23s 50ms/step - loss: 1.4312 - accuracy: 0.4838 - val_loss: 1.3230 - val_accuracy: 0.5231\n",
      "Epoch 96/200\n",
      "456/456 [==============================] - 21s 46ms/step - loss: 1.4137 - accuracy: 0.4986 - val_loss: 1.2595 - val_accuracy: 0.5093\n",
      "Epoch 97/200\n",
      "456/456 [==============================] - 23s 50ms/step - loss: 1.4041 - accuracy: 0.4986 - val_loss: 1.2735 - val_accuracy: 0.5370\n",
      "Epoch 98/200\n",
      "456/456 [==============================] - 23s 50ms/step - loss: 1.4124 - accuracy: 0.4951 - val_loss: 1.2737 - val_accuracy: 0.5309\n",
      "Epoch 99/200\n",
      "456/456 [==============================] - 21s 46ms/step - loss: 1.4114 - accuracy: 0.4918 - val_loss: 1.2625 - val_accuracy: 0.5432\n",
      "Epoch 100/200\n",
      "456/456 [==============================] - 23s 50ms/step - loss: 1.4168 - accuracy: 0.4940 - val_loss: 1.2673 - val_accuracy: 0.5201\n",
      "Epoch 101/200\n",
      "456/456 [==============================] - 22s 49ms/step - loss: 1.4011 - accuracy: 0.5044 - val_loss: 1.2812 - val_accuracy: 0.5324\n",
      "Epoch 102/200\n",
      "456/456 [==============================] - 21s 46ms/step - loss: 1.4175 - accuracy: 0.4989 - val_loss: 1.2442 - val_accuracy: 0.5370\n",
      "Epoch 103/200\n",
      "456/456 [==============================] - 23s 49ms/step - loss: 1.4022 - accuracy: 0.5047 - val_loss: 1.3021 - val_accuracy: 0.5046\n",
      "Epoch 104/200\n",
      "456/456 [==============================] - 23s 50ms/step - loss: 1.3779 - accuracy: 0.5022 - val_loss: 1.2581 - val_accuracy: 0.5448\n",
      "Epoch 105/200\n",
      "456/456 [==============================] - 21s 46ms/step - loss: 1.4135 - accuracy: 0.5011 - val_loss: 1.2613 - val_accuracy: 0.5262\n",
      "Epoch 106/200\n",
      "456/456 [==============================] - 23s 51ms/step - loss: 1.3846 - accuracy: 0.5033 - val_loss: 1.2353 - val_accuracy: 0.5509\n",
      "Epoch 107/200\n",
      "456/456 [==============================] - 21s 46ms/step - loss: 1.4058 - accuracy: 0.4890 - val_loss: 1.2685 - val_accuracy: 0.5355\n",
      "Epoch 108/200\n",
      "456/456 [==============================] - 24s 52ms/step - loss: 1.4094 - accuracy: 0.4912 - val_loss: 1.2687 - val_accuracy: 0.5463\n",
      "Epoch 109/200\n",
      "456/456 [==============================] - 22s 48ms/step - loss: 1.4234 - accuracy: 0.4964 - val_loss: 1.2719 - val_accuracy: 0.5247\n",
      "Epoch 110/200\n",
      "456/456 [==============================] - 24s 53ms/step - loss: 1.3991 - accuracy: 0.5038 - val_loss: 1.2492 - val_accuracy: 0.5324\n",
      "Epoch 111/200\n",
      "456/456 [==============================] - 21s 47ms/step - loss: 1.4000 - accuracy: 0.4995 - val_loss: 1.2928 - val_accuracy: 0.5185\n",
      "Epoch 112/200\n",
      "456/456 [==============================] - 24s 52ms/step - loss: 1.3970 - accuracy: 0.5060 - val_loss: 1.2729 - val_accuracy: 0.5309\n",
      "Epoch 113/200\n",
      "456/456 [==============================] - 25s 54ms/step - loss: 1.3948 - accuracy: 0.4942 - val_loss: 1.2511 - val_accuracy: 0.5170\n",
      "Epoch 114/200\n",
      "456/456 [==============================] - 24s 52ms/step - loss: 1.4063 - accuracy: 0.4992 - val_loss: 1.2473 - val_accuracy: 0.5463\n",
      "Epoch 115/200\n",
      "456/456 [==============================] - 21s 46ms/step - loss: 1.3769 - accuracy: 0.5088 - val_loss: 1.2338 - val_accuracy: 0.5586\n",
      "Epoch 116/200\n",
      "456/456 [==============================] - 25s 56ms/step - loss: 1.4040 - accuracy: 0.5110 - val_loss: 1.2489 - val_accuracy: 0.5525\n",
      "Epoch 117/200\n",
      "456/456 [==============================] - 27s 59ms/step - loss: 1.4016 - accuracy: 0.4975 - val_loss: 1.2578 - val_accuracy: 0.5494\n",
      "Epoch 118/200\n",
      "456/456 [==============================] - 23s 50ms/step - loss: 1.3719 - accuracy: 0.5055 - val_loss: 1.2700 - val_accuracy: 0.5370\n",
      "Epoch 119/200\n",
      "456/456 [==============================] - 23s 50ms/step - loss: 1.3769 - accuracy: 0.5088 - val_loss: 1.2520 - val_accuracy: 0.5293\n",
      "Epoch 120/200\n",
      "456/456 [==============================] - 21s 47ms/step - loss: 1.3975 - accuracy: 0.4956 - val_loss: 1.2278 - val_accuracy: 0.5463\n",
      "Epoch 121/200\n",
      "456/456 [==============================] - 22s 48ms/step - loss: 1.3891 - accuracy: 0.5005 - val_loss: 1.2383 - val_accuracy: 0.5278\n",
      "Epoch 122/200\n",
      "456/456 [==============================] - 23s 51ms/step - loss: 1.3933 - accuracy: 0.5077 - val_loss: 1.2363 - val_accuracy: 0.5401\n",
      "Epoch 123/200\n",
      "456/456 [==============================] - 21s 47ms/step - loss: 1.3830 - accuracy: 0.5058 - val_loss: 1.2562 - val_accuracy: 0.5185\n",
      "Epoch 124/200\n",
      "456/456 [==============================] - 22s 49ms/step - loss: 1.3921 - accuracy: 0.5088 - val_loss: 1.2409 - val_accuracy: 0.5401\n",
      "Epoch 125/200\n",
      "456/456 [==============================] - 22s 49ms/step - loss: 1.3987 - accuracy: 0.5112 - val_loss: 1.2394 - val_accuracy: 0.5417\n",
      "Epoch 126/200\n",
      "456/456 [==============================] - 22s 47ms/step - loss: 1.4111 - accuracy: 0.5027 - val_loss: 1.2609 - val_accuracy: 0.5386\n",
      "Epoch 127/200\n",
      "456/456 [==============================] - 23s 50ms/step - loss: 1.4074 - accuracy: 0.4981 - val_loss: 1.2549 - val_accuracy: 0.5262\n",
      "Epoch 128/200\n",
      "456/456 [==============================] - 22s 49ms/step - loss: 1.3982 - accuracy: 0.5069 - val_loss: 1.2621 - val_accuracy: 0.5262\n",
      "Epoch 129/200\n",
      "456/456 [==============================] - 21s 47ms/step - loss: 1.4062 - accuracy: 0.4934 - val_loss: 1.2394 - val_accuracy: 0.5602\n",
      "Epoch 130/200\n",
      "456/456 [==============================] - 23s 51ms/step - loss: 1.3899 - accuracy: 0.5033 - val_loss: 1.2709 - val_accuracy: 0.5370\n",
      "Epoch 131/200\n",
      "456/456 [==============================] - 22s 49ms/step - loss: 1.3746 - accuracy: 0.5200 - val_loss: 1.2340 - val_accuracy: 0.5293\n",
      "Epoch 132/200\n",
      "456/456 [==============================] - 21s 47ms/step - loss: 1.4232 - accuracy: 0.4910 - val_loss: 1.2832 - val_accuracy: 0.5077\n",
      "Epoch 133/200\n",
      "456/456 [==============================] - 23s 50ms/step - loss: 1.3923 - accuracy: 0.5077 - val_loss: 1.2599 - val_accuracy: 0.5401\n",
      "Epoch 134/200\n",
      "456/456 [==============================] - 23s 49ms/step - loss: 1.4087 - accuracy: 0.4942 - val_loss: 1.2764 - val_accuracy: 0.5216\n",
      "Epoch 135/200\n",
      "456/456 [==============================] - 21s 45ms/step - loss: 1.3765 - accuracy: 0.5140 - val_loss: 1.2365 - val_accuracy: 0.5401\n",
      "Epoch 136/200\n",
      "456/456 [==============================] - 23s 50ms/step - loss: 1.4066 - accuracy: 0.4937 - val_loss: 1.2539 - val_accuracy: 0.5324\n",
      "Epoch 137/200\n",
      "456/456 [==============================] - 21s 47ms/step - loss: 1.4000 - accuracy: 0.5077 - val_loss: 1.2411 - val_accuracy: 0.5309\n",
      "Epoch 138/200\n",
      "456/456 [==============================] - 22s 48ms/step - loss: 1.3684 - accuracy: 0.5027 - val_loss: 1.2902 - val_accuracy: 0.5139\n",
      "Epoch 139/200\n",
      "456/456 [==============================] - 23s 50ms/step - loss: 1.3955 - accuracy: 0.4995 - val_loss: 1.2232 - val_accuracy: 0.5401\n",
      "Epoch 140/200\n",
      "456/456 [==============================] - 21s 47ms/step - loss: 1.4012 - accuracy: 0.5055 - val_loss: 1.2936 - val_accuracy: 0.5170\n",
      "Epoch 141/200\n",
      "456/456 [==============================] - 22s 49ms/step - loss: 1.3743 - accuracy: 0.5047 - val_loss: 1.2403 - val_accuracy: 0.5417\n",
      "Epoch 142/200\n",
      "456/456 [==============================] - 23s 50ms/step - loss: 1.4003 - accuracy: 0.4937 - val_loss: 1.2803 - val_accuracy: 0.5185\n",
      "Epoch 143/200\n",
      "456/456 [==============================] - 21s 47ms/step - loss: 1.3673 - accuracy: 0.5173 - val_loss: 1.2128 - val_accuracy: 0.5448\n",
      "Epoch 144/200\n",
      "456/456 [==============================] - 23s 50ms/step - loss: 1.3772 - accuracy: 0.5003 - val_loss: 1.2186 - val_accuracy: 0.5340\n",
      "Epoch 145/200\n",
      "456/456 [==============================] - 23s 50ms/step - loss: 1.3851 - accuracy: 0.5112 - val_loss: 1.2397 - val_accuracy: 0.5108\n",
      "Epoch 146/200\n",
      "456/456 [==============================] - 21s 47ms/step - loss: 1.3877 - accuracy: 0.4931 - val_loss: 1.2578 - val_accuracy: 0.5262\n",
      "Epoch 147/200\n",
      "456/456 [==============================] - 23s 50ms/step - loss: 1.3808 - accuracy: 0.5145 - val_loss: 1.2161 - val_accuracy: 0.5231\n",
      "Epoch 148/200\n",
      "456/456 [==============================] - 22s 48ms/step - loss: 1.3839 - accuracy: 0.4978 - val_loss: 1.2634 - val_accuracy: 0.5123\n",
      "Epoch 149/200\n",
      "456/456 [==============================] - 21s 47ms/step - loss: 1.3808 - accuracy: 0.5118 - val_loss: 1.2454 - val_accuracy: 0.5417\n",
      "Epoch 150/200\n",
      "456/456 [==============================] - 23s 51ms/step - loss: 1.3828 - accuracy: 0.5036 - val_loss: 1.2666 - val_accuracy: 0.5401\n",
      "Epoch 151/200\n",
      "456/456 [==============================] - 22s 48ms/step - loss: 1.3509 - accuracy: 0.5162 - val_loss: 1.2167 - val_accuracy: 0.5633\n",
      "Epoch 152/200\n",
      "456/456 [==============================] - 23s 51ms/step - loss: 1.3757 - accuracy: 0.5036 - val_loss: 1.2078 - val_accuracy: 0.5478\n",
      "Epoch 153/200\n",
      "456/456 [==============================] - 21s 46ms/step - loss: 1.3979 - accuracy: 0.5055 - val_loss: 1.2327 - val_accuracy: 0.5355\n",
      "Epoch 154/200\n",
      "456/456 [==============================] - 24s 52ms/step - loss: 1.3736 - accuracy: 0.5082 - val_loss: 1.2448 - val_accuracy: 0.5463\n",
      "Epoch 155/200\n",
      "456/456 [==============================] - 24s 53ms/step - loss: 1.3824 - accuracy: 0.5096 - val_loss: 1.2315 - val_accuracy: 0.5309\n",
      "Epoch 156/200\n",
      "456/456 [==============================] - 22s 49ms/step - loss: 1.3922 - accuracy: 0.5025 - val_loss: 1.2379 - val_accuracy: 0.5401\n",
      "Epoch 157/200\n",
      "456/456 [==============================] - 24s 52ms/step - loss: 1.3649 - accuracy: 0.5134 - val_loss: 1.2442 - val_accuracy: 0.5216\n",
      "Epoch 158/200\n",
      "456/456 [==============================] - 24s 53ms/step - loss: 1.3759 - accuracy: 0.5085 - val_loss: 1.2345 - val_accuracy: 0.5509\n",
      "Epoch 159/200\n",
      "456/456 [==============================] - 22s 47ms/step - loss: 1.3738 - accuracy: 0.5107 - val_loss: 1.2637 - val_accuracy: 0.5154\n",
      "Epoch 160/200\n",
      "456/456 [==============================] - 24s 53ms/step - loss: 1.3950 - accuracy: 0.4967 - val_loss: 1.2680 - val_accuracy: 0.5293\n",
      "Epoch 161/200\n",
      "456/456 [==============================] - 23s 51ms/step - loss: 1.3917 - accuracy: 0.5082 - val_loss: 1.2292 - val_accuracy: 0.5355\n",
      "Epoch 162/200\n",
      "456/456 [==============================] - 23s 51ms/step - loss: 1.3827 - accuracy: 0.5030 - val_loss: 1.2494 - val_accuracy: 0.5540\n",
      "Epoch 163/200\n",
      "456/456 [==============================] - 21s 46ms/step - loss: 1.3676 - accuracy: 0.5121 - val_loss: 1.2147 - val_accuracy: 0.5278\n",
      "Epoch 164/200\n",
      "456/456 [==============================] - 23s 50ms/step - loss: 1.3618 - accuracy: 0.5211 - val_loss: 1.2250 - val_accuracy: 0.5417\n",
      "Epoch 165/200\n",
      "456/456 [==============================] - 23s 51ms/step - loss: 1.3976 - accuracy: 0.5047 - val_loss: 1.2524 - val_accuracy: 0.5324\n",
      "Epoch 166/200\n",
      "456/456 [==============================] - 21s 46ms/step - loss: 1.3892 - accuracy: 0.5052 - val_loss: 1.1937 - val_accuracy: 0.5648\n",
      "Epoch 167/200\n",
      "456/456 [==============================] - 22s 49ms/step - loss: 1.4098 - accuracy: 0.5118 - val_loss: 1.2392 - val_accuracy: 0.5602\n",
      "Epoch 168/200\n",
      "456/456 [==============================] - 23s 50ms/step - loss: 1.3721 - accuracy: 0.5047 - val_loss: 1.2436 - val_accuracy: 0.5309\n",
      "Epoch 169/200\n",
      "456/456 [==============================] - 21s 47ms/step - loss: 1.3859 - accuracy: 0.5099 - val_loss: 1.2653 - val_accuracy: 0.5309\n",
      "Epoch 170/200\n",
      "456/456 [==============================] - 23s 50ms/step - loss: 1.3808 - accuracy: 0.5047 - val_loss: 1.2513 - val_accuracy: 0.5309\n",
      "Epoch 171/200\n",
      "456/456 [==============================] - 21s 46ms/step - loss: 1.3871 - accuracy: 0.5016 - val_loss: 1.2221 - val_accuracy: 0.5386\n",
      "Epoch 172/200\n",
      "456/456 [==============================] - 23s 50ms/step - loss: 1.3583 - accuracy: 0.5118 - val_loss: 1.2026 - val_accuracy: 0.5633\n",
      "Epoch 173/200\n",
      "456/456 [==============================] - 21s 45ms/step - loss: 1.3946 - accuracy: 0.5107 - val_loss: 1.2549 - val_accuracy: 0.5185\n",
      "Epoch 174/200\n",
      "456/456 [==============================] - 23s 51ms/step - loss: 1.3763 - accuracy: 0.5077 - val_loss: 1.2184 - val_accuracy: 0.5448\n",
      "Epoch 175/200\n",
      "456/456 [==============================] - 23s 51ms/step - loss: 1.3954 - accuracy: 0.5085 - val_loss: 1.2021 - val_accuracy: 0.5540\n",
      "Epoch 176/200\n",
      "456/456 [==============================] - 20s 45ms/step - loss: 1.3651 - accuracy: 0.5099 - val_loss: 1.2817 - val_accuracy: 0.5432\n",
      "Epoch 177/200\n",
      "456/456 [==============================] - 23s 51ms/step - loss: 1.3906 - accuracy: 0.5047 - val_loss: 1.2507 - val_accuracy: 0.5216\n",
      "Epoch 178/200\n",
      "456/456 [==============================] - 21s 47ms/step - loss: 1.3962 - accuracy: 0.4937 - val_loss: 1.2642 - val_accuracy: 0.5278\n",
      "Epoch 179/200\n",
      "456/456 [==============================] - 23s 49ms/step - loss: 1.3688 - accuracy: 0.5175 - val_loss: 1.2624 - val_accuracy: 0.5278\n",
      "Epoch 180/200\n",
      "456/456 [==============================] - 23s 51ms/step - loss: 1.3742 - accuracy: 0.5134 - val_loss: 1.2558 - val_accuracy: 0.5293\n",
      "Epoch 181/200\n",
      "456/456 [==============================] - 21s 46ms/step - loss: 1.3892 - accuracy: 0.5036 - val_loss: 1.2367 - val_accuracy: 0.5494\n",
      "Epoch 182/200\n",
      "456/456 [==============================] - 24s 52ms/step - loss: 1.3665 - accuracy: 0.5132 - val_loss: 1.2871 - val_accuracy: 0.5201\n",
      "Epoch 183/200\n",
      "456/456 [==============================] - 23s 50ms/step - loss: 1.3499 - accuracy: 0.5219 - val_loss: 1.2432 - val_accuracy: 0.5417\n",
      "Epoch 184/200\n",
      "456/456 [==============================] - 21s 46ms/step - loss: 1.3801 - accuracy: 0.5104 - val_loss: 1.2390 - val_accuracy: 0.5386\n",
      "Epoch 185/200\n",
      "456/456 [==============================] - 23s 51ms/step - loss: 1.3656 - accuracy: 0.5192 - val_loss: 1.2689 - val_accuracy: 0.5123\n",
      "Epoch 186/200\n",
      "456/456 [==============================] - 20s 45ms/step - loss: 1.3744 - accuracy: 0.5140 - val_loss: 1.2144 - val_accuracy: 0.5586\n",
      "Epoch 187/200\n",
      "456/456 [==============================] - 24s 52ms/step - loss: 1.3730 - accuracy: 0.5156 - val_loss: 1.2265 - val_accuracy: 0.5432\n",
      "Epoch 188/200\n",
      "456/456 [==============================] - 21s 46ms/step - loss: 1.3743 - accuracy: 0.5132 - val_loss: 1.2712 - val_accuracy: 0.5278\n",
      "Epoch 189/200\n",
      "456/456 [==============================] - 24s 52ms/step - loss: 1.3865 - accuracy: 0.5096 - val_loss: 1.2473 - val_accuracy: 0.5448\n",
      "Epoch 190/200\n",
      "456/456 [==============================] - 24s 52ms/step - loss: 1.3563 - accuracy: 0.5214 - val_loss: 1.2306 - val_accuracy: 0.5525\n",
      "Epoch 191/200\n",
      "456/456 [==============================] - 22s 48ms/step - loss: 1.3756 - accuracy: 0.5077 - val_loss: 1.2363 - val_accuracy: 0.5478\n",
      "Epoch 192/200\n",
      "456/456 [==============================] - 23s 50ms/step - loss: 1.3760 - accuracy: 0.5121 - val_loss: 1.2407 - val_accuracy: 0.5664\n",
      "Epoch 193/200\n",
      "456/456 [==============================] - 23s 50ms/step - loss: 1.3831 - accuracy: 0.5052 - val_loss: 1.2689 - val_accuracy: 0.5494\n",
      "Epoch 194/200\n",
      "456/456 [==============================] - 21s 47ms/step - loss: 1.3623 - accuracy: 0.5143 - val_loss: 1.2391 - val_accuracy: 0.5355\n",
      "Epoch 195/200\n",
      "456/456 [==============================] - 24s 52ms/step - loss: 1.3593 - accuracy: 0.5181 - val_loss: 1.2309 - val_accuracy: 0.5556\n",
      "Epoch 196/200\n",
      "456/456 [==============================] - 21s 46ms/step - loss: 1.3628 - accuracy: 0.5041 - val_loss: 1.2525 - val_accuracy: 0.5556\n",
      "Epoch 197/200\n",
      "456/456 [==============================] - 23s 51ms/step - loss: 1.3601 - accuracy: 0.5132 - val_loss: 1.2076 - val_accuracy: 0.5833\n",
      "Epoch 198/200\n",
      "456/456 [==============================] - 24s 52ms/step - loss: 1.3832 - accuracy: 0.5044 - val_loss: 1.2247 - val_accuracy: 0.5432\n",
      "Epoch 199/200\n",
      "456/456 [==============================] - 22s 48ms/step - loss: 1.3787 - accuracy: 0.5049 - val_loss: 1.2194 - val_accuracy: 0.5448\n",
      "Epoch 200/200\n",
      "456/456 [==============================] - 24s 52ms/step - loss: 1.3477 - accuracy: 0.5148 - val_loss: 1.2080 - val_accuracy: 0.5756\n"
     ]
    }
   ],
   "source": [
    "# Train the model\n",
    "RN_history = RN.fit(\n",
    "    x = train_gen,\n",
    "    batch_size = 256,\n",
    "    epochs = 200,\n",
    "    validation_data = valid_gen,\n",
    "    callbacks = [tfk.callbacks.EarlyStopping(monitor='val_accuracy', mode='max', patience=30, restore_best_weights=True)],\n",
    ").history"
   ]
  },
  {
   "cell_type": "code",
   "execution_count": 13,
   "id": "ac155636",
   "metadata": {
    "execution": {
     "iopub.execute_input": "2022-11-19T20:56:34.874567Z",
     "iopub.status.busy": "2022-11-19T20:56:34.874205Z",
     "iopub.status.idle": "2022-11-19T20:56:35.646972Z",
     "shell.execute_reply": "2022-11-19T20:56:35.646059Z"
    },
    "papermill": {
     "duration": 3.53484,
     "end_time": "2022-11-19T20:56:35.649216",
     "exception": false,
     "start_time": "2022-11-19T20:56:32.114376",
     "status": "completed"
    },
    "tags": []
   },
   "outputs": [
    {
     "data": {
      "image/png": "[encoded data removed]",
      "text/plain": [
       "<Figure size 1080x360 with 1 Axes>"
      ]
     },
     "metadata": {
      "needs_background": "light"
     },
     "output_type": "display_data"
    },
    {
     "data": {
      "image/png": "[encoded data removed]",
      "text/plain": [
       "<Figure size 1080x360 with 1 Axes>"
      ]
     },
     "metadata": {
      "needs_background": "light"
     },
     "output_type": "display_data"
    }
   ],
   "source": [
    "# Plot the training\n",
    "plt.figure(figsize=(15,5))\n",
    "plt.plot(RN_history['loss'], alpha=.3, color='#ff7f0e', linestyle='--')\n",
    "plt.plot(RN_history['val_loss'], label='Standard', alpha=.8, color='#ff7f0e')\n",
    "plt.legend(loc='upper left')\n",
    "plt.title('Categorical Crossentropy')\n",
    "plt.grid(alpha=.3)\n",
    "plt.savefig('RN_v1.0.3_loss.png')\n",
    "\n",
    "plt.figure(figsize=(15,5))\n",
    "plt.plot(RN_history['accuracy'], alpha=.3, color='#ff7f0e', linestyle='--')\n",
    "plt.plot(RN_history['val_accuracy'], label='Standard', alpha=.8, color='#ff7f0e')\n",
    "plt.legend(loc='upper left')\n",
    "plt.title('Accuracy')\n",
    "plt.grid(alpha=.3)\n",
    "plt.savefig('RN_v1.0.3_acc.png')\n",
    "\n",
    "plt.show()"
   ]
  },
  {
   "cell_type": "code",
   "execution_count": 14,
   "id": "56eaef11",
   "metadata": {
    "execution": {
     "iopub.execute_input": "2022-11-19T20:56:41.329582Z",
     "iopub.status.busy": "2022-11-19T20:56:41.329215Z",
     "iopub.status.idle": "2022-11-19T20:58:00.623889Z",
     "shell.execute_reply": "2022-11-19T20:58:00.622900Z"
    },
    "papermill": {
     "duration": 82.060542,
     "end_time": "2022-11-19T20:58:00.626826",
     "exception": false,
     "start_time": "2022-11-19T20:56:38.566284",
     "status": "completed"
    },
    "tags": []
   },
   "outputs": [],
   "source": [
    "# Save the best model\n",
    "RN.save('RN_v1.0.3')"
   ]
  },
  {
   "cell_type": "code",
   "execution_count": 15,
   "id": "e4c3ce6c",
   "metadata": {
    "execution": {
     "iopub.execute_input": "2022-11-19T20:58:06.508168Z",
     "iopub.status.busy": "2022-11-19T20:58:06.507469Z",
     "iopub.status.idle": "2022-11-19T20:58:09.178383Z",
     "shell.execute_reply": "2022-11-19T20:58:09.177261Z"
    },
    "papermill": {
     "duration": 5.476742,
     "end_time": "2022-11-19T20:58:09.180957",
     "exception": false,
     "start_time": "2022-11-19T20:58:03.704215",
     "status": "completed"
    },
    "tags": []
   },
   "outputs": [
    {
     "name": "stdout",
     "output_type": "stream",
     "text": [
      "81/81 [==============================] - 3s 31ms/step - loss: 1.2080 - accuracy: 0.5756\n",
      "\n",
      "Val metrics\n",
      "{'loss': 1.207972526550293, 'accuracy': 0.5756173133850098}\n"
     ]
    }
   ],
   "source": [
    "# Evaluate on val\n",
    "val_metrics = RN.evaluate(valid_gen, return_dict=True)\n",
    "\n",
    "print()\n",
    "print(\"Val metrics\")\n",
    "print(val_metrics)"
   ]
  }
 ],
 "metadata": {
  "kernelspec": {
   "display_name": "Python 3",
   "language": "python",
   "name": "python3"
  },
  "language_info": {
   "codemirror_mode": {
    "name": "ipython",
    "version": 3
   },
   "file_extension": ".py",
   "mimetype": "text/x-python",
   "name": "python",
   "nbconvert_exporter": "python",
   "pygments_lexer": "ipython3",
   "version": "3.7.12"
  },
  "papermill": {
   "default_parameters": {},
   "duration": 5115.615142,
   "end_time": "2022-11-19T20:58:14.906655",
   "environment_variables": {},
   "exception": null,
   "input_path": "__notebook__.ipynb",
   "output_path": "__notebook__.ipynb",
   "parameters": {},
   "start_time": "2022-11-19T19:32:59.291513",
   "version": "2.3.4"
  }
 },
 "nbformat": 4,
 "nbformat_minor": 5
}
