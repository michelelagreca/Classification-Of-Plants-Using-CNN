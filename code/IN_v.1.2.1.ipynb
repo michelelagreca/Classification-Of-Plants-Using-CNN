{
 "cells": [
  {
   "cell_type": "code",
   "execution_count": 1,
   "id": "9737dd5b",
   "metadata": {
    "execution": {
     "iopub.execute_input": "2022-11-19T13:29:09.619685Z",
     "iopub.status.busy": "2022-11-19T13:29:09.618791Z",
     "iopub.status.idle": "2022-11-19T13:29:14.577510Z",
     "shell.execute_reply": "2022-11-19T13:29:14.576280Z"
    },
    "papermill": {
     "duration": 4.968849,
     "end_time": "2022-11-19T13:29:14.580086",
     "exception": false,
     "start_time": "2022-11-19T13:29:09.611237",
     "status": "completed"
    },
    "tags": []
   },
   "outputs": [],
   "source": [
    "import tensorflow as tf\n",
    "import numpy as np\n",
    "import os\n",
    "import random\n",
    "import pandas as pd\n",
    "import seaborn as sns\n",
    "import matplotlib as mpl\n",
    "import matplotlib.pyplot as plt\n",
    "from sklearn.model_selection import train_test_split\n",
    "from sklearn.metrics import accuracy_score, f1_score, precision_score, recall_score\n",
    "from sklearn.metrics import confusion_matrix\n",
    "from PIL import Image\n",
    "\n",
    "tfk = tf.keras\n",
    "tfkl = tf.keras.layers"
   ]
  },
  {
   "cell_type": "code",
   "execution_count": 2,
   "id": "eee8da79",
   "metadata": {
    "execution": {
     "iopub.execute_input": "2022-11-19T13:29:14.598778Z",
     "iopub.status.busy": "2022-11-19T13:29:14.598063Z",
     "iopub.status.idle": "2022-11-19T13:29:14.603876Z",
     "shell.execute_reply": "2022-11-19T13:29:14.602753Z"
    },
    "papermill": {
     "duration": 0.019297,
     "end_time": "2022-11-19T13:29:14.607823",
     "exception": false,
     "start_time": "2022-11-19T13:29:14.588526",
     "status": "completed"
    },
    "tags": []
   },
   "outputs": [],
   "source": [
    "# Random seed for reproducibility\n",
    "seed = 42\n",
    "\n",
    "random.seed(seed)\n",
    "os.environ['PYTHONHASHSEED'] = str(seed)\n",
    "np.random.seed(seed)\n",
    "tf.random.set_seed(seed)\n",
    "tf.compat.v1.set_random_seed(seed)"
   ]
  },
  {
   "cell_type": "code",
   "execution_count": 3,
   "id": "8d867461",
   "metadata": {
    "execution": {
     "iopub.execute_input": "2022-11-19T13:29:14.624938Z",
     "iopub.status.busy": "2022-11-19T13:29:14.624341Z",
     "iopub.status.idle": "2022-11-19T13:29:14.637980Z",
     "shell.execute_reply": "2022-11-19T13:29:14.637014Z"
    },
    "papermill": {
     "duration": 0.02521,
     "end_time": "2022-11-19T13:29:14.640698",
     "exception": false,
     "start_time": "2022-11-19T13:29:14.615488",
     "status": "completed"
    },
    "tags": []
   },
   "outputs": [],
   "source": [
    "import warnings\n",
    "import logging\n",
    "\n",
    "os.environ['TF_CPP_MIN_LOG_LEVEL'] = '2'\n",
    "warnings.simplefilter(action='ignore', category=FutureWarning)\n",
    "warnings.simplefilter(action='ignore', category=Warning)\n",
    "tf.get_logger().setLevel('INFO')\n",
    "tf.autograph.set_verbosity(0)\n",
    "\n",
    "tf.get_logger().setLevel(logging.ERROR)\n",
    "tf.get_logger().setLevel('ERROR')\n",
    "tf.compat.v1.logging.set_verbosity(tf.compat.v1.logging.ERROR)"
   ]
  },
  {
   "cell_type": "markdown",
   "id": "3bea2b26",
   "metadata": {
    "papermill": {
     "duration": 0.006841,
     "end_time": "2022-11-19T13:29:14.654562",
     "exception": false,
     "start_time": "2022-11-19T13:29:14.647721",
     "status": "completed"
    },
    "tags": []
   },
   "source": [
    "## Importing data"
   ]
  },
  {
   "cell_type": "code",
   "execution_count": 4,
   "id": "69f45265",
   "metadata": {
    "execution": {
     "iopub.execute_input": "2022-11-19T13:29:14.670117Z",
     "iopub.status.busy": "2022-11-19T13:29:14.669561Z",
     "iopub.status.idle": "2022-11-19T13:29:14.675107Z",
     "shell.execute_reply": "2022-11-19T13:29:14.673977Z"
    },
    "papermill": {
     "duration": 0.017072,
     "end_time": "2022-11-19T13:29:14.678477",
     "exception": false,
     "start_time": "2022-11-19T13:29:14.661405",
     "status": "completed"
    },
    "tags": []
   },
   "outputs": [],
   "source": [
    "# Dataset folders \n",
    "dataset_dir = '/kaggle/input/an2dl-challenge-1-nt/data_splitted_no_test'\n",
    "training_dir = os.path.join(dataset_dir, 'train')\n",
    "validation_dir = os.path.join(dataset_dir, 'val')"
   ]
  },
  {
   "cell_type": "code",
   "execution_count": 5,
   "id": "d4c76d09",
   "metadata": {
    "execution": {
     "iopub.execute_input": "2022-11-19T13:29:14.693320Z",
     "iopub.status.busy": "2022-11-19T13:29:14.693053Z",
     "iopub.status.idle": "2022-11-19T13:29:15.846313Z",
     "shell.execute_reply": "2022-11-19T13:29:15.844643Z"
    },
    "papermill": {
     "duration": 1.163911,
     "end_time": "2022-11-19T13:29:15.849227",
     "exception": false,
     "start_time": "2022-11-19T13:29:14.685316",
     "status": "completed"
    },
    "tags": []
   },
   "outputs": [
    {
     "name": "stdout",
     "output_type": "stream",
     "text": [
      "Found 3648 images belonging to 8 classes.\n",
      "Found 648 images belonging to 8 classes.\n"
     ]
    }
   ],
   "source": [
    "# Images are divided into folders, one for each class. \n",
    "# If the images are organized in such a way, we can exploit the \n",
    "# ImageDataGenerator to read them from disk.\n",
    "from tensorflow.keras.preprocessing.image import ImageDataGenerator\n",
    "\n",
    "# Create an instance of ImageDataGenerator, and for the trainign with Data Augmentation\n",
    "train_data_gen = ImageDataGenerator(rotation_range=15, \n",
    "                                    height_shift_range=0.2, \n",
    "                                    width_shift_range=0.2, \n",
    "                                    zoom_range=0.2, \n",
    "                                    horizontal_flip=True, \n",
    "                                    shear_range=0.2, \n",
    "                                    fill_mode='reflect',\n",
    "                                    rescale=1/255.) # rescale value is multiplied to the image ############################################\n",
    "valid_data_gen = ImageDataGenerator(rescale=1/255.)\n",
    "\n",
    "# Obtain a data generator with the 'ImageDataGenerator.flow_from_directory' method\n",
    "train_gen = train_data_gen.flow_from_directory(directory=training_dir,\n",
    "                                                       target_size=(96,96),\n",
    "                                                       color_mode='rgb',\n",
    "                                                       classes=None, # can be set to labels\n",
    "                                                       class_mode='categorical',\n",
    "                                                       batch_size=8,\n",
    "                                                       shuffle=True,\n",
    "                                                       seed=seed)\n",
    "\n",
    "valid_gen = valid_data_gen.flow_from_directory(directory=validation_dir,\n",
    "                                               target_size=(96,96),\n",
    "                                               color_mode='rgb',\n",
    "                                               classes=None, # can be set to labels\n",
    "                                               class_mode='categorical',\n",
    "                                               batch_size=8,\n",
    "                                               shuffle=False,\n",
    "                                               seed=seed)"
   ]
  },
  {
   "cell_type": "markdown",
   "id": "c14874dc",
   "metadata": {
    "papermill": {
     "duration": 0.004333,
     "end_time": "2022-11-19T13:29:15.858399",
     "exception": false,
     "start_time": "2022-11-19T13:29:15.854066",
     "status": "completed"
    },
    "tags": []
   },
   "source": [
    "## Model"
   ]
  },
  {
   "cell_type": "code",
   "execution_count": 6,
   "id": "337dc50c",
   "metadata": {
    "execution": {
     "iopub.execute_input": "2022-11-19T13:29:15.869823Z",
     "iopub.status.busy": "2022-11-19T13:29:15.868319Z",
     "iopub.status.idle": "2022-11-19T13:29:15.874321Z",
     "shell.execute_reply": "2022-11-19T13:29:15.873393Z"
    },
    "papermill": {
     "duration": 0.013592,
     "end_time": "2022-11-19T13:29:15.876561",
     "exception": false,
     "start_time": "2022-11-19T13:29:15.862969",
     "status": "completed"
    },
    "tags": []
   },
   "outputs": [],
   "source": [
    "# to create a folder\n",
    "import os\n",
    "directory = \"Inception\"\n",
    "parent_dir = \"/kaggle/working\"\n",
    "path = os.path.join(parent_dir, directory)\n",
    "os.mkdir(path)"
   ]
  },
  {
   "cell_type": "code",
   "execution_count": 7,
   "id": "5bae939b",
   "metadata": {
    "execution": {
     "iopub.execute_input": "2022-11-19T13:29:15.886630Z",
     "iopub.status.busy": "2022-11-19T13:29:15.886328Z",
     "iopub.status.idle": "2022-11-19T13:29:16.819990Z",
     "shell.execute_reply": "2022-11-19T13:29:16.818662Z"
    },
    "papermill": {
     "duration": 0.941542,
     "end_time": "2022-11-19T13:29:16.822482",
     "exception": false,
     "start_time": "2022-11-19T13:29:15.880940",
     "status": "completed"
    },
    "tags": []
   },
   "outputs": [],
   "source": [
    "!cd /kaggle/working/Inception"
   ]
  },
  {
   "cell_type": "code",
   "execution_count": 8,
   "id": "bc9142cc",
   "metadata": {
    "execution": {
     "iopub.execute_input": "2022-11-19T13:29:16.834565Z",
     "iopub.status.busy": "2022-11-19T13:29:16.834206Z",
     "iopub.status.idle": "2022-11-19T13:29:26.452677Z",
     "shell.execute_reply": "2022-11-19T13:29:26.451677Z"
    },
    "papermill": {
     "duration": 9.626783,
     "end_time": "2022-11-19T13:29:26.455372",
     "exception": false,
     "start_time": "2022-11-19T13:29:16.828589",
     "status": "completed"
    },
    "tags": []
   },
   "outputs": [
    {
     "name": "stdout",
     "output_type": "stream",
     "text": [
      "Downloading data from https://storage.googleapis.com/tensorflow/keras-applications/inception_v3/inception_v3_weights_tf_dim_ordering_tf_kernels_notop.h5\n",
      "87916544/87910968 [==============================] - 5s 0us/step\n",
      "87924736/87910968 [==============================] - 5s 0us/step\n"
     ]
    }
   ],
   "source": [
    "# Download and plot the ResNet152V2 model\n",
    "inceptionv2 = tfk.applications.InceptionV3(\n",
    "    include_top=False, # we are using only the conv part of the network, and not the FC part\n",
    "    weights=\"imagenet\",\n",
    "    input_shape=(96,96,3)\n",
    ")\n",
    "inceptionv2.trainable = False # we are freezing the weights of the conv part, so that they are not updated\n",
    "                            # during the training"
   ]
  },
  {
   "cell_type": "code",
   "execution_count": 9,
   "id": "29ad2244",
   "metadata": {
    "execution": {
     "iopub.execute_input": "2022-11-19T13:29:26.474583Z",
     "iopub.status.busy": "2022-11-19T13:29:26.472670Z",
     "iopub.status.idle": "2022-11-19T13:29:26.478829Z",
     "shell.execute_reply": "2022-11-19T13:29:26.478007Z"
    },
    "papermill": {
     "duration": 0.017086,
     "end_time": "2022-11-19T13:29:26.480875",
     "exception": false,
     "start_time": "2022-11-19T13:29:26.463789",
     "status": "completed"
    },
    "tags": []
   },
   "outputs": [],
   "source": [
    "input_shape = (96, 96, 3)\n",
    "epochs = 200"
   ]
  },
  {
   "cell_type": "code",
   "execution_count": 10,
   "id": "3b70505a",
   "metadata": {
    "execution": {
     "iopub.execute_input": "2022-11-19T13:29:26.499025Z",
     "iopub.status.busy": "2022-11-19T13:29:26.497500Z",
     "iopub.status.idle": "2022-11-19T13:29:26.503135Z",
     "shell.execute_reply": "2022-11-19T13:29:26.502053Z"
    },
    "papermill": {
     "duration": 0.016585,
     "end_time": "2022-11-19T13:29:26.505156",
     "exception": false,
     "start_time": "2022-11-19T13:29:26.488571",
     "status": "completed"
    },
    "tags": []
   },
   "outputs": [],
   "source": [
    "l1=1e-7\n",
    "l2=1e-4"
   ]
  },
  {
   "cell_type": "code",
   "execution_count": 11,
   "id": "e22bfbbf",
   "metadata": {
    "execution": {
     "iopub.execute_input": "2022-11-19T13:29:26.523230Z",
     "iopub.status.busy": "2022-11-19T13:29:26.521862Z",
     "iopub.status.idle": "2022-11-19T13:29:26.532192Z",
     "shell.execute_reply": "2022-11-19T13:29:26.531324Z"
    },
    "papermill": {
     "duration": 0.021487,
     "end_time": "2022-11-19T13:29:26.534312",
     "exception": false,
     "start_time": "2022-11-19T13:29:26.512825",
     "status": "completed"
    },
    "tags": []
   },
   "outputs": [],
   "source": [
    "def inception(input_shape):\n",
    "\n",
    "    # Build the neural network layer by layer\n",
    "    input_layer = tfkl.Input(shape=input_shape, name='input_layer')\n",
    "    \n",
    "    #x = tfkl.Resizing(64, 64, interpolation=\"bicubic\", name='resizing')(input_layer)\n",
    "    inc = inceptionv2(input_layer)\n",
    "\n",
    "    gap = tfkl.GlobalAveragePooling2D()(inc)\n",
    "    drop1 = tfkl.Dropout(0.2, seed=seed)(gap)\n",
    "    classifier_layer1 = tfkl.Dense(units=512, \n",
    "                                   name='Classifier1', \n",
    "                                   kernel_initializer=tfk.initializers.HeUniform(seed),\n",
    "                                   kernel_regularizer=tfk.regularizers.L1L2(l1=l1, l2=l2))(drop1)\n",
    "    act1 = tfkl.Activation(\"relu\")(classifier_layer1)\n",
    "    batch1 = tfkl.BatchNormalization()(act1)\n",
    "    drop2 = tfkl.Dropout(0.2, seed=seed)(batch1)\n",
    "    classifier_layer2 = tfkl.Dense(units=60, \n",
    "                                   name='Classifier2', \n",
    "                                   kernel_initializer=tfk.initializers.HeUniform(seed),\n",
    "                                   kernel_regularizer=tfk.regularizers.L1L2(l1=l1, l2=l2))(drop2)\n",
    "    act2 = tfkl.Activation(\"relu\")(classifier_layer2)\n",
    "    batch2 = tfkl.BatchNormalization()(act2)\n",
    "    drop3 = tfkl.Dropout(0.2, seed=seed)(batch2)\n",
    "    output_layer = tfkl.Dense(units=8, activation='softmax', kernel_initializer=tfk.initializers.GlorotUniform(seed), name='output_layer')(drop3)\n",
    "\n",
    "    # Connect input and output through the Model class\n",
    "    model = tfk.Model(inputs=input_layer, outputs=output_layer, name='model')\n",
    "\n",
    "    # Compile the model\n",
    "    model.compile(loss=tfk.losses.CategoricalCrossentropy(), optimizer=tfk.optimizers.RMSprop(learning_rate=0.0001), metrics='accuracy')\n",
    "\n",
    "    # Return the model\n",
    "    return model"
   ]
  },
  {
   "cell_type": "markdown",
   "id": "64eb9c8b",
   "metadata": {
    "papermill": {
     "duration": 0.007467,
     "end_time": "2022-11-19T13:29:26.549652",
     "exception": false,
     "start_time": "2022-11-19T13:29:26.542185",
     "status": "completed"
    },
    "tags": []
   },
   "source": [
    "## Training"
   ]
  },
  {
   "cell_type": "code",
   "execution_count": 12,
   "id": "60db37e7",
   "metadata": {
    "execution": {
     "iopub.execute_input": "2022-11-19T13:29:26.566867Z",
     "iopub.status.busy": "2022-11-19T13:29:26.566295Z",
     "iopub.status.idle": "2022-11-19T13:29:27.184605Z",
     "shell.execute_reply": "2022-11-19T13:29:27.183672Z"
    },
    "papermill": {
     "duration": 0.629071,
     "end_time": "2022-11-19T13:29:27.186702",
     "exception": false,
     "start_time": "2022-11-19T13:29:26.557631",
     "status": "completed"
    },
    "tags": []
   },
   "outputs": [
    {
     "name": "stdout",
     "output_type": "stream",
     "text": [
      "Model: \"model\"\n",
      "_________________________________________________________________\n",
      "Layer (type)                 Output Shape              Param #   \n",
      "=================================================================\n",
      "input_layer (InputLayer)     [(None, 96, 96, 3)]       0         \n",
      "_________________________________________________________________\n",
      "inception_v3 (Functional)    (None, 1, 1, 2048)        21802784  \n",
      "_________________________________________________________________\n",
      "global_average_pooling2d (Gl (None, 2048)              0         \n",
      "_________________________________________________________________\n",
      "dropout (Dropout)            (None, 2048)              0         \n",
      "_________________________________________________________________\n",
      "Classifier1 (Dense)          (None, 512)               1049088   \n",
      "_________________________________________________________________\n",
      "activation_94 (Activation)   (None, 512)               0         \n",
      "_________________________________________________________________\n",
      "batch_normalization_94 (Batc (None, 512)               2048      \n",
      "_________________________________________________________________\n",
      "dropout_1 (Dropout)          (None, 512)               0         \n",
      "_________________________________________________________________\n",
      "Classifier2 (Dense)          (None, 60)                30780     \n",
      "_________________________________________________________________\n",
      "activation_95 (Activation)   (None, 60)                0         \n",
      "_________________________________________________________________\n",
      "batch_normalization_95 (Batc (None, 60)                240       \n",
      "_________________________________________________________________\n",
      "dropout_2 (Dropout)          (None, 60)                0         \n",
      "_________________________________________________________________\n",
      "output_layer (Dense)         (None, 8)                 488       \n",
      "=================================================================\n",
      "Total params: 22,885,428\n",
      "Trainable params: 1,081,500\n",
      "Non-trainable params: 21,803,928\n",
      "_________________________________________________________________\n"
     ]
    }
   ],
   "source": [
    "# Build model\n",
    "IN = inception(input_shape)\n",
    "IN.summary()"
   ]
  },
  {
   "cell_type": "code",
   "execution_count": 13,
   "id": "d9409d87",
   "metadata": {
    "execution": {
     "iopub.execute_input": "2022-11-19T13:29:27.204270Z",
     "iopub.status.busy": "2022-11-19T13:29:27.203972Z",
     "iopub.status.idle": "2022-11-19T14:02:17.977225Z",
     "shell.execute_reply": "2022-11-19T14:02:17.976158Z"
    },
    "papermill": {
     "duration": 1970.784989,
     "end_time": "2022-11-19T14:02:17.979898",
     "exception": false,
     "start_time": "2022-11-19T13:29:27.194909",
     "status": "completed"
    },
    "tags": []
   },
   "outputs": [
    {
     "name": "stdout",
     "output_type": "stream",
     "text": [
      "Epoch 1/200\n",
      "456/456 [==============================] - 52s 91ms/step - loss: 2.5849 - accuracy: 0.1900 - val_loss: 2.0228 - val_accuracy: 0.2994\n",
      "Epoch 2/200\n",
      "456/456 [==============================] - 19s 41ms/step - loss: 2.3156 - accuracy: 0.2552 - val_loss: 1.8612 - val_accuracy: 0.3596\n",
      "Epoch 3/200\n",
      "456/456 [==============================] - 19s 42ms/step - loss: 2.1571 - accuracy: 0.2876 - val_loss: 1.7570 - val_accuracy: 0.3935\n",
      "Epoch 4/200\n",
      "456/456 [==============================] - 18s 39ms/step - loss: 2.0831 - accuracy: 0.3100 - val_loss: 1.7036 - val_accuracy: 0.4090\n",
      "Epoch 5/200\n",
      "456/456 [==============================] - 18s 40ms/step - loss: 2.0193 - accuracy: 0.3188 - val_loss: 1.6765 - val_accuracy: 0.4090\n",
      "Epoch 6/200\n",
      "456/456 [==============================] - 18s 39ms/step - loss: 1.9727 - accuracy: 0.3273 - val_loss: 1.6274 - val_accuracy: 0.4213\n",
      "Epoch 7/200\n",
      "456/456 [==============================] - 18s 40ms/step - loss: 1.9389 - accuracy: 0.3342 - val_loss: 1.5858 - val_accuracy: 0.4290\n",
      "Epoch 8/200\n",
      "456/456 [==============================] - 18s 40ms/step - loss: 1.9294 - accuracy: 0.3353 - val_loss: 1.5691 - val_accuracy: 0.4383\n",
      "Epoch 9/200\n",
      "456/456 [==============================] - 18s 39ms/step - loss: 1.8671 - accuracy: 0.3525 - val_loss: 1.5560 - val_accuracy: 0.4259\n",
      "Epoch 10/200\n",
      "456/456 [==============================] - 19s 41ms/step - loss: 1.8620 - accuracy: 0.3539 - val_loss: 1.5358 - val_accuracy: 0.4429\n",
      "Epoch 11/200\n",
      "456/456 [==============================] - 18s 39ms/step - loss: 1.8380 - accuracy: 0.3602 - val_loss: 1.5162 - val_accuracy: 0.4568\n",
      "Epoch 12/200\n",
      "456/456 [==============================] - 19s 42ms/step - loss: 1.7991 - accuracy: 0.3698 - val_loss: 1.4975 - val_accuracy: 0.4630\n",
      "Epoch 13/200\n",
      "456/456 [==============================] - 18s 39ms/step - loss: 1.7974 - accuracy: 0.3755 - val_loss: 1.4762 - val_accuracy: 0.4923\n",
      "Epoch 14/200\n",
      "456/456 [==============================] - 19s 41ms/step - loss: 1.7725 - accuracy: 0.3917 - val_loss: 1.4772 - val_accuracy: 0.4954\n",
      "Epoch 15/200\n",
      "456/456 [==============================] - 19s 43ms/step - loss: 1.7771 - accuracy: 0.3794 - val_loss: 1.4794 - val_accuracy: 0.4861\n",
      "Epoch 16/200\n",
      "456/456 [==============================] - 18s 40ms/step - loss: 1.7947 - accuracy: 0.3616 - val_loss: 1.4671 - val_accuracy: 0.5015\n",
      "Epoch 17/200\n",
      "456/456 [==============================] - 19s 42ms/step - loss: 1.7607 - accuracy: 0.3846 - val_loss: 1.4571 - val_accuracy: 0.4892\n",
      "Epoch 18/200\n",
      "456/456 [==============================] - 18s 40ms/step - loss: 1.7722 - accuracy: 0.3734 - val_loss: 1.4515 - val_accuracy: 0.5000\n",
      "Epoch 19/200\n",
      "456/456 [==============================] - 19s 41ms/step - loss: 1.7246 - accuracy: 0.3739 - val_loss: 1.4565 - val_accuracy: 0.5062\n",
      "Epoch 20/200\n",
      "456/456 [==============================] - 19s 42ms/step - loss: 1.7526 - accuracy: 0.3802 - val_loss: 1.4515 - val_accuracy: 0.5154\n",
      "Epoch 21/200\n",
      "456/456 [==============================] - 18s 39ms/step - loss: 1.7231 - accuracy: 0.3835 - val_loss: 1.4437 - val_accuracy: 0.4969\n",
      "Epoch 22/200\n",
      "456/456 [==============================] - 18s 40ms/step - loss: 1.7008 - accuracy: 0.3917 - val_loss: 1.4370 - val_accuracy: 0.5123\n",
      "Epoch 23/200\n",
      "456/456 [==============================] - 18s 40ms/step - loss: 1.7026 - accuracy: 0.3969 - val_loss: 1.4416 - val_accuracy: 0.5231\n",
      "Epoch 24/200\n",
      "456/456 [==============================] - 19s 41ms/step - loss: 1.7191 - accuracy: 0.3904 - val_loss: 1.4412 - val_accuracy: 0.5077\n",
      "Epoch 25/200\n",
      "456/456 [==============================] - 19s 41ms/step - loss: 1.6826 - accuracy: 0.4087 - val_loss: 1.4312 - val_accuracy: 0.5170\n",
      "Epoch 26/200\n",
      "456/456 [==============================] - 18s 40ms/step - loss: 1.6874 - accuracy: 0.3936 - val_loss: 1.4206 - val_accuracy: 0.5216\n",
      "Epoch 27/200\n",
      "456/456 [==============================] - 19s 41ms/step - loss: 1.6540 - accuracy: 0.4169 - val_loss: 1.4172 - val_accuracy: 0.5077\n",
      "Epoch 28/200\n",
      "456/456 [==============================] - 18s 39ms/step - loss: 1.6766 - accuracy: 0.4032 - val_loss: 1.4146 - val_accuracy: 0.5031\n",
      "Epoch 29/200\n",
      "456/456 [==============================] - 19s 42ms/step - loss: 1.6863 - accuracy: 0.3994 - val_loss: 1.4191 - val_accuracy: 0.5154\n",
      "Epoch 30/200\n",
      "456/456 [==============================] - 19s 41ms/step - loss: 1.6607 - accuracy: 0.4084 - val_loss: 1.4141 - val_accuracy: 0.5154\n",
      "Epoch 31/200\n",
      "456/456 [==============================] - 19s 41ms/step - loss: 1.6585 - accuracy: 0.4112 - val_loss: 1.4031 - val_accuracy: 0.5154\n",
      "Epoch 32/200\n",
      "456/456 [==============================] - 18s 40ms/step - loss: 1.6264 - accuracy: 0.4137 - val_loss: 1.4030 - val_accuracy: 0.5231\n",
      "Epoch 33/200\n",
      "456/456 [==============================] - 19s 41ms/step - loss: 1.6750 - accuracy: 0.4021 - val_loss: 1.3995 - val_accuracy: 0.5062\n",
      "Epoch 34/200\n",
      "456/456 [==============================] - 19s 41ms/step - loss: 1.6486 - accuracy: 0.4153 - val_loss: 1.3954 - val_accuracy: 0.5216\n",
      "Epoch 35/200\n",
      "456/456 [==============================] - 18s 40ms/step - loss: 1.6239 - accuracy: 0.4128 - val_loss: 1.3997 - val_accuracy: 0.5139\n",
      "Epoch 36/200\n",
      "456/456 [==============================] - 19s 42ms/step - loss: 1.6558 - accuracy: 0.4082 - val_loss: 1.4018 - val_accuracy: 0.5123\n",
      "Epoch 37/200\n",
      "456/456 [==============================] - 19s 41ms/step - loss: 1.6285 - accuracy: 0.4230 - val_loss: 1.3927 - val_accuracy: 0.5093\n",
      "Epoch 38/200\n",
      "456/456 [==============================] - 18s 40ms/step - loss: 1.6310 - accuracy: 0.4106 - val_loss: 1.3940 - val_accuracy: 0.5000\n",
      "Epoch 39/200\n",
      "456/456 [==============================] - 19s 41ms/step - loss: 1.6196 - accuracy: 0.4178 - val_loss: 1.3829 - val_accuracy: 0.5108\n",
      "Epoch 40/200\n",
      "456/456 [==============================] - 19s 41ms/step - loss: 1.6208 - accuracy: 0.4202 - val_loss: 1.3749 - val_accuracy: 0.5309\n",
      "Epoch 41/200\n",
      "456/456 [==============================] - 19s 42ms/step - loss: 1.6235 - accuracy: 0.4194 - val_loss: 1.3770 - val_accuracy: 0.5417\n",
      "Epoch 42/200\n",
      "456/456 [==============================] - 18s 40ms/step - loss: 1.6272 - accuracy: 0.4263 - val_loss: 1.3716 - val_accuracy: 0.5340\n",
      "Epoch 43/200\n",
      "456/456 [==============================] - 19s 41ms/step - loss: 1.6270 - accuracy: 0.4208 - val_loss: 1.3719 - val_accuracy: 0.5309\n",
      "Epoch 44/200\n",
      "456/456 [==============================] - 19s 41ms/step - loss: 1.6100 - accuracy: 0.4257 - val_loss: 1.3725 - val_accuracy: 0.5262\n",
      "Epoch 45/200\n",
      "456/456 [==============================] - 18s 40ms/step - loss: 1.6332 - accuracy: 0.4057 - val_loss: 1.3810 - val_accuracy: 0.5370\n",
      "Epoch 46/200\n",
      "456/456 [==============================] - 20s 43ms/step - loss: 1.5992 - accuracy: 0.4326 - val_loss: 1.3746 - val_accuracy: 0.5293\n",
      "Epoch 47/200\n",
      "456/456 [==============================] - 18s 40ms/step - loss: 1.6113 - accuracy: 0.4337 - val_loss: 1.3780 - val_accuracy: 0.5201\n",
      "Epoch 48/200\n",
      "456/456 [==============================] - 20s 43ms/step - loss: 1.6067 - accuracy: 0.4180 - val_loss: 1.3794 - val_accuracy: 0.5386\n",
      "Epoch 49/200\n",
      "456/456 [==============================] - 18s 40ms/step - loss: 1.6253 - accuracy: 0.4147 - val_loss: 1.3822 - val_accuracy: 0.5247\n",
      "Epoch 50/200\n",
      "456/456 [==============================] - 18s 40ms/step - loss: 1.6230 - accuracy: 0.4211 - val_loss: 1.3724 - val_accuracy: 0.5417\n",
      "Epoch 51/200\n",
      "456/456 [==============================] - 19s 42ms/step - loss: 1.5997 - accuracy: 0.4312 - val_loss: 1.3760 - val_accuracy: 0.5309\n",
      "Epoch 52/200\n",
      "456/456 [==============================] - 18s 39ms/step - loss: 1.5975 - accuracy: 0.4301 - val_loss: 1.3741 - val_accuracy: 0.5293\n",
      "Epoch 53/200\n",
      "456/456 [==============================] - 18s 40ms/step - loss: 1.5960 - accuracy: 0.4391 - val_loss: 1.3635 - val_accuracy: 0.5355\n",
      "Epoch 54/200\n",
      "456/456 [==============================] - 19s 43ms/step - loss: 1.5931 - accuracy: 0.4246 - val_loss: 1.3608 - val_accuracy: 0.5231\n",
      "Epoch 55/200\n",
      "456/456 [==============================] - 19s 41ms/step - loss: 1.6050 - accuracy: 0.4386 - val_loss: 1.3632 - val_accuracy: 0.5262\n",
      "Epoch 56/200\n",
      "456/456 [==============================] - 19s 42ms/step - loss: 1.5776 - accuracy: 0.4391 - val_loss: 1.3637 - val_accuracy: 0.5278\n",
      "Epoch 57/200\n",
      "456/456 [==============================] - 18s 40ms/step - loss: 1.5970 - accuracy: 0.4260 - val_loss: 1.3634 - val_accuracy: 0.5355\n",
      "Epoch 58/200\n",
      "456/456 [==============================] - 19s 41ms/step - loss: 1.5879 - accuracy: 0.4411 - val_loss: 1.3618 - val_accuracy: 0.5293\n",
      "Epoch 59/200\n",
      "456/456 [==============================] - 20s 43ms/step - loss: 1.5815 - accuracy: 0.4315 - val_loss: 1.3708 - val_accuracy: 0.5216\n",
      "Epoch 60/200\n",
      "456/456 [==============================] - 18s 39ms/step - loss: 1.5796 - accuracy: 0.4476 - val_loss: 1.3674 - val_accuracy: 0.5247\n",
      "Epoch 61/200\n",
      "456/456 [==============================] - 19s 43ms/step - loss: 1.5881 - accuracy: 0.4424 - val_loss: 1.3680 - val_accuracy: 0.5247\n",
      "Epoch 62/200\n",
      "456/456 [==============================] - 18s 41ms/step - loss: 1.5747 - accuracy: 0.4402 - val_loss: 1.3596 - val_accuracy: 0.5324\n",
      "Epoch 63/200\n",
      "456/456 [==============================] - 19s 42ms/step - loss: 1.5956 - accuracy: 0.4375 - val_loss: 1.3605 - val_accuracy: 0.5231\n",
      "Epoch 64/200\n",
      "456/456 [==============================] - 19s 42ms/step - loss: 1.5782 - accuracy: 0.4438 - val_loss: 1.3557 - val_accuracy: 0.5324\n",
      "Epoch 65/200\n",
      "456/456 [==============================] - 18s 40ms/step - loss: 1.5687 - accuracy: 0.4438 - val_loss: 1.3546 - val_accuracy: 0.5355\n",
      "Epoch 66/200\n",
      "456/456 [==============================] - 20s 44ms/step - loss: 1.5645 - accuracy: 0.4391 - val_loss: 1.3476 - val_accuracy: 0.5309\n",
      "Epoch 67/200\n",
      "456/456 [==============================] - 19s 43ms/step - loss: 1.5956 - accuracy: 0.4301 - val_loss: 1.3558 - val_accuracy: 0.5448\n",
      "Epoch 68/200\n",
      "456/456 [==============================] - 19s 42ms/step - loss: 1.5800 - accuracy: 0.4306 - val_loss: 1.3545 - val_accuracy: 0.5494\n",
      "Epoch 69/200\n",
      "456/456 [==============================] - 20s 44ms/step - loss: 1.5676 - accuracy: 0.4386 - val_loss: 1.3521 - val_accuracy: 0.5432\n",
      "Epoch 70/200\n",
      "456/456 [==============================] - 19s 42ms/step - loss: 1.5799 - accuracy: 0.4312 - val_loss: 1.3466 - val_accuracy: 0.5525\n",
      "Epoch 71/200\n",
      "456/456 [==============================] - 20s 44ms/step - loss: 1.5602 - accuracy: 0.4419 - val_loss: 1.3477 - val_accuracy: 0.5370\n",
      "Epoch 72/200\n",
      "456/456 [==============================] - 20s 44ms/step - loss: 1.5763 - accuracy: 0.4400 - val_loss: 1.3391 - val_accuracy: 0.5602\n",
      "Epoch 73/200\n",
      "456/456 [==============================] - 19s 42ms/step - loss: 1.5677 - accuracy: 0.4378 - val_loss: 1.3365 - val_accuracy: 0.5586\n",
      "Epoch 74/200\n",
      "456/456 [==============================] - 20s 43ms/step - loss: 1.5742 - accuracy: 0.4433 - val_loss: 1.3322 - val_accuracy: 0.5463\n",
      "Epoch 75/200\n",
      "456/456 [==============================] - 18s 40ms/step - loss: 1.5573 - accuracy: 0.4542 - val_loss: 1.3450 - val_accuracy: 0.5556\n",
      "Epoch 76/200\n",
      "456/456 [==============================] - 19s 43ms/step - loss: 1.5505 - accuracy: 0.4559 - val_loss: 1.3455 - val_accuracy: 0.5509\n",
      "Epoch 77/200\n",
      "456/456 [==============================] - 19s 42ms/step - loss: 1.5665 - accuracy: 0.4424 - val_loss: 1.3504 - val_accuracy: 0.5525\n",
      "Epoch 78/200\n",
      "456/456 [==============================] - 19s 40ms/step - loss: 1.5791 - accuracy: 0.4405 - val_loss: 1.3406 - val_accuracy: 0.5494\n",
      "Epoch 79/200\n",
      "456/456 [==============================] - 20s 43ms/step - loss: 1.5802 - accuracy: 0.4397 - val_loss: 1.3402 - val_accuracy: 0.5478\n",
      "Epoch 80/200\n",
      "456/456 [==============================] - 19s 41ms/step - loss: 1.5640 - accuracy: 0.4419 - val_loss: 1.3471 - val_accuracy: 0.5509\n",
      "Epoch 81/200\n",
      "456/456 [==============================] - 19s 41ms/step - loss: 1.5617 - accuracy: 0.4501 - val_loss: 1.3446 - val_accuracy: 0.5525\n",
      "Epoch 82/200\n",
      "456/456 [==============================] - 19s 42ms/step - loss: 1.5715 - accuracy: 0.4339 - val_loss: 1.3349 - val_accuracy: 0.5448\n",
      "Epoch 83/200\n",
      "456/456 [==============================] - 18s 40ms/step - loss: 1.5821 - accuracy: 0.4359 - val_loss: 1.3333 - val_accuracy: 0.5417\n",
      "Epoch 84/200\n",
      "456/456 [==============================] - 20s 44ms/step - loss: 1.5829 - accuracy: 0.4394 - val_loss: 1.3434 - val_accuracy: 0.5494\n",
      "Epoch 85/200\n",
      "456/456 [==============================] - 19s 41ms/step - loss: 1.5481 - accuracy: 0.4476 - val_loss: 1.3402 - val_accuracy: 0.5417\n",
      "Epoch 86/200\n",
      "456/456 [==============================] - 19s 42ms/step - loss: 1.5476 - accuracy: 0.4493 - val_loss: 1.3345 - val_accuracy: 0.5494\n",
      "Epoch 87/200\n",
      "456/456 [==============================] - 20s 43ms/step - loss: 1.5598 - accuracy: 0.4463 - val_loss: 1.3388 - val_accuracy: 0.5355\n",
      "Epoch 88/200\n",
      "456/456 [==============================] - 19s 41ms/step - loss: 1.5553 - accuracy: 0.4435 - val_loss: 1.3368 - val_accuracy: 0.5309\n",
      "Epoch 89/200\n",
      "456/456 [==============================] - 19s 42ms/step - loss: 1.5703 - accuracy: 0.4402 - val_loss: 1.3371 - val_accuracy: 0.5355\n",
      "Epoch 90/200\n",
      "456/456 [==============================] - 18s 41ms/step - loss: 1.5695 - accuracy: 0.4430 - val_loss: 1.3325 - val_accuracy: 0.5525\n",
      "Epoch 91/200\n",
      "456/456 [==============================] - 19s 42ms/step - loss: 1.5668 - accuracy: 0.4413 - val_loss: 1.3383 - val_accuracy: 0.5478\n",
      "Epoch 92/200\n",
      "456/456 [==============================] - 19s 41ms/step - loss: 1.5379 - accuracy: 0.4501 - val_loss: 1.3362 - val_accuracy: 0.5340\n",
      "Epoch 93/200\n",
      "456/456 [==============================] - 19s 41ms/step - loss: 1.5439 - accuracy: 0.4550 - val_loss: 1.3371 - val_accuracy: 0.5370\n",
      "Epoch 94/200\n",
      "456/456 [==============================] - 20s 44ms/step - loss: 1.5430 - accuracy: 0.4575 - val_loss: 1.3364 - val_accuracy: 0.5401\n",
      "Epoch 95/200\n",
      "456/456 [==============================] - 19s 41ms/step - loss: 1.5372 - accuracy: 0.4531 - val_loss: 1.3329 - val_accuracy: 0.5401\n",
      "Epoch 96/200\n",
      "456/456 [==============================] - 19s 41ms/step - loss: 1.5624 - accuracy: 0.4479 - val_loss: 1.3289 - val_accuracy: 0.5355\n",
      "Epoch 97/200\n",
      "456/456 [==============================] - 19s 41ms/step - loss: 1.5397 - accuracy: 0.4581 - val_loss: 1.3288 - val_accuracy: 0.5509\n",
      "Epoch 98/200\n",
      "456/456 [==============================] - 19s 41ms/step - loss: 1.5500 - accuracy: 0.4411 - val_loss: 1.3363 - val_accuracy: 0.5417\n",
      "Epoch 99/200\n",
      "456/456 [==============================] - 19s 41ms/step - loss: 1.5306 - accuracy: 0.4518 - val_loss: 1.3302 - val_accuracy: 0.5540\n",
      "Epoch 100/200\n",
      "456/456 [==============================] - 19s 41ms/step - loss: 1.5623 - accuracy: 0.4419 - val_loss: 1.3352 - val_accuracy: 0.5401\n",
      "Epoch 101/200\n",
      "456/456 [==============================] - 20s 43ms/step - loss: 1.5405 - accuracy: 0.4633 - val_loss: 1.3413 - val_accuracy: 0.5432\n",
      "Epoch 102/200\n",
      "456/456 [==============================] - 19s 42ms/step - loss: 1.5470 - accuracy: 0.4476 - val_loss: 1.3341 - val_accuracy: 0.5448\n"
     ]
    }
   ],
   "source": [
    "# Train the model\n",
    "IN_history = IN.fit(\n",
    "    x = train_gen,\n",
    "    batch_size = 256,\n",
    "    epochs = 200,\n",
    "    validation_data = valid_gen,\n",
    "    #callbacks = callbacks,\n",
    "    callbacks = [tfk.callbacks.EarlyStopping(monitor='val_accuracy', mode='max', patience=30, restore_best_weights=True)],\n",
    ").history"
   ]
  },
  {
   "cell_type": "code",
   "execution_count": 14,
   "id": "f7f4a505",
   "metadata": {
    "_kg_hide-input": false,
    "execution": {
     "iopub.execute_input": "2022-11-19T14:02:20.644363Z",
     "iopub.status.busy": "2022-11-19T14:02:20.643970Z",
     "iopub.status.idle": "2022-11-19T14:02:21.245205Z",
     "shell.execute_reply": "2022-11-19T14:02:21.244295Z"
    },
    "papermill": {
     "duration": 1.893141,
     "end_time": "2022-11-19T14:02:21.247318",
     "exception": false,
     "start_time": "2022-11-19T14:02:19.354177",
     "status": "completed"
    },
    "tags": []
   },
   "outputs": [
    {
     "data": {
      "image/png": "[encoded data removed]",
      "text/plain": [
       "<Figure size 1080x360 with 1 Axes>"
      ]
     },
     "metadata": {
      "needs_background": "light"
     },
     "output_type": "display_data"
    },
    {
     "data": {
      "image/png": "[encoded data removed]",
      "text/plain": [
       "<Figure size 1080x360 with 1 Axes>"
      ]
     },
     "metadata": {
      "needs_background": "light"
     },
     "output_type": "display_data"
    }
   ],
   "source": [
    "# Plot the training\n",
    "plt.figure(figsize=(15,5))\n",
    "plt.plot(IN_history['loss'], label='Loss', alpha=.3, color='#ff7f0e', linestyle='--')\n",
    "plt.plot(IN_history['val_loss'], label='Val loss', alpha=.8, color='#ff7f0e')\n",
    "plt.legend(loc='upper left')\n",
    "plt.title('Categorical Crossentropy')\n",
    "plt.grid(alpha=.3)\n",
    "plt.savefig('IN_v1.2.1_loss.png')\n",
    "\n",
    "plt.figure(figsize=(15,5))\n",
    "plt.plot(IN_history['accuracy'], label='Accuracy', alpha=.3, color='#ff7f0e', linestyle='--')\n",
    "plt.plot(IN_history['val_accuracy'], label='Val accuracy', alpha=.8, color='#ff7f0e')\n",
    "plt.legend(loc='upper left')\n",
    "plt.title('Accuracy')\n",
    "plt.grid(alpha=.3)\n",
    "plt.savefig('IN_v1.2.1_acc.png')\n",
    "\n",
    "plt.show()"
   ]
  },
  {
   "cell_type": "code",
   "execution_count": 15,
   "id": "dca02cfc",
   "metadata": {
    "execution": {
     "iopub.execute_input": "2022-11-19T14:02:23.989006Z",
     "iopub.status.busy": "2022-11-19T14:02:23.988615Z",
     "iopub.status.idle": "2022-11-19T14:03:09.169299Z",
     "shell.execute_reply": "2022-11-19T14:03:09.168279Z"
    },
    "papermill": {
     "duration": 46.553087,
     "end_time": "2022-11-19T14:03:09.172282",
     "exception": false,
     "start_time": "2022-11-19T14:02:22.619195",
     "status": "completed"
    },
    "tags": []
   },
   "outputs": [],
   "source": [
    "# Save the best model\n",
    "IN.save('IN_v1.2.1')"
   ]
  },
  {
   "cell_type": "code",
   "execution_count": 16,
   "id": "f7133a12",
   "metadata": {
    "execution": {
     "iopub.execute_input": "2022-11-19T14:03:12.185368Z",
     "iopub.status.busy": "2022-11-19T14:03:12.184954Z",
     "iopub.status.idle": "2022-11-19T14:03:14.826077Z",
     "shell.execute_reply": "2022-11-19T14:03:14.824985Z"
    },
    "papermill": {
     "duration": 3.98705,
     "end_time": "2022-11-19T14:03:14.829104",
     "exception": false,
     "start_time": "2022-11-19T14:03:10.842054",
     "status": "completed"
    },
    "tags": []
   },
   "outputs": [
    {
     "name": "stdout",
     "output_type": "stream",
     "text": [
      "81/81 [==============================] - 2s 22ms/step - loss: 1.3391 - accuracy: 0.5602\n",
      "\n",
      "Val metrics\n",
      "{'loss': 1.339092493057251, 'accuracy': 0.5601851940155029}\n"
     ]
    }
   ],
   "source": [
    "# Evaluate on val\n",
    "val_metrics = IN.evaluate(valid_gen, return_dict=True)\n",
    "\n",
    "print()\n",
    "print(\"Val metrics\")\n",
    "print(val_metrics)"
   ]
  },
  {
   "cell_type": "code",
   "execution_count": 17,
   "id": "6833ab0a",
   "metadata": {
    "execution": {
     "iopub.execute_input": "2022-11-19T14:03:17.967889Z",
     "iopub.status.busy": "2022-11-19T14:03:17.967525Z",
     "iopub.status.idle": "2022-11-19T14:03:17.971991Z",
     "shell.execute_reply": "2022-11-19T14:03:17.971002Z"
    },
    "papermill": {
     "duration": 1.416214,
     "end_time": "2022-11-19T14:03:17.974066",
     "exception": false,
     "start_time": "2022-11-19T14:03:16.557852",
     "status": "completed"
    },
    "tags": []
   },
   "outputs": [],
   "source": [
    "import shutil\n",
    "#shutil.make_archive(\"IN_v1.1.4\", 'zip', \"/kaggle/working/IN_v1.1.4\")"
   ]
  },
  {
   "cell_type": "markdown",
   "id": "bcb1db74",
   "metadata": {
    "papermill": {
     "duration": 1.69544,
     "end_time": "2022-11-19T14:03:21.099005",
     "exception": false,
     "start_time": "2022-11-19T14:03:19.403565",
     "status": "completed"
    },
    "tags": []
   },
   "source": [
    "## Fine tuning"
   ]
  }
 ],
 "metadata": {
  "kernelspec": {
   "display_name": "Python 3",
   "language": "python",
   "name": "python3"
  },
  "language_info": {
   "codemirror_mode": {
    "name": "ipython",
    "version": 3
   },
   "file_extension": ".py",
   "mimetype": "text/x-python",
   "name": "python",
   "nbconvert_exporter": "python",
   "pygments_lexer": "ipython3",
   "version": "3.7.12"
  },
  "papermill": {
   "default_parameters": {},
   "duration": 2064.014657,
   "end_time": "2022-11-19T14:03:26.094182",
   "environment_variables": {},
   "exception": null,
   "input_path": "__notebook__.ipynb",
   "output_path": "__notebook__.ipynb",
   "parameters": {},
   "start_time": "2022-11-19T13:29:02.079525",
   "version": "2.3.4"
  }
 },
 "nbformat": 4,
 "nbformat_minor": 5
}
