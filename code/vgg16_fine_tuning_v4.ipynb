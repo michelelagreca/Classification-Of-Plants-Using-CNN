{
 "cells": [
  {
   "cell_type": "markdown",
   "id": "f8588a1f",
   "metadata": {
    "papermill": {
     "duration": 0.019182,
     "end_time": "2022-11-20T01:47:50.805532",
     "exception": false,
     "start_time": "2022-11-20T01:47:50.786350",
     "status": "completed"
    },
    "tags": []
   },
   "source": [
    "## Prelimiary Operations"
   ]
  },
  {
   "cell_type": "markdown",
   "id": "52746058",
   "metadata": {
    "papermill": {
     "duration": 0.017399,
     "end_time": "2022-11-20T01:47:50.840871",
     "exception": false,
     "start_time": "2022-11-20T01:47:50.823472",
     "status": "completed"
    },
    "tags": []
   },
   "source": [
    "### Manage the directories"
   ]
  },
  {
   "cell_type": "code",
   "execution_count": 1,
   "id": "11a7102b",
   "metadata": {
    "execution": {
     "iopub.execute_input": "2022-11-20T01:47:50.954129Z",
     "iopub.status.busy": "2022-11-20T01:47:50.953524Z",
     "iopub.status.idle": "2022-11-20T01:47:50.964019Z",
     "shell.execute_reply": "2022-11-20T01:47:50.964435Z",
     "shell.execute_reply.started": "2022-11-20T01:44:18.319991Z"
    },
    "papermill": {
     "duration": 0.106469,
     "end_time": "2022-11-20T01:47:50.964706",
     "exception": false,
     "start_time": "2022-11-20T01:47:50.858237",
     "status": "completed"
    },
    "tags": []
   },
   "outputs": [
    {
     "data": {
      "text/plain": [
       "['val', 'test', 'train']"
      ]
     },
     "execution_count": 1,
     "metadata": {},
     "output_type": "execute_result"
    }
   ],
   "source": [
    "# Not important\n",
    "import os\n",
    "os.listdir(\"../input/an2dlhw1bal-dataset/splitted_dataset\")"
   ]
  },
  {
   "cell_type": "code",
   "execution_count": 2,
   "id": "e830f5df",
   "metadata": {
    "execution": {
     "iopub.execute_input": "2022-11-20T01:47:51.006775Z",
     "iopub.status.busy": "2022-11-20T01:47:51.005978Z",
     "iopub.status.idle": "2022-11-20T01:47:51.008035Z",
     "shell.execute_reply": "2022-11-20T01:47:51.008401Z",
     "shell.execute_reply.started": "2022-11-20T01:44:18.336677Z"
    },
    "papermill": {
     "duration": 0.025781,
     "end_time": "2022-11-20T01:47:51.008528",
     "exception": false,
     "start_time": "2022-11-20T01:47:50.982747",
     "status": "completed"
    },
    "tags": []
   },
   "outputs": [],
   "source": [
    "# To delete a folder\n",
    "import shutil\n",
    "if os.path.exists(\"/kaggle/working/andrea\"):\n",
    "    shutil.rmtree(\"/kaggle/working/andrea\")"
   ]
  },
  {
   "cell_type": "code",
   "execution_count": 3,
   "id": "10dfd4c8",
   "metadata": {
    "execution": {
     "iopub.execute_input": "2022-11-20T01:47:51.046989Z",
     "iopub.status.busy": "2022-11-20T01:47:51.046290Z",
     "iopub.status.idle": "2022-11-20T01:47:51.048764Z",
     "shell.execute_reply": "2022-11-20T01:47:51.048322Z",
     "shell.execute_reply.started": "2022-11-20T01:44:18.342793Z"
    },
    "papermill": {
     "duration": 0.023112,
     "end_time": "2022-11-20T01:47:51.048876",
     "exception": false,
     "start_time": "2022-11-20T01:47:51.025764",
     "status": "completed"
    },
    "tags": []
   },
   "outputs": [],
   "source": [
    "# to remove a file\n",
    "import os\n",
    "if os.path.exists(\"/kaggle/working/model.png\"):\n",
    "    os.remove(\"/kaggle/working/model.png\")"
   ]
  },
  {
   "cell_type": "code",
   "execution_count": 4,
   "id": "d05ae00e",
   "metadata": {
    "execution": {
     "iopub.execute_input": "2022-11-20T01:47:51.088079Z",
     "iopub.status.busy": "2022-11-20T01:47:51.087441Z",
     "iopub.status.idle": "2022-11-20T01:47:51.090149Z",
     "shell.execute_reply": "2022-11-20T01:47:51.089718Z",
     "shell.execute_reply.started": "2022-11-20T01:44:18.351846Z"
    },
    "papermill": {
     "duration": 0.02382,
     "end_time": "2022-11-20T01:47:51.090251",
     "exception": false,
     "start_time": "2022-11-20T01:47:51.066431",
     "status": "completed"
    },
    "tags": []
   },
   "outputs": [],
   "source": [
    "# to create a folder\n",
    "import os\n",
    "directory = \"VGG16\"\n",
    "parent_dir = \"/kaggle/working\"\n",
    "path = os.path.join(parent_dir, directory)\n",
    "if not os.path.exists(path):\n",
    "    os.mkdir(path)"
   ]
  },
  {
   "cell_type": "markdown",
   "id": "4695a91a",
   "metadata": {
    "papermill": {
     "duration": 0.017478,
     "end_time": "2022-11-20T01:47:51.165148",
     "exception": false,
     "start_time": "2022-11-20T01:47:51.147670",
     "status": "completed"
    },
    "tags": []
   },
   "source": [
    "### Operations"
   ]
  },
  {
   "cell_type": "code",
   "execution_count": 6,
   "id": "740c3202",
   "metadata": {
    "execution": {
     "iopub.execute_input": "2022-11-20T01:47:51.204396Z",
     "iopub.status.busy": "2022-11-20T01:47:51.203878Z",
     "iopub.status.idle": "2022-11-20T01:47:56.837082Z",
     "shell.execute_reply": "2022-11-20T01:47:56.836168Z",
     "shell.execute_reply.started": "2022-11-20T01:44:18.370356Z"
    },
    "papermill": {
     "duration": 5.654775,
     "end_time": "2022-11-20T01:47:56.837239",
     "exception": false,
     "start_time": "2022-11-20T01:47:51.182464",
     "status": "completed"
    },
    "tags": []
   },
   "outputs": [
    {
     "name": "stderr",
     "output_type": "stream",
     "text": [
      "2022-11-20 01:47:51.800965: I tensorflow/stream_executor/platform/default/dso_loader.cc:49] Successfully opened dynamic library libcudart.so.11.0\n"
     ]
    }
   ],
   "source": [
    "import tensorflow as tf\n",
    "import numpy as np\n",
    "import os\n",
    "import random\n",
    "import pandas as pd\n",
    "import seaborn as sns\n",
    "import matplotlib as mpl\n",
    "import matplotlib.pyplot as plt\n",
    "from sklearn.model_selection import train_test_split\n",
    "from sklearn.metrics import accuracy_score, f1_score, precision_score, recall_score\n",
    "from sklearn.metrics import confusion_matrix\n",
    "from PIL import Image\n",
    "\n",
    "tfk = tf.keras\n",
    "tfkl = tf.keras.layers"
   ]
  },
  {
   "cell_type": "code",
   "execution_count": 7,
   "id": "516fc948",
   "metadata": {
    "execution": {
     "iopub.execute_input": "2022-11-20T01:47:56.878889Z",
     "iopub.status.busy": "2022-11-20T01:47:56.877310Z",
     "iopub.status.idle": "2022-11-20T01:47:56.879529Z",
     "shell.execute_reply": "2022-11-20T01:47:56.879974Z",
     "shell.execute_reply.started": "2022-11-20T01:44:23.849747Z"
    },
    "papermill": {
     "duration": 0.024792,
     "end_time": "2022-11-20T01:47:56.880107",
     "exception": false,
     "start_time": "2022-11-20T01:47:56.855315",
     "status": "completed"
    },
    "tags": []
   },
   "outputs": [],
   "source": [
    "# Random seed for reproducibility\n",
    "seed = 42\n",
    "\n",
    "random.seed(seed)\n",
    "os.environ['PYTHONHASHSEED'] = str(seed)\n",
    "np.random.seed(seed)\n",
    "tf.random.set_seed(seed)\n",
    "tf.compat.v1.set_random_seed(seed)"
   ]
  },
  {
   "cell_type": "code",
   "execution_count": 8,
   "id": "0f24d0c6",
   "metadata": {
    "execution": {
     "iopub.execute_input": "2022-11-20T01:47:56.921701Z",
     "iopub.status.busy": "2022-11-20T01:47:56.920927Z",
     "iopub.status.idle": "2022-11-20T01:47:56.922952Z",
     "shell.execute_reply": "2022-11-20T01:47:56.923324Z",
     "shell.execute_reply.started": "2022-11-20T01:44:23.857435Z"
    },
    "papermill": {
     "duration": 0.025583,
     "end_time": "2022-11-20T01:47:56.923465",
     "exception": false,
     "start_time": "2022-11-20T01:47:56.897882",
     "status": "completed"
    },
    "tags": []
   },
   "outputs": [],
   "source": [
    "import warnings\n",
    "import logging\n",
    "\n",
    "os.environ['TF_CPP_MIN_LOG_LEVEL'] = '2'\n",
    "warnings.simplefilter(action='ignore', category=FutureWarning)\n",
    "warnings.simplefilter(action='ignore', category=Warning)\n",
    "tf.get_logger().setLevel('INFO')\n",
    "tf.autograph.set_verbosity(0)\n",
    "\n",
    "tf.get_logger().setLevel(logging.ERROR)\n",
    "tf.get_logger().setLevel('ERROR')\n",
    "tf.compat.v1.logging.set_verbosity(tf.compat.v1.logging.ERROR)"
   ]
  },
  {
   "cell_type": "markdown",
   "id": "4313f053",
   "metadata": {
    "papermill": {
     "duration": 0.018004,
     "end_time": "2022-11-20T01:47:56.959669",
     "exception": false,
     "start_time": "2022-11-20T01:47:56.941665",
     "status": "completed"
    },
    "tags": []
   },
   "source": [
    "## Importing data"
   ]
  },
  {
   "cell_type": "code",
   "execution_count": 9,
   "id": "12436510",
   "metadata": {
    "execution": {
     "iopub.execute_input": "2022-11-20T01:47:57.000776Z",
     "iopub.status.busy": "2022-11-20T01:47:56.999897Z",
     "iopub.status.idle": "2022-11-20T01:47:57.002511Z",
     "shell.execute_reply": "2022-11-20T01:47:57.002066Z",
     "shell.execute_reply.started": "2022-11-20T01:44:23.869779Z"
    },
    "papermill": {
     "duration": 0.024558,
     "end_time": "2022-11-20T01:47:57.002630",
     "exception": false,
     "start_time": "2022-11-20T01:47:56.978072",
     "status": "completed"
    },
    "tags": []
   },
   "outputs": [],
   "source": [
    "# Dataset folders. No test set. Test is performed on online server\n",
    "dataset_dir = '../input/splitted-dataset-no-test/splitted_dataset_no_test'\n",
    "training_dir = os.path.join(dataset_dir, 'train')\n",
    "validation_dir = os.path.join(dataset_dir, 'val')"
   ]
  },
  {
   "cell_type": "code",
   "execution_count": 10,
   "id": "6c6b1844",
   "metadata": {
    "execution": {
     "iopub.execute_input": "2022-11-20T01:47:57.042569Z",
     "iopub.status.busy": "2022-11-20T01:47:57.042037Z",
     "iopub.status.idle": "2022-11-20T01:47:57.045915Z",
     "shell.execute_reply": "2022-11-20T01:47:57.045410Z",
     "shell.execute_reply.started": "2022-11-20T01:44:23.876881Z"
    },
    "papermill": {
     "duration": 0.025183,
     "end_time": "2022-11-20T01:47:57.046044",
     "exception": false,
     "start_time": "2022-11-20T01:47:57.020861",
     "status": "completed"
    },
    "tags": []
   },
   "outputs": [],
   "source": [
    "img_height = 96\n",
    "img_width =96\n",
    "batch_size = 32"
   ]
  },
  {
   "cell_type": "code",
   "execution_count": 11,
   "id": "d8bc399b",
   "metadata": {
    "execution": {
     "iopub.execute_input": "2022-11-20T01:47:57.088998Z",
     "iopub.status.busy": "2022-11-20T01:47:57.088440Z",
     "iopub.status.idle": "2022-11-20T01:47:57.710435Z",
     "shell.execute_reply": "2022-11-20T01:47:57.709602Z",
     "shell.execute_reply.started": "2022-11-20T01:44:23.886405Z"
    },
    "papermill": {
     "duration": 0.646677,
     "end_time": "2022-11-20T01:47:57.710567",
     "exception": false,
     "start_time": "2022-11-20T01:47:57.063890",
     "status": "completed"
    },
    "tags": []
   },
   "outputs": [
    {
     "name": "stdout",
     "output_type": "stream",
     "text": [
      "Found 3432 images belonging to 8 classes.\n",
      "Found 864 images belonging to 8 classes.\n"
     ]
    }
   ],
   "source": [
    "# Images are divided into folders, one for each class. \n",
    "# If the images are organized in such a way, we can exploit the \n",
    "# ImageDataGenerator to read them from disk.\n",
    "from tensorflow.keras.preprocessing.image import ImageDataGenerator\n",
    "\n",
    "# Create an instance of ImageDataGenerator, and for the trainign with Data Augmentation\n",
    "\n",
    "# Augmentation without normalization\n",
    "train_data_gen = ImageDataGenerator(rotation_range=15,\n",
    "                                        height_shift_range=0.2,\n",
    "                                        width_shift_range=0.2,\n",
    "                                        zoom_range=0.2,\n",
    "                                        horizontal_flip=True,\n",
    "                                        shear_range=0.2,\n",
    "                                        fill_mode='reflect')\n",
    "\n",
    "# Use this for no augmentation. No normaliztion\n",
    "#train_data_gen = ImageDataGenerator()\n",
    "valid_data_gen = ImageDataGenerator()\n",
    "\n",
    "# Obtain a data generator with the 'ImageDataGenerator.flow_from_directory' method\n",
    "train_gen = train_data_gen.flow_from_directory(directory=training_dir,\n",
    "                                                       target_size=(96,96),\n",
    "                                                       color_mode='rgb',\n",
    "                                                       classes=None, # can be set to labels\n",
    "                                                       class_mode='categorical',\n",
    "                                                       batch_size=8,\n",
    "                                                       shuffle=True,\n",
    "                                                       seed=seed)\n",
    "\n",
    "valid_gen = valid_data_gen.flow_from_directory(directory=validation_dir,\n",
    "                                               target_size=(96,96),\n",
    "                                               color_mode='rgb',\n",
    "                                               classes=None, # can be set to labels\n",
    "                                               class_mode='categorical',\n",
    "                                               batch_size=8,\n",
    "                                               shuffle=False,\n",
    "                                               seed=seed)"
   ]
  },
  {
   "cell_type": "markdown",
   "id": "a4d4080a",
   "metadata": {
    "papermill": {
     "duration": 0.01824,
     "end_time": "2022-11-20T01:47:57.747567",
     "exception": false,
     "start_time": "2022-11-20T01:47:57.729327",
     "status": "completed"
    },
    "tags": []
   },
   "source": [
    "## Model"
   ]
  },
  {
   "cell_type": "code",
   "execution_count": 12,
   "id": "7834565a",
   "metadata": {
    "execution": {
     "iopub.execute_input": "2022-11-20T01:47:57.790404Z",
     "iopub.status.busy": "2022-11-20T01:47:57.789772Z",
     "iopub.status.idle": "2022-11-20T01:47:58.755827Z",
     "shell.execute_reply": "2022-11-20T01:47:58.755000Z",
     "shell.execute_reply.started": "2022-11-20T01:44:24.624119Z"
    },
    "papermill": {
     "duration": 0.989868,
     "end_time": "2022-11-20T01:47:58.755973",
     "exception": false,
     "start_time": "2022-11-20T01:47:57.766105",
     "status": "completed"
    },
    "tags": []
   },
   "outputs": [],
   "source": [
    "!cd /kaggle/working/VGG16"
   ]
  },
  {
   "cell_type": "code",
   "execution_count": 13,
   "id": "33962d18",
   "metadata": {
    "execution": {
     "iopub.execute_input": "2022-11-20T01:47:58.802702Z",
     "iopub.status.busy": "2022-11-20T01:47:58.801952Z",
     "iopub.status.idle": "2022-11-20T01:48:02.717426Z",
     "shell.execute_reply": "2022-11-20T01:48:02.716670Z",
     "shell.execute_reply.started": "2022-11-20T01:44:25.574469Z"
    },
    "papermill": {
     "duration": 3.942687,
     "end_time": "2022-11-20T01:48:02.717558",
     "exception": false,
     "start_time": "2022-11-20T01:47:58.774871",
     "status": "completed"
    },
    "tags": []
   },
   "outputs": [
    {
     "name": "stderr",
     "output_type": "stream",
     "text": [
      "2022-11-20 01:47:58.828545: I tensorflow/compiler/jit/xla_cpu_device.cc:41] Not creating XLA devices, tf_xla_enable_xla_devices not set\n",
      "2022-11-20 01:47:58.832170: I tensorflow/stream_executor/platform/default/dso_loader.cc:49] Successfully opened dynamic library libcuda.so.1\n",
      "2022-11-20 01:47:58.898774: I tensorflow/stream_executor/cuda/cuda_gpu_executor.cc:941] successful NUMA node read from SysFS had negative value (-1), but there must be at least one NUMA node, so returning NUMA node zero\n",
      "2022-11-20 01:47:58.899460: I tensorflow/core/common_runtime/gpu/gpu_device.cc:1720] Found device 0 with properties: \n",
      "pciBusID: 0000:00:04.0 name: Tesla P100-PCIE-16GB computeCapability: 6.0\n",
      "coreClock: 1.3285GHz coreCount: 56 deviceMemorySize: 15.90GiB deviceMemoryBandwidth: 681.88GiB/s\n",
      "2022-11-20 01:47:58.899533: I tensorflow/stream_executor/platform/default/dso_loader.cc:49] Successfully opened dynamic library libcudart.so.11.0\n",
      "2022-11-20 01:47:58.930439: I tensorflow/stream_executor/platform/default/dso_loader.cc:49] Successfully opened dynamic library libcublas.so.11\n",
      "2022-11-20 01:47:58.930546: I tensorflow/stream_executor/platform/default/dso_loader.cc:49] Successfully opened dynamic library libcublasLt.so.11\n",
      "2022-11-20 01:47:58.952629: I tensorflow/stream_executor/platform/default/dso_loader.cc:49] Successfully opened dynamic library libcufft.so.10\n",
      "2022-11-20 01:47:58.970229: I tensorflow/stream_executor/platform/default/dso_loader.cc:49] Successfully opened dynamic library libcurand.so.10\n",
      "2022-11-20 01:47:59.003212: I tensorflow/stream_executor/platform/default/dso_loader.cc:49] Successfully opened dynamic library libcusolver.so.10\n",
      "2022-11-20 01:47:59.013708: I tensorflow/stream_executor/platform/default/dso_loader.cc:49] Successfully opened dynamic library libcusparse.so.11\n",
      "2022-11-20 01:47:59.017012: I tensorflow/stream_executor/platform/default/dso_loader.cc:49] Successfully opened dynamic library libcudnn.so.8\n",
      "2022-11-20 01:47:59.017182: I tensorflow/stream_executor/cuda/cuda_gpu_executor.cc:941] successful NUMA node read from SysFS had negative value (-1), but there must be at least one NUMA node, so returning NUMA node zero\n",
      "2022-11-20 01:47:59.017996: I tensorflow/stream_executor/cuda/cuda_gpu_executor.cc:941] successful NUMA node read from SysFS had negative value (-1), but there must be at least one NUMA node, so returning NUMA node zero\n",
      "2022-11-20 01:47:59.019605: I tensorflow/core/common_runtime/gpu/gpu_device.cc:1862] Adding visible gpu devices: 0\n",
      "2022-11-20 01:47:59.020274: I tensorflow/core/platform/cpu_feature_guard.cc:142] This TensorFlow binary is optimized with oneAPI Deep Neural Network Library (oneDNN) to use the following CPU instructions in performance-critical operations:  AVX2 AVX512F FMA\n",
      "To enable them in other operations, rebuild TensorFlow with the appropriate compiler flags.\n",
      "2022-11-20 01:47:59.020481: I tensorflow/compiler/jit/xla_gpu_device.cc:99] Not creating XLA devices, tf_xla_enable_xla_devices not set\n",
      "2022-11-20 01:47:59.020661: I tensorflow/stream_executor/cuda/cuda_gpu_executor.cc:941] successful NUMA node read from SysFS had negative value (-1), but there must be at least one NUMA node, so returning NUMA node zero\n",
      "2022-11-20 01:47:59.021256: I tensorflow/core/common_runtime/gpu/gpu_device.cc:1720] Found device 0 with properties: \n",
      "pciBusID: 0000:00:04.0 name: Tesla P100-PCIE-16GB computeCapability: 6.0\n",
      "coreClock: 1.3285GHz coreCount: 56 deviceMemorySize: 15.90GiB deviceMemoryBandwidth: 681.88GiB/s\n",
      "2022-11-20 01:47:59.021301: I tensorflow/stream_executor/platform/default/dso_loader.cc:49] Successfully opened dynamic library libcudart.so.11.0\n",
      "2022-11-20 01:47:59.021329: I tensorflow/stream_executor/platform/default/dso_loader.cc:49] Successfully opened dynamic library libcublas.so.11\n",
      "2022-11-20 01:47:59.021347: I tensorflow/stream_executor/platform/default/dso_loader.cc:49] Successfully opened dynamic library libcublasLt.so.11\n",
      "2022-11-20 01:47:59.021364: I tensorflow/stream_executor/platform/default/dso_loader.cc:49] Successfully opened dynamic library libcufft.so.10\n",
      "2022-11-20 01:47:59.021382: I tensorflow/stream_executor/platform/default/dso_loader.cc:49] Successfully opened dynamic library libcurand.so.10\n",
      "2022-11-20 01:47:59.021399: I tensorflow/stream_executor/platform/default/dso_loader.cc:49] Successfully opened dynamic library libcusolver.so.10\n",
      "2022-11-20 01:47:59.021418: I tensorflow/stream_executor/platform/default/dso_loader.cc:49] Successfully opened dynamic library libcusparse.so.11\n",
      "2022-11-20 01:47:59.021436: I tensorflow/stream_executor/platform/default/dso_loader.cc:49] Successfully opened dynamic library libcudnn.so.8\n",
      "2022-11-20 01:47:59.021538: I tensorflow/stream_executor/cuda/cuda_gpu_executor.cc:941] successful NUMA node read from SysFS had negative value (-1), but there must be at least one NUMA node, so returning NUMA node zero\n",
      "2022-11-20 01:47:59.022214: I tensorflow/stream_executor/cuda/cuda_gpu_executor.cc:941] successful NUMA node read from SysFS had negative value (-1), but there must be at least one NUMA node, so returning NUMA node zero\n",
      "2022-11-20 01:47:59.022800: I tensorflow/core/common_runtime/gpu/gpu_device.cc:1862] Adding visible gpu devices: 0\n",
      "2022-11-20 01:47:59.024180: I tensorflow/stream_executor/platform/default/dso_loader.cc:49] Successfully opened dynamic library libcudart.so.11.0\n",
      "2022-11-20 01:48:00.677701: I tensorflow/core/common_runtime/gpu/gpu_device.cc:1261] Device interconnect StreamExecutor with strength 1 edge matrix:\n",
      "2022-11-20 01:48:00.677747: I tensorflow/core/common_runtime/gpu/gpu_device.cc:1267]      0 \n",
      "2022-11-20 01:48:00.677758: I tensorflow/core/common_runtime/gpu/gpu_device.cc:1280] 0:   N \n",
      "2022-11-20 01:48:00.680176: I tensorflow/stream_executor/cuda/cuda_gpu_executor.cc:941] successful NUMA node read from SysFS had negative value (-1), but there must be at least one NUMA node, so returning NUMA node zero\n",
      "2022-11-20 01:48:00.681007: I tensorflow/stream_executor/cuda/cuda_gpu_executor.cc:941] successful NUMA node read from SysFS had negative value (-1), but there must be at least one NUMA node, so returning NUMA node zero\n",
      "2022-11-20 01:48:00.681696: I tensorflow/stream_executor/cuda/cuda_gpu_executor.cc:941] successful NUMA node read from SysFS had negative value (-1), but there must be at least one NUMA node, so returning NUMA node zero\n",
      "2022-11-20 01:48:00.682275: I tensorflow/core/common_runtime/gpu/gpu_device.cc:1406] Created TensorFlow device (/job:localhost/replica:0/task:0/device:GPU:0 with 14957 MB memory) -> physical GPU (device: 0, name: Tesla P100-PCIE-16GB, pci bus id: 0000:00:04.0, compute capability: 6.0)\n"
     ]
    },
    {
     "name": "stdout",
     "output_type": "stream",
     "text": [
      "Downloading data from https://storage.googleapis.com/tensorflow/keras-applications/vgg16/vgg16_weights_tf_dim_ordering_tf_kernels_notop.h5\n",
      "58892288/58889256 [==============================] - 0s 0us/step\n",
      "Model: \"vgg16\"\n",
      "_________________________________________________________________\n",
      "Layer (type)                 Output Shape              Param #   \n",
      "=================================================================\n",
      "input_1 (InputLayer)         [(None, 96, 96, 3)]       0         \n",
      "_________________________________________________________________\n",
      "block1_conv1 (Conv2D)        (None, 96, 96, 64)        1792      \n",
      "_________________________________________________________________\n",
      "block1_conv2 (Conv2D)        (None, 96, 96, 64)        36928     \n",
      "_________________________________________________________________\n",
      "block1_pool (MaxPooling2D)   (None, 48, 48, 64)        0         \n",
      "_________________________________________________________________\n",
      "block2_conv1 (Conv2D)        (None, 48, 48, 128)       73856     \n",
      "_________________________________________________________________\n",
      "block2_conv2 (Conv2D)        (None, 48, 48, 128)       147584    \n",
      "_________________________________________________________________\n",
      "block2_pool (MaxPooling2D)   (None, 24, 24, 128)       0         \n",
      "_________________________________________________________________\n",
      "block3_conv1 (Conv2D)        (None, 24, 24, 256)       295168    \n",
      "_________________________________________________________________\n",
      "block3_conv2 (Conv2D)        (None, 24, 24, 256)       590080    \n",
      "_________________________________________________________________\n",
      "block3_conv3 (Conv2D)        (None, 24, 24, 256)       590080    \n",
      "_________________________________________________________________\n",
      "block3_pool (MaxPooling2D)   (None, 12, 12, 256)       0         \n",
      "_________________________________________________________________\n",
      "block4_conv1 (Conv2D)        (None, 12, 12, 512)       1180160   \n",
      "_________________________________________________________________\n",
      "block4_conv2 (Conv2D)        (None, 12, 12, 512)       2359808   \n",
      "_________________________________________________________________\n",
      "block4_conv3 (Conv2D)        (None, 12, 12, 512)       2359808   \n",
      "_________________________________________________________________\n",
      "block4_pool (MaxPooling2D)   (None, 6, 6, 512)         0         \n",
      "_________________________________________________________________\n",
      "block5_conv1 (Conv2D)        (None, 6, 6, 512)         2359808   \n",
      "_________________________________________________________________\n",
      "block5_conv2 (Conv2D)        (None, 6, 6, 512)         2359808   \n",
      "_________________________________________________________________\n",
      "block5_conv3 (Conv2D)        (None, 6, 6, 512)         2359808   \n",
      "_________________________________________________________________\n",
      "block5_pool (MaxPooling2D)   (None, 3, 3, 512)         0         \n",
      "=================================================================\n",
      "Total params: 14,714,688\n",
      "Trainable params: 14,714,688\n",
      "Non-trainable params: 0\n",
      "_________________________________________________________________\n"
     ]
    },
    {
     "data": {
      "image/png": "[encoded data removed]",
      "text/plain": [
       "<IPython.core.display.Image object>"
      ]
     },
     "execution_count": 13,
     "metadata": {},
     "output_type": "execute_result"
    }
   ],
   "source": [
    "# Download and plot the VGG16 model\n",
    "supernet = tfk.applications.VGG16(\n",
    "    include_top=False,\n",
    "    weights=\"imagenet\",\n",
    "    input_shape=(96,96,3)\n",
    ")\n",
    "supernet.summary()\n",
    "tfk.utils.plot_model(supernet)"
   ]
  },
  {
   "cell_type": "code",
   "execution_count": 14,
   "id": "558e0afd",
   "metadata": {
    "execution": {
     "iopub.execute_input": "2022-11-20T01:48:02.766803Z",
     "iopub.status.busy": "2022-11-20T01:48:02.766165Z",
     "iopub.status.idle": "2022-11-20T01:48:02.769748Z",
     "shell.execute_reply": "2022-11-20T01:48:02.770163Z",
     "shell.execute_reply.started": "2022-11-20T01:44:29.799852Z"
    },
    "papermill": {
     "duration": 0.030137,
     "end_time": "2022-11-20T01:48:02.770285",
     "exception": false,
     "start_time": "2022-11-20T01:48:02.740148",
     "status": "completed"
    },
    "tags": []
   },
   "outputs": [],
   "source": [
    "input_shape = (96, 96, 3)\n",
    "epochs = 200\n",
    "l1=1e-4\n",
    "l2=1e-3\n",
    "learning_rate = 1e-4"
   ]
  },
  {
   "cell_type": "code",
   "execution_count": 15,
   "id": "c57c0f33",
   "metadata": {
    "execution": {
     "iopub.execute_input": "2022-11-20T01:48:02.817639Z",
     "iopub.status.busy": "2022-11-20T01:48:02.817093Z",
     "iopub.status.idle": "2022-11-20T01:48:05.684321Z",
     "shell.execute_reply": "2022-11-20T01:48:05.684797Z",
     "shell.execute_reply.started": "2022-11-20T01:46:22.446701Z"
    },
    "papermill": {
     "duration": 2.893123,
     "end_time": "2022-11-20T01:48:05.684986",
     "exception": false,
     "start_time": "2022-11-20T01:48:02.791863",
     "status": "completed"
    },
    "tags": []
   },
   "outputs": [
    {
     "name": "stdout",
     "output_type": "stream",
     "text": [
      "Model: \"model\"\n",
      "_________________________________________________________________\n",
      "Layer (type)                 Output Shape              Param #   \n",
      "=================================================================\n",
      "input_layer (InputLayer)     [(None, 96, 96, 3)]       0         \n",
      "_________________________________________________________________\n",
      "vgg16 (Functional)           (None, 3, 3, 512)         14714688  \n",
      "_________________________________________________________________\n",
      "global_average_pooling2d (Gl (None, 512)               0         \n",
      "_________________________________________________________________\n",
      "dropout (Dropout)            (None, 512)               0         \n",
      "_________________________________________________________________\n",
      "classifier1 (Dense)          (None, 512)               262656    \n",
      "_________________________________________________________________\n",
      "batch_normalization (BatchNo (None, 512)               2048      \n",
      "_________________________________________________________________\n",
      "dropout_1 (Dropout)          (None, 512)               0         \n",
      "_________________________________________________________________\n",
      "classifier2 (Dense)          (None, 64)                32832     \n",
      "_________________________________________________________________\n",
      "batch_normalization_1 (Batch (None, 64)                256       \n",
      "_________________________________________________________________\n",
      "dropout_2 (Dropout)          (None, 64)                0         \n",
      "_________________________________________________________________\n",
      "dense (Dense)                (None, 8)                 520       \n",
      "=================================================================\n",
      "Total params: 15,013,000\n",
      "Trainable params: 15,011,848\n",
      "Non-trainable params: 1,152\n",
      "_________________________________________________________________\n"
     ]
    }
   ],
   "source": [
    "# Re-load the model after transfer learning\n",
    "tl_model = tfk.models.load_model('../input/vgg-fine-tuned-19-11-2022')\n",
    "tl_model.summary()"
   ]
  },
  {
   "cell_type": "code",
   "execution_count": 16,
   "id": "cd39f850",
   "metadata": {
    "execution": {
     "iopub.execute_input": "2022-11-20T01:48:05.742403Z",
     "iopub.status.busy": "2022-11-20T01:48:05.741537Z",
     "iopub.status.idle": "2022-11-20T01:48:05.753273Z",
     "shell.execute_reply": "2022-11-20T01:48:05.753713Z",
     "shell.execute_reply.started": "2022-11-19T17:37:29.989479Z"
    },
    "papermill": {
     "duration": 0.046497,
     "end_time": "2022-11-20T01:48:05.753861",
     "exception": false,
     "start_time": "2022-11-20T01:48:05.707364",
     "status": "completed"
    },
    "tags": []
   },
   "outputs": [
    {
     "name": "stdout",
     "output_type": "stream",
     "text": [
      "0 input_1 False\n",
      "1 block1_conv1 False\n",
      "2 block1_conv2 False\n",
      "3 block1_pool False\n",
      "4 block2_conv1 False\n",
      "5 block2_conv2 False\n",
      "6 block2_pool False\n",
      "7 block3_conv1 True\n",
      "8 block3_conv2 True\n",
      "9 block3_conv3 True\n",
      "10 block3_pool True\n",
      "11 block4_conv1 True\n",
      "12 block4_conv2 True\n",
      "13 block4_conv3 True\n",
      "14 block4_pool True\n",
      "15 block5_conv1 True\n",
      "16 block5_conv2 True\n",
      "17 block5_conv3 True\n",
      "18 block5_pool True\n",
      "Model: \"model\"\n",
      "_________________________________________________________________\n",
      "Layer (type)                 Output Shape              Param #   \n",
      "=================================================================\n",
      "input_layer (InputLayer)     [(None, 96, 96, 3)]       0         \n",
      "_________________________________________________________________\n",
      "vgg16 (Functional)           (None, 3, 3, 512)         14714688  \n",
      "_________________________________________________________________\n",
      "global_average_pooling2d (Gl (None, 512)               0         \n",
      "_________________________________________________________________\n",
      "dropout (Dropout)            (None, 512)               0         \n",
      "_________________________________________________________________\n",
      "classifier1 (Dense)          (None, 512)               262656    \n",
      "_________________________________________________________________\n",
      "batch_normalization (BatchNo (None, 512)               2048      \n",
      "_________________________________________________________________\n",
      "dropout_1 (Dropout)          (None, 512)               0         \n",
      "_________________________________________________________________\n",
      "classifier2 (Dense)          (None, 64)                32832     \n",
      "_________________________________________________________________\n",
      "batch_normalization_1 (Batch (None, 64)                256       \n",
      "_________________________________________________________________\n",
      "dropout_2 (Dropout)          (None, 64)                0         \n",
      "_________________________________________________________________\n",
      "dense (Dense)                (None, 8)                 520       \n",
      "=================================================================\n",
      "Total params: 15,013,000\n",
      "Trainable params: 14,751,688\n",
      "Non-trainable params: 261,312\n",
      "_________________________________________________________________\n"
     ]
    }
   ],
   "source": [
    "# Phase 1: freeze up to level 7\n",
    "tl_model.get_layer('vgg16').trainable = True\n",
    "N = 7\n",
    "\n",
    "for i, layer in enumerate(tl_model.get_layer('vgg16').layers[:N]):\n",
    "  layer.trainable=False\n",
    "for i, layer in enumerate(tl_model.get_layer('vgg16').layers):\n",
    "   print(i, layer.name, layer.trainable)\n",
    "tl_model.summary()"
   ]
  },
  {
   "cell_type": "code",
   "execution_count": 17,
   "id": "8520993f",
   "metadata": {
    "execution": {
     "iopub.execute_input": "2022-11-20T01:48:05.808867Z",
     "iopub.status.busy": "2022-11-20T01:48:05.807975Z",
     "iopub.status.idle": "2022-11-20T01:48:05.813515Z",
     "shell.execute_reply": "2022-11-20T01:48:05.813055Z",
     "shell.execute_reply.started": "2022-11-19T16:57:06.156968Z"
    },
    "papermill": {
     "duration": 0.036823,
     "end_time": "2022-11-20T01:48:05.813640",
     "exception": false,
     "start_time": "2022-11-20T01:48:05.776817",
     "status": "completed"
    },
    "tags": []
   },
   "outputs": [],
   "source": [
    "# Compile the model\n",
    "tl_model.compile(loss=tfk.losses.CategoricalCrossentropy(), optimizer=tfk.optimizers.RMSprop(learning_rate), metrics='accuracy')"
   ]
  },
  {
   "cell_type": "markdown",
   "id": "bdc21d9e",
   "metadata": {
    "papermill": {
     "duration": 0.023378,
     "end_time": "2022-11-20T01:48:05.860664",
     "exception": false,
     "start_time": "2022-11-20T01:48:05.837286",
     "status": "completed"
    },
    "tags": []
   },
   "source": [
    "## Training"
   ]
  },
  {
   "cell_type": "code",
   "execution_count": 18,
   "id": "46f022e8",
   "metadata": {
    "execution": {
     "iopub.execute_input": "2022-11-20T01:48:05.911052Z",
     "iopub.status.busy": "2022-11-20T01:48:05.909401Z",
     "iopub.status.idle": "2022-11-20T01:48:05.911688Z",
     "shell.execute_reply": "2022-11-20T01:48:05.912107Z",
     "shell.execute_reply.started": "2022-11-19T16:57:06.183430Z"
    },
    "papermill": {
     "duration": 0.028739,
     "end_time": "2022-11-20T01:48:05.912242",
     "exception": false,
     "start_time": "2022-11-20T01:48:05.883503",
     "status": "completed"
    },
    "tags": []
   },
   "outputs": [],
   "source": [
    "patience = 30"
   ]
  },
  {
   "cell_type": "code",
   "execution_count": 19,
   "id": "726ef9a9",
   "metadata": {
    "execution": {
     "iopub.execute_input": "2022-11-20T01:48:05.961939Z",
     "iopub.status.busy": "2022-11-20T01:48:05.961293Z",
     "iopub.status.idle": "2022-11-20T02:21:06.900687Z",
     "shell.execute_reply": "2022-11-20T02:21:06.900163Z",
     "shell.execute_reply.started": "2022-11-19T16:57:06.190723Z"
    },
    "papermill": {
     "duration": 1980.966076,
     "end_time": "2022-11-20T02:21:06.900829",
     "exception": false,
     "start_time": "2022-11-20T01:48:05.934753",
     "status": "completed"
    },
    "tags": []
   },
   "outputs": [
    {
     "name": "stderr",
     "output_type": "stream",
     "text": [
      "2022-11-20 01:48:06.095329: I tensorflow/compiler/mlir/mlir_graph_optimization_pass.cc:116] None of the MLIR optimization passes are enabled (registered 2)\n",
      "2022-11-20 01:48:06.098397: I tensorflow/core/platform/profile_utils/cpu_utils.cc:112] CPU Frequency: 2000179999 Hz\n"
     ]
    },
    {
     "name": "stdout",
     "output_type": "stream",
     "text": [
      "Epoch 1/500\n"
     ]
    },
    {
     "name": "stderr",
     "output_type": "stream",
     "text": [
      "2022-11-20 01:48:07.854570: I tensorflow/stream_executor/platform/default/dso_loader.cc:49] Successfully opened dynamic library libcublas.so.11\n",
      "2022-11-20 01:48:08.739406: I tensorflow/stream_executor/platform/default/dso_loader.cc:49] Successfully opened dynamic library libcublasLt.so.11\n",
      "2022-11-20 01:48:08.767100: I tensorflow/stream_executor/platform/default/dso_loader.cc:49] Successfully opened dynamic library libcudnn.so.8\n"
     ]
    },
    {
     "name": "stdout",
     "output_type": "stream",
     "text": [
      "429/429 [==============================] - 38s 70ms/step - loss: 2.4981 - accuracy: 0.2765 - val_loss: 1.7118 - val_accuracy: 0.3623\n",
      "Epoch 2/500\n",
      "429/429 [==============================] - 16s 37ms/step - loss: 1.8967 - accuracy: 0.3518 - val_loss: 2.1504 - val_accuracy: 0.3252\n",
      "Epoch 3/500\n",
      "429/429 [==============================] - 15s 35ms/step - loss: 1.6437 - accuracy: 0.4451 - val_loss: 1.7137 - val_accuracy: 0.4641\n",
      "Epoch 4/500\n",
      "429/429 [==============================] - 16s 37ms/step - loss: 1.4510 - accuracy: 0.5295 - val_loss: 3.7373 - val_accuracy: 0.2824\n",
      "Epoch 5/500\n",
      "429/429 [==============================] - 15s 36ms/step - loss: 1.3126 - accuracy: 0.5961 - val_loss: 1.3991 - val_accuracy: 0.6088\n",
      "Epoch 6/500\n",
      "429/429 [==============================] - 16s 37ms/step - loss: 1.2169 - accuracy: 0.6199 - val_loss: 1.9369 - val_accuracy: 0.4398\n",
      "Epoch 7/500\n",
      "429/429 [==============================] - 15s 35ms/step - loss: 1.1345 - accuracy: 0.6584 - val_loss: 1.3740 - val_accuracy: 0.5590\n",
      "Epoch 8/500\n",
      "429/429 [==============================] - 16s 37ms/step - loss: 1.1422 - accuracy: 0.6650 - val_loss: 1.5452 - val_accuracy: 0.5671\n",
      "Epoch 9/500\n",
      "429/429 [==============================] - 16s 37ms/step - loss: 1.0827 - accuracy: 0.6795 - val_loss: 1.0303 - val_accuracy: 0.7014\n",
      "Epoch 10/500\n",
      "429/429 [==============================] - 16s 37ms/step - loss: 0.9594 - accuracy: 0.7353 - val_loss: 2.7447 - val_accuracy: 0.3924\n",
      "Epoch 11/500\n",
      "429/429 [==============================] - 16s 37ms/step - loss: 0.9999 - accuracy: 0.7057 - val_loss: 0.8655 - val_accuracy: 0.7361\n",
      "Epoch 12/500\n",
      "429/429 [==============================] - 15s 36ms/step - loss: 0.9379 - accuracy: 0.7346 - val_loss: 0.9792 - val_accuracy: 0.7118\n",
      "Epoch 13/500\n",
      "429/429 [==============================] - 16s 36ms/step - loss: 0.9179 - accuracy: 0.7328 - val_loss: 1.7903 - val_accuracy: 0.5509\n",
      "Epoch 14/500\n",
      "429/429 [==============================] - 16s 36ms/step - loss: 0.9223 - accuracy: 0.7460 - val_loss: 0.8139 - val_accuracy: 0.7581\n",
      "Epoch 15/500\n",
      "429/429 [==============================] - 16s 36ms/step - loss: 0.8902 - accuracy: 0.7442 - val_loss: 1.2867 - val_accuracy: 0.6331\n",
      "Epoch 16/500\n",
      "429/429 [==============================] - 16s 37ms/step - loss: 0.9230 - accuracy: 0.7318 - val_loss: 1.2781 - val_accuracy: 0.6863\n",
      "Epoch 17/500\n",
      "429/429 [==============================] - 15s 36ms/step - loss: 0.8408 - accuracy: 0.7585 - val_loss: 0.8052 - val_accuracy: 0.7604\n",
      "Epoch 18/500\n",
      "429/429 [==============================] - 16s 37ms/step - loss: 0.8325 - accuracy: 0.7659 - val_loss: 0.7160 - val_accuracy: 0.7917\n",
      "Epoch 19/500\n",
      "429/429 [==============================] - 16s 37ms/step - loss: 0.8353 - accuracy: 0.7605 - val_loss: 2.0429 - val_accuracy: 0.5625\n",
      "Epoch 20/500\n",
      "429/429 [==============================] - 16s 36ms/step - loss: 0.8064 - accuracy: 0.7674 - val_loss: 1.4718 - val_accuracy: 0.5868\n",
      "Epoch 21/500\n",
      "429/429 [==============================] - 16s 37ms/step - loss: 0.7666 - accuracy: 0.7940 - val_loss: 0.7413 - val_accuracy: 0.7836\n",
      "Epoch 22/500\n",
      "429/429 [==============================] - 15s 36ms/step - loss: 0.7484 - accuracy: 0.7936 - val_loss: 1.0785 - val_accuracy: 0.6713\n",
      "Epoch 23/500\n",
      "429/429 [==============================] - 16s 37ms/step - loss: 0.7590 - accuracy: 0.7953 - val_loss: 1.1951 - val_accuracy: 0.6852\n",
      "Epoch 24/500\n",
      "429/429 [==============================] - 15s 36ms/step - loss: 0.7261 - accuracy: 0.8061 - val_loss: 1.9088 - val_accuracy: 0.5972\n",
      "Epoch 25/500\n",
      "429/429 [==============================] - 16s 37ms/step - loss: 0.7203 - accuracy: 0.8019 - val_loss: 1.0396 - val_accuracy: 0.7072\n",
      "Epoch 26/500\n",
      "429/429 [==============================] - 16s 36ms/step - loss: 0.7413 - accuracy: 0.8061 - val_loss: 1.1269 - val_accuracy: 0.6829\n",
      "Epoch 27/500\n",
      "429/429 [==============================] - 16s 36ms/step - loss: 0.7058 - accuracy: 0.8089 - val_loss: 0.8423 - val_accuracy: 0.7697\n",
      "Epoch 28/500\n",
      "429/429 [==============================] - 16s 36ms/step - loss: 0.6838 - accuracy: 0.8212 - val_loss: 0.7719 - val_accuracy: 0.7940\n",
      "Epoch 29/500\n",
      "429/429 [==============================] - 16s 36ms/step - loss: 0.6465 - accuracy: 0.8325 - val_loss: 0.7349 - val_accuracy: 0.7743\n",
      "Epoch 30/500\n",
      "429/429 [==============================] - 15s 36ms/step - loss: 0.6727 - accuracy: 0.8169 - val_loss: 1.1968 - val_accuracy: 0.6840\n",
      "Epoch 31/500\n",
      "429/429 [==============================] - 16s 37ms/step - loss: 0.6103 - accuracy: 0.8395 - val_loss: 2.7669 - val_accuracy: 0.4664\n",
      "Epoch 32/500\n",
      "429/429 [==============================] - 16s 36ms/step - loss: 0.6896 - accuracy: 0.8206 - val_loss: 1.2986 - val_accuracy: 0.6690\n",
      "Epoch 33/500\n",
      "429/429 [==============================] - 16s 37ms/step - loss: 0.6725 - accuracy: 0.8248 - val_loss: 0.6293 - val_accuracy: 0.8160\n",
      "Epoch 34/500\n",
      "429/429 [==============================] - 16s 36ms/step - loss: 0.5997 - accuracy: 0.8419 - val_loss: 0.8993 - val_accuracy: 0.7465\n",
      "Epoch 35/500\n",
      "429/429 [==============================] - 16s 37ms/step - loss: 0.6272 - accuracy: 0.8353 - val_loss: 0.9116 - val_accuracy: 0.7465\n",
      "Epoch 36/500\n",
      "429/429 [==============================] - 15s 36ms/step - loss: 0.5903 - accuracy: 0.8495 - val_loss: 0.7857 - val_accuracy: 0.7674\n",
      "Epoch 37/500\n",
      "429/429 [==============================] - 15s 35ms/step - loss: 0.6293 - accuracy: 0.8411 - val_loss: 0.6848 - val_accuracy: 0.8056\n",
      "Epoch 38/500\n",
      "429/429 [==============================] - 17s 39ms/step - loss: 0.6075 - accuracy: 0.8451 - val_loss: 1.4084 - val_accuracy: 0.6458\n",
      "Epoch 39/500\n",
      "429/429 [==============================] - 15s 35ms/step - loss: 0.5775 - accuracy: 0.8506 - val_loss: 0.7287 - val_accuracy: 0.7975\n",
      "Epoch 40/500\n",
      "429/429 [==============================] - 17s 39ms/step - loss: 0.6129 - accuracy: 0.8423 - val_loss: 0.5519 - val_accuracy: 0.8507\n",
      "Epoch 41/500\n",
      "429/429 [==============================] - 15s 35ms/step - loss: 0.5689 - accuracy: 0.8512 - val_loss: 0.7862 - val_accuracy: 0.7801\n",
      "Epoch 42/500\n",
      "429/429 [==============================] - 17s 40ms/step - loss: 0.5423 - accuracy: 0.8577 - val_loss: 1.3256 - val_accuracy: 0.6377\n",
      "Epoch 43/500\n",
      "429/429 [==============================] - 15s 35ms/step - loss: 0.5901 - accuracy: 0.8546 - val_loss: 0.8257 - val_accuracy: 0.7766\n",
      "Epoch 44/500\n",
      "429/429 [==============================] - 17s 40ms/step - loss: 0.5638 - accuracy: 0.8600 - val_loss: 0.7178 - val_accuracy: 0.8056\n",
      "Epoch 45/500\n",
      "429/429 [==============================] - 15s 35ms/step - loss: 0.5743 - accuracy: 0.8504 - val_loss: 0.7054 - val_accuracy: 0.8044\n",
      "Epoch 46/500\n",
      "429/429 [==============================] - 18s 41ms/step - loss: 0.5388 - accuracy: 0.8627 - val_loss: 0.6205 - val_accuracy: 0.8194\n",
      "Epoch 47/500\n",
      "429/429 [==============================] - 15s 35ms/step - loss: 0.5287 - accuracy: 0.8704 - val_loss: 0.6583 - val_accuracy: 0.8171\n",
      "Epoch 48/500\n",
      "429/429 [==============================] - 18s 41ms/step - loss: 0.5594 - accuracy: 0.8646 - val_loss: 1.1323 - val_accuracy: 0.7141\n",
      "Epoch 49/500\n",
      "429/429 [==============================] - 15s 35ms/step - loss: 0.5292 - accuracy: 0.8756 - val_loss: 0.8210 - val_accuracy: 0.7894\n",
      "Epoch 50/500\n",
      "429/429 [==============================] - 16s 38ms/step - loss: 0.5086 - accuracy: 0.8720 - val_loss: 0.9782 - val_accuracy: 0.7338\n",
      "Epoch 51/500\n",
      "429/429 [==============================] - 16s 37ms/step - loss: 0.4926 - accuracy: 0.8820 - val_loss: 0.9287 - val_accuracy: 0.7454\n",
      "Epoch 52/500\n",
      "429/429 [==============================] - 16s 37ms/step - loss: 0.5189 - accuracy: 0.8685 - val_loss: 0.7687 - val_accuracy: 0.7766\n",
      "Epoch 53/500\n",
      "429/429 [==============================] - 17s 40ms/step - loss: 0.5164 - accuracy: 0.8740 - val_loss: 0.5855 - val_accuracy: 0.8403\n",
      "Epoch 54/500\n",
      "429/429 [==============================] - 16s 37ms/step - loss: 0.5242 - accuracy: 0.8670 - val_loss: 0.8920 - val_accuracy: 0.7662\n",
      "Epoch 55/500\n",
      "429/429 [==============================] - 17s 39ms/step - loss: 0.4527 - accuracy: 0.8883 - val_loss: 0.8034 - val_accuracy: 0.8044\n",
      "Epoch 56/500\n",
      "429/429 [==============================] - 16s 37ms/step - loss: 0.5010 - accuracy: 0.8763 - val_loss: 0.7784 - val_accuracy: 0.7778\n",
      "Epoch 57/500\n",
      "429/429 [==============================] - 18s 41ms/step - loss: 0.4798 - accuracy: 0.8750 - val_loss: 1.2925 - val_accuracy: 0.6806\n",
      "Epoch 58/500\n",
      "429/429 [==============================] - 15s 35ms/step - loss: 0.4884 - accuracy: 0.8810 - val_loss: 0.8089 - val_accuracy: 0.7546\n",
      "Epoch 59/500\n",
      "429/429 [==============================] - 18s 42ms/step - loss: 0.5107 - accuracy: 0.8786 - val_loss: 0.7014 - val_accuracy: 0.7940\n",
      "Epoch 60/500\n",
      "429/429 [==============================] - 15s 35ms/step - loss: 0.4703 - accuracy: 0.8887 - val_loss: 0.8464 - val_accuracy: 0.7674\n",
      "Epoch 61/500\n",
      "429/429 [==============================] - 16s 37ms/step - loss: 0.4693 - accuracy: 0.8892 - val_loss: 0.5899 - val_accuracy: 0.8449\n",
      "Epoch 62/500\n",
      "429/429 [==============================] - 17s 39ms/step - loss: 0.4292 - accuracy: 0.8960 - val_loss: 0.8622 - val_accuracy: 0.7789\n",
      "Epoch 63/500\n",
      "429/429 [==============================] - 15s 36ms/step - loss: 0.4899 - accuracy: 0.8728 - val_loss: 0.6663 - val_accuracy: 0.8160\n",
      "Epoch 64/500\n",
      "429/429 [==============================] - 18s 41ms/step - loss: 0.4664 - accuracy: 0.8726 - val_loss: 0.9331 - val_accuracy: 0.7743\n",
      "Epoch 65/500\n",
      "429/429 [==============================] - 15s 36ms/step - loss: 0.4697 - accuracy: 0.8791 - val_loss: 0.5566 - val_accuracy: 0.8472\n",
      "Epoch 66/500\n",
      "429/429 [==============================] - 18s 41ms/step - loss: 0.4126 - accuracy: 0.9021 - val_loss: 1.1960 - val_accuracy: 0.7384\n",
      "Epoch 67/500\n",
      "429/429 [==============================] - 15s 36ms/step - loss: 0.4599 - accuracy: 0.8878 - val_loss: 0.5408 - val_accuracy: 0.8472\n",
      "Epoch 68/500\n",
      "429/429 [==============================] - 17s 41ms/step - loss: 0.4200 - accuracy: 0.8978 - val_loss: 0.5235 - val_accuracy: 0.8542\n",
      "Epoch 69/500\n",
      "429/429 [==============================] - 16s 36ms/step - loss: 0.4326 - accuracy: 0.8919 - val_loss: 0.5419 - val_accuracy: 0.8565\n",
      "Epoch 70/500\n",
      "429/429 [==============================] - 16s 37ms/step - loss: 0.4032 - accuracy: 0.8995 - val_loss: 1.6081 - val_accuracy: 0.6111\n",
      "Epoch 71/500\n",
      "429/429 [==============================] - 17s 40ms/step - loss: 0.4141 - accuracy: 0.8993 - val_loss: 0.8675 - val_accuracy: 0.7998\n",
      "Epoch 72/500\n",
      "429/429 [==============================] - 15s 35ms/step - loss: 0.4243 - accuracy: 0.8991 - val_loss: 0.8695 - val_accuracy: 0.7743\n",
      "Epoch 73/500\n",
      "429/429 [==============================] - 19s 43ms/step - loss: 0.3981 - accuracy: 0.8963 - val_loss: 0.8139 - val_accuracy: 0.7975\n",
      "Epoch 74/500\n",
      "429/429 [==============================] - 15s 35ms/step - loss: 0.3728 - accuracy: 0.9037 - val_loss: 0.5594 - val_accuracy: 0.8495\n",
      "Epoch 75/500\n",
      "429/429 [==============================] - 16s 36ms/step - loss: 0.3826 - accuracy: 0.9069 - val_loss: 0.5554 - val_accuracy: 0.8600\n",
      "Epoch 76/500\n",
      "429/429 [==============================] - 15s 35ms/step - loss: 0.3831 - accuracy: 0.9002 - val_loss: 0.8087 - val_accuracy: 0.8056\n",
      "Epoch 77/500\n",
      "429/429 [==============================] - 19s 44ms/step - loss: 0.4745 - accuracy: 0.8849 - val_loss: 0.6635 - val_accuracy: 0.8252\n",
      "Epoch 78/500\n",
      "429/429 [==============================] - 15s 35ms/step - loss: 0.4099 - accuracy: 0.8943 - val_loss: 1.5970 - val_accuracy: 0.6285\n",
      "Epoch 79/500\n",
      "429/429 [==============================] - 16s 37ms/step - loss: 0.4389 - accuracy: 0.8934 - val_loss: 1.0198 - val_accuracy: 0.7465\n",
      "Epoch 80/500\n",
      "429/429 [==============================] - 15s 35ms/step - loss: 0.3976 - accuracy: 0.8916 - val_loss: 0.4431 - val_accuracy: 0.8819\n",
      "Epoch 81/500\n",
      "429/429 [==============================] - 18s 43ms/step - loss: 0.3638 - accuracy: 0.9173 - val_loss: 0.6391 - val_accuracy: 0.8275\n",
      "Epoch 82/500\n",
      "429/429 [==============================] - 15s 36ms/step - loss: 0.4008 - accuracy: 0.9059 - val_loss: 1.1523 - val_accuracy: 0.7164\n",
      "Epoch 83/500\n",
      "429/429 [==============================] - 16s 37ms/step - loss: 0.4321 - accuracy: 0.8950 - val_loss: 0.9834 - val_accuracy: 0.7373\n",
      "Epoch 84/500\n",
      "429/429 [==============================] - 15s 35ms/step - loss: 0.4079 - accuracy: 0.9010 - val_loss: 0.5100 - val_accuracy: 0.8600\n",
      "Epoch 85/500\n",
      "429/429 [==============================] - 16s 37ms/step - loss: 0.3984 - accuracy: 0.9046 - val_loss: 0.5235 - val_accuracy: 0.8646\n",
      "Epoch 86/500\n",
      "429/429 [==============================] - 18s 41ms/step - loss: 0.4011 - accuracy: 0.9086 - val_loss: 0.6973 - val_accuracy: 0.8113\n",
      "Epoch 87/500\n",
      "429/429 [==============================] - 15s 36ms/step - loss: 0.3855 - accuracy: 0.9086 - val_loss: 0.7786 - val_accuracy: 0.7986\n",
      "Epoch 88/500\n",
      "429/429 [==============================] - 15s 35ms/step - loss: 0.3696 - accuracy: 0.9128 - val_loss: 0.4989 - val_accuracy: 0.8565\n",
      "Epoch 89/500\n",
      "429/429 [==============================] - 16s 37ms/step - loss: 0.3425 - accuracy: 0.9074 - val_loss: 0.5220 - val_accuracy: 0.8692\n",
      "Epoch 90/500\n",
      "429/429 [==============================] - 19s 43ms/step - loss: 0.3889 - accuracy: 0.9123 - val_loss: 0.6495 - val_accuracy: 0.8356\n",
      "Epoch 91/500\n",
      "429/429 [==============================] - 16s 36ms/step - loss: 0.3664 - accuracy: 0.9104 - val_loss: 0.6837 - val_accuracy: 0.8391\n",
      "Epoch 92/500\n",
      "429/429 [==============================] - 15s 35ms/step - loss: 0.3700 - accuracy: 0.9109 - val_loss: 0.4355 - val_accuracy: 0.8900\n",
      "Epoch 93/500\n",
      "429/429 [==============================] - 15s 36ms/step - loss: 0.3506 - accuracy: 0.9157 - val_loss: 0.5869 - val_accuracy: 0.8588\n",
      "Epoch 94/500\n",
      "429/429 [==============================] - 19s 44ms/step - loss: 0.3575 - accuracy: 0.9166 - val_loss: 0.6594 - val_accuracy: 0.8194\n",
      "Epoch 95/500\n",
      "429/429 [==============================] - 15s 35ms/step - loss: 0.3818 - accuracy: 0.9103 - val_loss: 0.6705 - val_accuracy: 0.8206\n",
      "Epoch 96/500\n",
      "429/429 [==============================] - 15s 35ms/step - loss: 0.3541 - accuracy: 0.9149 - val_loss: 1.1670 - val_accuracy: 0.7350\n",
      "Epoch 97/500\n",
      "429/429 [==============================] - 16s 36ms/step - loss: 0.3837 - accuracy: 0.9102 - val_loss: 0.5585 - val_accuracy: 0.8484\n",
      "Epoch 98/500\n",
      "429/429 [==============================] - 16s 37ms/step - loss: 0.3613 - accuracy: 0.9153 - val_loss: 0.6470 - val_accuracy: 0.8322\n",
      "Epoch 99/500\n",
      "429/429 [==============================] - 18s 43ms/step - loss: 0.3675 - accuracy: 0.9183 - val_loss: 0.8307 - val_accuracy: 0.7905\n",
      "Epoch 100/500\n",
      "429/429 [==============================] - 15s 36ms/step - loss: 0.3243 - accuracy: 0.9287 - val_loss: 0.9907 - val_accuracy: 0.7558\n",
      "Epoch 101/500\n",
      "429/429 [==============================] - 15s 36ms/step - loss: 0.3307 - accuracy: 0.9185 - val_loss: 0.5615 - val_accuracy: 0.8414\n",
      "Epoch 102/500\n",
      "429/429 [==============================] - 15s 35ms/step - loss: 0.3448 - accuracy: 0.9246 - val_loss: 1.2411 - val_accuracy: 0.7199\n",
      "Epoch 103/500\n",
      "429/429 [==============================] - 19s 45ms/step - loss: 0.3466 - accuracy: 0.9146 - val_loss: 0.4419 - val_accuracy: 0.8796\n",
      "Epoch 104/500\n",
      "429/429 [==============================] - 16s 36ms/step - loss: 0.3184 - accuracy: 0.9249 - val_loss: 0.7582 - val_accuracy: 0.7986\n",
      "Epoch 105/500\n",
      "429/429 [==============================] - 15s 35ms/step - loss: 0.3840 - accuracy: 0.9049 - val_loss: 0.7737 - val_accuracy: 0.8125\n",
      "Epoch 106/500\n",
      "429/429 [==============================] - 15s 36ms/step - loss: 0.3335 - accuracy: 0.9238 - val_loss: 0.8557 - val_accuracy: 0.7697\n",
      "Epoch 107/500\n",
      "429/429 [==============================] - 19s 43ms/step - loss: 0.3167 - accuracy: 0.9251 - val_loss: 0.8383 - val_accuracy: 0.7928\n",
      "Epoch 108/500\n",
      "429/429 [==============================] - 15s 36ms/step - loss: 0.3040 - accuracy: 0.9242 - val_loss: 0.8936 - val_accuracy: 0.7836\n",
      "Epoch 109/500\n",
      "429/429 [==============================] - 15s 35ms/step - loss: 0.3536 - accuracy: 0.9161 - val_loss: 1.0986 - val_accuracy: 0.7118\n",
      "Epoch 110/500\n",
      "429/429 [==============================] - 15s 36ms/step - loss: 0.3211 - accuracy: 0.9331 - val_loss: 0.6243 - val_accuracy: 0.8519\n",
      "Epoch 111/500\n",
      "429/429 [==============================] - 15s 34ms/step - loss: 0.3291 - accuracy: 0.9197 - val_loss: 0.8902 - val_accuracy: 0.7755\n",
      "Epoch 112/500\n",
      "429/429 [==============================] - 20s 46ms/step - loss: 0.3172 - accuracy: 0.9221 - val_loss: 0.5902 - val_accuracy: 0.8472\n",
      "Epoch 113/500\n",
      "429/429 [==============================] - 15s 35ms/step - loss: 0.3372 - accuracy: 0.9209 - val_loss: 0.5818 - val_accuracy: 0.8542\n",
      "Epoch 114/500\n",
      "429/429 [==============================] - 16s 36ms/step - loss: 0.3171 - accuracy: 0.9217 - val_loss: 1.1981 - val_accuracy: 0.7512\n",
      "Epoch 115/500\n",
      "429/429 [==============================] - 15s 35ms/step - loss: 0.3287 - accuracy: 0.9200 - val_loss: 0.7660 - val_accuracy: 0.8252\n",
      "Epoch 116/500\n",
      "429/429 [==============================] - 20s 47ms/step - loss: 0.3083 - accuracy: 0.9323 - val_loss: 0.8002 - val_accuracy: 0.7847\n",
      "Epoch 117/500\n",
      "429/429 [==============================] - 15s 35ms/step - loss: 0.3144 - accuracy: 0.9279 - val_loss: 0.5146 - val_accuracy: 0.8681\n",
      "Epoch 118/500\n",
      "429/429 [==============================] - 15s 35ms/step - loss: 0.3202 - accuracy: 0.9221 - val_loss: 0.5664 - val_accuracy: 0.8553\n",
      "Epoch 119/500\n",
      "429/429 [==============================] - 15s 35ms/step - loss: 0.3222 - accuracy: 0.9219 - val_loss: 0.8154 - val_accuracy: 0.8125\n",
      "Epoch 120/500\n",
      "429/429 [==============================] - 17s 41ms/step - loss: 0.3054 - accuracy: 0.9238 - val_loss: 0.8164 - val_accuracy: 0.7963\n",
      "Epoch 121/500\n",
      "429/429 [==============================] - 18s 42ms/step - loss: 0.3110 - accuracy: 0.9274 - val_loss: 1.3583 - val_accuracy: 0.7060\n",
      "Epoch 122/500\n",
      "429/429 [==============================] - 15s 36ms/step - loss: 0.3478 - accuracy: 0.9183 - val_loss: 0.6704 - val_accuracy: 0.8299\n"
     ]
    }
   ],
   "source": [
    "# Phase 1 train\n",
    "tl_history = tl_model.fit(\n",
    "    x = train_gen,\n",
    "    batch_size = 256,\n",
    "    epochs = 500,\n",
    "    validation_data = valid_gen,\n",
    "    callbacks = [tfk.callbacks.EarlyStopping(monitor='val_accuracy', mode='max', patience=patience, restore_best_weights=True)],\n",
    ").history"
   ]
  },
  {
   "cell_type": "code",
   "execution_count": 20,
   "id": "710c664b",
   "metadata": {
    "execution": {
     "iopub.execute_input": "2022-11-20T02:21:20.746242Z",
     "iopub.status.busy": "2022-11-20T02:21:20.745372Z",
     "iopub.status.idle": "2022-11-20T02:21:21.407439Z",
     "shell.execute_reply": "2022-11-20T02:21:21.407902Z",
     "shell.execute_reply.started": "2022-11-19T16:57:17.483440Z"
    },
    "papermill": {
     "duration": 7.448262,
     "end_time": "2022-11-20T02:21:21.408061",
     "exception": false,
     "start_time": "2022-11-20T02:21:13.959799",
     "status": "completed"
    },
    "tags": []
   },
   "outputs": [
    {
     "data": {
      "image/png": "[encoded data removed]",
      "text/plain": [
       "<Figure size 1080x360 with 1 Axes>"
      ]
     },
     "metadata": {
      "needs_background": "light"
     },
     "output_type": "display_data"
    },
    {
     "data": {
      "image/png": "[encoded data removed]",
      "text/plain": [
       "<Figure size 1080x360 with 1 Axes>"
      ]
     },
     "metadata": {
      "needs_background": "light"
     },
     "output_type": "display_data"
    }
   ],
   "source": [
    "# Plot the training\n",
    "plt.figure(figsize=(15,5))\n",
    "plt.plot(tl_history['loss'], label='Training', alpha=.3, color='#4D61E2', linestyle='--')\n",
    "plt.plot(tl_history['val_loss'], label='Validation', alpha=.8, color='#4D61E2')\n",
    "plt.legend(loc='upper left')\n",
    "plt.title('Categorical Crossentropy')\n",
    "plt.grid(alpha=.3)\n",
    "plt.savefig(\"VGG16_fine_tuning_loss.png\")\n",
    "\n",
    "plt.figure(figsize=(15,5))\n",
    "plt.plot(tl_history['accuracy'], label='Training',alpha=.3, color='#4D61E2', linestyle='--')\n",
    "plt.plot(tl_history['val_accuracy'], label='Validation', alpha=.8, color='#4D61E2')\n",
    "plt.legend(loc='upper left')\n",
    "plt.title('Accuracy')\n",
    "plt.grid(alpha=.3)\n",
    "plt.savefig(\"VGG16_fine_tuning_acc.png\")\n",
    "\n",
    "plt.show()"
   ]
  },
  {
   "cell_type": "code",
   "execution_count": 21,
   "id": "95e2ef4f",
   "metadata": {
    "execution": {
     "iopub.execute_input": "2022-11-20T02:21:36.088529Z",
     "iopub.status.busy": "2022-11-20T02:21:36.081662Z",
     "iopub.status.idle": "2022-11-20T02:21:36.096323Z",
     "shell.execute_reply": "2022-11-20T02:21:36.096772Z",
     "shell.execute_reply.started": "2022-11-19T16:57:17.485276Z"
    },
    "jupyter": {
     "source_hidden": true
    },
    "papermill": {
     "duration": 7.366581,
     "end_time": "2022-11-20T02:21:36.096930",
     "exception": false,
     "start_time": "2022-11-20T02:21:28.730349",
     "status": "completed"
    },
    "tags": []
   },
   "outputs": [
    {
     "name": "stdout",
     "output_type": "stream",
     "text": [
      "0 input_1 False\n",
      "1 block1_conv1 False\n",
      "2 block1_conv2 False\n",
      "3 block1_pool False\n",
      "4 block2_conv1 False\n",
      "5 block2_conv2 False\n",
      "6 block2_pool False\n",
      "7 block3_conv1 False\n",
      "8 block3_conv2 False\n",
      "9 block3_conv3 False\n",
      "10 block3_pool True\n",
      "11 block4_conv1 True\n",
      "12 block4_conv2 True\n",
      "13 block4_conv3 True\n",
      "14 block4_pool True\n",
      "15 block5_conv1 True\n",
      "16 block5_conv2 True\n",
      "17 block5_conv3 True\n",
      "18 block5_pool True\n",
      "Model: \"model\"\n",
      "_________________________________________________________________\n",
      "Layer (type)                 Output Shape              Param #   \n",
      "=================================================================\n",
      "input_layer (InputLayer)     [(None, 96, 96, 3)]       0         \n",
      "_________________________________________________________________\n",
      "vgg16 (Functional)           (None, 3, 3, 512)         14714688  \n",
      "_________________________________________________________________\n",
      "global_average_pooling2d (Gl (None, 512)               0         \n",
      "_________________________________________________________________\n",
      "dropout (Dropout)            (None, 512)               0         \n",
      "_________________________________________________________________\n",
      "classifier1 (Dense)          (None, 512)               262656    \n",
      "_________________________________________________________________\n",
      "batch_normalization (BatchNo (None, 512)               2048      \n",
      "_________________________________________________________________\n",
      "dropout_1 (Dropout)          (None, 512)               0         \n",
      "_________________________________________________________________\n",
      "classifier2 (Dense)          (None, 64)                32832     \n",
      "_________________________________________________________________\n",
      "batch_normalization_1 (Batch (None, 64)                256       \n",
      "_________________________________________________________________\n",
      "dropout_2 (Dropout)          (None, 64)                0         \n",
      "_________________________________________________________________\n",
      "dense (Dense)                (None, 8)                 520       \n",
      "=================================================================\n",
      "Total params: 15,013,000\n",
      "Trainable params: 13,276,360\n",
      "Non-trainable params: 1,736,640\n",
      "_________________________________________________________________\n"
     ]
    }
   ],
   "source": [
    "# Phase 2: freeze up to layer 10\n",
    "tl_model.get_layer('vgg16').trainable = True\n",
    "N = 10\n",
    "\n",
    "for i, layer in enumerate(tl_model.get_layer('vgg16').layers[:N]):\n",
    "  layer.trainable=False\n",
    "for i, layer in enumerate(tl_model.get_layer('vgg16').layers):\n",
    "   print(i, layer.name, layer.trainable)\n",
    "tl_model.summary()"
   ]
  },
  {
   "cell_type": "code",
   "execution_count": 22,
   "id": "a0711207",
   "metadata": {
    "execution": {
     "iopub.execute_input": "2022-11-20T02:21:50.221485Z",
     "iopub.status.busy": "2022-11-20T02:21:50.220540Z",
     "iopub.status.idle": "2022-11-20T02:21:54.218872Z",
     "shell.execute_reply": "2022-11-20T02:21:54.219796Z",
     "shell.execute_reply.started": "2022-11-19T16:57:17.497326Z"
    },
    "papermill": {
     "duration": 11.200338,
     "end_time": "2022-11-20T02:21:54.219976",
     "exception": false,
     "start_time": "2022-11-20T02:21:43.019638",
     "status": "completed"
    },
    "tags": []
   },
   "outputs": [
    {
     "name": "stderr",
     "output_type": "stream",
     "text": [
      "2022-11-20 02:21:51.491563: W tensorflow/python/util/util.cc:348] Sets are not currently considered sequences, but this may change in the future, so consider avoiding using them.\n"
     ]
    }
   ],
   "source": [
    "# Save the best model\n",
    "tl_model.save('VGG16_fine_tuning')\n",
    "#del tl_model"
   ]
  },
  {
   "cell_type": "code",
   "execution_count": 23,
   "id": "bbb7d4a1",
   "metadata": {
    "execution": {
     "iopub.execute_input": "2022-11-20T02:22:08.742070Z",
     "iopub.status.busy": "2022-11-20T02:22:08.741399Z",
     "iopub.status.idle": "2022-11-20T02:22:09.963030Z",
     "shell.execute_reply": "2022-11-20T02:22:09.963406Z",
     "shell.execute_reply.started": "2022-11-19T16:57:17.503105Z"
    },
    "papermill": {
     "duration": 8.2668,
     "end_time": "2022-11-20T02:22:09.963565",
     "exception": false,
     "start_time": "2022-11-20T02:22:01.696765",
     "status": "completed"
    },
    "tags": []
   },
   "outputs": [
    {
     "name": "stdout",
     "output_type": "stream",
     "text": [
      "108/108 [==============================] - 1s 11ms/step - loss: 0.4355 - accuracy: 0.8900\n",
      "\n",
      "Val metrics\n",
      "{'loss': 0.43549391627311707, 'accuracy': 0.8900462985038757}\n"
     ]
    }
   ],
   "source": [
    "# Evaluate on val\n",
    "val_metrics = tl_model.evaluate(valid_gen, return_dict=True)\n",
    "\n",
    "print()\n",
    "print(\"Val metrics\")\n",
    "print(val_metrics)"
   ]
  },
  {
   "cell_type": "code",
   "execution_count": 24,
   "id": "81d58ef8",
   "metadata": {
    "execution": {
     "iopub.execute_input": "2022-11-20T02:22:23.948033Z",
     "iopub.status.busy": "2022-11-20T02:22:23.947195Z",
     "iopub.status.idle": "2022-11-20T02:22:29.943037Z",
     "shell.execute_reply": "2022-11-20T02:22:29.942564Z",
     "shell.execute_reply.started": "2022-11-19T16:57:17.504736Z"
    },
    "papermill": {
     "duration": 13.082575,
     "end_time": "2022-11-20T02:22:29.943165",
     "exception": false,
     "start_time": "2022-11-20T02:22:16.860590",
     "status": "completed"
    },
    "tags": []
   },
   "outputs": [
    {
     "data": {
      "text/plain": [
       "'/kaggle/working/VGG16FineTuning.zip'"
      ]
     },
     "execution_count": 24,
     "metadata": {},
     "output_type": "execute_result"
    }
   ],
   "source": [
    "import shutil\n",
    "shutil.make_archive(\"VGG16FineTuning\", 'zip', \"/kaggle/working/VGG16_fine_tuning/\")"
   ]
  }
 ],
 "metadata": {
  "kernelspec": {
   "display_name": "Python 3",
   "language": "python",
   "name": "python3"
  },
  "language_info": {
   "codemirror_mode": {
    "name": "ipython",
    "version": 3
   },
   "file_extension": ".py",
   "mimetype": "text/x-python",
   "name": "python",
   "nbconvert_exporter": "python",
   "pygments_lexer": "ipython3",
   "version": "3.7.10"
  },
  "papermill": {
   "default_parameters": {},
   "duration": 2096.681206,
   "end_time": "2022-11-20T02:22:41.211395",
   "environment_variables": {},
   "exception": null,
   "input_path": "__notebook__.ipynb",
   "output_path": "__notebook__.ipynb",
   "parameters": {},
   "start_time": "2022-11-20T01:47:44.530189",
   "version": "2.3.3"
  }
 },
 "nbformat": 4,
 "nbformat_minor": 5
}
