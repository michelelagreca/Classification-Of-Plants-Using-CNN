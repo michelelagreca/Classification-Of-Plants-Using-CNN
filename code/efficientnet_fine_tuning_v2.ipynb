{
 "cells": [
  {
   "cell_type": "markdown",
   "id": "e6723b2d",
   "metadata": {
    "papermill": {
     "duration": 0.007904,
     "end_time": "2022-11-19T09:44:51.429193",
     "exception": false,
     "start_time": "2022-11-19T09:44:51.421289",
     "status": "completed"
    },
    "tags": []
   },
   "source": [
    "## Prelimiary Operations"
   ]
  },
  {
   "cell_type": "markdown",
   "id": "f41edf77",
   "metadata": {
    "papermill": {
     "duration": 0.006633,
     "end_time": "2022-11-19T09:44:51.442718",
     "exception": false,
     "start_time": "2022-11-19T09:44:51.436085",
     "status": "completed"
    },
    "tags": []
   },
   "source": [
    "### Useful operations"
   ]
  },
  {
   "cell_type": "code",
   "execution_count": 1,
   "id": "7db03a3b",
   "metadata": {
    "execution": {
     "iopub.execute_input": "2022-11-19T09:44:51.458508Z",
     "iopub.status.busy": "2022-11-19T09:44:51.457404Z",
     "iopub.status.idle": "2022-11-19T09:44:51.468261Z",
     "shell.execute_reply": "2022-11-19T09:44:51.467431Z"
    },
    "papermill": {
     "duration": 0.021135,
     "end_time": "2022-11-19T09:44:51.470436",
     "exception": false,
     "start_time": "2022-11-19T09:44:51.449301",
     "status": "completed"
    },
    "tags": []
   },
   "outputs": [],
   "source": [
    "import os\n",
    "import shutil\n",
    "if os.path.exists(\"/kaggle/working/andrea\"):\n",
    "    shutil.rmtree(\"/kaggle/working/andrea\")"
   ]
  },
  {
   "cell_type": "code",
   "execution_count": 2,
   "id": "cd1fa366",
   "metadata": {
    "execution": {
     "iopub.execute_input": "2022-11-19T09:44:51.485583Z",
     "iopub.status.busy": "2022-11-19T09:44:51.484689Z",
     "iopub.status.idle": "2022-11-19T09:44:51.489515Z",
     "shell.execute_reply": "2022-11-19T09:44:51.488683Z"
    },
    "papermill": {
     "duration": 0.014574,
     "end_time": "2022-11-19T09:44:51.491739",
     "exception": false,
     "start_time": "2022-11-19T09:44:51.477165",
     "status": "completed"
    },
    "tags": []
   },
   "outputs": [],
   "source": [
    "if os.path.exists(\"/kaggle/working/EfficientNet_experiments\"):\n",
    "    shutil.rmtree(\"/kaggle/working/EfficientNet_experiments\")"
   ]
  },
  {
   "cell_type": "code",
   "execution_count": 3,
   "id": "207c7071",
   "metadata": {
    "execution": {
     "iopub.execute_input": "2022-11-19T09:44:51.508106Z",
     "iopub.status.busy": "2022-11-19T09:44:51.506692Z",
     "iopub.status.idle": "2022-11-19T09:44:51.511534Z",
     "shell.execute_reply": "2022-11-19T09:44:51.510695Z"
    },
    "papermill": {
     "duration": 0.014894,
     "end_time": "2022-11-19T09:44:51.513469",
     "exception": false,
     "start_time": "2022-11-19T09:44:51.498575",
     "status": "completed"
    },
    "tags": []
   },
   "outputs": [],
   "source": [
    "if os.path.exists(\"/kaggle/working/EfficientNet\"):\n",
    "    shutil.rmtree(\"/kaggle/working/EfficientNet\")"
   ]
  },
  {
   "cell_type": "code",
   "execution_count": 4,
   "id": "370ab4a0",
   "metadata": {
    "execution": {
     "iopub.execute_input": "2022-11-19T09:44:51.529908Z",
     "iopub.status.busy": "2022-11-19T09:44:51.529412Z",
     "iopub.status.idle": "2022-11-19T09:44:51.533863Z",
     "shell.execute_reply": "2022-11-19T09:44:51.532906Z"
    },
    "papermill": {
     "duration": 0.015595,
     "end_time": "2022-11-19T09:44:51.535837",
     "exception": false,
     "start_time": "2022-11-19T09:44:51.520242",
     "status": "completed"
    },
    "tags": []
   },
   "outputs": [],
   "source": [
    "# to remove a file\n",
    "import os\n",
    "if os.path.exists(\"/kaggle/working/model.png\"):\n",
    "    os.remove(\"/kaggle/working/model.png\")"
   ]
  },
  {
   "cell_type": "code",
   "execution_count": 5,
   "id": "567a76ba",
   "metadata": {
    "execution": {
     "iopub.execute_input": "2022-11-19T09:44:51.550989Z",
     "iopub.status.busy": "2022-11-19T09:44:51.550215Z",
     "iopub.status.idle": "2022-11-19T09:44:51.555290Z",
     "shell.execute_reply": "2022-11-19T09:44:51.554419Z"
    },
    "papermill": {
     "duration": 0.014957,
     "end_time": "2022-11-19T09:44:51.557551",
     "exception": false,
     "start_time": "2022-11-19T09:44:51.542594",
     "status": "completed"
    },
    "tags": []
   },
   "outputs": [],
   "source": [
    "# to create a folder\n",
    "import os\n",
    "directory = \"EfficientNet\"\n",
    "parent_dir = \"/kaggle/working\"\n",
    "path = os.path.join(parent_dir, directory)\n",
    "if not os.path.exists(path):\n",
    "    os.mkdir(path)"
   ]
  },
  {
   "cell_type": "markdown",
   "id": "6f9c5c53",
   "metadata": {
    "papermill": {
     "duration": 0.006528,
     "end_time": "2022-11-19T09:44:51.570733",
     "exception": false,
     "start_time": "2022-11-19T09:44:51.564205",
     "status": "completed"
    },
    "tags": []
   },
   "source": [
    "### Operations"
   ]
  },
  {
   "cell_type": "code",
   "execution_count": 6,
   "id": "06cfac77",
   "metadata": {
    "execution": {
     "iopub.execute_input": "2022-11-19T09:44:51.586137Z",
     "iopub.status.busy": "2022-11-19T09:44:51.585231Z",
     "iopub.status.idle": "2022-11-19T09:44:57.837567Z",
     "shell.execute_reply": "2022-11-19T09:44:57.836565Z"
    },
    "papermill": {
     "duration": 6.262751,
     "end_time": "2022-11-19T09:44:57.840116",
     "exception": false,
     "start_time": "2022-11-19T09:44:51.577365",
     "status": "completed"
    },
    "tags": []
   },
   "outputs": [],
   "source": [
    "import tensorflow as tf\n",
    "import numpy as np\n",
    "import os\n",
    "import random\n",
    "import pandas as pd\n",
    "import seaborn as sns\n",
    "import matplotlib as mpl\n",
    "import matplotlib.pyplot as plt\n",
    "from sklearn.model_selection import train_test_split\n",
    "from sklearn.metrics import accuracy_score, f1_score, precision_score, recall_score\n",
    "from sklearn.metrics import confusion_matrix\n",
    "from PIL import Image\n",
    "\n",
    "tfk = tf.keras\n",
    "tfkl = tf.keras.layers"
   ]
  },
  {
   "cell_type": "code",
   "execution_count": 7,
   "id": "46972281",
   "metadata": {
    "execution": {
     "iopub.execute_input": "2022-11-19T09:44:57.857929Z",
     "iopub.status.busy": "2022-11-19T09:44:57.855993Z",
     "iopub.status.idle": "2022-11-19T09:44:57.863330Z",
     "shell.execute_reply": "2022-11-19T09:44:57.862480Z"
    },
    "papermill": {
     "duration": 0.017862,
     "end_time": "2022-11-19T09:44:57.865278",
     "exception": false,
     "start_time": "2022-11-19T09:44:57.847416",
     "status": "completed"
    },
    "tags": []
   },
   "outputs": [],
   "source": [
    "# Random seed for reproducibility\n",
    "seed = 42\n",
    "\n",
    "random.seed(seed)\n",
    "os.environ['PYTHONHASHSEED'] = str(seed)\n",
    "np.random.seed(seed)\n",
    "tf.random.set_seed(seed)\n",
    "tf.compat.v1.set_random_seed(seed)"
   ]
  },
  {
   "cell_type": "code",
   "execution_count": 8,
   "id": "91387718",
   "metadata": {
    "execution": {
     "iopub.execute_input": "2022-11-19T09:44:57.881010Z",
     "iopub.status.busy": "2022-11-19T09:44:57.880265Z",
     "iopub.status.idle": "2022-11-19T09:44:57.886606Z",
     "shell.execute_reply": "2022-11-19T09:44:57.885700Z"
    },
    "papermill": {
     "duration": 0.016311,
     "end_time": "2022-11-19T09:44:57.888564",
     "exception": false,
     "start_time": "2022-11-19T09:44:57.872253",
     "status": "completed"
    },
    "tags": []
   },
   "outputs": [],
   "source": [
    "import warnings\n",
    "import logging\n",
    "\n",
    "os.environ['TF_CPP_MIN_LOG_LEVEL'] = '2'\n",
    "warnings.simplefilter(action='ignore', category=FutureWarning)\n",
    "warnings.simplefilter(action='ignore', category=Warning)\n",
    "tf.get_logger().setLevel('INFO')\n",
    "tf.autograph.set_verbosity(0)\n",
    "\n",
    "tf.get_logger().setLevel(logging.ERROR)\n",
    "tf.get_logger().setLevel('ERROR')\n",
    "tf.compat.v1.logging.set_verbosity(tf.compat.v1.logging.ERROR)"
   ]
  },
  {
   "cell_type": "markdown",
   "id": "1bc61622",
   "metadata": {
    "papermill": {
     "duration": 0.006414,
     "end_time": "2022-11-19T09:44:57.902435",
     "exception": false,
     "start_time": "2022-11-19T09:44:57.896021",
     "status": "completed"
    },
    "tags": []
   },
   "source": [
    "## Importing data"
   ]
  },
  {
   "cell_type": "code",
   "execution_count": 9,
   "id": "1462ec60",
   "metadata": {
    "execution": {
     "iopub.execute_input": "2022-11-19T09:44:57.917333Z",
     "iopub.status.busy": "2022-11-19T09:44:57.916784Z",
     "iopub.status.idle": "2022-11-19T09:44:57.921296Z",
     "shell.execute_reply": "2022-11-19T09:44:57.920340Z"
    },
    "papermill": {
     "duration": 0.014412,
     "end_time": "2022-11-19T09:44:57.923311",
     "exception": false,
     "start_time": "2022-11-19T09:44:57.908899",
     "status": "completed"
    },
    "tags": []
   },
   "outputs": [],
   "source": [
    "labels = ['Species1',   # 0\n",
    "          'Species2',   # 1\n",
    "          'Species3',   # 2\n",
    "          'Species4',   # 3\n",
    "          'Species5',   # 4\n",
    "          'Species6',   # 5\n",
    "          'Species7',   # 6\n",
    "          'Species8']   # 7"
   ]
  },
  {
   "cell_type": "code",
   "execution_count": 10,
   "id": "09f9a82a",
   "metadata": {
    "execution": {
     "iopub.execute_input": "2022-11-19T09:44:57.938665Z",
     "iopub.status.busy": "2022-11-19T09:44:57.937827Z",
     "iopub.status.idle": "2022-11-19T09:44:57.942825Z",
     "shell.execute_reply": "2022-11-19T09:44:57.941998Z"
    },
    "papermill": {
     "duration": 0.014922,
     "end_time": "2022-11-19T09:44:57.944729",
     "exception": false,
     "start_time": "2022-11-19T09:44:57.929807",
     "status": "completed"
    },
    "tags": []
   },
   "outputs": [],
   "source": [
    "# Dataset folders \n",
    "dataset_dir = \"../input/splitted-dataset-no-test/splitted_dataset_no_test\"\n",
    "training_dir = os.path.join(dataset_dir, 'train')\n",
    "validation_dir = os.path.join(dataset_dir, 'val')"
   ]
  },
  {
   "cell_type": "code",
   "execution_count": 11,
   "id": "0fa416e4",
   "metadata": {
    "execution": {
     "iopub.execute_input": "2022-11-19T09:44:57.960263Z",
     "iopub.status.busy": "2022-11-19T09:44:57.959359Z",
     "iopub.status.idle": "2022-11-19T09:44:58.392501Z",
     "shell.execute_reply": "2022-11-19T09:44:58.391352Z"
    },
    "papermill": {
     "duration": 0.443898,
     "end_time": "2022-11-19T09:44:58.395478",
     "exception": false,
     "start_time": "2022-11-19T09:44:57.951580",
     "status": "completed"
    },
    "tags": []
   },
   "outputs": [
    {
     "name": "stdout",
     "output_type": "stream",
     "text": [
      "Found 3432 images belonging to 8 classes.\n",
      "Found 864 images belonging to 8 classes.\n"
     ]
    }
   ],
   "source": [
    "# Images are divided into folders, one for each class. \n",
    "# If the images are organized in such a way, we can exploit the \n",
    "# ImageDataGenerator to read them from disk.\n",
    "from tensorflow.keras.preprocessing.image import ImageDataGenerator\n",
    "\n",
    "# Create an instance of ImageDataGenerator, and for the trainign with Data Augmentation\n",
    "\n",
    "\n",
    "train_data_gen = ImageDataGenerator(rotation_range=15,\n",
    "                                        height_shift_range=0.2,\n",
    "                                        width_shift_range=0.2,\n",
    "                                        zoom_range=0.1,\n",
    "                                        shear_range=0.2,\n",
    "                                        horizontal_flip=True,\n",
    "                                        fill_mode='reflect')\n",
    "\n",
    "\n",
    "\n",
    "#train_data_gen = ImageDataGenerator()\n",
    "valid_data_gen = ImageDataGenerator()\n",
    "\n",
    "# Obtain a data generator with the 'ImageDataGenerator.flow_from_directory' method\n",
    "train_gen = train_data_gen.flow_from_directory(directory=training_dir,\n",
    "                                                       target_size=(96,96),\n",
    "                                                       color_mode='rgb',\n",
    "                                                       classes=None, # can be set to labels\n",
    "                                                       class_mode='categorical',\n",
    "                                                       batch_size=8,\n",
    "                                                       shuffle=True,\n",
    "                                                       seed=seed)\n",
    "\n",
    "valid_gen = valid_data_gen.flow_from_directory(directory=validation_dir,\n",
    "                                               target_size=(96,96),\n",
    "                                               color_mode='rgb',\n",
    "                                               classes=None, # can be set to labels\n",
    "                                               class_mode='categorical',\n",
    "                                               batch_size=8,\n",
    "                                               shuffle=False,\n",
    "                                               seed=seed)"
   ]
  },
  {
   "cell_type": "code",
   "execution_count": 13,
   "id": "6a776a95",
   "metadata": {
    "execution": {
     "iopub.execute_input": "2022-11-19T09:44:58.436578Z",
     "iopub.status.busy": "2022-11-19T09:44:58.435852Z",
     "iopub.status.idle": "2022-11-19T09:44:58.440212Z",
     "shell.execute_reply": "2022-11-19T09:44:58.439219Z"
    },
    "papermill": {
     "duration": 0.014595,
     "end_time": "2022-11-19T09:44:58.442275",
     "exception": false,
     "start_time": "2022-11-19T09:44:58.427680",
     "status": "completed"
    },
    "tags": []
   },
   "outputs": [],
   "source": [
    "#batch = get_next_batch(train_gen)"
   ]
  },
  {
   "cell_type": "markdown",
   "id": "80e396ca",
   "metadata": {
    "papermill": {
     "duration": 0.006911,
     "end_time": "2022-11-19T09:44:58.455937",
     "exception": false,
     "start_time": "2022-11-19T09:44:58.449026",
     "status": "completed"
    },
    "tags": []
   },
   "source": [
    "## Model"
   ]
  },
  {
   "cell_type": "code",
   "execution_count": 14,
   "id": "a420d22b",
   "metadata": {
    "execution": {
     "iopub.execute_input": "2022-11-19T09:44:58.470884Z",
     "iopub.status.busy": "2022-11-19T09:44:58.470571Z",
     "iopub.status.idle": "2022-11-19T09:44:59.465174Z",
     "shell.execute_reply": "2022-11-19T09:44:59.463984Z"
    },
    "papermill": {
     "duration": 1.005511,
     "end_time": "2022-11-19T09:44:59.468203",
     "exception": false,
     "start_time": "2022-11-19T09:44:58.462692",
     "status": "completed"
    },
    "tags": []
   },
   "outputs": [
    {
     "name": "stdout",
     "output_type": "stream",
     "text": [
      "/bin/bash: line 0: cd: /kaggle/working/EfficieNet: No such file or directory\r\n"
     ]
    }
   ],
   "source": [
    "!cd /kaggle/working/EfficieNet"
   ]
  },
  {
   "cell_type": "code",
   "execution_count": 16,
   "id": "a54032b0",
   "metadata": {
    "execution": {
     "iopub.execute_input": "2022-11-19T09:44:59.509172Z",
     "iopub.status.busy": "2022-11-19T09:44:59.508242Z",
     "iopub.status.idle": "2022-11-19T09:45:04.339522Z",
     "shell.execute_reply": "2022-11-19T09:45:04.338477Z"
    },
    "papermill": {
     "duration": 4.842415,
     "end_time": "2022-11-19T09:45:04.342505",
     "exception": false,
     "start_time": "2022-11-19T09:44:59.500090",
     "status": "completed"
    },
    "tags": []
   },
   "outputs": [
    {
     "name": "stdout",
     "output_type": "stream",
     "text": [
      "Downloading data from https://storage.googleapis.com/keras-applications/efficientnetb0_notop.h5\n",
      "16711680/16705208 [==============================] - 0s 0us/step\n",
      "16719872/16705208 [==============================] - 0s 0us/step\n"
     ]
    }
   ],
   "source": [
    "# Download and plot the EfficientNet model\n",
    "eff_net = tfk.applications.efficientnet.EfficientNetB0(\n",
    "    include_top=False,\n",
    "    weights='imagenet',\n",
    "    input_shape=(96,96,3),\n",
    ")\n",
    "\n",
    "eff_net.trainable = False # we are freezing the weights of the conv part, so that they are not updated\n",
    "                            # during the training\n",
    "#tfk.utils.plot_model(eff_net)"
   ]
  },
  {
   "cell_type": "code",
   "execution_count": 17,
   "id": "8f1b6019",
   "metadata": {
    "execution": {
     "iopub.execute_input": "2022-11-19T09:45:04.364833Z",
     "iopub.status.busy": "2022-11-19T09:45:04.364369Z",
     "iopub.status.idle": "2022-11-19T09:45:04.369462Z",
     "shell.execute_reply": "2022-11-19T09:45:04.368682Z"
    },
    "papermill": {
     "duration": 0.019822,
     "end_time": "2022-11-19T09:45:04.373112",
     "exception": false,
     "start_time": "2022-11-19T09:45:04.353290",
     "status": "completed"
    },
    "tags": []
   },
   "outputs": [],
   "source": [
    "input_shape = (96, 96, 3)\n",
    "epochs = 500\n",
    "learning_rate = 1e-2\n",
    "l1=0\n",
    "l2=0"
   ]
  },
  {
   "cell_type": "code",
   "execution_count": 18,
   "id": "f9e31b84",
   "metadata": {
    "execution": {
     "iopub.execute_input": "2022-11-19T09:45:04.394833Z",
     "iopub.status.busy": "2022-11-19T09:45:04.394401Z",
     "iopub.status.idle": "2022-11-19T09:45:04.405412Z",
     "shell.execute_reply": "2022-11-19T09:45:04.404579Z"
    },
    "papermill": {
     "duration": 0.024617,
     "end_time": "2022-11-19T09:45:04.407872",
     "exception": false,
     "start_time": "2022-11-19T09:45:04.383255",
     "status": "completed"
    },
    "tags": []
   },
   "outputs": [],
   "source": [
    "# Som elayers might be commented for the different trials we made.\n",
    "\n",
    "def build_model(input_shape):\n",
    "\n",
    "    # Build the neural network layer by layer\n",
    "    input_layer = tfkl.Input(shape=input_shape, name='input_layer')\n",
    "    \n",
    "    #x = tfkl.Resizing(64, 64, interpolation=\"bicubic\", name='resizing')(input_layer)\n",
    "    efficient_net = eff_net(input_layer)\n",
    "    \n",
    "    #x = tfkl.Flatten()(efficient_net)\n",
    "    x = tfkl.GlobalAveragePooling2D()(efficient_net)\n",
    "    #x = tfkl.Dropout(0.2, seed=seed)(x)\n",
    "    x = tfkl.Dense(units=512, name='classifier1', \n",
    "                   kernel_initializer=tfk.initializers.HeUniform(seed),\n",
    "                   activation='relu',\n",
    "                   kernel_regularizer=tfk.regularizers.L1L2(l1=l1, l2=l2))(x)\n",
    "    #x = tfkl.BatchNormalization()(x)\n",
    "    x = tfkl.Dropout(0.3, seed=seed)(x)\n",
    "    output_layer = tfkl.Dense(\n",
    "        8, \n",
    "        activation='softmax',\n",
    "        kernel_initializer = tfk.initializers.GlorotUniform(seed))(x)\n",
    "        # Connect input and output through the Model class\n",
    "    model = tfk.Model(inputs=input_layer, outputs=output_layer, name='efficient_net_model')\n",
    "\n",
    "    # Compile the model\n",
    "    model.compile(loss=tfk.losses.CategoricalCrossentropy(), optimizer=tfk.optimizers.Adam(learning_rate), metrics='accuracy')\n",
    "\n",
    "    # Return the model\n",
    "    return model"
   ]
  },
  {
   "cell_type": "code",
   "execution_count": 19,
   "id": "bf0e12ce",
   "metadata": {
    "execution": {
     "iopub.execute_input": "2022-11-19T09:45:04.429269Z",
     "iopub.status.busy": "2022-11-19T09:45:04.428869Z",
     "iopub.status.idle": "2022-11-19T09:45:06.050604Z",
     "shell.execute_reply": "2022-11-19T09:45:06.049468Z"
    },
    "papermill": {
     "duration": 1.635252,
     "end_time": "2022-11-19T09:45:06.053094",
     "exception": false,
     "start_time": "2022-11-19T09:45:04.417842",
     "status": "completed"
    },
    "tags": []
   },
   "outputs": [
    {
     "name": "stdout",
     "output_type": "stream",
     "text": [
      "Model: \"efficient_net_model\"\n",
      "_________________________________________________________________\n",
      "Layer (type)                 Output Shape              Param #   \n",
      "=================================================================\n",
      "input_layer (InputLayer)     [(None, 96, 96, 3)]       0         \n",
      "_________________________________________________________________\n",
      "efficientnetb0 (Functional)  (None, 3, 3, 1280)        4049571   \n",
      "_________________________________________________________________\n",
      "global_average_pooling2d (Gl (None, 1280)              0         \n",
      "_________________________________________________________________\n",
      "classifier1 (Dense)          (None, 512)               655872    \n",
      "_________________________________________________________________\n",
      "dropout (Dropout)            (None, 512)               0         \n",
      "_________________________________________________________________\n",
      "dense (Dense)                (None, 8)                 4104      \n",
      "=================================================================\n",
      "Total params: 4,709,547\n",
      "Trainable params: 659,976\n",
      "Non-trainable params: 4,049,571\n",
      "_________________________________________________________________\n"
     ]
    },
    {
     "data": {
      "image/png": "[encoded data removed]",
      "text/plain": [
       "<IPython.core.display.Image object>"
      ]
     },
     "execution_count": 19,
     "metadata": {},
     "output_type": "execute_result"
    }
   ],
   "source": [
    "# Build model\n",
    "eff_net_model = build_model(input_shape)\n",
    "eff_net_model.summary()\n",
    "tfk.utils.plot_model(eff_net_model)"
   ]
  },
  {
   "cell_type": "code",
   "execution_count": 20,
   "id": "8b3544d5",
   "metadata": {
    "execution": {
     "iopub.execute_input": "2022-11-19T09:45:06.071083Z",
     "iopub.status.busy": "2022-11-19T09:45:06.070479Z",
     "iopub.status.idle": "2022-11-19T09:45:06.109633Z",
     "shell.execute_reply": "2022-11-19T09:45:06.108297Z"
    },
    "papermill": {
     "duration": 0.050765,
     "end_time": "2022-11-19T09:45:06.112311",
     "exception": false,
     "start_time": "2022-11-19T09:45:06.061546",
     "status": "completed"
    },
    "tags": []
   },
   "outputs": [
    {
     "name": "stdout",
     "output_type": "stream",
     "text": [
      "Model: \"efficient_net_model\"\n",
      "_________________________________________________________________\n",
      "Layer (type)                 Output Shape              Param #   \n",
      "=================================================================\n",
      "input_layer (InputLayer)     [(None, 96, 96, 3)]       0         \n",
      "_________________________________________________________________\n",
      "efficientnetb0 (Functional)  (None, 3, 3, 1280)        4049571   \n",
      "_________________________________________________________________\n",
      "global_average_pooling2d (Gl (None, 1280)              0         \n",
      "_________________________________________________________________\n",
      "classifier1 (Dense)          (None, 512)               655872    \n",
      "_________________________________________________________________\n",
      "dropout (Dropout)            (None, 512)               0         \n",
      "_________________________________________________________________\n",
      "dense (Dense)                (None, 8)                 4104      \n",
      "=================================================================\n",
      "Total params: 4,709,547\n",
      "Trainable params: 2,002,744\n",
      "Non-trainable params: 2,706,803\n",
      "_________________________________________________________________\n"
     ]
    }
   ],
   "source": [
    "# Phase 1: make layers from 6d trainable\n",
    "eff_net_model.get_layer('efficientnetb0').trainable = False\n",
    "\n",
    "eff_net.trainable = True\n",
    "set_trainable = False\n",
    "\n",
    "for layer in eff_net.layers:\n",
    "    if layer.name == 'block6d_se_excite':\n",
    "        set_trainable = True\n",
    "    if set_trainable:\n",
    "        if not isinstance(layer, tfkl.BatchNormalization):\n",
    "            layer.trainable = True\n",
    "        else:\n",
    "            layer.trainable = False\n",
    "    else:\n",
    "        layer.trainable = False\n",
    "        \n",
    "eff_net_model.summary()"
   ]
  },
  {
   "cell_type": "markdown",
   "id": "d793513d",
   "metadata": {
    "papermill": {
     "duration": 0.007761,
     "end_time": "2022-11-19T09:45:06.127789",
     "exception": false,
     "start_time": "2022-11-19T09:45:06.120028",
     "status": "completed"
    },
    "tags": []
   },
   "source": [
    "## Training"
   ]
  },
  {
   "cell_type": "code",
   "execution_count": 21,
   "id": "cff5268f",
   "metadata": {
    "execution": {
     "iopub.execute_input": "2022-11-19T09:45:06.144473Z",
     "iopub.status.busy": "2022-11-19T09:45:06.144167Z",
     "iopub.status.idle": "2022-11-19T09:45:06.148734Z",
     "shell.execute_reply": "2022-11-19T09:45:06.147652Z"
    },
    "papermill": {
     "duration": 0.015651,
     "end_time": "2022-11-19T09:45:06.151170",
     "exception": false,
     "start_time": "2022-11-19T09:45:06.135519",
     "status": "completed"
    },
    "tags": []
   },
   "outputs": [],
   "source": [
    "patience = 20"
   ]
  },
  {
   "cell_type": "code",
   "execution_count": 22,
   "id": "e0b6b8d6",
   "metadata": {
    "execution": {
     "iopub.execute_input": "2022-11-19T09:45:06.167645Z",
     "iopub.status.busy": "2022-11-19T09:45:06.167339Z",
     "iopub.status.idle": "2022-11-19T09:45:06.172917Z",
     "shell.execute_reply": "2022-11-19T09:45:06.172018Z"
    },
    "papermill": {
     "duration": 0.016274,
     "end_time": "2022-11-19T09:45:06.175028",
     "exception": false,
     "start_time": "2022-11-19T09:45:06.158754",
     "status": "completed"
    },
    "tags": []
   },
   "outputs": [],
   "source": [
    "model_name = \"Efficient_net_fine_tuning\""
   ]
  },
  {
   "cell_type": "code",
   "execution_count": 23,
   "id": "094c0175",
   "metadata": {
    "execution": {
     "iopub.execute_input": "2022-11-19T09:45:06.191053Z",
     "iopub.status.busy": "2022-11-19T09:45:06.190791Z",
     "iopub.status.idle": "2022-11-19T10:14:39.558732Z",
     "shell.execute_reply": "2022-11-19T10:14:39.557577Z"
    },
    "papermill": {
     "duration": 1773.381046,
     "end_time": "2022-11-19T10:14:39.563527",
     "exception": false,
     "start_time": "2022-11-19T09:45:06.182481",
     "status": "completed"
    },
    "tags": []
   },
   "outputs": [
    {
     "name": "stdout",
     "output_type": "stream",
     "text": [
      "Epoch 1/100\n",
      "429/429 [==============================] - 38s 61ms/step - loss: 1.8653 - accuracy: 0.3951 - val_loss: 1.6206 - val_accuracy: 0.4711\n",
      "Epoch 2/100\n",
      "429/429 [==============================] - 17s 39ms/step - loss: 1.6463 - accuracy: 0.4248 - val_loss: 1.4329 - val_accuracy: 0.5046\n",
      "Epoch 3/100\n",
      "429/429 [==============================] - 17s 39ms/step - loss: 1.7031 - accuracy: 0.4205 - val_loss: 1.3862 - val_accuracy: 0.5220\n",
      "Epoch 4/100\n",
      "429/429 [==============================] - 16s 38ms/step - loss: 1.6022 - accuracy: 0.4400 - val_loss: 1.4181 - val_accuracy: 0.4757\n",
      "Epoch 5/100\n",
      "429/429 [==============================] - 17s 39ms/step - loss: 1.6154 - accuracy: 0.4467 - val_loss: 1.3593 - val_accuracy: 0.5289\n",
      "Epoch 6/100\n",
      "429/429 [==============================] - 16s 38ms/step - loss: 1.5989 - accuracy: 0.4554 - val_loss: 1.2038 - val_accuracy: 0.5752\n",
      "Epoch 7/100\n",
      "429/429 [==============================] - 17s 40ms/step - loss: 1.4859 - accuracy: 0.4575 - val_loss: 1.3727 - val_accuracy: 0.5012\n",
      "Epoch 8/100\n",
      "429/429 [==============================] - 18s 41ms/step - loss: 1.5351 - accuracy: 0.4913 - val_loss: 1.3360 - val_accuracy: 0.5231\n",
      "Epoch 9/100\n",
      "429/429 [==============================] - 16s 38ms/step - loss: 1.4941 - accuracy: 0.4991 - val_loss: 1.1563 - val_accuracy: 0.6007\n",
      "Epoch 10/100\n",
      "429/429 [==============================] - 17s 40ms/step - loss: 1.4552 - accuracy: 0.4901 - val_loss: 1.1726 - val_accuracy: 0.6146\n",
      "Epoch 11/100\n",
      "429/429 [==============================] - 16s 37ms/step - loss: 1.6160 - accuracy: 0.4717 - val_loss: 1.1913 - val_accuracy: 0.5660\n",
      "Epoch 12/100\n",
      "429/429 [==============================] - 17s 40ms/step - loss: 1.4427 - accuracy: 0.4971 - val_loss: 1.2017 - val_accuracy: 0.5567\n",
      "Epoch 13/100\n",
      "429/429 [==============================] - 16s 37ms/step - loss: 1.4412 - accuracy: 0.4898 - val_loss: 1.2844 - val_accuracy: 0.5660\n",
      "Epoch 14/100\n",
      "429/429 [==============================] - 17s 40ms/step - loss: 1.4579 - accuracy: 0.4781 - val_loss: 1.4205 - val_accuracy: 0.5405\n",
      "Epoch 15/100\n",
      "429/429 [==============================] - 16s 37ms/step - loss: 1.4336 - accuracy: 0.5000 - val_loss: 1.1803 - val_accuracy: 0.5868\n",
      "Epoch 16/100\n",
      "429/429 [==============================] - 17s 40ms/step - loss: 1.4994 - accuracy: 0.4913 - val_loss: 1.1848 - val_accuracy: 0.6030\n",
      "Epoch 17/100\n",
      "429/429 [==============================] - 17s 39ms/step - loss: 1.5219 - accuracy: 0.5003 - val_loss: 1.2447 - val_accuracy: 0.5764\n",
      "Epoch 18/100\n",
      "429/429 [==============================] - 17s 39ms/step - loss: 1.4960 - accuracy: 0.5038 - val_loss: 1.1094 - val_accuracy: 0.6030\n",
      "Epoch 19/100\n",
      "429/429 [==============================] - 16s 38ms/step - loss: 1.3512 - accuracy: 0.5137 - val_loss: 1.1121 - val_accuracy: 0.5752\n",
      "Epoch 20/100\n",
      "429/429 [==============================] - 16s 38ms/step - loss: 1.3341 - accuracy: 0.5184 - val_loss: 1.1948 - val_accuracy: 0.5799\n",
      "Epoch 21/100\n",
      "429/429 [==============================] - 17s 39ms/step - loss: 1.5692 - accuracy: 0.5061 - val_loss: 1.0805 - val_accuracy: 0.6262\n",
      "Epoch 22/100\n",
      "429/429 [==============================] - 17s 39ms/step - loss: 1.8203 - accuracy: 0.5178 - val_loss: 1.1523 - val_accuracy: 0.5613\n",
      "Epoch 23/100\n",
      "429/429 [==============================] - 16s 38ms/step - loss: 1.4641 - accuracy: 0.5192 - val_loss: 1.2917 - val_accuracy: 0.5625\n",
      "Epoch 24/100\n",
      "429/429 [==============================] - 16s 38ms/step - loss: 1.4230 - accuracy: 0.5172 - val_loss: 1.1783 - val_accuracy: 0.5706\n",
      "Epoch 25/100\n",
      "429/429 [==============================] - 16s 38ms/step - loss: 1.3627 - accuracy: 0.5210 - val_loss: 1.0857 - val_accuracy: 0.6100\n",
      "Epoch 26/100\n",
      "429/429 [==============================] - 17s 39ms/step - loss: 1.4516 - accuracy: 0.5163 - val_loss: 1.2291 - val_accuracy: 0.5949\n",
      "Epoch 27/100\n",
      "429/429 [==============================] - 17s 40ms/step - loss: 1.4556 - accuracy: 0.5172 - val_loss: 1.2502 - val_accuracy: 0.6366\n",
      "Epoch 28/100\n",
      "429/429 [==============================] - 21s 48ms/step - loss: 1.3596 - accuracy: 0.5181 - val_loss: 1.0857 - val_accuracy: 0.6389\n",
      "Epoch 29/100\n",
      "429/429 [==============================] - 24s 57ms/step - loss: 1.3883 - accuracy: 0.5230 - val_loss: 1.1539 - val_accuracy: 0.5972\n",
      "Epoch 30/100\n",
      "429/429 [==============================] - 17s 40ms/step - loss: 1.4766 - accuracy: 0.5172 - val_loss: 1.0627 - val_accuracy: 0.6354\n",
      "Epoch 31/100\n",
      "429/429 [==============================] - 16s 38ms/step - loss: 1.3813 - accuracy: 0.5242 - val_loss: 1.0254 - val_accuracy: 0.6609\n",
      "Epoch 32/100\n",
      "429/429 [==============================] - 17s 39ms/step - loss: 1.3224 - accuracy: 0.5318 - val_loss: 1.1101 - val_accuracy: 0.5961\n",
      "Epoch 33/100\n",
      "429/429 [==============================] - 17s 39ms/step - loss: 1.3265 - accuracy: 0.5283 - val_loss: 1.0935 - val_accuracy: 0.6123\n",
      "Epoch 34/100\n",
      "429/429 [==============================] - 18s 41ms/step - loss: 1.3042 - accuracy: 0.5277 - val_loss: 1.1332 - val_accuracy: 0.6076\n",
      "Epoch 35/100\n",
      "429/429 [==============================] - 17s 39ms/step - loss: 1.2900 - accuracy: 0.5402 - val_loss: 1.0755 - val_accuracy: 0.6562\n",
      "Epoch 36/100\n",
      "429/429 [==============================] - 17s 40ms/step - loss: 1.3213 - accuracy: 0.5382 - val_loss: 1.1330 - val_accuracy: 0.6319\n",
      "Epoch 37/100\n",
      "429/429 [==============================] - 17s 40ms/step - loss: 1.2820 - accuracy: 0.5373 - val_loss: 1.1270 - val_accuracy: 0.5961\n",
      "Epoch 38/100\n",
      "429/429 [==============================] - 17s 39ms/step - loss: 1.3097 - accuracy: 0.5385 - val_loss: 1.1477 - val_accuracy: 0.6123\n",
      "Epoch 39/100\n",
      "429/429 [==============================] - 17s 40ms/step - loss: 1.3157 - accuracy: 0.5577 - val_loss: 1.1529 - val_accuracy: 0.6354\n",
      "Epoch 40/100\n",
      "429/429 [==============================] - 17s 39ms/step - loss: 1.3861 - accuracy: 0.5221 - val_loss: 1.2670 - val_accuracy: 0.6181\n",
      "Epoch 41/100\n",
      "429/429 [==============================] - 18s 42ms/step - loss: 1.4843 - accuracy: 0.5245 - val_loss: 1.5855 - val_accuracy: 0.5961\n",
      "Epoch 42/100\n",
      "429/429 [==============================] - 17s 39ms/step - loss: 1.2774 - accuracy: 0.5422 - val_loss: 1.0874 - val_accuracy: 0.6516\n",
      "Epoch 43/100\n",
      "429/429 [==============================] - 16s 38ms/step - loss: 1.3003 - accuracy: 0.5204 - val_loss: 1.1524 - val_accuracy: 0.6273\n",
      "Epoch 44/100\n",
      "429/429 [==============================] - 17s 41ms/step - loss: 1.2794 - accuracy: 0.5350 - val_loss: 1.1794 - val_accuracy: 0.5845\n",
      "Epoch 45/100\n",
      "429/429 [==============================] - 17s 39ms/step - loss: 1.3343 - accuracy: 0.5312 - val_loss: 1.1261 - val_accuracy: 0.6389\n",
      "Epoch 46/100\n",
      "429/429 [==============================] - 17s 40ms/step - loss: 1.4464 - accuracy: 0.5274 - val_loss: 1.1906 - val_accuracy: 0.6146\n",
      "Epoch 47/100\n",
      "429/429 [==============================] - 17s 39ms/step - loss: 1.3300 - accuracy: 0.5306 - val_loss: 1.1046 - val_accuracy: 0.6655\n",
      "Epoch 48/100\n",
      "429/429 [==============================] - 19s 43ms/step - loss: 1.2781 - accuracy: 0.5370 - val_loss: 1.2661 - val_accuracy: 0.6204\n",
      "Epoch 49/100\n",
      "429/429 [==============================] - 17s 39ms/step - loss: 1.3231 - accuracy: 0.5201 - val_loss: 1.3581 - val_accuracy: 0.6111\n",
      "Epoch 50/100\n",
      "429/429 [==============================] - 17s 40ms/step - loss: 1.3513 - accuracy: 0.5370 - val_loss: 1.3578 - val_accuracy: 0.6389\n",
      "Epoch 51/100\n",
      "429/429 [==============================] - 17s 40ms/step - loss: 1.4888 - accuracy: 0.5469 - val_loss: 1.3625 - val_accuracy: 0.6238\n",
      "Epoch 52/100\n",
      "429/429 [==============================] - 17s 39ms/step - loss: 1.4157 - accuracy: 0.5358 - val_loss: 1.2036 - val_accuracy: 0.6250\n",
      "Epoch 53/100\n",
      "429/429 [==============================] - 17s 39ms/step - loss: 1.3232 - accuracy: 0.5490 - val_loss: 1.2994 - val_accuracy: 0.6250\n",
      "Epoch 54/100\n",
      "429/429 [==============================] - 17s 40ms/step - loss: 1.5331 - accuracy: 0.5239 - val_loss: 1.3459 - val_accuracy: 0.6296\n",
      "Epoch 55/100\n",
      "429/429 [==============================] - 17s 39ms/step - loss: 1.4103 - accuracy: 0.5390 - val_loss: 1.3529 - val_accuracy: 0.5833\n",
      "Epoch 56/100\n",
      "429/429 [==============================] - 17s 40ms/step - loss: 1.5245 - accuracy: 0.5154 - val_loss: 1.5261 - val_accuracy: 0.6655\n",
      "Epoch 57/100\n",
      "429/429 [==============================] - 18s 41ms/step - loss: 1.2999 - accuracy: 0.5498 - val_loss: 1.5801 - val_accuracy: 0.6100\n",
      "Epoch 58/100\n",
      "429/429 [==============================] - 17s 39ms/step - loss: 1.4387 - accuracy: 0.5248 - val_loss: 1.3906 - val_accuracy: 0.6192\n",
      "Epoch 59/100\n",
      "429/429 [==============================] - 18s 41ms/step - loss: 1.5246 - accuracy: 0.5277 - val_loss: 1.1884 - val_accuracy: 0.6296\n",
      "Epoch 60/100\n",
      "429/429 [==============================] - 17s 39ms/step - loss: 1.3524 - accuracy: 0.5277 - val_loss: 1.3227 - val_accuracy: 0.6042\n",
      "Epoch 61/100\n",
      "429/429 [==============================] - 17s 40ms/step - loss: 1.3773 - accuracy: 0.5318 - val_loss: 1.4002 - val_accuracy: 0.6146\n",
      "Epoch 62/100\n",
      "429/429 [==============================] - 17s 39ms/step - loss: 1.3588 - accuracy: 0.5332 - val_loss: 1.3470 - val_accuracy: 0.6366\n",
      "Epoch 63/100\n",
      "429/429 [==============================] - 16s 38ms/step - loss: 1.3598 - accuracy: 0.5492 - val_loss: 1.1255 - val_accuracy: 0.6285\n",
      "Epoch 64/100\n",
      "429/429 [==============================] - 17s 38ms/step - loss: 1.3658 - accuracy: 0.5309 - val_loss: 1.0998 - val_accuracy: 0.6574\n",
      "Epoch 65/100\n",
      "429/429 [==============================] - 17s 39ms/step - loss: 1.4481 - accuracy: 0.5329 - val_loss: 1.1684 - val_accuracy: 0.6701\n",
      "Epoch 66/100\n",
      "429/429 [==============================] - 17s 39ms/step - loss: 1.4785 - accuracy: 0.5402 - val_loss: 1.1329 - val_accuracy: 0.6794\n",
      "Epoch 67/100\n",
      "429/429 [==============================] - 16s 38ms/step - loss: 1.2626 - accuracy: 0.5577 - val_loss: 1.1574 - val_accuracy: 0.5787\n",
      "Epoch 68/100\n",
      "429/429 [==============================] - 18s 41ms/step - loss: 1.2540 - accuracy: 0.5361 - val_loss: 1.0585 - val_accuracy: 0.6609\n",
      "Epoch 69/100\n",
      "429/429 [==============================] - 16s 37ms/step - loss: 1.3775 - accuracy: 0.5402 - val_loss: 1.2130 - val_accuracy: 0.6273\n",
      "Epoch 70/100\n",
      "429/429 [==============================] - 17s 40ms/step - loss: 1.2743 - accuracy: 0.5361 - val_loss: 1.3247 - val_accuracy: 0.6412\n",
      "Epoch 71/100\n",
      "429/429 [==============================] - 16s 37ms/step - loss: 1.4148 - accuracy: 0.5519 - val_loss: 1.1276 - val_accuracy: 0.6493\n",
      "Epoch 72/100\n",
      "429/429 [==============================] - 18s 43ms/step - loss: 1.3677 - accuracy: 0.5364 - val_loss: 1.3772 - val_accuracy: 0.6366\n",
      "Epoch 73/100\n",
      "429/429 [==============================] - 17s 39ms/step - loss: 1.3458 - accuracy: 0.5382 - val_loss: 1.2410 - val_accuracy: 0.6678\n",
      "Epoch 74/100\n",
      "429/429 [==============================] - 16s 38ms/step - loss: 1.3257 - accuracy: 0.5411 - val_loss: 1.2030 - val_accuracy: 0.6262\n",
      "Epoch 75/100\n",
      "429/429 [==============================] - 17s 39ms/step - loss: 1.3973 - accuracy: 0.5379 - val_loss: 1.2746 - val_accuracy: 0.5845\n",
      "Epoch 76/100\n",
      "429/429 [==============================] - 17s 39ms/step - loss: 1.3409 - accuracy: 0.5152 - val_loss: 1.0909 - val_accuracy: 0.6562\n",
      "Epoch 77/100\n",
      "429/429 [==============================] - 17s 41ms/step - loss: 1.2531 - accuracy: 0.5446 - val_loss: 1.3408 - val_accuracy: 0.5544\n",
      "Epoch 78/100\n",
      "429/429 [==============================] - 20s 48ms/step - loss: 1.3693 - accuracy: 0.5457 - val_loss: 1.2399 - val_accuracy: 0.6632\n",
      "Epoch 79/100\n",
      "429/429 [==============================] - 17s 40ms/step - loss: 1.4278 - accuracy: 0.5551 - val_loss: 1.2029 - val_accuracy: 0.6412\n",
      "Epoch 80/100\n",
      "429/429 [==============================] - 17s 39ms/step - loss: 1.3175 - accuracy: 0.5562 - val_loss: 1.0738 - val_accuracy: 0.6852\n",
      "Epoch 81/100\n",
      "429/429 [==============================] - 17s 40ms/step - loss: 1.2879 - accuracy: 0.5472 - val_loss: 1.3019 - val_accuracy: 0.6435\n",
      "Epoch 82/100\n",
      "429/429 [==============================] - 17s 39ms/step - loss: 1.3221 - accuracy: 0.5551 - val_loss: 1.1695 - val_accuracy: 0.6759\n",
      "Epoch 83/100\n",
      "429/429 [==============================] - 18s 41ms/step - loss: 1.2989 - accuracy: 0.5591 - val_loss: 1.3343 - val_accuracy: 0.6412\n",
      "Epoch 84/100\n",
      "429/429 [==============================] - 17s 39ms/step - loss: 1.1807 - accuracy: 0.5749 - val_loss: 1.0785 - val_accuracy: 0.6840\n",
      "Epoch 85/100\n",
      "429/429 [==============================] - 17s 39ms/step - loss: 1.2860 - accuracy: 0.5571 - val_loss: 1.1074 - val_accuracy: 0.6875\n",
      "Epoch 86/100\n",
      "429/429 [==============================] - 17s 39ms/step - loss: 1.3123 - accuracy: 0.5326 - val_loss: 1.1230 - val_accuracy: 0.6447\n",
      "Epoch 87/100\n",
      "429/429 [==============================] - 17s 39ms/step - loss: 1.2842 - accuracy: 0.5612 - val_loss: 1.1522 - val_accuracy: 0.6412\n",
      "Epoch 88/100\n",
      "429/429 [==============================] - 17s 39ms/step - loss: 1.2322 - accuracy: 0.5641 - val_loss: 1.0707 - val_accuracy: 0.6748\n",
      "Epoch 89/100\n",
      "429/429 [==============================] - 17s 40ms/step - loss: 1.2484 - accuracy: 0.5787 - val_loss: 1.0571 - val_accuracy: 0.6771\n",
      "Epoch 90/100\n",
      "429/429 [==============================] - 18s 42ms/step - loss: 1.2518 - accuracy: 0.5437 - val_loss: 1.2455 - val_accuracy: 0.6354\n",
      "Epoch 91/100\n",
      "429/429 [==============================] - 17s 40ms/step - loss: 1.2799 - accuracy: 0.5568 - val_loss: 1.2769 - val_accuracy: 0.6238\n",
      "Epoch 92/100\n",
      "429/429 [==============================] - 17s 39ms/step - loss: 1.2370 - accuracy: 0.5647 - val_loss: 1.1199 - val_accuracy: 0.6505\n",
      "Epoch 93/100\n",
      "429/429 [==============================] - 17s 40ms/step - loss: 1.3409 - accuracy: 0.5484 - val_loss: 1.0008 - val_accuracy: 0.6910\n",
      "Epoch 94/100\n",
      "429/429 [==============================] - 17s 41ms/step - loss: 1.3329 - accuracy: 0.5632 - val_loss: 1.1315 - val_accuracy: 0.6516\n",
      "Epoch 95/100\n",
      "429/429 [==============================] - 19s 43ms/step - loss: 1.3543 - accuracy: 0.5501 - val_loss: 1.0514 - val_accuracy: 0.6782\n",
      "Epoch 96/100\n",
      "429/429 [==============================] - 18s 43ms/step - loss: 1.4506 - accuracy: 0.5635 - val_loss: 1.1329 - val_accuracy: 0.6539\n",
      "Epoch 97/100\n",
      "429/429 [==============================] - 18s 41ms/step - loss: 1.2133 - accuracy: 0.5565 - val_loss: 1.0539 - val_accuracy: 0.6632\n",
      "Epoch 98/100\n",
      "429/429 [==============================] - 19s 45ms/step - loss: 1.2199 - accuracy: 0.5626 - val_loss: 1.0943 - val_accuracy: 0.6597\n",
      "Epoch 99/100\n",
      "429/429 [==============================] - 18s 42ms/step - loss: 1.2253 - accuracy: 0.5609 - val_loss: 1.0253 - val_accuracy: 0.6470\n",
      "Epoch 100/100\n",
      "429/429 [==============================] - 19s 45ms/step - loss: 1.2345 - accuracy: 0.5708 - val_loss: 1.0633 - val_accuracy: 0.6887\n"
     ]
    }
   ],
   "source": [
    "# Phase 1 train\n",
    "eff_net_model_history = eff_net_model.fit(\n",
    "    x = train_gen,\n",
    "    batch_size = 256,\n",
    "    epochs = 100,\n",
    "    validation_data = valid_gen,\n",
    "    callbacks = [tfk.callbacks.EarlyStopping(monitor='val_accuracy', mode='max', patience=patience, restore_best_weights=True)],\n",
    ").history"
   ]
  },
  {
   "cell_type": "code",
   "execution_count": 24,
   "id": "4d6173d8",
   "metadata": {
    "execution": {
     "iopub.execute_input": "2022-11-19T10:14:42.273452Z",
     "iopub.status.busy": "2022-11-19T10:14:42.272445Z",
     "iopub.status.idle": "2022-11-19T10:14:42.303280Z",
     "shell.execute_reply": "2022-11-19T10:14:42.302132Z"
    },
    "papermill": {
     "duration": 1.354723,
     "end_time": "2022-11-19T10:14:42.305998",
     "exception": false,
     "start_time": "2022-11-19T10:14:40.951275",
     "status": "completed"
    },
    "tags": []
   },
   "outputs": [
    {
     "name": "stdout",
     "output_type": "stream",
     "text": [
      "Model: \"efficient_net_model\"\n",
      "_________________________________________________________________\n",
      "Layer (type)                 Output Shape              Param #   \n",
      "=================================================================\n",
      "input_layer (InputLayer)     [(None, 96, 96, 3)]       0         \n",
      "_________________________________________________________________\n",
      "efficientnetb0 (Functional)  (None, 3, 3, 1280)        4049571   \n",
      "_________________________________________________________________\n",
      "global_average_pooling2d (Gl (None, 1280)              0         \n",
      "_________________________________________________________________\n",
      "classifier1 (Dense)          (None, 512)               655872    \n",
      "_________________________________________________________________\n",
      "dropout (Dropout)            (None, 512)               0         \n",
      "_________________________________________________________________\n",
      "dense (Dense)                (None, 8)                 4104      \n",
      "=================================================================\n",
      "Total params: 4,709,547\n",
      "Trainable params: 4,254,940\n",
      "Non-trainable params: 454,607\n",
      "_________________________________________________________________\n"
     ]
    }
   ],
   "source": [
    "# Phase 2: make layers from 5a trainable\n",
    "eff_net.trainable = True\n",
    "set_trainable = False\n",
    "\n",
    "for layer in eff_net.layers:\n",
    "    if layer.name == 'block5a_se_excite':\n",
    "        set_trainable = True\n",
    "    if set_trainable:\n",
    "        if not isinstance(layer, tfkl.BatchNormalization):\n",
    "            layer.trainable = True\n",
    "        else:\n",
    "            layer.trainable = False\n",
    "    else:\n",
    "        layer.trainable = False\n",
    "        \n",
    "eff_net_model.summary()"
   ]
  },
  {
   "cell_type": "code",
   "execution_count": 25,
   "id": "fe6b79af",
   "metadata": {
    "execution": {
     "iopub.execute_input": "2022-11-19T10:14:45.276396Z",
     "iopub.status.busy": "2022-11-19T10:14:45.275817Z",
     "iopub.status.idle": "2022-11-19T10:14:45.289650Z",
     "shell.execute_reply": "2022-11-19T10:14:45.288763Z"
    },
    "papermill": {
     "duration": 1.583551,
     "end_time": "2022-11-19T10:14:45.291716",
     "exception": false,
     "start_time": "2022-11-19T10:14:43.708165",
     "status": "completed"
    },
    "tags": []
   },
   "outputs": [],
   "source": [
    "# Reduce learning rate for phase 2\n",
    "learning_rate = 1e-4\n",
    "eff_net.compile(loss=tfk.losses.CategoricalCrossentropy(), optimizer=tfk.optimizers.Adam(learning_rate), metrics='accuracy')"
   ]
  },
  {
   "cell_type": "code",
   "execution_count": 26,
   "id": "8bde755f",
   "metadata": {
    "execution": {
     "iopub.execute_input": "2022-11-19T10:14:47.991089Z",
     "iopub.status.busy": "2022-11-19T10:14:47.990699Z",
     "iopub.status.idle": "2022-11-19T10:26:11.575708Z",
     "shell.execute_reply": "2022-11-19T10:26:11.574586Z"
    },
    "papermill": {
     "duration": 684.920725,
     "end_time": "2022-11-19T10:26:11.578273",
     "exception": false,
     "start_time": "2022-11-19T10:14:46.657548",
     "status": "completed"
    },
    "tags": []
   },
   "outputs": [
    {
     "name": "stdout",
     "output_type": "stream",
     "text": [
      "Epoch 1/500\n",
      "429/429 [==============================] - 18s 42ms/step - loss: 1.3735 - accuracy: 0.5530 - val_loss: 1.1176 - val_accuracy: 0.6528\n",
      "Epoch 2/500\n",
      "429/429 [==============================] - 19s 44ms/step - loss: 1.2366 - accuracy: 0.5522 - val_loss: 1.0401 - val_accuracy: 0.6574\n",
      "Epoch 3/500\n",
      "429/429 [==============================] - 18s 42ms/step - loss: 1.2854 - accuracy: 0.5571 - val_loss: 1.2730 - val_accuracy: 0.6887\n",
      "Epoch 4/500\n",
      "429/429 [==============================] - 18s 43ms/step - loss: 1.3655 - accuracy: 0.5591 - val_loss: 1.2688 - val_accuracy: 0.6562\n",
      "Epoch 5/500\n",
      "429/429 [==============================] - 18s 42ms/step - loss: 1.2755 - accuracy: 0.5772 - val_loss: 1.4000 - val_accuracy: 0.6574\n",
      "Epoch 6/500\n",
      "429/429 [==============================] - 19s 43ms/step - loss: 1.2601 - accuracy: 0.5717 - val_loss: 1.4018 - val_accuracy: 0.6701\n",
      "Epoch 7/500\n",
      "429/429 [==============================] - 20s 46ms/step - loss: 1.2915 - accuracy: 0.5685 - val_loss: 1.2052 - val_accuracy: 0.6817\n",
      "Epoch 8/500\n",
      "429/429 [==============================] - 19s 45ms/step - loss: 1.2739 - accuracy: 0.5711 - val_loss: 1.2515 - val_accuracy: 0.6574\n",
      "Epoch 9/500\n",
      "429/429 [==============================] - 19s 44ms/step - loss: 1.2762 - accuracy: 0.5673 - val_loss: 1.2685 - val_accuracy: 0.6493\n",
      "Epoch 10/500\n",
      "429/429 [==============================] - 18s 43ms/step - loss: 1.2549 - accuracy: 0.5495 - val_loss: 1.1911 - val_accuracy: 0.6701\n",
      "Epoch 11/500\n",
      "429/429 [==============================] - 19s 44ms/step - loss: 1.4241 - accuracy: 0.5612 - val_loss: 1.3073 - val_accuracy: 0.6736\n",
      "Epoch 12/500\n",
      "429/429 [==============================] - 19s 43ms/step - loss: 1.3395 - accuracy: 0.5670 - val_loss: 1.3455 - val_accuracy: 0.6412\n",
      "Epoch 13/500\n",
      "429/429 [==============================] - 20s 47ms/step - loss: 1.2413 - accuracy: 0.5734 - val_loss: 1.2283 - val_accuracy: 0.6412\n",
      "Epoch 14/500\n",
      "429/429 [==============================] - 26s 60ms/step - loss: 1.2509 - accuracy: 0.5624 - val_loss: 1.0350 - val_accuracy: 0.7130\n",
      "Epoch 15/500\n",
      "429/429 [==============================] - 18s 41ms/step - loss: 1.2287 - accuracy: 0.5597 - val_loss: 1.0848 - val_accuracy: 0.6921\n",
      "Epoch 16/500\n",
      "429/429 [==============================] - 19s 45ms/step - loss: 1.2800 - accuracy: 0.5434 - val_loss: 1.0163 - val_accuracy: 0.7188\n",
      "Epoch 17/500\n",
      "429/429 [==============================] - 18s 42ms/step - loss: 1.2535 - accuracy: 0.5720 - val_loss: 1.1055 - val_accuracy: 0.6829\n",
      "Epoch 18/500\n",
      "429/429 [==============================] - 18s 42ms/step - loss: 1.2102 - accuracy: 0.5647 - val_loss: 1.1585 - val_accuracy: 0.6794\n",
      "Epoch 19/500\n",
      "429/429 [==============================] - 18s 43ms/step - loss: 1.2341 - accuracy: 0.5536 - val_loss: 1.2773 - val_accuracy: 0.6840\n",
      "Epoch 20/500\n",
      "429/429 [==============================] - 18s 42ms/step - loss: 1.2672 - accuracy: 0.5766 - val_loss: 1.1641 - val_accuracy: 0.6181\n",
      "Epoch 21/500\n",
      "429/429 [==============================] - 20s 46ms/step - loss: 1.2363 - accuracy: 0.5679 - val_loss: 1.0737 - val_accuracy: 0.6319\n",
      "Epoch 22/500\n",
      "429/429 [==============================] - 17s 40ms/step - loss: 1.1902 - accuracy: 0.5793 - val_loss: 1.0429 - val_accuracy: 0.6713\n",
      "Epoch 23/500\n",
      "429/429 [==============================] - 20s 46ms/step - loss: 1.2752 - accuracy: 0.5551 - val_loss: 1.0754 - val_accuracy: 0.6863\n",
      "Epoch 24/500\n",
      "429/429 [==============================] - 17s 40ms/step - loss: 1.3373 - accuracy: 0.5618 - val_loss: 1.0606 - val_accuracy: 0.6898\n",
      "Epoch 25/500\n",
      "429/429 [==============================] - 18s 43ms/step - loss: 1.2745 - accuracy: 0.5793 - val_loss: 1.2185 - val_accuracy: 0.6424\n",
      "Epoch 26/500\n",
      "429/429 [==============================] - 19s 44ms/step - loss: 1.2787 - accuracy: 0.5728 - val_loss: 1.1216 - val_accuracy: 0.6887\n",
      "Epoch 27/500\n",
      "429/429 [==============================] - 18s 42ms/step - loss: 1.2412 - accuracy: 0.5696 - val_loss: 1.1527 - val_accuracy: 0.6632\n",
      "Epoch 28/500\n",
      "429/429 [==============================] - 19s 43ms/step - loss: 1.2315 - accuracy: 0.5586 - val_loss: 1.1387 - val_accuracy: 0.6771\n",
      "Epoch 29/500\n",
      "429/429 [==============================] - 17s 40ms/step - loss: 1.3110 - accuracy: 0.5656 - val_loss: 1.3850 - val_accuracy: 0.6076\n",
      "Epoch 30/500\n",
      "429/429 [==============================] - 19s 45ms/step - loss: 1.2460 - accuracy: 0.5548 - val_loss: 1.1063 - val_accuracy: 0.6910\n",
      "Epoch 31/500\n",
      "429/429 [==============================] - 17s 40ms/step - loss: 1.2028 - accuracy: 0.5615 - val_loss: 1.0884 - val_accuracy: 0.6667\n",
      "Epoch 32/500\n",
      "429/429 [==============================] - 20s 46ms/step - loss: 1.2396 - accuracy: 0.5653 - val_loss: 1.0493 - val_accuracy: 0.6713\n",
      "Epoch 33/500\n",
      "429/429 [==============================] - 19s 43ms/step - loss: 1.2106 - accuracy: 0.5740 - val_loss: 1.1691 - val_accuracy: 0.6725\n",
      "Epoch 34/500\n",
      "429/429 [==============================] - 19s 43ms/step - loss: 1.2672 - accuracy: 0.5673 - val_loss: 1.0711 - val_accuracy: 0.6644\n",
      "Epoch 35/500\n",
      "429/429 [==============================] - 19s 45ms/step - loss: 1.3871 - accuracy: 0.5857 - val_loss: 1.2343 - val_accuracy: 0.6366\n",
      "Epoch 36/500\n",
      "429/429 [==============================] - 19s 43ms/step - loss: 1.3075 - accuracy: 0.5693 - val_loss: 1.2503 - val_accuracy: 0.6620\n"
     ]
    }
   ],
   "source": [
    "# Phase 2 train\n",
    "eff_net_model_history = eff_net_model.fit(\n",
    "    x = train_gen,\n",
    "    batch_size = 256,\n",
    "    epochs = 500,\n",
    "    validation_data = valid_gen,\n",
    "    callbacks = [tfk.callbacks.EarlyStopping(monitor='val_accuracy', mode='max', patience=patience, restore_best_weights=True)],\n",
    ").history"
   ]
  },
  {
   "cell_type": "code",
   "execution_count": 27,
   "id": "1a990ddf",
   "metadata": {
    "_kg_hide-input": false,
    "execution": {
     "iopub.execute_input": "2022-11-19T10:26:15.734626Z",
     "iopub.status.busy": "2022-11-19T10:26:15.734251Z",
     "iopub.status.idle": "2022-11-19T10:26:34.543695Z",
     "shell.execute_reply": "2022-11-19T10:26:34.542614Z"
    },
    "papermill": {
     "duration": 21.111343,
     "end_time": "2022-11-19T10:26:34.546043",
     "exception": false,
     "start_time": "2022-11-19T10:26:13.434700",
     "status": "completed"
    },
    "tags": []
   },
   "outputs": [
    {
     "data": {
      "image/png": "[encoded data removed]",
      "text/plain": [
       "<Figure size 1080x360 with 1 Axes>"
      ]
     },
     "metadata": {
      "needs_background": "light"
     },
     "output_type": "display_data"
    },
    {
     "data": {
      "image/png": "[encoded data removed]",
      "text/plain": [
       "<Figure size 1080x360 with 1 Axes>"
      ]
     },
     "metadata": {
      "needs_background": "light"
     },
     "output_type": "display_data"
    }
   ],
   "source": [
    "# Plot the training\n",
    "plt.figure(figsize=(15,5))\n",
    "plt.plot(eff_net_model_history['loss'], label='Loss', alpha=.3, color='#ff7f0e', linestyle='--')\n",
    "plt.plot(eff_net_model_history['val_loss'], label='Val loss', alpha=.8, color='#ff7f0e')\n",
    "plt.legend(loc='upper left')\n",
    "plt.title('Categorical Crossentropy')\n",
    "plt.grid(alpha=.3)\n",
    "plt.savefig(model_name + \"cat_cr_en.png\")\n",
    "\n",
    "plt.figure(figsize=(15,5))\n",
    "plt.plot(eff_net_model_history['accuracy'], label='Accuracy', alpha=.3, color='#ff7f0e', linestyle='--')\n",
    "plt.plot(eff_net_model_history['val_accuracy'], label='Val accuracy', alpha=.8, color='#ff7f0e')\n",
    "plt.legend(loc='upper left')\n",
    "plt.title('Accuracy')\n",
    "plt.grid(alpha=.3)\n",
    "plt.savefig(model_name + \"acc.png\")\n",
    "\n",
    "plt.show()"
   ]
  },
  {
   "cell_type": "code",
   "execution_count": 28,
   "id": "62d52804",
   "metadata": {
    "execution": {
     "iopub.execute_input": "2022-11-19T10:26:38.194856Z",
     "iopub.status.busy": "2022-11-19T10:26:38.194437Z",
     "iopub.status.idle": "2022-11-19T10:27:14.917317Z",
     "shell.execute_reply": "2022-11-19T10:27:14.916225Z"
    },
    "papermill": {
     "duration": 38.570969,
     "end_time": "2022-11-19T10:27:14.920449",
     "exception": false,
     "start_time": "2022-11-19T10:26:36.349480",
     "status": "completed"
    },
    "tags": []
   },
   "outputs": [],
   "source": [
    "# Save the best model\n",
    "eff_net_model.save(model_name)"
   ]
  },
  {
   "cell_type": "code",
   "execution_count": 29,
   "id": "4b38d1d6",
   "metadata": {
    "execution": {
     "iopub.execute_input": "2022-11-19T10:27:19.074621Z",
     "iopub.status.busy": "2022-11-19T10:27:19.074181Z",
     "iopub.status.idle": "2022-11-19T10:27:21.698801Z",
     "shell.execute_reply": "2022-11-19T10:27:21.697292Z"
    },
    "papermill": {
     "duration": 4.957094,
     "end_time": "2022-11-19T10:27:21.701524",
     "exception": false,
     "start_time": "2022-11-19T10:27:16.744430",
     "status": "completed"
    },
    "tags": []
   },
   "outputs": [
    {
     "name": "stdout",
     "output_type": "stream",
     "text": [
      "108/108 [==============================] - 2s 17ms/step - loss: 1.0163 - accuracy: 0.7188\n",
      "\n",
      "Val metrics\n",
      "{'loss': 1.0163216590881348, 'accuracy': 0.71875}\n"
     ]
    }
   ],
   "source": [
    "# Evaluate on val\n",
    "val_metrics = eff_net_model.evaluate(valid_gen, return_dict=True)\n",
    "\n",
    "print()\n",
    "print(\"Val metrics\")\n",
    "print(val_metrics)"
   ]
  },
  {
   "cell_type": "code",
   "execution_count": 30,
   "id": "a20ae1ee",
   "metadata": {
    "execution": {
     "iopub.execute_input": "2022-11-19T10:27:25.636247Z",
     "iopub.status.busy": "2022-11-19T10:27:25.635890Z",
     "iopub.status.idle": "2022-11-19T10:27:25.643864Z",
     "shell.execute_reply": "2022-11-19T10:27:25.642785Z"
    },
    "papermill": {
     "duration": 1.919003,
     "end_time": "2022-11-19T10:27:25.646126",
     "exception": false,
     "start_time": "2022-11-19T10:27:23.727123",
     "status": "completed"
    },
    "tags": []
   },
   "outputs": [
    {
     "data": {
      "text/plain": [
       "'/kaggle/working/Efficient_net_fine_tuning.zip'"
      ]
     },
     "execution_count": 30,
     "metadata": {},
     "output_type": "execute_result"
    }
   ],
   "source": [
    "import shutil\n",
    "shutil.make_archive(model_name, 'zip', \"/kaggle/working/EfficientNet\")"
   ]
  }
 ],
 "metadata": {
  "kernelspec": {
   "display_name": "Python 3.10.2 64-bit",
   "language": "python",
   "name": "python3"
  },
  "language_info": {
   "codemirror_mode": {
    "name": "ipython",
    "version": 3
   },
   "file_extension": ".py",
   "mimetype": "text/x-python",
   "name": "python",
   "nbconvert_exporter": "python",
   "pygments_lexer": "ipython3",
   "version": "3.10.2"
  },
  "papermill": {
   "default_parameters": {},
   "duration": 2566.977408,
   "end_time": "2022-11-19T10:27:30.350885",
   "environment_variables": {},
   "exception": null,
   "input_path": "__notebook__.ipynb",
   "output_path": "__notebook__.ipynb",
   "parameters": {},
   "start_time": "2022-11-19T09:44:43.373477",
   "version": "2.3.4"
  },
  "vscode": {
   "interpreter": {
    "hash": "6847c98a8f86b01c6a19c518cd2f366693b80566b266804d5ca763cbb223f52b"
   }
  }
 },
 "nbformat": 4,
 "nbformat_minor": 5
}
