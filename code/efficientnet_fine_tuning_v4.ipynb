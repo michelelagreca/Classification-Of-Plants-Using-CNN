{
 "cells": [
  {
   "cell_type": "markdown",
   "id": "6fa2c5b8",
   "metadata": {
    "papermill": {
     "duration": 0.007798,
     "end_time": "2022-11-19T11:02:29.355586",
     "exception": false,
     "start_time": "2022-11-19T11:02:29.347788",
     "status": "completed"
    },
    "tags": []
   },
   "source": [
    "## Prelimiary Operations"
   ]
  },
  {
   "cell_type": "markdown",
   "id": "559f3079",
   "metadata": {
    "papermill": {
     "duration": 0.006496,
     "end_time": "2022-11-19T11:02:29.368852",
     "exception": false,
     "start_time": "2022-11-19T11:02:29.362356",
     "status": "completed"
    },
    "tags": []
   },
   "source": [
    "### Useful operations"
   ]
  },
  {
   "cell_type": "code",
   "execution_count": 1,
   "id": "d3afefcf",
   "metadata": {
    "execution": {
     "iopub.execute_input": "2022-11-19T11:02:29.383532Z",
     "iopub.status.busy": "2022-11-19T11:02:29.383107Z",
     "iopub.status.idle": "2022-11-19T11:02:29.393606Z",
     "shell.execute_reply": "2022-11-19T11:02:29.392773Z"
    },
    "papermill": {
     "duration": 0.020368,
     "end_time": "2022-11-19T11:02:29.395811",
     "exception": false,
     "start_time": "2022-11-19T11:02:29.375443",
     "status": "completed"
    },
    "tags": []
   },
   "outputs": [],
   "source": [
    "import os\n",
    "import shutil\n",
    "if os.path.exists(\"/kaggle/working/andrea\"):\n",
    "    shutil.rmtree(\"/kaggle/working/andrea\")"
   ]
  },
  {
   "cell_type": "code",
   "execution_count": 2,
   "id": "a4de6513",
   "metadata": {
    "execution": {
     "iopub.execute_input": "2022-11-19T11:02:29.410048Z",
     "iopub.status.busy": "2022-11-19T11:02:29.409775Z",
     "iopub.status.idle": "2022-11-19T11:02:29.414076Z",
     "shell.execute_reply": "2022-11-19T11:02:29.413143Z"
    },
    "papermill": {
     "duration": 0.013617,
     "end_time": "2022-11-19T11:02:29.416010",
     "exception": false,
     "start_time": "2022-11-19T11:02:29.402393",
     "status": "completed"
    },
    "tags": []
   },
   "outputs": [],
   "source": [
    "if os.path.exists(\"/kaggle/working/EfficientNet_experiments\"):\n",
    "    shutil.rmtree(\"/kaggle/working/EfficientNet_experiments\")"
   ]
  },
  {
   "cell_type": "code",
   "execution_count": 3,
   "id": "3983605c",
   "metadata": {
    "execution": {
     "iopub.execute_input": "2022-11-19T11:02:29.430117Z",
     "iopub.status.busy": "2022-11-19T11:02:29.429848Z",
     "iopub.status.idle": "2022-11-19T11:02:29.433599Z",
     "shell.execute_reply": "2022-11-19T11:02:29.432654Z"
    },
    "papermill": {
     "duration": 0.013018,
     "end_time": "2022-11-19T11:02:29.435517",
     "exception": false,
     "start_time": "2022-11-19T11:02:29.422499",
     "status": "completed"
    },
    "tags": []
   },
   "outputs": [],
   "source": [
    "if os.path.exists(\"/kaggle/working/EfficientNet\"):\n",
    "    shutil.rmtree(\"/kaggle/working/EfficientNet\")"
   ]
  },
  {
   "cell_type": "code",
   "execution_count": 4,
   "id": "01330e5e",
   "metadata": {
    "execution": {
     "iopub.execute_input": "2022-11-19T11:02:29.451613Z",
     "iopub.status.busy": "2022-11-19T11:02:29.450778Z",
     "iopub.status.idle": "2022-11-19T11:02:29.455605Z",
     "shell.execute_reply": "2022-11-19T11:02:29.454784Z"
    },
    "papermill": {
     "duration": 0.015483,
     "end_time": "2022-11-19T11:02:29.457494",
     "exception": false,
     "start_time": "2022-11-19T11:02:29.442011",
     "status": "completed"
    },
    "tags": []
   },
   "outputs": [],
   "source": [
    "# to remove a file\n",
    "import os\n",
    "if os.path.exists(\"/kaggle/working/model.png\"):\n",
    "    os.remove(\"/kaggle/working/model.png\")"
   ]
  },
  {
   "cell_type": "code",
   "execution_count": 5,
   "id": "95b39297",
   "metadata": {
    "execution": {
     "iopub.execute_input": "2022-11-19T11:02:29.472400Z",
     "iopub.status.busy": "2022-11-19T11:02:29.471630Z",
     "iopub.status.idle": "2022-11-19T11:02:29.476681Z",
     "shell.execute_reply": "2022-11-19T11:02:29.475887Z"
    },
    "papermill": {
     "duration": 0.014219,
     "end_time": "2022-11-19T11:02:29.478552",
     "exception": false,
     "start_time": "2022-11-19T11:02:29.464333",
     "status": "completed"
    },
    "tags": []
   },
   "outputs": [],
   "source": [
    "# to create a folder\n",
    "import os\n",
    "directory = \"EfficientNet\"\n",
    "parent_dir = \"/kaggle/working\"\n",
    "path = os.path.join(parent_dir, directory)\n",
    "if not os.path.exists(path):\n",
    "    os.mkdir(path)"
   ]
  },
  {
   "cell_type": "markdown",
   "id": "76912e7b",
   "metadata": {
    "papermill": {
     "duration": 0.006324,
     "end_time": "2022-11-19T11:02:29.491362",
     "exception": false,
     "start_time": "2022-11-19T11:02:29.485038",
     "status": "completed"
    },
    "tags": []
   },
   "source": [
    "### Operations"
   ]
  },
  {
   "cell_type": "code",
   "execution_count": 6,
   "id": "171cb790",
   "metadata": {
    "execution": {
     "iopub.execute_input": "2022-11-19T11:02:29.506013Z",
     "iopub.status.busy": "2022-11-19T11:02:29.505244Z",
     "iopub.status.idle": "2022-11-19T11:02:35.135204Z",
     "shell.execute_reply": "2022-11-19T11:02:35.134215Z"
    },
    "papermill": {
     "duration": 5.639523,
     "end_time": "2022-11-19T11:02:35.137542",
     "exception": false,
     "start_time": "2022-11-19T11:02:29.498019",
     "status": "completed"
    },
    "tags": []
   },
   "outputs": [],
   "source": [
    "import tensorflow as tf\n",
    "import numpy as np\n",
    "import os\n",
    "import random\n",
    "import pandas as pd\n",
    "import seaborn as sns\n",
    "import matplotlib as mpl\n",
    "import matplotlib.pyplot as plt\n",
    "from sklearn.model_selection import train_test_split\n",
    "from sklearn.metrics import accuracy_score, f1_score, precision_score, recall_score\n",
    "from sklearn.metrics import confusion_matrix\n",
    "from PIL import Image\n",
    "\n",
    "tfk = tf.keras\n",
    "tfkl = tf.keras.layers"
   ]
  },
  {
   "cell_type": "code",
   "execution_count": 7,
   "id": "73015f7e",
   "metadata": {
    "execution": {
     "iopub.execute_input": "2022-11-19T11:02:35.153024Z",
     "iopub.status.busy": "2022-11-19T11:02:35.152155Z",
     "iopub.status.idle": "2022-11-19T11:02:35.158014Z",
     "shell.execute_reply": "2022-11-19T11:02:35.157149Z"
    },
    "papermill": {
     "duration": 0.015407,
     "end_time": "2022-11-19T11:02:35.159997",
     "exception": false,
     "start_time": "2022-11-19T11:02:35.144590",
     "status": "completed"
    },
    "tags": []
   },
   "outputs": [],
   "source": [
    "# Random seed for reproducibility\n",
    "seed = 42\n",
    "\n",
    "random.seed(seed)\n",
    "os.environ['PYTHONHASHSEED'] = str(seed)\n",
    "np.random.seed(seed)\n",
    "tf.random.set_seed(seed)\n",
    "tf.compat.v1.set_random_seed(seed)"
   ]
  },
  {
   "cell_type": "code",
   "execution_count": 8,
   "id": "bc75491b",
   "metadata": {
    "execution": {
     "iopub.execute_input": "2022-11-19T11:02:35.174680Z",
     "iopub.status.busy": "2022-11-19T11:02:35.174182Z",
     "iopub.status.idle": "2022-11-19T11:02:35.180679Z",
     "shell.execute_reply": "2022-11-19T11:02:35.179643Z"
    },
    "papermill": {
     "duration": 0.015832,
     "end_time": "2022-11-19T11:02:35.182512",
     "exception": false,
     "start_time": "2022-11-19T11:02:35.166680",
     "status": "completed"
    },
    "tags": []
   },
   "outputs": [],
   "source": [
    "import warnings\n",
    "import logging\n",
    "\n",
    "os.environ['TF_CPP_MIN_LOG_LEVEL'] = '2'\n",
    "warnings.simplefilter(action='ignore', category=FutureWarning)\n",
    "warnings.simplefilter(action='ignore', category=Warning)\n",
    "tf.get_logger().setLevel('INFO')\n",
    "tf.autograph.set_verbosity(0)\n",
    "\n",
    "tf.get_logger().setLevel(logging.ERROR)\n",
    "tf.get_logger().setLevel('ERROR')\n",
    "tf.compat.v1.logging.set_verbosity(tf.compat.v1.logging.ERROR)"
   ]
  },
  {
   "cell_type": "markdown",
   "id": "6de794a7",
   "metadata": {
    "papermill": {
     "duration": 0.006388,
     "end_time": "2022-11-19T11:02:35.195565",
     "exception": false,
     "start_time": "2022-11-19T11:02:35.189177",
     "status": "completed"
    },
    "tags": []
   },
   "source": [
    "## Importing data"
   ]
  },
  {
   "cell_type": "code",
   "execution_count": 9,
   "id": "c98cb954",
   "metadata": {
    "execution": {
     "iopub.execute_input": "2022-11-19T11:02:35.210428Z",
     "iopub.status.busy": "2022-11-19T11:02:35.209659Z",
     "iopub.status.idle": "2022-11-19T11:02:35.214514Z",
     "shell.execute_reply": "2022-11-19T11:02:35.213687Z"
    },
    "papermill": {
     "duration": 0.014273,
     "end_time": "2022-11-19T11:02:35.216489",
     "exception": false,
     "start_time": "2022-11-19T11:02:35.202216",
     "status": "completed"
    },
    "tags": []
   },
   "outputs": [],
   "source": [
    "labels = ['Species1',   # 0\n",
    "          'Species2',   # 1\n",
    "          'Species3',   # 2\n",
    "          'Species4',   # 3\n",
    "          'Species5',   # 4\n",
    "          'Species6',   # 5\n",
    "          'Species7',   # 6\n",
    "          'Species8']   # 7"
   ]
  },
  {
   "cell_type": "code",
   "execution_count": 10,
   "id": "424f66a9",
   "metadata": {
    "execution": {
     "iopub.execute_input": "2022-11-19T11:02:35.231067Z",
     "iopub.status.busy": "2022-11-19T11:02:35.230232Z",
     "iopub.status.idle": "2022-11-19T11:02:35.235189Z",
     "shell.execute_reply": "2022-11-19T11:02:35.234350Z"
    },
    "papermill": {
     "duration": 0.014109,
     "end_time": "2022-11-19T11:02:35.237077",
     "exception": false,
     "start_time": "2022-11-19T11:02:35.222968",
     "status": "completed"
    },
    "tags": []
   },
   "outputs": [],
   "source": [
    "# Dataset folders \n",
    "dataset_dir = \"../input/splitted-dataset-no-test/splitted_dataset_no_test\"\n",
    "training_dir = os.path.join(dataset_dir, 'train')\n",
    "validation_dir = os.path.join(dataset_dir, 'val')"
   ]
  },
  {
   "cell_type": "code",
   "execution_count": 11,
   "id": "b93cdbaf",
   "metadata": {
    "execution": {
     "iopub.execute_input": "2022-11-19T11:02:35.251511Z",
     "iopub.status.busy": "2022-11-19T11:02:35.251244Z",
     "iopub.status.idle": "2022-11-19T11:02:35.978902Z",
     "shell.execute_reply": "2022-11-19T11:02:35.977951Z"
    },
    "papermill": {
     "duration": 0.737421,
     "end_time": "2022-11-19T11:02:35.981123",
     "exception": false,
     "start_time": "2022-11-19T11:02:35.243702",
     "status": "completed"
    },
    "tags": []
   },
   "outputs": [
    {
     "name": "stdout",
     "output_type": "stream",
     "text": [
      "Found 3432 images belonging to 8 classes.\n",
      "Found 864 images belonging to 8 classes.\n"
     ]
    }
   ],
   "source": [
    "# Images are divided into folders, one for each class. \n",
    "# If the images are organized in such a way, we can exploit the \n",
    "# ImageDataGenerator to read them from disk.\n",
    "from tensorflow.keras.preprocessing.image import ImageDataGenerator\n",
    "\n",
    "# Create an instance of ImageDataGenerator, and for the training with Data Augmentation\n",
    "\n",
    "# Use this for data augmentation\n",
    "train_data_gen = ImageDataGenerator(rotation_range=15,\n",
    "                                        height_shift_range=0.2,\n",
    "                                        width_shift_range=0.2,\n",
    "                                        zoom_range=0.1,\n",
    "                                        shear_range=0.2,\n",
    "                                        horizontal_flip=True,\n",
    "                                        fill_mode='reflect')\n",
    "\n",
    "\n",
    "# Use this for no augmentation\n",
    "#train_data_gen = ImageDataGenerator()\n",
    "valid_data_gen = ImageDataGenerator()\n",
    "\n",
    "# Obtain a data generator with the 'ImageDataGenerator.flow_from_directory' method\n",
    "train_gen = train_data_gen.flow_from_directory(directory=training_dir,\n",
    "                                                       target_size=(96,96),\n",
    "                                                       color_mode='rgb',\n",
    "                                                       classes=None, # can be set to labels\n",
    "                                                       class_mode='categorical',\n",
    "                                                       batch_size=8,\n",
    "                                                       shuffle=True,\n",
    "                                                       seed=seed)\n",
    "\n",
    "valid_gen = valid_data_gen.flow_from_directory(directory=validation_dir,\n",
    "                                               target_size=(96,96),\n",
    "                                               color_mode='rgb',\n",
    "                                               classes=None, # can be set to labels\n",
    "                                               class_mode='categorical',\n",
    "                                               batch_size=8,\n",
    "                                               shuffle=False,\n",
    "                                               seed=seed)"
   ]
  },
  {
   "cell_type": "markdown",
   "id": "7bd60327",
   "metadata": {
    "papermill": {
     "duration": 0.006405,
     "end_time": "2022-11-19T11:02:36.037432",
     "exception": false,
     "start_time": "2022-11-19T11:02:36.031027",
     "status": "completed"
    },
    "tags": []
   },
   "source": [
    "## Model"
   ]
  },
  {
   "cell_type": "code",
   "execution_count": 14,
   "id": "5700d2b2",
   "metadata": {
    "execution": {
     "iopub.execute_input": "2022-11-19T11:02:36.051617Z",
     "iopub.status.busy": "2022-11-19T11:02:36.051339Z",
     "iopub.status.idle": "2022-11-19T11:02:36.984297Z",
     "shell.execute_reply": "2022-11-19T11:02:36.983170Z"
    },
    "papermill": {
     "duration": 0.94273,
     "end_time": "2022-11-19T11:02:36.986757",
     "exception": false,
     "start_time": "2022-11-19T11:02:36.044027",
     "status": "completed"
    },
    "tags": []
   },
   "outputs": [
    {
     "name": "stdout",
     "output_type": "stream",
     "text": [
      "/bin/bash: line 0: cd: /kaggle/working/EfficieNet: No such file or directory\r\n"
     ]
    }
   ],
   "source": [
    "!cd /kaggle/working/EfficieNet"
   ]
  },
  {
   "cell_type": "code",
   "execution_count": 16,
   "id": "08337eea",
   "metadata": {
    "execution": {
     "iopub.execute_input": "2022-11-19T11:02:37.023691Z",
     "iopub.status.busy": "2022-11-19T11:02:37.023425Z",
     "iopub.status.idle": "2022-11-19T11:02:49.375906Z",
     "shell.execute_reply": "2022-11-19T11:02:49.374776Z"
    },
    "papermill": {
     "duration": 12.362587,
     "end_time": "2022-11-19T11:02:49.378538",
     "exception": false,
     "start_time": "2022-11-19T11:02:37.015951",
     "status": "completed"
    },
    "tags": []
   },
   "outputs": [
    {
     "name": "stdout",
     "output_type": "stream",
     "text": [
      "Downloading data from https://storage.googleapis.com/keras-applications/efficientnetb5_notop.h5\n",
      "115269632/115263384 [==============================] - 5s 0us/step\n",
      "115277824/115263384 [==============================] - 5s 0us/step\n"
     ]
    }
   ],
   "source": [
    "# Download and plot the EfficientNet model\n",
    "eff_net = tfk.applications.efficientnet.EfficientNetB5(\n",
    "    include_top=False,\n",
    "    weights='imagenet',\n",
    "    input_shape=(96,96,3),\n",
    ")\n",
    "\n",
    "eff_net.trainable = False # we are freezing the weights of the conv part, so that they are not updated\n",
    "                            # during the training\n",
    "#tfk.utils.plot_model(eff_net)"
   ]
  },
  {
   "cell_type": "code",
   "execution_count": 17,
   "id": "b92d3d05",
   "metadata": {
    "execution": {
     "iopub.execute_input": "2022-11-19T11:02:49.402283Z",
     "iopub.status.busy": "2022-11-19T11:02:49.401999Z",
     "iopub.status.idle": "2022-11-19T11:02:49.406454Z",
     "shell.execute_reply": "2022-11-19T11:02:49.405521Z"
    },
    "papermill": {
     "duration": 0.018589,
     "end_time": "2022-11-19T11:02:49.408581",
     "exception": false,
     "start_time": "2022-11-19T11:02:49.389992",
     "status": "completed"
    },
    "tags": []
   },
   "outputs": [],
   "source": [
    "input_shape = (96, 96, 3)\n",
    "epochs = 500\n",
    "learning_rate = 1e-2\n",
    "l1=0\n",
    "l2=0"
   ]
  },
  {
   "cell_type": "code",
   "execution_count": 18,
   "id": "a78a6936",
   "metadata": {
    "execution": {
     "iopub.execute_input": "2022-11-19T11:02:49.431174Z",
     "iopub.status.busy": "2022-11-19T11:02:49.430913Z",
     "iopub.status.idle": "2022-11-19T11:02:49.438397Z",
     "shell.execute_reply": "2022-11-19T11:02:49.437438Z"
    },
    "papermill": {
     "duration": 0.020665,
     "end_time": "2022-11-19T11:02:49.440165",
     "exception": false,
     "start_time": "2022-11-19T11:02:49.419500",
     "status": "completed"
    },
    "tags": []
   },
   "outputs": [],
   "source": [
    "# Some layers are commente due to several trials\n",
    "def build_model(input_shape):\n",
    "\n",
    "    # Build the neural network layer by layer\n",
    "    input_layer = tfkl.Input(shape=input_shape, name='input_layer')\n",
    "    \n",
    "    #x = tfkl.Resizing(64, 64, interpolation=\"bicubic\", name='resizing')(input_layer)\n",
    "    efficient_net = eff_net(input_layer)\n",
    "    \n",
    "    #x = tfkl.Flatten()(efficient_net)\n",
    "    x = tfkl.GlobalAveragePooling2D()(efficient_net)\n",
    "    #x = tfkl.Dropout(0.2, seed=seed)(x)\n",
    "    x = tfkl.Dense(units=512, name='classifier1', \n",
    "                   kernel_initializer=tfk.initializers.HeUniform(seed),\n",
    "                   activation='relu',\n",
    "                   kernel_regularizer=tfk.regularizers.L1L2(l1=l1, l2=l2))(x)\n",
    "    #x = tfkl.BatchNormalization()(x)\n",
    "    x = tfkl.Dropout(0.3, seed=seed)(x)\n",
    "    output_layer = tfkl.Dense(\n",
    "        8, \n",
    "        activation='softmax',\n",
    "        kernel_initializer = tfk.initializers.GlorotUniform(seed))(x)\n",
    "        # Connect input and output through the Model class\n",
    "    model = tfk.Model(inputs=input_layer, outputs=output_layer, name='efficient_net_model')\n",
    "\n",
    "    # Compile the model\n",
    "    model.compile(loss=tfk.losses.CategoricalCrossentropy(), optimizer=tfk.optimizers.Adam(learning_rate), metrics='accuracy')\n",
    "\n",
    "    # Return the model\n",
    "    return model"
   ]
  },
  {
   "cell_type": "code",
   "execution_count": 19,
   "id": "96df578a",
   "metadata": {
    "execution": {
     "iopub.execute_input": "2022-11-19T11:02:49.464528Z",
     "iopub.status.busy": "2022-11-19T11:02:49.463173Z",
     "iopub.status.idle": "2022-11-19T11:02:52.087623Z",
     "shell.execute_reply": "2022-11-19T11:02:52.086575Z"
    },
    "papermill": {
     "duration": 2.639088,
     "end_time": "2022-11-19T11:02:52.089936",
     "exception": false,
     "start_time": "2022-11-19T11:02:49.450848",
     "status": "completed"
    },
    "tags": []
   },
   "outputs": [
    {
     "name": "stdout",
     "output_type": "stream",
     "text": [
      "Model: \"efficient_net_model\"\n",
      "_________________________________________________________________\n",
      "Layer (type)                 Output Shape              Param #   \n",
      "=================================================================\n",
      "input_layer (InputLayer)     [(None, 96, 96, 3)]       0         \n",
      "_________________________________________________________________\n",
      "efficientnetb5 (Functional)  (None, 3, 3, 2048)        28513527  \n",
      "_________________________________________________________________\n",
      "global_average_pooling2d (Gl (None, 2048)              0         \n",
      "_________________________________________________________________\n",
      "classifier1 (Dense)          (None, 512)               1049088   \n",
      "_________________________________________________________________\n",
      "dropout (Dropout)            (None, 512)               0         \n",
      "_________________________________________________________________\n",
      "dense (Dense)                (None, 8)                 4104      \n",
      "=================================================================\n",
      "Total params: 29,566,719\n",
      "Trainable params: 1,053,192\n",
      "Non-trainable params: 28,513,527\n",
      "_________________________________________________________________\n"
     ]
    },
    {
     "data": {
      "image/png": "[encoded data removed]",
      "text/plain": [
       "<IPython.core.display.Image object>"
      ]
     },
     "execution_count": 19,
     "metadata": {},
     "output_type": "execute_result"
    }
   ],
   "source": [
    "# Build model\n",
    "eff_net_model = build_model(input_shape)\n",
    "eff_net_model.summary()\n",
    "tfk.utils.plot_model(eff_net_model)"
   ]
  },
  {
   "cell_type": "code",
   "execution_count": 20,
   "id": "0587aaa8",
   "metadata": {
    "execution": {
     "iopub.execute_input": "2022-11-19T11:02:52.115757Z",
     "iopub.status.busy": "2022-11-19T11:02:52.114871Z",
     "iopub.status.idle": "2022-11-19T11:02:52.191276Z",
     "shell.execute_reply": "2022-11-19T11:02:52.189523Z"
    },
    "papermill": {
     "duration": 0.091974,
     "end_time": "2022-11-19T11:02:52.194051",
     "exception": false,
     "start_time": "2022-11-19T11:02:52.102077",
     "status": "completed"
    },
    "tags": []
   },
   "outputs": [
    {
     "name": "stdout",
     "output_type": "stream",
     "text": [
      "Model: \"efficient_net_model\"\n",
      "_________________________________________________________________\n",
      "Layer (type)                 Output Shape              Param #   \n",
      "=================================================================\n",
      "input_layer (InputLayer)     [(None, 96, 96, 3)]       0         \n",
      "_________________________________________________________________\n",
      "efficientnetb5 (Functional)  (None, 3, 3, 2048)        28513527  \n",
      "_________________________________________________________________\n",
      "global_average_pooling2d (Gl (None, 2048)              0         \n",
      "_________________________________________________________________\n",
      "classifier1 (Dense)          (None, 512)               1049088   \n",
      "_________________________________________________________________\n",
      "dropout (Dropout)            (None, 512)               0         \n",
      "_________________________________________________________________\n",
      "dense (Dense)                (None, 8)                 4104      \n",
      "=================================================================\n",
      "Total params: 29,566,719\n",
      "Trainable params: 19,534,928\n",
      "Non-trainable params: 10,031,791\n",
      "_________________________________________________________________\n"
     ]
    }
   ],
   "source": [
    "# Make trainable from layer 6d\n",
    "\n",
    "eff_net_model.get_layer('efficientnetb5').trainable = False\n",
    "\n",
    "eff_net.trainable = True\n",
    "set_trainable = False\n",
    "\n",
    "for layer in eff_net.layers:\n",
    "    if layer.name == 'block6d_se_excite':\n",
    "        set_trainable = True\n",
    "    if set_trainable:\n",
    "        if not isinstance(layer, tfkl.BatchNormalization):\n",
    "            layer.trainable = True\n",
    "        else:\n",
    "            layer.trainable = False\n",
    "    else:\n",
    "        layer.trainable = False\n",
    "        \n",
    "eff_net_model.summary()"
   ]
  },
  {
   "cell_type": "markdown",
   "id": "6361d521",
   "metadata": {
    "papermill": {
     "duration": 0.011011,
     "end_time": "2022-11-19T11:02:52.217358",
     "exception": false,
     "start_time": "2022-11-19T11:02:52.206347",
     "status": "completed"
    },
    "tags": []
   },
   "source": [
    "## Training"
   ]
  },
  {
   "cell_type": "code",
   "execution_count": 21,
   "id": "bd5787b9",
   "metadata": {
    "execution": {
     "iopub.execute_input": "2022-11-19T11:02:52.241412Z",
     "iopub.status.busy": "2022-11-19T11:02:52.240540Z",
     "iopub.status.idle": "2022-11-19T11:02:52.245242Z",
     "shell.execute_reply": "2022-11-19T11:02:52.244333Z"
    },
    "papermill": {
     "duration": 0.018858,
     "end_time": "2022-11-19T11:02:52.247329",
     "exception": false,
     "start_time": "2022-11-19T11:02:52.228471",
     "status": "completed"
    },
    "tags": []
   },
   "outputs": [],
   "source": [
    "patience = 20"
   ]
  },
  {
   "cell_type": "code",
   "execution_count": 22,
   "id": "08a4619a",
   "metadata": {
    "execution": {
     "iopub.execute_input": "2022-11-19T11:02:52.271188Z",
     "iopub.status.busy": "2022-11-19T11:02:52.270279Z",
     "iopub.status.idle": "2022-11-19T11:02:52.274795Z",
     "shell.execute_reply": "2022-11-19T11:02:52.273972Z"
    },
    "papermill": {
     "duration": 0.018263,
     "end_time": "2022-11-19T11:02:52.276679",
     "exception": false,
     "start_time": "2022-11-19T11:02:52.258416",
     "status": "completed"
    },
    "tags": []
   },
   "outputs": [],
   "source": [
    "model_name = \"Efficient_net_fine_tuning\""
   ]
  },
  {
   "cell_type": "code",
   "execution_count": 23,
   "id": "06ff9442",
   "metadata": {
    "execution": {
     "iopub.execute_input": "2022-11-19T11:02:52.300364Z",
     "iopub.status.busy": "2022-11-19T11:02:52.299630Z",
     "iopub.status.idle": "2022-11-19T11:23:17.820566Z",
     "shell.execute_reply": "2022-11-19T11:23:17.819581Z"
    },
    "papermill": {
     "duration": 1225.53516,
     "end_time": "2022-11-19T11:23:17.822861",
     "exception": false,
     "start_time": "2022-11-19T11:02:52.287701",
     "status": "completed"
    },
    "tags": []
   },
   "outputs": [
    {
     "name": "stdout",
     "output_type": "stream",
     "text": [
      "Epoch 1/50\n",
      "429/429 [==============================] - 52s 80ms/step - loss: 2.4984 - accuracy: 0.2724 - val_loss: 1.7427 - val_accuracy: 0.3218\n",
      "Epoch 2/50\n",
      "429/429 [==============================] - 21s 49ms/step - loss: 1.8327 - accuracy: 0.2777 - val_loss: 1.6785 - val_accuracy: 0.3530\n",
      "Epoch 3/50\n",
      "429/429 [==============================] - 21s 48ms/step - loss: 1.9125 - accuracy: 0.2453 - val_loss: 1.7635 - val_accuracy: 0.3438\n",
      "Epoch 4/50\n",
      "429/429 [==============================] - 22s 50ms/step - loss: 1.8892 - accuracy: 0.2652 - val_loss: 1.6459 - val_accuracy: 0.3414\n",
      "Epoch 5/50\n",
      "429/429 [==============================] - 21s 49ms/step - loss: 1.8822 - accuracy: 0.2500 - val_loss: 1.7136 - val_accuracy: 0.3056\n",
      "Epoch 6/50\n",
      "429/429 [==============================] - 21s 48ms/step - loss: 1.9129 - accuracy: 0.2829 - val_loss: 1.6691 - val_accuracy: 0.3692\n",
      "Epoch 7/50\n",
      "429/429 [==============================] - 21s 49ms/step - loss: 1.8545 - accuracy: 0.2695 - val_loss: 1.6069 - val_accuracy: 0.3750\n",
      "Epoch 8/50\n",
      "429/429 [==============================] - 21s 49ms/step - loss: 1.8709 - accuracy: 0.2672 - val_loss: 1.6172 - val_accuracy: 0.3738\n",
      "Epoch 9/50\n",
      "429/429 [==============================] - 20s 47ms/step - loss: 1.8355 - accuracy: 0.2850 - val_loss: 1.5422 - val_accuracy: 0.3808\n",
      "Epoch 10/50\n",
      "429/429 [==============================] - 21s 49ms/step - loss: 1.8028 - accuracy: 0.2992 - val_loss: 1.5182 - val_accuracy: 0.4028\n",
      "Epoch 11/50\n",
      "429/429 [==============================] - 21s 49ms/step - loss: 1.7740 - accuracy: 0.2888 - val_loss: 1.5024 - val_accuracy: 0.3403\n",
      "Epoch 12/50\n",
      "429/429 [==============================] - 21s 49ms/step - loss: 1.8025 - accuracy: 0.2788 - val_loss: 1.6024 - val_accuracy: 0.3368\n",
      "Epoch 13/50\n",
      "429/429 [==============================] - 21s 50ms/step - loss: 1.7833 - accuracy: 0.2934 - val_loss: 1.5388 - val_accuracy: 0.4167\n",
      "Epoch 14/50\n",
      "429/429 [==============================] - 21s 50ms/step - loss: 1.7606 - accuracy: 0.3051 - val_loss: 1.6194 - val_accuracy: 0.3472\n",
      "Epoch 15/50\n",
      "429/429 [==============================] - 21s 48ms/step - loss: 1.7696 - accuracy: 0.2992 - val_loss: 1.5581 - val_accuracy: 0.3750\n",
      "Epoch 16/50\n",
      "429/429 [==============================] - 22s 51ms/step - loss: 1.7359 - accuracy: 0.3054 - val_loss: 1.4700 - val_accuracy: 0.4120\n",
      "Epoch 17/50\n",
      "429/429 [==============================] - 21s 48ms/step - loss: 1.7547 - accuracy: 0.3030 - val_loss: 1.6194 - val_accuracy: 0.3021\n",
      "Epoch 18/50\n",
      "429/429 [==============================] - 21s 49ms/step - loss: 1.7731 - accuracy: 0.2937 - val_loss: 1.5289 - val_accuracy: 0.4028\n",
      "Epoch 19/50\n",
      "429/429 [==============================] - 21s 49ms/step - loss: 1.7293 - accuracy: 0.3071 - val_loss: 1.5493 - val_accuracy: 0.4086\n",
      "Epoch 20/50\n",
      "429/429 [==============================] - 20s 47ms/step - loss: 1.7350 - accuracy: 0.3211 - val_loss: 1.5795 - val_accuracy: 0.3900\n",
      "Epoch 21/50\n",
      "429/429 [==============================] - 21s 49ms/step - loss: 1.7246 - accuracy: 0.3033 - val_loss: 1.4484 - val_accuracy: 0.4201\n",
      "Epoch 22/50\n",
      "429/429 [==============================] - 21s 49ms/step - loss: 1.7243 - accuracy: 0.3170 - val_loss: 1.5563 - val_accuracy: 0.3900\n",
      "Epoch 23/50\n",
      "429/429 [==============================] - 20s 47ms/step - loss: 1.7151 - accuracy: 0.3252 - val_loss: 1.4183 - val_accuracy: 0.4757\n",
      "Epoch 24/50\n",
      "429/429 [==============================] - 21s 49ms/step - loss: 1.7447 - accuracy: 0.3156 - val_loss: 1.4794 - val_accuracy: 0.4051\n",
      "Epoch 25/50\n",
      "429/429 [==============================] - 21s 49ms/step - loss: 1.7243 - accuracy: 0.3202 - val_loss: 1.5008 - val_accuracy: 0.3796\n",
      "Epoch 26/50\n",
      "429/429 [==============================] - 20s 47ms/step - loss: 1.7317 - accuracy: 0.3156 - val_loss: 1.4621 - val_accuracy: 0.3623\n",
      "Epoch 27/50\n",
      "429/429 [==============================] - 21s 49ms/step - loss: 1.7464 - accuracy: 0.3059 - val_loss: 1.5154 - val_accuracy: 0.4167\n",
      "Epoch 28/50\n",
      "429/429 [==============================] - 20s 47ms/step - loss: 1.7543 - accuracy: 0.3083 - val_loss: 1.5194 - val_accuracy: 0.3866\n",
      "Epoch 29/50\n",
      "429/429 [==============================] - 21s 48ms/step - loss: 1.7504 - accuracy: 0.3068 - val_loss: 1.4761 - val_accuracy: 0.4363\n",
      "Epoch 30/50\n",
      "429/429 [==============================] - 21s 50ms/step - loss: 1.7136 - accuracy: 0.3118 - val_loss: 1.3879 - val_accuracy: 0.4780\n",
      "Epoch 31/50\n",
      "429/429 [==============================] - 20s 48ms/step - loss: 1.7122 - accuracy: 0.3226 - val_loss: 1.5131 - val_accuracy: 0.4329\n",
      "Epoch 32/50\n",
      "429/429 [==============================] - 21s 49ms/step - loss: 1.7384 - accuracy: 0.3246 - val_loss: 1.5435 - val_accuracy: 0.4468\n",
      "Epoch 33/50\n",
      "429/429 [==============================] - 21s 50ms/step - loss: 1.7278 - accuracy: 0.3260 - val_loss: 1.4024 - val_accuracy: 0.4838\n",
      "Epoch 34/50\n",
      "429/429 [==============================] - 20s 47ms/step - loss: 1.7339 - accuracy: 0.3089 - val_loss: 1.6139 - val_accuracy: 0.3750\n",
      "Epoch 35/50\n",
      "429/429 [==============================] - 21s 49ms/step - loss: 1.7115 - accuracy: 0.3330 - val_loss: 1.4044 - val_accuracy: 0.5058\n",
      "Epoch 36/50\n",
      "429/429 [==============================] - 21s 49ms/step - loss: 1.7313 - accuracy: 0.3164 - val_loss: 1.4174 - val_accuracy: 0.4699\n",
      "Epoch 37/50\n",
      "429/429 [==============================] - 20s 48ms/step - loss: 1.7103 - accuracy: 0.3217 - val_loss: 1.3908 - val_accuracy: 0.4757\n",
      "Epoch 38/50\n",
      "429/429 [==============================] - 21s 49ms/step - loss: 1.7105 - accuracy: 0.3199 - val_loss: 1.3928 - val_accuracy: 0.4815\n",
      "Epoch 39/50\n",
      "429/429 [==============================] - 21s 48ms/step - loss: 1.7116 - accuracy: 0.3357 - val_loss: 1.5173 - val_accuracy: 0.4294\n",
      "Epoch 40/50\n",
      "429/429 [==============================] - 21s 49ms/step - loss: 1.7158 - accuracy: 0.3243 - val_loss: 1.4221 - val_accuracy: 0.4329\n",
      "Epoch 41/50\n",
      "429/429 [==============================] - 21s 49ms/step - loss: 1.7121 - accuracy: 0.3255 - val_loss: 1.4496 - val_accuracy: 0.4456\n",
      "Epoch 42/50\n",
      "429/429 [==============================] - 21s 49ms/step - loss: 1.6971 - accuracy: 0.3284 - val_loss: 1.5923 - val_accuracy: 0.4167\n",
      "Epoch 43/50\n",
      "429/429 [==============================] - 21s 49ms/step - loss: 1.7155 - accuracy: 0.3185 - val_loss: 1.4572 - val_accuracy: 0.3981\n",
      "Epoch 44/50\n",
      "429/429 [==============================] - 21s 49ms/step - loss: 1.7233 - accuracy: 0.3164 - val_loss: 1.4475 - val_accuracy: 0.4456\n",
      "Epoch 45/50\n",
      "429/429 [==============================] - 21s 48ms/step - loss: 1.6846 - accuracy: 0.3281 - val_loss: 1.3961 - val_accuracy: 0.4826\n",
      "Epoch 46/50\n",
      "429/429 [==============================] - 22s 51ms/step - loss: 1.6975 - accuracy: 0.3342 - val_loss: 1.3946 - val_accuracy: 0.4965\n",
      "Epoch 47/50\n",
      "429/429 [==============================] - 21s 48ms/step - loss: 1.7067 - accuracy: 0.3243 - val_loss: 1.3964 - val_accuracy: 0.4560\n",
      "Epoch 48/50\n",
      "429/429 [==============================] - 22s 51ms/step - loss: 1.6844 - accuracy: 0.3342 - val_loss: 1.4199 - val_accuracy: 0.4792\n",
      "Epoch 49/50\n",
      "429/429 [==============================] - 21s 50ms/step - loss: 1.6783 - accuracy: 0.3330 - val_loss: 1.4385 - val_accuracy: 0.4144\n",
      "Epoch 50/50\n",
      "429/429 [==============================] - 22s 51ms/step - loss: 1.6926 - accuracy: 0.3330 - val_loss: 1.4276 - val_accuracy: 0.4398\n"
     ]
    }
   ],
   "source": [
    "# Train the model\n",
    "eff_net_model_history = eff_net_model.fit(\n",
    "    x = train_gen,\n",
    "    batch_size = 256,\n",
    "    epochs = 50,\n",
    "    validation_data = valid_gen,\n",
    "    callbacks = [tfk.callbacks.EarlyStopping(monitor='val_accuracy', mode='max', patience=patience, restore_best_weights=True)],\n",
    ").history"
   ]
  },
  {
   "cell_type": "code",
   "execution_count": 24,
   "id": "033edbe4",
   "metadata": {
    "execution": {
     "iopub.execute_input": "2022-11-19T11:23:19.074521Z",
     "iopub.status.busy": "2022-11-19T11:23:19.074145Z",
     "iopub.status.idle": "2022-11-19T11:23:19.131655Z",
     "shell.execute_reply": "2022-11-19T11:23:19.130570Z"
    },
    "papermill": {
     "duration": 0.708962,
     "end_time": "2022-11-19T11:23:19.134936",
     "exception": false,
     "start_time": "2022-11-19T11:23:18.425974",
     "status": "completed"
    },
    "tags": []
   },
   "outputs": [
    {
     "name": "stdout",
     "output_type": "stream",
     "text": [
      "Model: \"efficient_net_model\"\n",
      "_________________________________________________________________\n",
      "Layer (type)                 Output Shape              Param #   \n",
      "=================================================================\n",
      "input_layer (InputLayer)     [(None, 96, 96, 3)]       0         \n",
      "_________________________________________________________________\n",
      "efficientnetb5 (Functional)  (None, 3, 3, 2048)        28513527  \n",
      "_________________________________________________________________\n",
      "global_average_pooling2d (Gl (None, 2048)              0         \n",
      "_________________________________________________________________\n",
      "classifier1 (Dense)          (None, 512)               1049088   \n",
      "_________________________________________________________________\n",
      "dropout (Dropout)            (None, 512)               0         \n",
      "_________________________________________________________________\n",
      "dense (Dense)                (None, 8)                 4104      \n",
      "=================================================================\n",
      "Total params: 29,566,719\n",
      "Trainable params: 26,996,968\n",
      "Non-trainable params: 2,569,751\n",
      "_________________________________________________________________\n"
     ]
    }
   ],
   "source": [
    "# Make trainable from layer 5a\n",
    "eff_net.trainable = True\n",
    "set_trainable = False\n",
    "\n",
    "for layer in eff_net.layers:\n",
    "    if layer.name == 'block5a_se_excite':\n",
    "        set_trainable = True\n",
    "    if set_trainable:\n",
    "        if not isinstance(layer, tfkl.BatchNormalization):\n",
    "            layer.trainable = True\n",
    "        else:\n",
    "            layer.trainable = False\n",
    "    else:\n",
    "        layer.trainable = False\n",
    "        \n",
    "eff_net_model.summary()"
   ]
  },
  {
   "cell_type": "code",
   "execution_count": 25,
   "id": "29637196",
   "metadata": {
    "execution": {
     "iopub.execute_input": "2022-11-19T11:23:20.427056Z",
     "iopub.status.busy": "2022-11-19T11:23:20.426241Z",
     "iopub.status.idle": "2022-11-19T11:23:20.444946Z",
     "shell.execute_reply": "2022-11-19T11:23:20.444019Z"
    },
    "papermill": {
     "duration": 0.708905,
     "end_time": "2022-11-19T11:23:20.447096",
     "exception": false,
     "start_time": "2022-11-19T11:23:19.738191",
     "status": "completed"
    },
    "tags": []
   },
   "outputs": [],
   "source": [
    "# Decrease the learning rate for fine tuning\n",
    "learning_rate = 1e-4\n",
    "eff_net.compile(loss=tfk.losses.CategoricalCrossentropy(), optimizer=tfk.optimizers.Adam(learning_rate), metrics='accuracy')"
   ]
  },
  {
   "cell_type": "code",
   "execution_count": 26,
   "id": "c2453c06",
   "metadata": {
    "execution": {
     "iopub.execute_input": "2022-11-19T11:23:21.699400Z",
     "iopub.status.busy": "2022-11-19T11:23:21.699036Z",
     "iopub.status.idle": "2022-11-19T11:36:03.677598Z",
     "shell.execute_reply": "2022-11-19T11:36:03.676522Z"
    },
    "papermill": {
     "duration": 762.634575,
     "end_time": "2022-11-19T11:36:03.680263",
     "exception": false,
     "start_time": "2022-11-19T11:23:21.045688",
     "status": "completed"
    },
    "tags": []
   },
   "outputs": [
    {
     "name": "stdout",
     "output_type": "stream",
     "text": [
      "Epoch 1/500\n",
      "429/429 [==============================] - 21s 50ms/step - loss: 1.7056 - accuracy: 0.3237 - val_loss: 1.4285 - val_accuracy: 0.4294\n",
      "Epoch 2/500\n",
      "429/429 [==============================] - 22s 50ms/step - loss: 1.7040 - accuracy: 0.3231 - val_loss: 1.4393 - val_accuracy: 0.4387\n",
      "Epoch 3/500\n",
      "429/429 [==============================] - 21s 49ms/step - loss: 1.7021 - accuracy: 0.3284 - val_loss: 1.4689 - val_accuracy: 0.4248\n",
      "Epoch 4/500\n",
      "429/429 [==============================] - 21s 50ms/step - loss: 1.7215 - accuracy: 0.3298 - val_loss: 1.4968 - val_accuracy: 0.3947\n",
      "Epoch 5/500\n",
      "429/429 [==============================] - 21s 49ms/step - loss: 1.6958 - accuracy: 0.3307 - val_loss: 1.3988 - val_accuracy: 0.4977\n",
      "Epoch 6/500\n",
      "429/429 [==============================] - 22s 51ms/step - loss: 1.6613 - accuracy: 0.3421 - val_loss: 1.3866 - val_accuracy: 0.4803\n",
      "Epoch 7/500\n",
      "429/429 [==============================] - 21s 49ms/step - loss: 1.7314 - accuracy: 0.3170 - val_loss: 1.3650 - val_accuracy: 0.4398\n",
      "Epoch 8/500\n",
      "429/429 [==============================] - 21s 48ms/step - loss: 1.7027 - accuracy: 0.3333 - val_loss: 1.5013 - val_accuracy: 0.3981\n",
      "Epoch 9/500\n",
      "429/429 [==============================] - 22s 50ms/step - loss: 1.7032 - accuracy: 0.3365 - val_loss: 1.5248 - val_accuracy: 0.3762\n",
      "Epoch 10/500\n",
      "429/429 [==============================] - 21s 49ms/step - loss: 1.6823 - accuracy: 0.3301 - val_loss: 1.3333 - val_accuracy: 0.5139\n",
      "Epoch 11/500\n",
      "429/429 [==============================] - 21s 49ms/step - loss: 1.6878 - accuracy: 0.3319 - val_loss: 1.4188 - val_accuracy: 0.4282\n",
      "Epoch 12/500\n",
      "429/429 [==============================] - 22s 50ms/step - loss: 1.6892 - accuracy: 0.3330 - val_loss: 1.4208 - val_accuracy: 0.5208\n",
      "Epoch 13/500\n",
      "429/429 [==============================] - 21s 49ms/step - loss: 1.6653 - accuracy: 0.3572 - val_loss: 1.4816 - val_accuracy: 0.3681\n",
      "Epoch 14/500\n",
      "429/429 [==============================] - 21s 49ms/step - loss: 1.6933 - accuracy: 0.3395 - val_loss: 1.4571 - val_accuracy: 0.4329\n",
      "Epoch 15/500\n",
      "429/429 [==============================] - 22s 50ms/step - loss: 1.6712 - accuracy: 0.3441 - val_loss: 1.3565 - val_accuracy: 0.4549\n",
      "Epoch 16/500\n",
      "429/429 [==============================] - 21s 49ms/step - loss: 1.6893 - accuracy: 0.3159 - val_loss: 1.5226 - val_accuracy: 0.4178\n",
      "Epoch 17/500\n",
      "429/429 [==============================] - 22s 50ms/step - loss: 1.7063 - accuracy: 0.3307 - val_loss: 1.3983 - val_accuracy: 0.4734\n",
      "Epoch 18/500\n",
      "429/429 [==============================] - 21s 50ms/step - loss: 1.7605 - accuracy: 0.3039 - val_loss: 1.5747 - val_accuracy: 0.3773\n",
      "Epoch 19/500\n",
      "429/429 [==============================] - 22s 51ms/step - loss: 1.7220 - accuracy: 0.3220 - val_loss: 1.4512 - val_accuracy: 0.4086\n",
      "Epoch 20/500\n",
      "429/429 [==============================] - 21s 48ms/step - loss: 1.6772 - accuracy: 0.3336 - val_loss: 1.3913 - val_accuracy: 0.3970\n",
      "Epoch 21/500\n",
      "429/429 [==============================] - 21s 49ms/step - loss: 1.7019 - accuracy: 0.3275 - val_loss: 1.4620 - val_accuracy: 0.4375\n",
      "Epoch 22/500\n",
      "429/429 [==============================] - 22s 50ms/step - loss: 1.7038 - accuracy: 0.3243 - val_loss: 1.5148 - val_accuracy: 0.4028\n",
      "Epoch 23/500\n",
      "429/429 [==============================] - 21s 48ms/step - loss: 1.6642 - accuracy: 0.3360 - val_loss: 1.3908 - val_accuracy: 0.4630\n",
      "Epoch 24/500\n",
      "429/429 [==============================] - 22s 52ms/step - loss: 1.6956 - accuracy: 0.3360 - val_loss: 1.3416 - val_accuracy: 0.4780\n",
      "Epoch 25/500\n",
      "429/429 [==============================] - 22s 51ms/step - loss: 1.6973 - accuracy: 0.3403 - val_loss: 1.3557 - val_accuracy: 0.5035\n",
      "Epoch 26/500\n",
      "429/429 [==============================] - 20s 47ms/step - loss: 1.6873 - accuracy: 0.3310 - val_loss: 1.4842 - val_accuracy: 0.3854\n",
      "Epoch 27/500\n",
      "429/429 [==============================] - 22s 50ms/step - loss: 1.7029 - accuracy: 0.3196 - val_loss: 1.4977 - val_accuracy: 0.4213\n",
      "Epoch 28/500\n",
      "429/429 [==============================] - 22s 51ms/step - loss: 1.6770 - accuracy: 0.3310 - val_loss: 1.4937 - val_accuracy: 0.3657\n",
      "Epoch 29/500\n",
      "429/429 [==============================] - 20s 47ms/step - loss: 1.6763 - accuracy: 0.3424 - val_loss: 1.4824 - val_accuracy: 0.4444\n",
      "Epoch 30/500\n",
      "429/429 [==============================] - 22s 50ms/step - loss: 1.6666 - accuracy: 0.3298 - val_loss: 1.5047 - val_accuracy: 0.4236\n",
      "Epoch 31/500\n",
      "429/429 [==============================] - 21s 49ms/step - loss: 1.6873 - accuracy: 0.3325 - val_loss: 1.3693 - val_accuracy: 0.4792\n",
      "Epoch 32/500\n",
      "429/429 [==============================] - 20s 47ms/step - loss: 1.7047 - accuracy: 0.3179 - val_loss: 1.3503 - val_accuracy: 0.5093\n"
     ]
    }
   ],
   "source": [
    "# Train the model\n",
    "eff_net_model_history = eff_net_model.fit(\n",
    "    x = train_gen,\n",
    "    batch_size = 256,\n",
    "    epochs = 500,\n",
    "    validation_data = valid_gen,\n",
    "    callbacks = [tfk.callbacks.EarlyStopping(monitor='val_accuracy', mode='max', patience=patience, restore_best_weights=True)],\n",
    ").history"
   ]
  },
  {
   "cell_type": "code",
   "execution_count": 27,
   "id": "a2955ffb",
   "metadata": {
    "_kg_hide-input": false,
    "execution": {
     "iopub.execute_input": "2022-11-19T11:36:05.963268Z",
     "iopub.status.busy": "2022-11-19T11:36:05.962900Z",
     "iopub.status.idle": "2022-11-19T11:36:24.955385Z",
     "shell.execute_reply": "2022-11-19T11:36:24.954333Z"
    },
    "papermill": {
     "duration": 20.243104,
     "end_time": "2022-11-19T11:36:24.957596",
     "exception": false,
     "start_time": "2022-11-19T11:36:04.714492",
     "status": "completed"
    },
    "tags": []
   },
   "outputs": [
    {
     "data": {
      "image/png": "[encoded data removed]",
      "text/plain": [
       "<Figure size 1080x360 with 1 Axes>"
      ]
     },
     "metadata": {
      "needs_background": "light"
     },
     "output_type": "display_data"
    },
    {
     "data": {
      "image/png": "[encoded data removed]",
      "text/plain": [
       "<Figure size 1080x360 with 1 Axes>"
      ]
     },
     "metadata": {
      "needs_background": "light"
     },
     "output_type": "display_data"
    }
   ],
   "source": [
    "# Plot the training\n",
    "plt.figure(figsize=(15,5))\n",
    "plt.plot(eff_net_model_history['loss'], label='Loss', alpha=.3, color='#ff7f0e', linestyle='--')\n",
    "plt.plot(eff_net_model_history['val_loss'], label='Val loss', alpha=.8, color='#ff7f0e')\n",
    "plt.legend(loc='upper left')\n",
    "plt.title('Categorical Crossentropy')\n",
    "plt.grid(alpha=.3)\n",
    "plt.savefig(model_name + \"cat_cr_en.png\")\n",
    "\n",
    "plt.figure(figsize=(15,5))\n",
    "plt.plot(eff_net_model_history['accuracy'], label='Accuracy', alpha=.3, color='#ff7f0e', linestyle='--')\n",
    "plt.plot(eff_net_model_history['val_accuracy'], label='Val accuracy', alpha=.8, color='#ff7f0e')\n",
    "plt.legend(loc='upper left')\n",
    "plt.title('Accuracy')\n",
    "plt.grid(alpha=.3)\n",
    "plt.savefig(model_name + \"acc.png\")\n",
    "\n",
    "plt.show()"
   ]
  },
  {
   "cell_type": "code",
   "execution_count": 28,
   "id": "328ab34d",
   "metadata": {
    "execution": {
     "iopub.execute_input": "2022-11-19T11:36:27.058178Z",
     "iopub.status.busy": "2022-11-19T11:36:27.057814Z",
     "iopub.status.idle": "2022-11-19T11:37:46.180986Z",
     "shell.execute_reply": "2022-11-19T11:37:46.179974Z"
    },
    "papermill": {
     "duration": 80.179751,
     "end_time": "2022-11-19T11:37:46.183893",
     "exception": false,
     "start_time": "2022-11-19T11:36:26.004142",
     "status": "completed"
    },
    "tags": []
   },
   "outputs": [],
   "source": [
    "# Save the best model\n",
    "eff_net_model.save(model_name)"
   ]
  },
  {
   "cell_type": "code",
   "execution_count": 29,
   "id": "baa0d769",
   "metadata": {
    "execution": {
     "iopub.execute_input": "2022-11-19T11:37:48.693469Z",
     "iopub.status.busy": "2022-11-19T11:37:48.693071Z",
     "iopub.status.idle": "2022-11-19T11:37:53.912504Z",
     "shell.execute_reply": "2022-11-19T11:37:53.910670Z"
    },
    "papermill": {
     "duration": 6.735062,
     "end_time": "2022-11-19T11:37:53.915739",
     "exception": false,
     "start_time": "2022-11-19T11:37:47.180677",
     "status": "completed"
    },
    "tags": []
   },
   "outputs": [
    {
     "name": "stdout",
     "output_type": "stream",
     "text": [
      "108/108 [==============================] - 3s 30ms/step - loss: 1.4208 - accuracy: 0.5208\n",
      "\n",
      "Val metrics\n",
      "{'loss': 1.4208121299743652, 'accuracy': 0.5208333134651184}\n"
     ]
    }
   ],
   "source": [
    "# Evaluate on val\n",
    "val_metrics = eff_net_model.evaluate(valid_gen, return_dict=True)\n",
    "\n",
    "print()\n",
    "print(\"Val metrics\")\n",
    "print(val_metrics)"
   ]
  },
  {
   "cell_type": "code",
   "execution_count": 30,
   "id": "d28eaea3",
   "metadata": {
    "execution": {
     "iopub.execute_input": "2022-11-19T11:37:56.164314Z",
     "iopub.status.busy": "2022-11-19T11:37:56.163308Z",
     "iopub.status.idle": "2022-11-19T11:37:56.171187Z",
     "shell.execute_reply": "2022-11-19T11:37:56.170140Z"
    },
    "papermill": {
     "duration": 1.199667,
     "end_time": "2022-11-19T11:37:56.173340",
     "exception": false,
     "start_time": "2022-11-19T11:37:54.973673",
     "status": "completed"
    },
    "tags": []
   },
   "outputs": [
    {
     "data": {
      "text/plain": [
       "'/kaggle/working/Efficient_net_fine_tuning.zip'"
      ]
     },
     "execution_count": 30,
     "metadata": {},
     "output_type": "execute_result"
    }
   ],
   "source": [
    "import shutil\n",
    "shutil.make_archive(model_name, 'zip', \"/kaggle/working/EfficientNet\")"
   ]
  }
 ],
 "metadata": {
  "kernelspec": {
   "display_name": "Python 3",
   "language": "python",
   "name": "python3"
  },
  "language_info": {
   "codemirror_mode": {
    "name": "ipython",
    "version": 3
   },
   "file_extension": ".py",
   "mimetype": "text/x-python",
   "name": "python",
   "nbconvert_exporter": "python",
   "pygments_lexer": "ipython3",
   "version": "3.7.12"
  },
  "papermill": {
   "default_parameters": {},
   "duration": 2138.975229,
   "end_time": "2022-11-19T11:38:00.447129",
   "environment_variables": {},
   "exception": null,
   "input_path": "__notebook__.ipynb",
   "output_path": "__notebook__.ipynb",
   "parameters": {},
   "start_time": "2022-11-19T11:02:21.471900",
   "version": "2.3.4"
  }
 },
 "nbformat": 4,
 "nbformat_minor": 5
}
