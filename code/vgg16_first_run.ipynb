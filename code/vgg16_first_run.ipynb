{
 "cells": [
  {
   "cell_type": "markdown",
   "id": "aca7c05e",
   "metadata": {
    "papermill": {
     "duration": 0.019235,
     "end_time": "2022-11-14T19:32:59.459904",
     "exception": false,
     "start_time": "2022-11-14T19:32:59.440669",
     "status": "completed"
    },
    "tags": []
   },
   "source": [
    "## Prelimiary Operations"
   ]
  },
  {
   "cell_type": "markdown",
   "id": "0e632012",
   "metadata": {
    "papermill": {
     "duration": 0.018107,
     "end_time": "2022-11-14T19:32:59.497923",
     "exception": false,
     "start_time": "2022-11-14T19:32:59.479816",
     "status": "completed"
    },
    "tags": []
   },
   "source": [
    "### Manage the directories"
   ]
  },
  {
   "cell_type": "code",
   "execution_count": 1,
   "id": "aab839d7",
   "metadata": {
    "execution": {
     "iopub.execute_input": "2022-11-14T19:32:59.628109Z",
     "iopub.status.busy": "2022-11-14T19:32:59.627357Z",
     "iopub.status.idle": "2022-11-14T19:32:59.641241Z",
     "shell.execute_reply": "2022-11-14T19:32:59.641991Z"
    },
    "papermill": {
     "duration": 0.126522,
     "end_time": "2022-11-14T19:32:59.642287",
     "exception": false,
     "start_time": "2022-11-14T19:32:59.515765",
     "status": "completed"
    },
    "tags": []
   },
   "outputs": [
    {
     "data": {
      "text/plain": [
       "['val', 'test', 'train']"
      ]
     },
     "execution_count": 1,
     "metadata": {},
     "output_type": "execute_result"
    }
   ],
   "source": [
    "# Not important\n",
    "import os\n",
    "os.listdir(\"../input/an2dlhw1bal-dataset/splitted_dataset\")"
   ]
  },
  {
   "cell_type": "code",
   "execution_count": 2,
   "id": "2e351652",
   "metadata": {
    "execution": {
     "iopub.execute_input": "2022-11-14T19:32:59.686556Z",
     "iopub.status.busy": "2022-11-14T19:32:59.685705Z",
     "iopub.status.idle": "2022-11-14T19:32:59.690284Z",
     "shell.execute_reply": "2022-11-14T19:32:59.689854Z",
     "shell.execute_reply.started": "2022-11-14T09:46:36.531734Z"
    },
    "papermill": {
     "duration": 0.024885,
     "end_time": "2022-11-14T19:32:59.690407",
     "exception": false,
     "start_time": "2022-11-14T19:32:59.665522",
     "status": "completed"
    },
    "tags": []
   },
   "outputs": [],
   "source": [
    "# To delete a folder\n",
    "import shutil\n",
    "if os.path.exists(\"/kaggle/working/andrea\"):\n",
    "    shutil.rmtree(\"/kaggle/working/andrea\")"
   ]
  },
  {
   "cell_type": "code",
   "execution_count": 3,
   "id": "7cdf3dfb",
   "metadata": {
    "execution": {
     "iopub.execute_input": "2022-11-14T19:32:59.730249Z",
     "iopub.status.busy": "2022-11-14T19:32:59.729351Z",
     "iopub.status.idle": "2022-11-14T19:32:59.731246Z",
     "shell.execute_reply": "2022-11-14T19:32:59.731851Z",
     "shell.execute_reply.started": "2022-11-14T19:32:05.101102Z"
    },
    "papermill": {
     "duration": 0.024573,
     "end_time": "2022-11-14T19:32:59.732012",
     "exception": false,
     "start_time": "2022-11-14T19:32:59.707439",
     "status": "completed"
    },
    "tags": []
   },
   "outputs": [],
   "source": [
    "# to remove a file\n",
    "import os\n",
    "if os.path.exists(\"/kaggle/working/model.png\"):\n",
    "    os.remove(\"/kaggle/working/model.png\")"
   ]
  },
  {
   "cell_type": "code",
   "execution_count": 4,
   "id": "4eb765df",
   "metadata": {
    "execution": {
     "iopub.execute_input": "2022-11-14T19:32:59.774145Z",
     "iopub.status.busy": "2022-11-14T19:32:59.772861Z",
     "iopub.status.idle": "2022-11-14T19:32:59.776887Z",
     "shell.execute_reply": "2022-11-14T19:32:59.776376Z",
     "shell.execute_reply.started": "2022-11-14T09:46:36.556964Z"
    },
    "papermill": {
     "duration": 0.025926,
     "end_time": "2022-11-14T19:32:59.777020",
     "exception": false,
     "start_time": "2022-11-14T19:32:59.751094",
     "status": "completed"
    },
    "tags": []
   },
   "outputs": [],
   "source": [
    "# to create a folder\n",
    "import os\n",
    "directory = \"VGG16\"\n",
    "parent_dir = \"/kaggle/working\"\n",
    "path = os.path.join(parent_dir, directory)\n",
    "if not os.path.exists(path):\n",
    "    os.mkdir(path)"
   ]
  },
  {
   "cell_type": "markdown",
   "id": "3176a617",
   "metadata": {
    "papermill": {
     "duration": 0.017267,
     "end_time": "2022-11-14T19:32:59.852919",
     "exception": false,
     "start_time": "2022-11-14T19:32:59.835652",
     "status": "completed"
    },
    "tags": []
   },
   "source": [
    "### Operations"
   ]
  },
  {
   "cell_type": "code",
   "execution_count": 6,
   "id": "72f46b68",
   "metadata": {
    "execution": {
     "iopub.execute_input": "2022-11-14T19:32:59.918164Z",
     "iopub.status.busy": "2022-11-14T19:32:59.917087Z",
     "iopub.status.idle": "2022-11-14T19:33:05.633126Z",
     "shell.execute_reply": "2022-11-14T19:33:05.632238Z",
     "shell.execute_reply.started": "2022-11-14T09:46:36.560395Z"
    },
    "papermill": {
     "duration": 5.760315,
     "end_time": "2022-11-14T19:33:05.633261",
     "exception": false,
     "start_time": "2022-11-14T19:32:59.872946",
     "status": "completed"
    },
    "tags": []
   },
   "outputs": [
    {
     "name": "stderr",
     "output_type": "stream",
     "text": [
      "2022-11-14 19:33:00.546050: I tensorflow/stream_executor/platform/default/dso_loader.cc:49] Successfully opened dynamic library libcudart.so.11.0\n"
     ]
    }
   ],
   "source": [
    "import tensorflow as tf\n",
    "import numpy as np\n",
    "import os\n",
    "import random\n",
    "import pandas as pd\n",
    "import seaborn as sns\n",
    "import matplotlib as mpl\n",
    "import matplotlib.pyplot as plt\n",
    "from sklearn.model_selection import train_test_split\n",
    "from sklearn.metrics import accuracy_score, f1_score, precision_score, recall_score\n",
    "from sklearn.metrics import confusion_matrix\n",
    "from PIL import Image\n",
    "\n",
    "tfk = tf.keras\n",
    "tfkl = tf.keras.layers"
   ]
  },
  {
   "cell_type": "code",
   "execution_count": 7,
   "id": "2ea8b514",
   "metadata": {
    "execution": {
     "iopub.execute_input": "2022-11-14T19:33:05.673695Z",
     "iopub.status.busy": "2022-11-14T19:33:05.673122Z",
     "iopub.status.idle": "2022-11-14T19:33:05.676714Z",
     "shell.execute_reply": "2022-11-14T19:33:05.677128Z",
     "shell.execute_reply.started": "2022-11-14T09:46:36.562198Z"
    },
    "papermill": {
     "duration": 0.026493,
     "end_time": "2022-11-14T19:33:05.677274",
     "exception": false,
     "start_time": "2022-11-14T19:33:05.650781",
     "status": "completed"
    },
    "tags": []
   },
   "outputs": [],
   "source": [
    "# Random seed for reproducibility\n",
    "seed = 42\n",
    "\n",
    "random.seed(seed)\n",
    "os.environ['PYTHONHASHSEED'] = str(seed)\n",
    "np.random.seed(seed)\n",
    "tf.random.set_seed(seed)\n",
    "tf.compat.v1.set_random_seed(seed)"
   ]
  },
  {
   "cell_type": "code",
   "execution_count": 8,
   "id": "96af03b7",
   "metadata": {
    "execution": {
     "iopub.execute_input": "2022-11-14T19:33:05.719753Z",
     "iopub.status.busy": "2022-11-14T19:33:05.717891Z",
     "iopub.status.idle": "2022-11-14T19:33:05.720402Z",
     "shell.execute_reply": "2022-11-14T19:33:05.720876Z",
     "shell.execute_reply.started": "2022-11-14T09:46:36.563963Z"
    },
    "papermill": {
     "duration": 0.026352,
     "end_time": "2022-11-14T19:33:05.721033",
     "exception": false,
     "start_time": "2022-11-14T19:33:05.694681",
     "status": "completed"
    },
    "tags": []
   },
   "outputs": [],
   "source": [
    "import warnings\n",
    "import logging\n",
    "\n",
    "os.environ['TF_CPP_MIN_LOG_LEVEL'] = '2'\n",
    "warnings.simplefilter(action='ignore', category=FutureWarning)\n",
    "warnings.simplefilter(action='ignore', category=Warning)\n",
    "tf.get_logger().setLevel('INFO')\n",
    "tf.autograph.set_verbosity(0)\n",
    "\n",
    "tf.get_logger().setLevel(logging.ERROR)\n",
    "tf.get_logger().setLevel('ERROR')\n",
    "tf.compat.v1.logging.set_verbosity(tf.compat.v1.logging.ERROR)"
   ]
  },
  {
   "cell_type": "markdown",
   "id": "d5ee339c",
   "metadata": {
    "papermill": {
     "duration": 0.017527,
     "end_time": "2022-11-14T19:33:05.756572",
     "exception": false,
     "start_time": "2022-11-14T19:33:05.739045",
     "status": "completed"
    },
    "tags": []
   },
   "source": [
    "## Importing data"
   ]
  },
  {
   "cell_type": "code",
   "execution_count": 9,
   "id": "d4424a3b",
   "metadata": {
    "execution": {
     "iopub.execute_input": "2022-11-14T19:33:05.797721Z",
     "iopub.status.busy": "2022-11-14T19:33:05.797067Z",
     "iopub.status.idle": "2022-11-14T19:33:05.801353Z",
     "shell.execute_reply": "2022-11-14T19:33:05.800807Z",
     "shell.execute_reply.started": "2022-11-14T09:46:36.565585Z"
    },
    "papermill": {
     "duration": 0.027216,
     "end_time": "2022-11-14T19:33:05.801503",
     "exception": false,
     "start_time": "2022-11-14T19:33:05.774287",
     "status": "completed"
    },
    "tags": []
   },
   "outputs": [],
   "source": [
    "# Dataset folders \n",
    "dataset_dir = '/kaggle/input/an2dlhw1bal-dataset/splitted_dataset'\n",
    "training_dir = os.path.join(dataset_dir, 'train')\n",
    "validation_dir = os.path.join(dataset_dir, 'val')\n",
    "test_dir = os.path.join(dataset_dir, 'test')"
   ]
  },
  {
   "cell_type": "code",
   "execution_count": 10,
   "id": "ea990b74",
   "metadata": {
    "execution": {
     "iopub.execute_input": "2022-11-14T19:33:05.847239Z",
     "iopub.status.busy": "2022-11-14T19:33:05.846571Z",
     "iopub.status.idle": "2022-11-14T19:33:07.092603Z",
     "shell.execute_reply": "2022-11-14T19:33:07.092073Z",
     "shell.execute_reply.started": "2022-11-14T09:46:36.653100Z"
    },
    "papermill": {
     "duration": 1.2737,
     "end_time": "2022-11-14T19:33:07.092756",
     "exception": false,
     "start_time": "2022-11-14T19:33:05.819056",
     "status": "completed"
    },
    "tags": []
   },
   "outputs": [
    {
     "name": "stdout",
     "output_type": "stream",
     "text": [
      "Found 3432 images belonging to 8 classes.\n",
      "Found 424 images belonging to 8 classes.\n",
      "Found 440 images belonging to 8 classes.\n"
     ]
    }
   ],
   "source": [
    "# Images are divided into folders, one for each class. \n",
    "# If the images are organized in such a way, we can exploit the \n",
    "# ImageDataGenerator to read them from disk.\n",
    "from tensorflow.keras.preprocessing.image import ImageDataGenerator\n",
    "\n",
    "# Create an instance of ImageDataGenerator, and for the trainign with Data Augmentation\n",
    "train_data_gen = ImageDataGenerator(rotation_range=30,\n",
    "                                        height_shift_range=50,\n",
    "                                        width_shift_range=50,\n",
    "                                        zoom_range=0.3,\n",
    "                                        horizontal_flip=True, \n",
    "                                        fill_mode='reflect',\n",
    "                                        rescale=1/255.) # Normalization with rescale\n",
    "valid_data_gen = ImageDataGenerator(rescale=1/255.)\n",
    "test_data_gen = ImageDataGenerator(rescale=1/255.)\n",
    "\n",
    "# Obtain a data generator with the 'ImageDataGenerator.flow_from_directory' method\n",
    "train_gen = train_data_gen.flow_from_directory(directory=training_dir,\n",
    "                                                       target_size=(96,96),\n",
    "                                                       color_mode='rgb',\n",
    "                                                       classes=None, # can be set to labels\n",
    "                                                       class_mode='categorical',\n",
    "                                                       batch_size=8,\n",
    "                                                       shuffle=True,\n",
    "                                                       seed=seed)\n",
    "\n",
    "valid_gen = train_data_gen.flow_from_directory(directory=validation_dir,\n",
    "                                               target_size=(96,96),\n",
    "                                               color_mode='rgb',\n",
    "                                               classes=None, # can be set to labels\n",
    "                                               class_mode='categorical',\n",
    "                                               batch_size=8,\n",
    "                                               shuffle=False,\n",
    "                                               seed=seed)\n",
    "test_gen = train_data_gen.flow_from_directory(directory=test_dir,\n",
    "                                              target_size=(96,96),\n",
    "                                              color_mode='rgb',\n",
    "                                              classes=None, # can be set to labels\n",
    "                                              class_mode='categorical',\n",
    "                                              batch_size=8,\n",
    "                                              shuffle=False,\n",
    "                                              seed=seed)"
   ]
  },
  {
   "cell_type": "markdown",
   "id": "9add17aa",
   "metadata": {
    "papermill": {
     "duration": 0.018785,
     "end_time": "2022-11-14T19:33:07.176555",
     "exception": false,
     "start_time": "2022-11-14T19:33:07.157770",
     "status": "completed"
    },
    "tags": []
   },
   "source": [
    "## Model"
   ]
  },
  {
   "cell_type": "code",
   "execution_count": 12,
   "id": "316a5f1a",
   "metadata": {
    "execution": {
     "iopub.execute_input": "2022-11-14T19:33:07.232020Z",
     "iopub.status.busy": "2022-11-14T19:33:07.219328Z",
     "iopub.status.idle": "2022-11-14T19:33:08.260968Z",
     "shell.execute_reply": "2022-11-14T19:33:08.260416Z",
     "shell.execute_reply.started": "2022-11-14T09:46:41.506331Z"
    },
    "papermill": {
     "duration": 1.065741,
     "end_time": "2022-11-14T19:33:08.261116",
     "exception": false,
     "start_time": "2022-11-14T19:33:07.195375",
     "status": "completed"
    },
    "tags": []
   },
   "outputs": [],
   "source": [
    "!cd /kaggle/working/VGG16"
   ]
  },
  {
   "cell_type": "code",
   "execution_count": 13,
   "id": "211aef11",
   "metadata": {
    "execution": {
     "iopub.execute_input": "2022-11-14T19:33:08.309435Z",
     "iopub.status.busy": "2022-11-14T19:33:08.308808Z",
     "iopub.status.idle": "2022-11-14T19:33:12.303489Z",
     "shell.execute_reply": "2022-11-14T19:33:12.302906Z",
     "shell.execute_reply.started": "2022-11-14T09:46:41.508348Z"
    },
    "papermill": {
     "duration": 4.023881,
     "end_time": "2022-11-14T19:33:12.303712",
     "exception": false,
     "start_time": "2022-11-14T19:33:08.279831",
     "status": "completed"
    },
    "tags": []
   },
   "outputs": [
    {
     "name": "stderr",
     "output_type": "stream",
     "text": [
      "2022-11-14 19:33:08.336793: I tensorflow/compiler/jit/xla_cpu_device.cc:41] Not creating XLA devices, tf_xla_enable_xla_devices not set\n",
      "2022-11-14 19:33:08.340193: I tensorflow/stream_executor/platform/default/dso_loader.cc:49] Successfully opened dynamic library libcuda.so.1\n",
      "2022-11-14 19:33:08.407876: I tensorflow/stream_executor/cuda/cuda_gpu_executor.cc:941] successful NUMA node read from SysFS had negative value (-1), but there must be at least one NUMA node, so returning NUMA node zero\n",
      "2022-11-14 19:33:08.408735: I tensorflow/core/common_runtime/gpu/gpu_device.cc:1720] Found device 0 with properties: \n",
      "pciBusID: 0000:00:04.0 name: Tesla P100-PCIE-16GB computeCapability: 6.0\n",
      "coreClock: 1.3285GHz coreCount: 56 deviceMemorySize: 15.90GiB deviceMemoryBandwidth: 681.88GiB/s\n",
      "2022-11-14 19:33:08.408808: I tensorflow/stream_executor/platform/default/dso_loader.cc:49] Successfully opened dynamic library libcudart.so.11.0\n",
      "2022-11-14 19:33:08.437843: I tensorflow/stream_executor/platform/default/dso_loader.cc:49] Successfully opened dynamic library libcublas.so.11\n",
      "2022-11-14 19:33:08.437954: I tensorflow/stream_executor/platform/default/dso_loader.cc:49] Successfully opened dynamic library libcublasLt.so.11\n",
      "2022-11-14 19:33:08.462413: I tensorflow/stream_executor/platform/default/dso_loader.cc:49] Successfully opened dynamic library libcufft.so.10\n",
      "2022-11-14 19:33:08.472447: I tensorflow/stream_executor/platform/default/dso_loader.cc:49] Successfully opened dynamic library libcurand.so.10\n",
      "2022-11-14 19:33:08.501910: I tensorflow/stream_executor/platform/default/dso_loader.cc:49] Successfully opened dynamic library libcusolver.so.10\n",
      "2022-11-14 19:33:08.510575: I tensorflow/stream_executor/platform/default/dso_loader.cc:49] Successfully opened dynamic library libcusparse.so.11\n",
      "2022-11-14 19:33:08.513416: I tensorflow/stream_executor/platform/default/dso_loader.cc:49] Successfully opened dynamic library libcudnn.so.8\n",
      "2022-11-14 19:33:08.513627: I tensorflow/stream_executor/cuda/cuda_gpu_executor.cc:941] successful NUMA node read from SysFS had negative value (-1), but there must be at least one NUMA node, so returning NUMA node zero\n",
      "2022-11-14 19:33:08.514489: I tensorflow/stream_executor/cuda/cuda_gpu_executor.cc:941] successful NUMA node read from SysFS had negative value (-1), but there must be at least one NUMA node, so returning NUMA node zero\n",
      "2022-11-14 19:33:08.515947: I tensorflow/core/common_runtime/gpu/gpu_device.cc:1862] Adding visible gpu devices: 0\n",
      "2022-11-14 19:33:08.516627: I tensorflow/core/platform/cpu_feature_guard.cc:142] This TensorFlow binary is optimized with oneAPI Deep Neural Network Library (oneDNN) to use the following CPU instructions in performance-critical operations:  AVX2 AVX512F FMA\n",
      "To enable them in other operations, rebuild TensorFlow with the appropriate compiler flags.\n",
      "2022-11-14 19:33:08.516863: I tensorflow/compiler/jit/xla_gpu_device.cc:99] Not creating XLA devices, tf_xla_enable_xla_devices not set\n",
      "2022-11-14 19:33:08.517031: I tensorflow/stream_executor/cuda/cuda_gpu_executor.cc:941] successful NUMA node read from SysFS had negative value (-1), but there must be at least one NUMA node, so returning NUMA node zero\n",
      "2022-11-14 19:33:08.517677: I tensorflow/core/common_runtime/gpu/gpu_device.cc:1720] Found device 0 with properties: \n",
      "pciBusID: 0000:00:04.0 name: Tesla P100-PCIE-16GB computeCapability: 6.0\n",
      "coreClock: 1.3285GHz coreCount: 56 deviceMemorySize: 15.90GiB deviceMemoryBandwidth: 681.88GiB/s\n",
      "2022-11-14 19:33:08.517740: I tensorflow/stream_executor/platform/default/dso_loader.cc:49] Successfully opened dynamic library libcudart.so.11.0\n",
      "2022-11-14 19:33:08.517773: I tensorflow/stream_executor/platform/default/dso_loader.cc:49] Successfully opened dynamic library libcublas.so.11\n",
      "2022-11-14 19:33:08.517791: I tensorflow/stream_executor/platform/default/dso_loader.cc:49] Successfully opened dynamic library libcublasLt.so.11\n",
      "2022-11-14 19:33:08.517811: I tensorflow/stream_executor/platform/default/dso_loader.cc:49] Successfully opened dynamic library libcufft.so.10\n",
      "2022-11-14 19:33:08.517830: I tensorflow/stream_executor/platform/default/dso_loader.cc:49] Successfully opened dynamic library libcurand.so.10\n",
      "2022-11-14 19:33:08.517847: I tensorflow/stream_executor/platform/default/dso_loader.cc:49] Successfully opened dynamic library libcusolver.so.10\n",
      "2022-11-14 19:33:08.517866: I tensorflow/stream_executor/platform/default/dso_loader.cc:49] Successfully opened dynamic library libcusparse.so.11\n",
      "2022-11-14 19:33:08.517884: I tensorflow/stream_executor/platform/default/dso_loader.cc:49] Successfully opened dynamic library libcudnn.so.8\n",
      "2022-11-14 19:33:08.517974: I tensorflow/stream_executor/cuda/cuda_gpu_executor.cc:941] successful NUMA node read from SysFS had negative value (-1), but there must be at least one NUMA node, so returning NUMA node zero\n",
      "2022-11-14 19:33:08.518738: I tensorflow/stream_executor/cuda/cuda_gpu_executor.cc:941] successful NUMA node read from SysFS had negative value (-1), but there must be at least one NUMA node, so returning NUMA node zero\n",
      "2022-11-14 19:33:08.519389: I tensorflow/core/common_runtime/gpu/gpu_device.cc:1862] Adding visible gpu devices: 0\n",
      "2022-11-14 19:33:08.520384: I tensorflow/stream_executor/platform/default/dso_loader.cc:49] Successfully opened dynamic library libcudart.so.11.0\n",
      "2022-11-14 19:33:10.232278: I tensorflow/core/common_runtime/gpu/gpu_device.cc:1261] Device interconnect StreamExecutor with strength 1 edge matrix:\n",
      "2022-11-14 19:33:10.232327: I tensorflow/core/common_runtime/gpu/gpu_device.cc:1267]      0 \n",
      "2022-11-14 19:33:10.232340: I tensorflow/core/common_runtime/gpu/gpu_device.cc:1280] 0:   N \n",
      "2022-11-14 19:33:10.246931: I tensorflow/stream_executor/cuda/cuda_gpu_executor.cc:941] successful NUMA node read from SysFS had negative value (-1), but there must be at least one NUMA node, so returning NUMA node zero\n",
      "2022-11-14 19:33:10.247878: I tensorflow/stream_executor/cuda/cuda_gpu_executor.cc:941] successful NUMA node read from SysFS had negative value (-1), but there must be at least one NUMA node, so returning NUMA node zero\n",
      "2022-11-14 19:33:10.248667: I tensorflow/stream_executor/cuda/cuda_gpu_executor.cc:941] successful NUMA node read from SysFS had negative value (-1), but there must be at least one NUMA node, so returning NUMA node zero\n",
      "2022-11-14 19:33:10.249289: I tensorflow/core/common_runtime/gpu/gpu_device.cc:1406] Created TensorFlow device (/job:localhost/replica:0/task:0/device:GPU:0 with 14957 MB memory) -> physical GPU (device: 0, name: Tesla P100-PCIE-16GB, pci bus id: 0000:00:04.0, compute capability: 6.0)\n"
     ]
    },
    {
     "name": "stdout",
     "output_type": "stream",
     "text": [
      "Downloading data from https://storage.googleapis.com/tensorflow/keras-applications/vgg16/vgg16_weights_tf_dim_ordering_tf_kernels_notop.h5\n",
      "58892288/58889256 [==============================] - 0s 0us/step\n",
      "Model: \"vgg16\"\n",
      "_________________________________________________________________\n",
      "Layer (type)                 Output Shape              Param #   \n",
      "=================================================================\n",
      "input_1 (InputLayer)         [(None, 96, 96, 3)]       0         \n",
      "_________________________________________________________________\n",
      "block1_conv1 (Conv2D)        (None, 96, 96, 64)        1792      \n",
      "_________________________________________________________________\n",
      "block1_conv2 (Conv2D)        (None, 96, 96, 64)        36928     \n",
      "_________________________________________________________________\n",
      "block1_pool (MaxPooling2D)   (None, 48, 48, 64)        0         \n",
      "_________________________________________________________________\n",
      "block2_conv1 (Conv2D)        (None, 48, 48, 128)       73856     \n",
      "_________________________________________________________________\n",
      "block2_conv2 (Conv2D)        (None, 48, 48, 128)       147584    \n",
      "_________________________________________________________________\n",
      "block2_pool (MaxPooling2D)   (None, 24, 24, 128)       0         \n",
      "_________________________________________________________________\n",
      "block3_conv1 (Conv2D)        (None, 24, 24, 256)       295168    \n",
      "_________________________________________________________________\n",
      "block3_conv2 (Conv2D)        (None, 24, 24, 256)       590080    \n",
      "_________________________________________________________________\n",
      "block3_conv3 (Conv2D)        (None, 24, 24, 256)       590080    \n",
      "_________________________________________________________________\n",
      "block3_pool (MaxPooling2D)   (None, 12, 12, 256)       0         \n",
      "_________________________________________________________________\n",
      "block4_conv1 (Conv2D)        (None, 12, 12, 512)       1180160   \n",
      "_________________________________________________________________\n",
      "block4_conv2 (Conv2D)        (None, 12, 12, 512)       2359808   \n",
      "_________________________________________________________________\n",
      "block4_conv3 (Conv2D)        (None, 12, 12, 512)       2359808   \n",
      "_________________________________________________________________\n",
      "block4_pool (MaxPooling2D)   (None, 6, 6, 512)         0         \n",
      "_________________________________________________________________\n",
      "block5_conv1 (Conv2D)        (None, 6, 6, 512)         2359808   \n",
      "_________________________________________________________________\n",
      "block5_conv2 (Conv2D)        (None, 6, 6, 512)         2359808   \n",
      "_________________________________________________________________\n",
      "block5_conv3 (Conv2D)        (None, 6, 6, 512)         2359808   \n",
      "_________________________________________________________________\n",
      "block5_pool (MaxPooling2D)   (None, 3, 3, 512)         0         \n",
      "=================================================================\n",
      "Total params: 14,714,688\n",
      "Trainable params: 14,714,688\n",
      "Non-trainable params: 0\n",
      "_________________________________________________________________\n"
     ]
    },
    {
     "data": {
      "image/png": "[encoded data removed]",
      "text/plain": [
       "<IPython.core.display.Image object>"
      ]
     },
     "execution_count": 13,
     "metadata": {},
     "output_type": "execute_result"
    }
   ],
   "source": [
    "# Download and plot the VGG16 model\n",
    "supernet = tfk.applications.VGG16(\n",
    "    include_top=False,\n",
    "    weights=\"imagenet\",\n",
    "    input_shape=(96,96,3)\n",
    ")\n",
    "supernet.summary()\n",
    "tfk.utils.plot_model(supernet)"
   ]
  },
  {
   "cell_type": "code",
   "execution_count": 14,
   "id": "f5c20547",
   "metadata": {
    "execution": {
     "iopub.execute_input": "2022-11-14T19:33:12.355998Z",
     "iopub.status.busy": "2022-11-14T19:33:12.355179Z",
     "iopub.status.idle": "2022-11-14T19:33:12.358013Z",
     "shell.execute_reply": "2022-11-14T19:33:12.357494Z",
     "shell.execute_reply.started": "2022-11-14T09:46:41.510296Z"
    },
    "papermill": {
     "duration": 0.031068,
     "end_time": "2022-11-14T19:33:12.358154",
     "exception": false,
     "start_time": "2022-11-14T19:33:12.327086",
     "status": "completed"
    },
    "tags": []
   },
   "outputs": [],
   "source": [
    "input_shape = (96, 96, 3)\n",
    "epochs = 200"
   ]
  },
  {
   "cell_type": "code",
   "execution_count": 15,
   "id": "43ba07a3",
   "metadata": {
    "execution": {
     "iopub.execute_input": "2022-11-14T19:33:12.417713Z",
     "iopub.status.busy": "2022-11-14T19:33:12.412588Z",
     "iopub.status.idle": "2022-11-14T19:33:12.866013Z",
     "shell.execute_reply": "2022-11-14T19:33:12.865245Z",
     "shell.execute_reply.started": "2022-11-14T09:46:41.512105Z"
    },
    "papermill": {
     "duration": 0.48455,
     "end_time": "2022-11-14T19:33:12.866172",
     "exception": false,
     "start_time": "2022-11-14T19:33:12.381622",
     "status": "completed"
    },
    "tags": []
   },
   "outputs": [
    {
     "name": "stdout",
     "output_type": "stream",
     "text": [
      "Model: \"model\"\n",
      "_________________________________________________________________\n",
      "Layer (type)                 Output Shape              Param #   \n",
      "=================================================================\n",
      "input_layer (InputLayer)     [(None, 96, 96, 3)]       0         \n",
      "_________________________________________________________________\n",
      "vgg16 (Functional)           (None, 3, 3, 512)         14714688  \n",
      "_________________________________________________________________\n",
      "Flattening (Flatten)         (None, 4608)              0         \n",
      "_________________________________________________________________\n",
      "dropout (Dropout)            (None, 4608)              0         \n",
      "_________________________________________________________________\n",
      "dense (Dense)                (None, 512)               2359808   \n",
      "_________________________________________________________________\n",
      "dropout_1 (Dropout)          (None, 512)               0         \n",
      "_________________________________________________________________\n",
      "dense_1 (Dense)              (None, 8)                 4104      \n",
      "=================================================================\n",
      "Total params: 17,078,600\n",
      "Trainable params: 2,363,912\n",
      "Non-trainable params: 14,714,688\n",
      "_________________________________________________________________\n"
     ]
    },
    {
     "data": {
      "image/png": "[encoded data removed]",
      "text/plain": [
       "<IPython.core.display.Image object>"
      ]
     },
     "execution_count": 15,
     "metadata": {},
     "output_type": "execute_result"
    }
   ],
   "source": [
    "from tensorflow.python.framework.tensor_util import GetNumpyAppendFn\n",
    "\n",
    "# Use the supernet as feature extractor\n",
    "supernet.trainable = False\n",
    "# in this way we keep the weights of the CNN part and we will train only the weights of the classifier\n",
    "\n",
    "input_layer = tfkl.Input(shape=input_shape, name='input_layer')\n",
    "x = supernet(input_layer)\n",
    "x = tfkl.Flatten(name='Flattening')(x)\n",
    "x = tfkl.Dropout(0.3, seed=seed)(x)\n",
    "x = tfkl.Dense(\n",
    "    512, \n",
    "    activation='relu',\n",
    "    kernel_initializer = tfk.initializers.HeUniform(seed))(x)\n",
    "x = tfkl.Dropout(0.3, seed=seed)(x)\n",
    "outputs = tfkl.Dense(\n",
    "    8, \n",
    "    activation='softmax',\n",
    "    kernel_initializer = tfk.initializers.GlorotUniform(seed))(x)\n",
    "\n",
    "\n",
    "# Connect input and output through the Model class\n",
    "tl_model = tfk.Model(inputs=input_layer, outputs=outputs, name='model')\n",
    "\n",
    "# Compile the model\n",
    "tl_model.compile(loss=tfk.losses.CategoricalCrossentropy(), optimizer=tfk.optimizers.Adam(), metrics='accuracy')\n",
    "tl_model.summary()\n",
    "tfk.utils.plot_model(tl_model)"
   ]
  },
  {
   "cell_type": "markdown",
   "id": "7e23a48c",
   "metadata": {
    "papermill": {
     "duration": 0.053306,
     "end_time": "2022-11-14T19:33:12.967659",
     "exception": false,
     "start_time": "2022-11-14T19:33:12.914353",
     "status": "completed"
    },
    "tags": []
   },
   "source": [
    "## Training"
   ]
  },
  {
   "cell_type": "code",
   "execution_count": 16,
   "id": "5cfb9d1c",
   "metadata": {
    "execution": {
     "iopub.execute_input": "2022-11-14T19:33:13.057310Z",
     "iopub.status.busy": "2022-11-14T19:33:13.056443Z",
     "iopub.status.idle": "2022-11-14T19:33:13.068599Z",
     "shell.execute_reply": "2022-11-14T19:33:13.069358Z",
     "shell.execute_reply.started": "2022-11-14T09:46:41.513951Z"
    },
    "papermill": {
     "duration": 0.052679,
     "end_time": "2022-11-14T19:33:13.069584",
     "exception": false,
     "start_time": "2022-11-14T19:33:13.016905",
     "status": "completed"
    },
    "tags": []
   },
   "outputs": [],
   "source": [
    "# Utility function to create folders and callbacks for training\n",
    "from datetime import datetime\n",
    "\n",
    "def create_folders_and_callbacks(model_name):\n",
    "\n",
    "  exps_dir = os.path.join('/kaggle/working/VGG16/data_augmentation_experiments_VGG16')\n",
    "  if not os.path.exists(exps_dir):\n",
    "      os.makedirs(exps_dir)\n",
    "\n",
    "  now = datetime.now().strftime('%b%d_%H-%M-%S')\n",
    "\n",
    "  exp_dir = os.path.join(exps_dir, model_name + '_' + str(now))\n",
    "  if not os.path.exists(exp_dir):\n",
    "      os.makedirs(exp_dir)\n",
    "      \n",
    "  callbacks = []\n",
    "\n",
    "  # Model checkpoint -> save model after each epoch\n",
    "  # ----------------\n",
    "  ckpt_dir = os.path.join(exp_dir, 'ckpts')\n",
    "  if not os.path.exists(ckpt_dir):\n",
    "      os.makedirs(ckpt_dir)\n",
    "\n",
    "  ckpt_callback = tf.keras.callbacks.ModelCheckpoint(filepath=os.path.join(ckpt_dir, 'cp.ckpt'), \n",
    "                                                     save_weights_only=True, # True to save only weights, false to save the model as we did before af the end of the training\n",
    "                                                     save_best_only=False) # True to save only the best epoch, false we save each epoch by default\n",
    "  callbacks.append(ckpt_callback)\n",
    "\n",
    "  # Visualize Learning on Tensorboard\n",
    "  # ---------------------------------\n",
    "  tb_dir = os.path.join(exp_dir, 'tb_logs')\n",
    "  if not os.path.exists(tb_dir):\n",
    "      os.makedirs(tb_dir)\n",
    "      \n",
    "  # By default shows losses and metrics for both training and validation\n",
    "  tb_callback = tf.keras.callbacks.TensorBoard(log_dir=tb_dir, \n",
    "                                               profile_batch=0,# 0 therwise we have some problems in the visualization\n",
    "                                               histogram_freq=1)  # if > 0 (epochs) shows weights histograms\n",
    "  callbacks.append(tb_callback)\n",
    "\n",
    "  # Early Stopping\n",
    "  # --------------\n",
    "  es_callback = tf.keras.callbacks.EarlyStopping(monitor='val_accuracy', patience=10, restore_best_weights=True)\n",
    "  callbacks.append(es_callback)\n",
    "\n",
    "  return callbacks"
   ]
  },
  {
   "cell_type": "code",
   "execution_count": 17,
   "id": "f8b6e09d",
   "metadata": {
    "execution": {
     "iopub.execute_input": "2022-11-14T19:33:13.142938Z",
     "iopub.status.busy": "2022-11-14T19:33:13.142005Z",
     "iopub.status.idle": "2022-11-14T19:33:13.144017Z",
     "shell.execute_reply": "2022-11-14T19:33:13.144644Z",
     "shell.execute_reply.started": "2022-11-14T09:46:41.516065Z"
    },
    "papermill": {
     "duration": 0.041226,
     "end_time": "2022-11-14T19:33:13.144832",
     "exception": false,
     "start_time": "2022-11-14T19:33:13.103606",
     "status": "completed"
    },
    "tags": []
   },
   "outputs": [],
   "source": [
    "# Create folders and callbacks and fit\n",
    "callbacks = create_folders_and_callbacks(model_name='VGG16')"
   ]
  },
  {
   "cell_type": "code",
   "execution_count": 18,
   "id": "99ddd40a",
   "metadata": {
    "execution": {
     "iopub.execute_input": "2022-11-14T19:33:13.217784Z",
     "iopub.status.busy": "2022-11-14T19:33:13.216933Z",
     "iopub.status.idle": "2022-11-14T19:44:06.642185Z",
     "shell.execute_reply": "2022-11-14T19:44:06.642681Z",
     "shell.execute_reply.started": "2022-11-14T09:44:16.594579Z"
    },
    "papermill": {
     "duration": 653.465059,
     "end_time": "2022-11-14T19:44:06.642907",
     "exception": false,
     "start_time": "2022-11-14T19:33:13.177848",
     "status": "completed"
    },
    "tags": []
   },
   "outputs": [
    {
     "name": "stderr",
     "output_type": "stream",
     "text": [
      "2022-11-14 19:33:13.461926: I tensorflow/compiler/mlir/mlir_graph_optimization_pass.cc:116] None of the MLIR optimization passes are enabled (registered 2)\n",
      "2022-11-14 19:33:13.465724: I tensorflow/core/platform/profile_utils/cpu_utils.cc:112] CPU Frequency: 2000155000 Hz\n"
     ]
    },
    {
     "name": "stdout",
     "output_type": "stream",
     "text": [
      "Epoch 1/200\n"
     ]
    },
    {
     "name": "stderr",
     "output_type": "stream",
     "text": [
      "2022-11-14 19:33:14.191623: I tensorflow/stream_executor/platform/default/dso_loader.cc:49] Successfully opened dynamic library libcublas.so.11\n",
      "2022-11-14 19:33:15.106876: I tensorflow/stream_executor/platform/default/dso_loader.cc:49] Successfully opened dynamic library libcublasLt.so.11\n",
      "2022-11-14 19:33:15.132432: I tensorflow/stream_executor/platform/default/dso_loader.cc:49] Successfully opened dynamic library libcudnn.so.8\n"
     ]
    },
    {
     "name": "stdout",
     "output_type": "stream",
     "text": [
      "429/429 [==============================] - 47s 93ms/step - loss: 2.0318 - accuracy: 0.2980 - val_loss: 1.5418 - val_accuracy: 0.3538\n",
      "Epoch 2/200\n",
      "429/429 [==============================] - 17s 39ms/step - loss: 1.5610 - accuracy: 0.3688 - val_loss: 1.3932 - val_accuracy: 0.4599\n",
      "Epoch 3/200\n",
      "429/429 [==============================] - 17s 39ms/step - loss: 1.5187 - accuracy: 0.4116 - val_loss: 1.4002 - val_accuracy: 0.4623\n",
      "Epoch 4/200\n",
      "429/429 [==============================] - 17s 39ms/step - loss: 1.4121 - accuracy: 0.4655 - val_loss: 1.4221 - val_accuracy: 0.4340\n",
      "Epoch 5/200\n",
      "429/429 [==============================] - 16s 38ms/step - loss: 1.4245 - accuracy: 0.4469 - val_loss: 1.4035 - val_accuracy: 0.4552\n",
      "Epoch 6/200\n",
      "429/429 [==============================] - 17s 39ms/step - loss: 1.4081 - accuracy: 0.4550 - val_loss: 1.3613 - val_accuracy: 0.4788\n",
      "Epoch 7/200\n",
      "429/429 [==============================] - 17s 39ms/step - loss: 1.4089 - accuracy: 0.4529 - val_loss: 1.3450 - val_accuracy: 0.4858\n",
      "Epoch 8/200\n",
      "429/429 [==============================] - 17s 39ms/step - loss: 1.3894 - accuracy: 0.4609 - val_loss: 1.3575 - val_accuracy: 0.4670\n",
      "Epoch 9/200\n",
      "429/429 [==============================] - 16s 38ms/step - loss: 1.3704 - accuracy: 0.4774 - val_loss: 1.3064 - val_accuracy: 0.5024\n",
      "Epoch 10/200\n",
      "429/429 [==============================] - 17s 40ms/step - loss: 1.3571 - accuracy: 0.4796 - val_loss: 1.3285 - val_accuracy: 0.4764\n",
      "Epoch 11/200\n",
      "429/429 [==============================] - 17s 38ms/step - loss: 1.3194 - accuracy: 0.4939 - val_loss: 1.2774 - val_accuracy: 0.5165\n",
      "Epoch 12/200\n",
      "429/429 [==============================] - 16s 38ms/step - loss: 1.3272 - accuracy: 0.4845 - val_loss: 1.2795 - val_accuracy: 0.5212\n",
      "Epoch 13/200\n",
      "429/429 [==============================] - 17s 40ms/step - loss: 1.3324 - accuracy: 0.4762 - val_loss: 1.2918 - val_accuracy: 0.5330\n",
      "Epoch 14/200\n",
      "429/429 [==============================] - 17s 39ms/step - loss: 1.3203 - accuracy: 0.5092 - val_loss: 1.2643 - val_accuracy: 0.4693\n",
      "Epoch 15/200\n",
      "429/429 [==============================] - 17s 39ms/step - loss: 1.2977 - accuracy: 0.5122 - val_loss: 1.2315 - val_accuracy: 0.5307\n",
      "Epoch 16/200\n",
      "429/429 [==============================] - 17s 39ms/step - loss: 1.3285 - accuracy: 0.4927 - val_loss: 1.2405 - val_accuracy: 0.5142\n",
      "Epoch 17/200\n",
      "429/429 [==============================] - 17s 39ms/step - loss: 1.3157 - accuracy: 0.4972 - val_loss: 1.2221 - val_accuracy: 0.5024\n",
      "Epoch 18/200\n",
      "429/429 [==============================] - 17s 41ms/step - loss: 1.3507 - accuracy: 0.4793 - val_loss: 1.2098 - val_accuracy: 0.5401\n",
      "Epoch 19/200\n",
      "429/429 [==============================] - 17s 40ms/step - loss: 1.3091 - accuracy: 0.5126 - val_loss: 1.1757 - val_accuracy: 0.5377\n",
      "Epoch 20/200\n",
      "429/429 [==============================] - 17s 39ms/step - loss: 1.2842 - accuracy: 0.5139 - val_loss: 1.2577 - val_accuracy: 0.5118\n",
      "Epoch 21/200\n",
      "429/429 [==============================] - 17s 40ms/step - loss: 1.2582 - accuracy: 0.5235 - val_loss: 1.2197 - val_accuracy: 0.5566\n",
      "Epoch 22/200\n",
      "429/429 [==============================] - 17s 39ms/step - loss: 1.3208 - accuracy: 0.5027 - val_loss: 1.2810 - val_accuracy: 0.5047\n",
      "Epoch 23/200\n",
      "429/429 [==============================] - 18s 41ms/step - loss: 1.2523 - accuracy: 0.5274 - val_loss: 1.2540 - val_accuracy: 0.5377\n",
      "Epoch 24/200\n",
      "429/429 [==============================] - 16s 38ms/step - loss: 1.2618 - accuracy: 0.5287 - val_loss: 1.1872 - val_accuracy: 0.5802\n",
      "Epoch 25/200\n",
      "429/429 [==============================] - 17s 41ms/step - loss: 1.2957 - accuracy: 0.5219 - val_loss: 1.1721 - val_accuracy: 0.5566\n",
      "Epoch 26/200\n",
      "429/429 [==============================] - 16s 38ms/step - loss: 1.2708 - accuracy: 0.5231 - val_loss: 1.1426 - val_accuracy: 0.5590\n",
      "Epoch 27/200\n",
      "429/429 [==============================] - 16s 38ms/step - loss: 1.2351 - accuracy: 0.5108 - val_loss: 1.2077 - val_accuracy: 0.5307\n",
      "Epoch 28/200\n",
      "429/429 [==============================] - 17s 40ms/step - loss: 1.2757 - accuracy: 0.5064 - val_loss: 1.1593 - val_accuracy: 0.5613\n",
      "Epoch 29/200\n",
      "429/429 [==============================] - 16s 38ms/step - loss: 1.2373 - accuracy: 0.5272 - val_loss: 1.1644 - val_accuracy: 0.5542\n",
      "Epoch 30/200\n",
      "429/429 [==============================] - 17s 40ms/step - loss: 1.2485 - accuracy: 0.5270 - val_loss: 1.1976 - val_accuracy: 0.5330\n",
      "Epoch 31/200\n",
      "429/429 [==============================] - 16s 38ms/step - loss: 1.2712 - accuracy: 0.4987 - val_loss: 1.1671 - val_accuracy: 0.5542\n",
      "Epoch 32/200\n",
      "429/429 [==============================] - 17s 40ms/step - loss: 1.2136 - accuracy: 0.5426 - val_loss: 1.1357 - val_accuracy: 0.5802\n",
      "Epoch 33/200\n",
      "429/429 [==============================] - 16s 36ms/step - loss: 1.2269 - accuracy: 0.5398 - val_loss: 1.1402 - val_accuracy: 0.5401\n",
      "Epoch 34/200\n",
      "429/429 [==============================] - 17s 40ms/step - loss: 1.2523 - accuracy: 0.5355 - val_loss: 1.2219 - val_accuracy: 0.5118\n"
     ]
    }
   ],
   "source": [
    "# Train the model\n",
    "tl_history = tl_model.fit(\n",
    "    x = train_gen,\n",
    "    batch_size = 256,\n",
    "    epochs = 200,\n",
    "    validation_data = valid_gen,\n",
    "    callbacks = callbacks,\n",
    "    #callbacks = [tfk.callbacks.EarlyStopping(monitor='val_accuracy', mode='max', patience=10, restore_best_weights=True)],\n",
    ").history"
   ]
  },
  {
   "cell_type": "code",
   "execution_count": 19,
   "id": "70356102",
   "metadata": {
    "execution": {
     "iopub.execute_input": "2022-11-14T19:44:10.746454Z",
     "iopub.status.busy": "2022-11-14T19:44:10.745364Z",
     "iopub.status.idle": "2022-11-14T19:44:11.260527Z",
     "shell.execute_reply": "2022-11-14T19:44:11.260973Z",
     "shell.execute_reply.started": "2022-11-12T16:17:05.567415Z"
    },
    "papermill": {
     "duration": 2.572446,
     "end_time": "2022-11-14T19:44:11.261135",
     "exception": false,
     "start_time": "2022-11-14T19:44:08.688689",
     "status": "completed"
    },
    "tags": []
   },
   "outputs": [
    {
     "data": {
      "image/png": "[encoded data removed]",
      "text/plain": [
       "<Figure size 1080x360 with 1 Axes>"
      ]
     },
     "metadata": {
      "needs_background": "light"
     },
     "output_type": "display_data"
    },
    {
     "data": {
      "image/png": "[encoded data removed]",
      "text/plain": [
       "<Figure size 1080x360 with 1 Axes>"
      ]
     },
     "metadata": {
      "needs_background": "light"
     },
     "output_type": "display_data"
    }
   ],
   "source": [
    "# Plot the training\n",
    "plt.figure(figsize=(15,5))\n",
    "plt.plot(tl_history['loss'], alpha=.3, color='#ff7f0e', linestyle='--')\n",
    "plt.plot(tl_history['val_loss'], label='Standard', alpha=.8, color='#ff7f0e')\n",
    "plt.plot(tl_history['loss'], alpha=.3, color='#4D61E2', linestyle='--')\n",
    "plt.plot(tl_history['val_loss'], label='Transfer Learning', alpha=.8, color='#4D61E2')\n",
    "plt.legend(loc='upper left')\n",
    "plt.title('Categorical Crossentropy')\n",
    "plt.grid(alpha=.3)\n",
    "\n",
    "plt.figure(figsize=(15,5))\n",
    "plt.plot(tl_history['accuracy'], alpha=.3, color='#ff7f0e', linestyle='--')\n",
    "plt.plot(tl_history['val_accuracy'], label='Standard', alpha=.8, color='#ff7f0e')\n",
    "plt.plot(tl_history['accuracy'], alpha=.3, color='#4D61E2', linestyle='--')\n",
    "plt.plot(tl_history['val_accuracy'], label='Transfer Learning', alpha=.8, color='#4D61E2')\n",
    "plt.legend(loc='upper left')\n",
    "plt.title('Accuracy')\n",
    "plt.grid(alpha=.3)\n",
    "\n",
    "plt.show()"
   ]
  },
  {
   "cell_type": "code",
   "execution_count": 20,
   "id": "2ba6b93e",
   "metadata": {
    "execution": {
     "iopub.execute_input": "2022-11-14T19:44:15.625788Z",
     "iopub.status.busy": "2022-11-14T19:44:15.625029Z",
     "iopub.status.idle": "2022-11-12T16:22:31.509171Z",
     "shell.execute_reply": "2022-11-12T16:22:31.507552Z",
     "shell.execute_reply.started": "2022-11-12T16:22:31.478999Z"
    },
    "papermill": {
     "duration": 444.474007,
     "end_time": "2022-11-14T19:51:38.053174",
     "exception": false,
     "start_time": "2022-11-14T19:44:13.579167",
     "status": "completed"
    },
    "tags": []
   },
   "outputs": [],
   "source": [
    "# Predict the test set with the CNN\n",
    "predictions = tl_model.predict(test_gen)\n",
    "predictions.shape\n",
    "\n",
    "# Compute the confusion matrix\n",
    "cm = confusion_matrix(np.argmax(test_gen, axis=-1), np.argmax(predictions, axis=-1))\n",
    "\n",
    "# Compute the classification metrics\n",
    "accuracy = accuracy_score(np.argmax(test_gen, axis=-1), np.argmax(predictions, axis=-1))\n",
    "precision = precision_score(np.argmax(test_gen, axis=-1), np.argmax(predictions, axis=-1), average='macro')\n",
    "recall = recall_score(np.argmax(test_gen, axis=-1), np.argmax(predictions, axis=-1), average='macro')\n",
    "f1 = f1_score(np.argmax(test_gen, axis=-1), np.argmax(predictions, axis=-1), average='macro')\n",
    "print('Accuracy:',accuracy.round(4))\n",
    "print('Precision:',precision.round(4))\n",
    "print('Recall:',recall.round(4))\n",
    "print('F1:',f1.round(4))\n",
    "\n",
    "# Plot the confusion matrix\n",
    "labels = {\n",
    "    0:'Species1', \n",
    "    1:'Species2', \n",
    "    2:'Species3', \n",
    "    3:'Species4', \n",
    "    4:'Species5', \n",
    "    5:'Species6', \n",
    "    6:'Species7', \n",
    "    7:'Species8'\n",
    "}\n",
    "plt.figure(figsize=(10,8))\n",
    "sns.heatmap(cm.T, xticklabels=list(labels.values()), yticklabels=list(labels.values()))\n",
    "plt.xlabel('True labels')\n",
    "plt.ylabel('Predicted labels')\n",
    "plt.show()"
   ]
  },
  {
   "cell_type": "code",
   "execution_count": null,
   "id": "e4f800e1",
   "metadata": {
    "execution": {
     "iopub.execute_input": "2022-11-12T16:21:59.240427Z",
     "iopub.status.busy": "2022-11-12T16:21:59.240039Z",
     "iopub.status.idle": "2022-11-12T16:22:02.506549Z",
     "shell.execute_reply": "2022-11-12T16:22:02.505472Z",
     "shell.execute_reply.started": "2022-11-12T16:21:59.240395Z"
    },
    "papermill": {
     "duration": null,
     "end_time": null,
     "exception": null,
     "start_time": null,
     "status": "completed"
    },
    "tags": []
   },
   "outputs": [],
   "source": [
    "# Save the best model\n",
    "tl_model.save('VGG16_best')\n",
    "del tl_model"
   ]
  }
 ],
 "metadata": {
  "kernelspec": {
   "display_name": "Python 3",
   "language": "python",
   "name": "python3"
  },
  "language_info": {
   "codemirror_mode": {
    "name": "ipython",
    "version": 3
   },
   "file_extension": ".py",
   "mimetype": "text/x-python",
   "name": "python",
   "nbconvert_exporter": "python",
   "pygments_lexer": "ipython3",
   "version": "3.6.4"
  },
  "papermill": {
   "default_parameters": {},
   "duration": 1128.484092,
   "end_time": "2022-11-14T19:51:41.088510",
   "environment_variables": {},
   "exception": null,
   "input_path": "__notebook__.ipynb",
   "output_path": "__notebook__.ipynb",
   "parameters": {},
   "start_time": "2022-11-14T19:32:52.604418",
   "version": "2.3.3"
  }
 },
 "nbformat": 4,
 "nbformat_minor": 5
}
