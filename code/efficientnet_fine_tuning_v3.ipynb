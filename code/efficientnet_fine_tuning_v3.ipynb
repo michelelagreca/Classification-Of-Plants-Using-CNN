{
 "cells": [
  {
   "cell_type": "markdown",
   "id": "e3bf9240",
   "metadata": {
    "papermill": {
     "duration": 0.007869,
     "end_time": "2022-11-19T16:12:40.263352",
     "exception": false,
     "start_time": "2022-11-19T16:12:40.255483",
     "status": "completed"
    },
    "tags": []
   },
   "source": [
    "## Prelimiary Operations"
   ]
  },
  {
   "cell_type": "markdown",
   "id": "8359e111",
   "metadata": {
    "papermill": {
     "duration": 0.011524,
     "end_time": "2022-11-19T16:12:40.287117",
     "exception": false,
     "start_time": "2022-11-19T16:12:40.275593",
     "status": "completed"
    },
    "tags": []
   },
   "source": [
    "### Useful operations"
   ]
  },
  {
   "cell_type": "code",
   "execution_count": 1,
   "id": "79eac4a6",
   "metadata": {
    "execution": {
     "iopub.execute_input": "2022-11-19T16:12:40.316195Z",
     "iopub.status.busy": "2022-11-19T16:12:40.315627Z",
     "iopub.status.idle": "2022-11-19T16:12:40.333292Z",
     "shell.execute_reply": "2022-11-19T16:12:40.332386Z"
    },
    "papermill": {
     "duration": 0.041746,
     "end_time": "2022-11-19T16:12:40.339189",
     "exception": false,
     "start_time": "2022-11-19T16:12:40.297443",
     "status": "completed"
    },
    "tags": []
   },
   "outputs": [],
   "source": [
    "import os\n",
    "import shutil\n",
    "if os.path.exists(\"/kaggle/working/andrea\"):\n",
    "    shutil.rmtree(\"/kaggle/working/andrea\")"
   ]
  },
  {
   "cell_type": "code",
   "execution_count": 2,
   "id": "8822506e",
   "metadata": {
    "execution": {
     "iopub.execute_input": "2022-11-19T16:12:40.354287Z",
     "iopub.status.busy": "2022-11-19T16:12:40.353994Z",
     "iopub.status.idle": "2022-11-19T16:12:40.358497Z",
     "shell.execute_reply": "2022-11-19T16:12:40.357470Z"
    },
    "papermill": {
     "duration": 0.014448,
     "end_time": "2022-11-19T16:12:40.360634",
     "exception": false,
     "start_time": "2022-11-19T16:12:40.346186",
     "status": "completed"
    },
    "tags": []
   },
   "outputs": [],
   "source": [
    "if os.path.exists(\"/kaggle/working/EfficientNet_experiments\"):\n",
    "    shutil.rmtree(\"/kaggle/working/EfficientNet_experiments\")"
   ]
  },
  {
   "cell_type": "code",
   "execution_count": 3,
   "id": "16a09ffe",
   "metadata": {
    "execution": {
     "iopub.execute_input": "2022-11-19T16:12:40.376287Z",
     "iopub.status.busy": "2022-11-19T16:12:40.375396Z",
     "iopub.status.idle": "2022-11-19T16:12:40.380439Z",
     "shell.execute_reply": "2022-11-19T16:12:40.379498Z"
    },
    "papermill": {
     "duration": 0.015007,
     "end_time": "2022-11-19T16:12:40.382617",
     "exception": false,
     "start_time": "2022-11-19T16:12:40.367610",
     "status": "completed"
    },
    "tags": []
   },
   "outputs": [],
   "source": [
    "if os.path.exists(\"/kaggle/working/EfficientNet\"):\n",
    "    shutil.rmtree(\"/kaggle/working/EfficientNet\")"
   ]
  },
  {
   "cell_type": "code",
   "execution_count": 4,
   "id": "ac3d1a17",
   "metadata": {
    "execution": {
     "iopub.execute_input": "2022-11-19T16:12:40.399179Z",
     "iopub.status.busy": "2022-11-19T16:12:40.398400Z",
     "iopub.status.idle": "2022-11-19T16:12:40.402919Z",
     "shell.execute_reply": "2022-11-19T16:12:40.402042Z"
    },
    "papermill": {
     "duration": 0.015343,
     "end_time": "2022-11-19T16:12:40.404816",
     "exception": false,
     "start_time": "2022-11-19T16:12:40.389473",
     "status": "completed"
    },
    "tags": []
   },
   "outputs": [],
   "source": [
    "# to remove a file\n",
    "import os\n",
    "if os.path.exists(\"/kaggle/working/model.png\"):\n",
    "    os.remove(\"/kaggle/working/model.png\")"
   ]
  },
  {
   "cell_type": "code",
   "execution_count": 5,
   "id": "76eb4f8a",
   "metadata": {
    "execution": {
     "iopub.execute_input": "2022-11-19T16:12:40.419082Z",
     "iopub.status.busy": "2022-11-19T16:12:40.418805Z",
     "iopub.status.idle": "2022-11-19T16:12:40.425040Z",
     "shell.execute_reply": "2022-11-19T16:12:40.422590Z"
    },
    "papermill": {
     "duration": 0.019927,
     "end_time": "2022-11-19T16:12:40.431276",
     "exception": false,
     "start_time": "2022-11-19T16:12:40.411349",
     "status": "completed"
    },
    "tags": []
   },
   "outputs": [],
   "source": [
    "# to create a folder\n",
    "import os\n",
    "directory = \"EfficientNet\"\n",
    "parent_dir = \"/kaggle/working\"\n",
    "path = os.path.join(parent_dir, directory)\n",
    "if not os.path.exists(path):\n",
    "    os.mkdir(path)"
   ]
  },
  {
   "cell_type": "markdown",
   "id": "d80cb97c",
   "metadata": {
    "papermill": {
     "duration": 0.009662,
     "end_time": "2022-11-19T16:12:40.454131",
     "exception": false,
     "start_time": "2022-11-19T16:12:40.444469",
     "status": "completed"
    },
    "tags": []
   },
   "source": [
    "### Operations"
   ]
  },
  {
   "cell_type": "code",
   "execution_count": 6,
   "id": "ef429828",
   "metadata": {
    "execution": {
     "iopub.execute_input": "2022-11-19T16:12:40.479273Z",
     "iopub.status.busy": "2022-11-19T16:12:40.478920Z",
     "iopub.status.idle": "2022-11-19T16:12:46.755567Z",
     "shell.execute_reply": "2022-11-19T16:12:46.754578Z"
    },
    "papermill": {
     "duration": 6.291414,
     "end_time": "2022-11-19T16:12:46.758033",
     "exception": false,
     "start_time": "2022-11-19T16:12:40.466619",
     "status": "completed"
    },
    "tags": []
   },
   "outputs": [],
   "source": [
    "import tensorflow as tf\n",
    "import numpy as np\n",
    "import os\n",
    "import random\n",
    "import pandas as pd\n",
    "import seaborn as sns\n",
    "import matplotlib as mpl\n",
    "import matplotlib.pyplot as plt\n",
    "from sklearn.model_selection import train_test_split\n",
    "from sklearn.metrics import accuracy_score, f1_score, precision_score, recall_score\n",
    "from sklearn.metrics import confusion_matrix\n",
    "from PIL import Image\n",
    "\n",
    "tfk = tf.keras\n",
    "tfkl = tf.keras.layers"
   ]
  },
  {
   "cell_type": "code",
   "execution_count": 7,
   "id": "f2f46b30",
   "metadata": {
    "execution": {
     "iopub.execute_input": "2022-11-19T16:12:46.774910Z",
     "iopub.status.busy": "2022-11-19T16:12:46.773055Z",
     "iopub.status.idle": "2022-11-19T16:12:46.779933Z",
     "shell.execute_reply": "2022-11-19T16:12:46.778926Z"
    },
    "papermill": {
     "duration": 0.016857,
     "end_time": "2022-11-19T16:12:46.781848",
     "exception": false,
     "start_time": "2022-11-19T16:12:46.764991",
     "status": "completed"
    },
    "tags": []
   },
   "outputs": [],
   "source": [
    "# Random seed for reproducibility\n",
    "seed = 42\n",
    "\n",
    "random.seed(seed)\n",
    "os.environ['PYTHONHASHSEED'] = str(seed)\n",
    "np.random.seed(seed)\n",
    "tf.random.set_seed(seed)\n",
    "tf.compat.v1.set_random_seed(seed)"
   ]
  },
  {
   "cell_type": "code",
   "execution_count": 8,
   "id": "ffdd4a45",
   "metadata": {
    "execution": {
     "iopub.execute_input": "2022-11-19T16:12:46.797626Z",
     "iopub.status.busy": "2022-11-19T16:12:46.796094Z",
     "iopub.status.idle": "2022-11-19T16:12:46.803530Z",
     "shell.execute_reply": "2022-11-19T16:12:46.802725Z"
    },
    "papermill": {
     "duration": 0.016779,
     "end_time": "2022-11-19T16:12:46.805345",
     "exception": false,
     "start_time": "2022-11-19T16:12:46.788566",
     "status": "completed"
    },
    "tags": []
   },
   "outputs": [],
   "source": [
    "import warnings\n",
    "import logging\n",
    "\n",
    "os.environ['TF_CPP_MIN_LOG_LEVEL'] = '2'\n",
    "warnings.simplefilter(action='ignore', category=FutureWarning)\n",
    "warnings.simplefilter(action='ignore', category=Warning)\n",
    "tf.get_logger().setLevel('INFO')\n",
    "tf.autograph.set_verbosity(0)\n",
    "\n",
    "tf.get_logger().setLevel(logging.ERROR)\n",
    "tf.get_logger().setLevel('ERROR')\n",
    "tf.compat.v1.logging.set_verbosity(tf.compat.v1.logging.ERROR)"
   ]
  },
  {
   "cell_type": "markdown",
   "id": "3206e35a",
   "metadata": {
    "papermill": {
     "duration": 0.006297,
     "end_time": "2022-11-19T16:12:46.818477",
     "exception": false,
     "start_time": "2022-11-19T16:12:46.812180",
     "status": "completed"
    },
    "tags": []
   },
   "source": [
    "## Importing data"
   ]
  },
  {
   "cell_type": "code",
   "execution_count": 9,
   "id": "5c900586",
   "metadata": {
    "execution": {
     "iopub.execute_input": "2022-11-19T16:12:46.833317Z",
     "iopub.status.busy": "2022-11-19T16:12:46.832502Z",
     "iopub.status.idle": "2022-11-19T16:12:46.837188Z",
     "shell.execute_reply": "2022-11-19T16:12:46.836373Z"
    },
    "papermill": {
     "duration": 0.014127,
     "end_time": "2022-11-19T16:12:46.839152",
     "exception": false,
     "start_time": "2022-11-19T16:12:46.825025",
     "status": "completed"
    },
    "tags": []
   },
   "outputs": [],
   "source": [
    "labels = ['Species1',   # 0\n",
    "          'Species2',   # 1\n",
    "          'Species3',   # 2\n",
    "          'Species4',   # 3\n",
    "          'Species5',   # 4\n",
    "          'Species6',   # 5\n",
    "          'Species7',   # 6\n",
    "          'Species8']   # 7"
   ]
  },
  {
   "cell_type": "code",
   "execution_count": 10,
   "id": "f10c83f3",
   "metadata": {
    "execution": {
     "iopub.execute_input": "2022-11-19T16:12:46.854510Z",
     "iopub.status.busy": "2022-11-19T16:12:46.853032Z",
     "iopub.status.idle": "2022-11-19T16:12:46.857984Z",
     "shell.execute_reply": "2022-11-19T16:12:46.857173Z"
    },
    "papermill": {
     "duration": 0.014336,
     "end_time": "2022-11-19T16:12:46.859942",
     "exception": false,
     "start_time": "2022-11-19T16:12:46.845606",
     "status": "completed"
    },
    "tags": []
   },
   "outputs": [],
   "source": [
    "# Dataset folders \n",
    "dataset_dir = \"../input/splitted-dataset-no-test/splitted_dataset_no_test\"\n",
    "training_dir = os.path.join(dataset_dir, 'train')\n",
    "validation_dir = os.path.join(dataset_dir, 'val')"
   ]
  },
  {
   "cell_type": "code",
   "execution_count": 11,
   "id": "10f3e887",
   "metadata": {
    "execution": {
     "iopub.execute_input": "2022-11-19T16:12:46.875282Z",
     "iopub.status.busy": "2022-11-19T16:12:46.873878Z",
     "iopub.status.idle": "2022-11-19T16:12:47.617159Z",
     "shell.execute_reply": "2022-11-19T16:12:47.615847Z"
    },
    "papermill": {
     "duration": 0.753062,
     "end_time": "2022-11-19T16:12:47.619507",
     "exception": false,
     "start_time": "2022-11-19T16:12:46.866445",
     "status": "completed"
    },
    "tags": []
   },
   "outputs": [
    {
     "name": "stdout",
     "output_type": "stream",
     "text": [
      "Found 3432 images belonging to 8 classes.\n",
      "Found 864 images belonging to 8 classes.\n"
     ]
    }
   ],
   "source": [
    "# Images are divided into folders, one for each class. \n",
    "# If the images are organized in such a way, we can exploit the \n",
    "# ImageDataGenerator to read them from disk.\n",
    "from tensorflow.keras.preprocessing.image import ImageDataGenerator\n",
    "\n",
    "# Create an instance of ImageDataGenerator, and for the trainign with Data Augmentation\n",
    "\n",
    "# Use this for data augmentation\n",
    "train_data_gen = ImageDataGenerator(rotation_range=15,\n",
    "                                        height_shift_range=0.2,\n",
    "                                        width_shift_range=0.2,\n",
    "                                        zoom_range=0.1,\n",
    "                                        shear_range=0.2,\n",
    "                                        horizontal_flip=True,\n",
    "                                        fill_mode='reflect')\n",
    "\n",
    "\n",
    "# Use this for no augmentation\n",
    "#train_data_gen = ImageDataGenerator()\n",
    "valid_data_gen = ImageDataGenerator()\n",
    "\n",
    "# Obtain a data generator with the 'ImageDataGenerator.flow_from_directory' method\n",
    "train_gen = train_data_gen.flow_from_directory(directory=training_dir,\n",
    "                                                       target_size=(96,96),\n",
    "                                                       color_mode='rgb',\n",
    "                                                       classes=None, # can be set to labels\n",
    "                                                       class_mode='categorical',\n",
    "                                                       batch_size=8,\n",
    "                                                       shuffle=True,\n",
    "                                                       seed=seed)\n",
    "\n",
    "valid_gen = valid_data_gen.flow_from_directory(directory=validation_dir,\n",
    "                                               target_size=(96,96),\n",
    "                                               color_mode='rgb',\n",
    "                                               classes=None, # can be set to labels\n",
    "                                               class_mode='categorical',\n",
    "                                               batch_size=8,\n",
    "                                               shuffle=False,\n",
    "                                               seed=seed)"
   ]
  },
  {
   "cell_type": "markdown",
   "id": "04899aae",
   "metadata": {
    "papermill": {
     "duration": 0.006375,
     "end_time": "2022-11-19T16:12:47.675454",
     "exception": false,
     "start_time": "2022-11-19T16:12:47.669079",
     "status": "completed"
    },
    "tags": []
   },
   "source": [
    "## Model"
   ]
  },
  {
   "cell_type": "code",
   "execution_count": 14,
   "id": "52ea8212",
   "metadata": {
    "execution": {
     "iopub.execute_input": "2022-11-19T16:12:47.690668Z",
     "iopub.status.busy": "2022-11-19T16:12:47.689883Z",
     "iopub.status.idle": "2022-11-19T16:12:48.640129Z",
     "shell.execute_reply": "2022-11-19T16:12:48.638955Z"
    },
    "papermill": {
     "duration": 0.960018,
     "end_time": "2022-11-19T16:12:48.642414",
     "exception": false,
     "start_time": "2022-11-19T16:12:47.682396",
     "status": "completed"
    },
    "tags": []
   },
   "outputs": [
    {
     "name": "stdout",
     "output_type": "stream",
     "text": [
      "/bin/bash: line 0: cd: /kaggle/working/EfficieNet: No such file or directory\r\n"
     ]
    }
   ],
   "source": [
    "!cd /kaggle/working/EfficieNet"
   ]
  },
  {
   "cell_type": "code",
   "execution_count": 16,
   "id": "c7a6977e",
   "metadata": {
    "execution": {
     "iopub.execute_input": "2022-11-19T16:12:48.679152Z",
     "iopub.status.busy": "2022-11-19T16:12:48.678375Z",
     "iopub.status.idle": "2022-11-19T16:12:53.200131Z",
     "shell.execute_reply": "2022-11-19T16:12:53.199143Z"
    },
    "papermill": {
     "duration": 4.532,
     "end_time": "2022-11-19T16:12:53.202802",
     "exception": false,
     "start_time": "2022-11-19T16:12:48.670802",
     "status": "completed"
    },
    "tags": []
   },
   "outputs": [
    {
     "name": "stdout",
     "output_type": "stream",
     "text": [
      "Downloading data from https://storage.googleapis.com/keras-applications/efficientnetb0_notop.h5\n",
      "16711680/16705208 [==============================] - 0s 0us/step\n",
      "16719872/16705208 [==============================] - 0s 0us/step\n"
     ]
    }
   ],
   "source": [
    "# Download and plot the EfficientNet model\n",
    "eff_net = tfk.applications.efficientnet.EfficientNetB0(\n",
    "    include_top=False,\n",
    "    weights='imagenet',\n",
    "    input_shape=(96,96,3),\n",
    ")\n",
    "\n",
    "eff_net.trainable = False # we are freezing the weights of the conv part, so that they are not updated\n",
    "                            # during the training\n",
    "#tfk.utils.plot_model(eff_net)"
   ]
  },
  {
   "cell_type": "code",
   "execution_count": 17,
   "id": "84b7ee02",
   "metadata": {
    "execution": {
     "iopub.execute_input": "2022-11-19T16:12:53.218494Z",
     "iopub.status.busy": "2022-11-19T16:12:53.218205Z",
     "iopub.status.idle": "2022-11-19T16:12:53.223409Z",
     "shell.execute_reply": "2022-11-19T16:12:53.222573Z"
    },
    "papermill": {
     "duration": 0.015211,
     "end_time": "2022-11-19T16:12:53.225439",
     "exception": false,
     "start_time": "2022-11-19T16:12:53.210228",
     "status": "completed"
    },
    "tags": []
   },
   "outputs": [],
   "source": [
    "input_shape = (96, 96, 3)\n",
    "epochs = 500\n",
    "learning_rate = 1e-2\n",
    "l1=0\n",
    "l2=0"
   ]
  },
  {
   "cell_type": "code",
   "execution_count": 18,
   "id": "c74404cc",
   "metadata": {
    "execution": {
     "iopub.execute_input": "2022-11-19T16:12:53.240474Z",
     "iopub.status.busy": "2022-11-19T16:12:53.240205Z",
     "iopub.status.idle": "2022-11-19T16:12:53.247567Z",
     "shell.execute_reply": "2022-11-19T16:12:53.246663Z"
    },
    "papermill": {
     "duration": 0.01718,
     "end_time": "2022-11-19T16:12:53.249568",
     "exception": false,
     "start_time": "2022-11-19T16:12:53.232388",
     "status": "completed"
    },
    "tags": []
   },
   "outputs": [],
   "source": [
    "# Some layers are commented due to the several trials.\n",
    "\n",
    "def build_model(input_shape):\n",
    "\n",
    "    # Build the neural network layer by layer\n",
    "    input_layer = tfkl.Input(shape=input_shape, name='input_layer')\n",
    "    \n",
    "    #x = tfkl.Resizing(64, 64, interpolation=\"bicubic\", name='resizing')(input_layer)\n",
    "    efficient_net = eff_net(input_layer)\n",
    "    \n",
    "    #x = tfkl.Flatten()(efficient_net)\n",
    "    x = tfkl.GlobalAveragePooling2D()(efficient_net)\n",
    "    #x = tfkl.Dropout(0.2, seed=seed)(x)\n",
    "    x = tfkl.Dense(units=512, name='classifier1', \n",
    "                   kernel_initializer=tfk.initializers.HeUniform(seed),\n",
    "                   activation='relu',\n",
    "                   kernel_regularizer=tfk.regularizers.L1L2(l1=l1, l2=l2))(x)\n",
    "    #x = tfkl.BatchNormalization()(x)\n",
    "    x = tfkl.Dropout(0.3, seed=seed)(x)\n",
    "    output_layer = tfkl.Dense(\n",
    "        8, \n",
    "        activation='softmax',\n",
    "        kernel_initializer = tfk.initializers.GlorotUniform(seed))(x)\n",
    "        # Connect input and output through the Model class\n",
    "    model = tfk.Model(inputs=input_layer, outputs=output_layer, name='efficient_net_model')\n",
    "\n",
    "    # Compile the model\n",
    "    model.compile(loss=tfk.losses.CategoricalCrossentropy(), optimizer=tfk.optimizers.Adam(learning_rate), metrics='accuracy')\n",
    "\n",
    "    # Return the model\n",
    "    return model"
   ]
  },
  {
   "cell_type": "code",
   "execution_count": 19,
   "id": "ff2eff9c",
   "metadata": {
    "execution": {
     "iopub.execute_input": "2022-11-19T16:12:53.264394Z",
     "iopub.status.busy": "2022-11-19T16:12:53.264133Z",
     "iopub.status.idle": "2022-11-19T16:12:55.156029Z",
     "shell.execute_reply": "2022-11-19T16:12:55.154774Z"
    },
    "papermill": {
     "duration": 1.902339,
     "end_time": "2022-11-19T16:12:55.158701",
     "exception": false,
     "start_time": "2022-11-19T16:12:53.256362",
     "status": "completed"
    },
    "tags": []
   },
   "outputs": [
    {
     "name": "stdout",
     "output_type": "stream",
     "text": [
      "Model: \"efficient_net_model\"\n",
      "_________________________________________________________________\n",
      "Layer (type)                 Output Shape              Param #   \n",
      "=================================================================\n",
      "input_layer (InputLayer)     [(None, 96, 96, 3)]       0         \n",
      "_________________________________________________________________\n",
      "efficientnetb0 (Functional)  (None, 3, 3, 1280)        4049571   \n",
      "_________________________________________________________________\n",
      "global_average_pooling2d (Gl (None, 1280)              0         \n",
      "_________________________________________________________________\n",
      "classifier1 (Dense)          (None, 512)               655872    \n",
      "_________________________________________________________________\n",
      "dropout (Dropout)            (None, 512)               0         \n",
      "_________________________________________________________________\n",
      "dense (Dense)                (None, 8)                 4104      \n",
      "=================================================================\n",
      "Total params: 4,709,547\n",
      "Trainable params: 659,976\n",
      "Non-trainable params: 4,049,571\n",
      "_________________________________________________________________\n"
     ]
    },
    {
     "data": {
      "image/png": "[encoded data removed]",
      "text/plain": [
       "<IPython.core.display.Image object>"
      ]
     },
     "execution_count": 19,
     "metadata": {},
     "output_type": "execute_result"
    }
   ],
   "source": [
    "# Build model\n",
    "eff_net_model = build_model(input_shape)\n",
    "eff_net_model.summary()\n",
    "tfk.utils.plot_model(eff_net_model)"
   ]
  },
  {
   "cell_type": "code",
   "execution_count": 20,
   "id": "7667457d",
   "metadata": {
    "execution": {
     "iopub.execute_input": "2022-11-19T16:12:55.180844Z",
     "iopub.status.busy": "2022-11-19T16:12:55.179679Z",
     "iopub.status.idle": "2022-11-19T16:12:55.223627Z",
     "shell.execute_reply": "2022-11-19T16:12:55.222487Z"
    },
    "papermill": {
     "duration": 0.058637,
     "end_time": "2022-11-19T16:12:55.227261",
     "exception": false,
     "start_time": "2022-11-19T16:12:55.168624",
     "status": "completed"
    },
    "tags": []
   },
   "outputs": [
    {
     "name": "stdout",
     "output_type": "stream",
     "text": [
      "Model: \"efficient_net_model\"\n",
      "_________________________________________________________________\n",
      "Layer (type)                 Output Shape              Param #   \n",
      "=================================================================\n",
      "input_layer (InputLayer)     [(None, 96, 96, 3)]       0         \n",
      "_________________________________________________________________\n",
      "efficientnetb0 (Functional)  (None, 3, 3, 1280)        4049571   \n",
      "_________________________________________________________________\n",
      "global_average_pooling2d (Gl (None, 1280)              0         \n",
      "_________________________________________________________________\n",
      "classifier1 (Dense)          (None, 512)               655872    \n",
      "_________________________________________________________________\n",
      "dropout (Dropout)            (None, 512)               0         \n",
      "_________________________________________________________________\n",
      "dense (Dense)                (None, 8)                 4104      \n",
      "=================================================================\n",
      "Total params: 4,709,547\n",
      "Trainable params: 2,002,744\n",
      "Non-trainable params: 2,706,803\n",
      "_________________________________________________________________\n"
     ]
    }
   ],
   "source": [
    "# Phase 1: make learnable from layer 6d\n",
    "\n",
    "eff_net_model.get_layer('efficientnetb0').trainable = False\n",
    "eff_net.trainable = True\n",
    "set_trainable = False\n",
    "\n",
    "for layer in eff_net.layers:\n",
    "    if layer.name == 'block6d_se_excite':\n",
    "        set_trainable = True\n",
    "    if set_trainable:\n",
    "        if not isinstance(layer, tfkl.BatchNormalization):\n",
    "            layer.trainable = True\n",
    "        else:\n",
    "            layer.trainable = False\n",
    "    else:\n",
    "        layer.trainable = False\n",
    "        \n",
    "eff_net_model.summary()"
   ]
  },
  {
   "cell_type": "markdown",
   "id": "f9cd0737",
   "metadata": {
    "papermill": {
     "duration": 0.008745,
     "end_time": "2022-11-19T16:12:55.244503",
     "exception": false,
     "start_time": "2022-11-19T16:12:55.235758",
     "status": "completed"
    },
    "tags": []
   },
   "source": [
    "## Training"
   ]
  },
  {
   "cell_type": "code",
   "execution_count": 21,
   "id": "b1696f67",
   "metadata": {
    "execution": {
     "iopub.execute_input": "2022-11-19T16:12:55.265408Z",
     "iopub.status.busy": "2022-11-19T16:12:55.264054Z",
     "iopub.status.idle": "2022-11-19T16:12:55.269823Z",
     "shell.execute_reply": "2022-11-19T16:12:55.268929Z"
    },
    "papermill": {
     "duration": 0.018173,
     "end_time": "2022-11-19T16:12:55.272136",
     "exception": false,
     "start_time": "2022-11-19T16:12:55.253963",
     "status": "completed"
    },
    "tags": []
   },
   "outputs": [],
   "source": [
    "patience = 20"
   ]
  },
  {
   "cell_type": "code",
   "execution_count": 22,
   "id": "f6938f98",
   "metadata": {
    "execution": {
     "iopub.execute_input": "2022-11-19T16:12:55.291312Z",
     "iopub.status.busy": "2022-11-19T16:12:55.291008Z",
     "iopub.status.idle": "2022-11-19T16:12:55.296807Z",
     "shell.execute_reply": "2022-11-19T16:12:55.295665Z"
    },
    "papermill": {
     "duration": 0.017877,
     "end_time": "2022-11-19T16:12:55.299130",
     "exception": false,
     "start_time": "2022-11-19T16:12:55.281253",
     "status": "completed"
    },
    "tags": []
   },
   "outputs": [],
   "source": [
    "model_name = \"Efficient_net_fine_tuning\""
   ]
  },
  {
   "cell_type": "code",
   "execution_count": 23,
   "id": "91c5359d",
   "metadata": {
    "execution": {
     "iopub.execute_input": "2022-11-19T16:12:55.317149Z",
     "iopub.status.busy": "2022-11-19T16:12:55.316758Z",
     "iopub.status.idle": "2022-11-19T16:28:19.091445Z",
     "shell.execute_reply": "2022-11-19T16:28:19.090523Z"
    },
    "papermill": {
     "duration": 923.78619,
     "end_time": "2022-11-19T16:28:19.093811",
     "exception": false,
     "start_time": "2022-11-19T16:12:55.307621",
     "status": "completed"
    },
    "tags": []
   },
   "outputs": [
    {
     "name": "stdout",
     "output_type": "stream",
     "text": [
      "Epoch 1/50\n",
      "429/429 [==============================] - 42s 72ms/step - loss: 1.8653 - accuracy: 0.3951 - val_loss: 1.6206 - val_accuracy: 0.4711\n",
      "Epoch 2/50\n",
      "429/429 [==============================] - 16s 38ms/step - loss: 1.6460 - accuracy: 0.4248 - val_loss: 1.4340 - val_accuracy: 0.5093\n",
      "Epoch 3/50\n",
      "429/429 [==============================] - 16s 36ms/step - loss: 1.6577 - accuracy: 0.4307 - val_loss: 1.4759 - val_accuracy: 0.4919\n",
      "Epoch 4/50\n",
      "429/429 [==============================] - 16s 38ms/step - loss: 1.6004 - accuracy: 0.4473 - val_loss: 1.3625 - val_accuracy: 0.4988\n",
      "Epoch 5/50\n",
      "429/429 [==============================] - 16s 36ms/step - loss: 1.5442 - accuracy: 0.4580 - val_loss: 1.2524 - val_accuracy: 0.5347\n",
      "Epoch 6/50\n",
      "429/429 [==============================] - 16s 38ms/step - loss: 1.5756 - accuracy: 0.4467 - val_loss: 1.2811 - val_accuracy: 0.5440\n",
      "Epoch 7/50\n",
      "429/429 [==============================] - 17s 40ms/step - loss: 1.6478 - accuracy: 0.4510 - val_loss: 1.4647 - val_accuracy: 0.5498\n",
      "Epoch 8/50\n",
      "429/429 [==============================] - 17s 39ms/step - loss: 1.7010 - accuracy: 0.4747 - val_loss: 1.1560 - val_accuracy: 0.5880\n",
      "Epoch 9/50\n",
      "429/429 [==============================] - 16s 37ms/step - loss: 1.4458 - accuracy: 0.4805 - val_loss: 1.2290 - val_accuracy: 0.5995\n",
      "Epoch 10/50\n",
      "429/429 [==============================] - 16s 37ms/step - loss: 1.5260 - accuracy: 0.4834 - val_loss: 1.2219 - val_accuracy: 0.5949\n",
      "Epoch 11/50\n",
      "429/429 [==============================] - 17s 39ms/step - loss: 1.5087 - accuracy: 0.4921 - val_loss: 1.3310 - val_accuracy: 0.5417\n",
      "Epoch 12/50\n",
      "429/429 [==============================] - 16s 37ms/step - loss: 1.4702 - accuracy: 0.4886 - val_loss: 1.3592 - val_accuracy: 0.5613\n",
      "Epoch 13/50\n",
      "429/429 [==============================] - 17s 38ms/step - loss: 1.4379 - accuracy: 0.4918 - val_loss: 1.1717 - val_accuracy: 0.5891\n",
      "Epoch 14/50\n",
      "429/429 [==============================] - 18s 41ms/step - loss: 1.4588 - accuracy: 0.4953 - val_loss: 1.3043 - val_accuracy: 0.5694\n",
      "Epoch 15/50\n",
      "429/429 [==============================] - 16s 38ms/step - loss: 1.4876 - accuracy: 0.5009 - val_loss: 1.1449 - val_accuracy: 0.6215\n",
      "Epoch 16/50\n",
      "429/429 [==============================] - 16s 37ms/step - loss: 1.4352 - accuracy: 0.5047 - val_loss: 1.0882 - val_accuracy: 0.6204\n",
      "Epoch 17/50\n",
      "429/429 [==============================] - 16s 38ms/step - loss: 1.5139 - accuracy: 0.5064 - val_loss: 1.3628 - val_accuracy: 0.5625\n",
      "Epoch 18/50\n",
      "429/429 [==============================] - 16s 37ms/step - loss: 1.4763 - accuracy: 0.5003 - val_loss: 1.1890 - val_accuracy: 0.5764\n",
      "Epoch 19/50\n",
      "429/429 [==============================] - 16s 38ms/step - loss: 1.3775 - accuracy: 0.4977 - val_loss: 1.1806 - val_accuracy: 0.5822\n",
      "Epoch 20/50\n",
      "429/429 [==============================] - 16s 36ms/step - loss: 1.3564 - accuracy: 0.5172 - val_loss: 1.0742 - val_accuracy: 0.6250\n",
      "Epoch 21/50\n",
      "429/429 [==============================] - 16s 38ms/step - loss: 1.6959 - accuracy: 0.5259 - val_loss: 1.1613 - val_accuracy: 0.6076\n",
      "Epoch 22/50\n",
      "429/429 [==============================] - 17s 40ms/step - loss: 1.8321 - accuracy: 0.5195 - val_loss: 1.1722 - val_accuracy: 0.5775\n",
      "Epoch 23/50\n",
      "429/429 [==============================] - 16s 37ms/step - loss: 1.3753 - accuracy: 0.5262 - val_loss: 1.0727 - val_accuracy: 0.5972\n",
      "Epoch 24/50\n",
      "429/429 [==============================] - 24s 56ms/step - loss: 1.3868 - accuracy: 0.5198 - val_loss: 1.2620 - val_accuracy: 0.6111\n",
      "Epoch 25/50\n",
      "429/429 [==============================] - 15s 36ms/step - loss: 1.3331 - accuracy: 0.5271 - val_loss: 1.1269 - val_accuracy: 0.6308\n",
      "Epoch 26/50\n",
      "429/429 [==============================] - 23s 54ms/step - loss: 1.3611 - accuracy: 0.5399 - val_loss: 1.0851 - val_accuracy: 0.6007\n",
      "Epoch 27/50\n",
      "429/429 [==============================] - 18s 42ms/step - loss: 1.3912 - accuracy: 0.5227 - val_loss: 1.1947 - val_accuracy: 0.6377\n",
      "Epoch 28/50\n",
      "429/429 [==============================] - 24s 56ms/step - loss: 1.3120 - accuracy: 0.5329 - val_loss: 1.0478 - val_accuracy: 0.6308\n",
      "Epoch 29/50\n",
      "429/429 [==============================] - 22s 51ms/step - loss: 1.4007 - accuracy: 0.5277 - val_loss: 1.2188 - val_accuracy: 0.5972\n",
      "Epoch 30/50\n",
      "429/429 [==============================] - 17s 40ms/step - loss: 1.3992 - accuracy: 0.5355 - val_loss: 1.2342 - val_accuracy: 0.6227\n",
      "Epoch 31/50\n",
      "429/429 [==============================] - 24s 55ms/step - loss: 1.4131 - accuracy: 0.5347 - val_loss: 1.0161 - val_accuracy: 0.6215\n",
      "Epoch 32/50\n",
      "429/429 [==============================] - 16s 38ms/step - loss: 1.4380 - accuracy: 0.5315 - val_loss: 1.1569 - val_accuracy: 0.6204\n",
      "Epoch 33/50\n",
      "429/429 [==============================] - 20s 46ms/step - loss: 1.3654 - accuracy: 0.5294 - val_loss: 1.1336 - val_accuracy: 0.6296\n",
      "Epoch 34/50\n",
      "429/429 [==============================] - 15s 35ms/step - loss: 1.3402 - accuracy: 0.5367 - val_loss: 1.1146 - val_accuracy: 0.6458\n",
      "Epoch 35/50\n",
      "429/429 [==============================] - 21s 49ms/step - loss: 1.3210 - accuracy: 0.5475 - val_loss: 1.2292 - val_accuracy: 0.6134\n",
      "Epoch 36/50\n",
      "429/429 [==============================] - 16s 37ms/step - loss: 1.3219 - accuracy: 0.5329 - val_loss: 1.2436 - val_accuracy: 0.6088\n",
      "Epoch 37/50\n",
      "429/429 [==============================] - 21s 50ms/step - loss: 1.2918 - accuracy: 0.5358 - val_loss: 1.2355 - val_accuracy: 0.5903\n",
      "Epoch 38/50\n",
      "429/429 [==============================] - 17s 40ms/step - loss: 1.3817 - accuracy: 0.5271 - val_loss: 1.1108 - val_accuracy: 0.6273\n",
      "Epoch 39/50\n",
      "429/429 [==============================] - 15s 36ms/step - loss: 1.3708 - accuracy: 0.5323 - val_loss: 1.1144 - val_accuracy: 0.6319\n",
      "Epoch 40/50\n",
      "429/429 [==============================] - 16s 38ms/step - loss: 1.3070 - accuracy: 0.5256 - val_loss: 1.1894 - val_accuracy: 0.6088\n",
      "Epoch 41/50\n",
      "429/429 [==============================] - 16s 36ms/step - loss: 1.3509 - accuracy: 0.5355 - val_loss: 1.1851 - val_accuracy: 0.6400\n",
      "Epoch 42/50\n",
      "429/429 [==============================] - 16s 38ms/step - loss: 1.2667 - accuracy: 0.5475 - val_loss: 1.1479 - val_accuracy: 0.6319\n",
      "Epoch 43/50\n",
      "429/429 [==============================] - 16s 37ms/step - loss: 1.3126 - accuracy: 0.5355 - val_loss: 1.2035 - val_accuracy: 0.6262\n",
      "Epoch 44/50\n",
      "429/429 [==============================] - 16s 38ms/step - loss: 1.3187 - accuracy: 0.5463 - val_loss: 1.3287 - val_accuracy: 0.6285\n",
      "Epoch 45/50\n",
      "429/429 [==============================] - 16s 37ms/step - loss: 1.3158 - accuracy: 0.5326 - val_loss: 1.0947 - val_accuracy: 0.6609\n",
      "Epoch 46/50\n",
      "429/429 [==============================] - 16s 38ms/step - loss: 1.4301 - accuracy: 0.5306 - val_loss: 1.1813 - val_accuracy: 0.6204\n",
      "Epoch 47/50\n",
      "429/429 [==============================] - 18s 42ms/step - loss: 1.3455 - accuracy: 0.5422 - val_loss: 1.0452 - val_accuracy: 0.6424\n",
      "Epoch 48/50\n",
      "429/429 [==============================] - 17s 39ms/step - loss: 1.2962 - accuracy: 0.5414 - val_loss: 1.0787 - val_accuracy: 0.6493\n",
      "Epoch 49/50\n",
      "429/429 [==============================] - 16s 38ms/step - loss: 1.4397 - accuracy: 0.5163 - val_loss: 1.0987 - val_accuracy: 0.6400\n",
      "Epoch 50/50\n",
      "429/429 [==============================] - 16s 38ms/step - loss: 1.3397 - accuracy: 0.5204 - val_loss: 1.3250 - val_accuracy: 0.5938\n"
     ]
    }
   ],
   "source": [
    "# Phase 1 training\n",
    "eff_net_model_history = eff_net_model.fit(\n",
    "    x = train_gen,\n",
    "    batch_size = 256,\n",
    "    epochs = 50,\n",
    "    validation_data = valid_gen,\n",
    "    callbacks = [tfk.callbacks.EarlyStopping(monitor='val_accuracy', mode='max', patience=patience, restore_best_weights=True)],\n",
    ").history"
   ]
  },
  {
   "cell_type": "code",
   "execution_count": 24,
   "id": "56a85fe3",
   "metadata": {
    "execution": {
     "iopub.execute_input": "2022-11-19T16:28:20.363521Z",
     "iopub.status.busy": "2022-11-19T16:28:20.363159Z",
     "iopub.status.idle": "2022-11-19T16:28:20.386779Z",
     "shell.execute_reply": "2022-11-19T16:28:20.385114Z"
    },
    "papermill": {
     "duration": 0.642116,
     "end_time": "2022-11-19T16:28:20.389531",
     "exception": false,
     "start_time": "2022-11-19T16:28:19.747415",
     "status": "completed"
    },
    "tags": []
   },
   "outputs": [
    {
     "name": "stdout",
     "output_type": "stream",
     "text": [
      "Model: \"efficient_net_model\"\n",
      "_________________________________________________________________\n",
      "Layer (type)                 Output Shape              Param #   \n",
      "=================================================================\n",
      "input_layer (InputLayer)     [(None, 96, 96, 3)]       0         \n",
      "_________________________________________________________________\n",
      "efficientnetb0 (Functional)  (None, 3, 3, 1280)        4049571   \n",
      "_________________________________________________________________\n",
      "global_average_pooling2d (Gl (None, 1280)              0         \n",
      "_________________________________________________________________\n",
      "classifier1 (Dense)          (None, 512)               655872    \n",
      "_________________________________________________________________\n",
      "dropout (Dropout)            (None, 512)               0         \n",
      "_________________________________________________________________\n",
      "dense (Dense)                (None, 8)                 4104      \n",
      "=================================================================\n",
      "Total params: 4,709,547\n",
      "Trainable params: 4,667,524\n",
      "Non-trainable params: 42,023\n",
      "_________________________________________________________________\n"
     ]
    }
   ],
   "source": [
    "# Phase 2\n",
    "# Use this to make all the network trainable\n",
    "eff_net.trainable = True\n",
    "\n",
    "# Use this layers from 5a trainable\n",
    "\"\"\"\n",
    "set_trainable = False\n",
    "\n",
    "for layer in eff_net.layers:\n",
    "    if layer.name == 'block5a_se_excite':\n",
    "        set_trainable = True\n",
    "    if set_trainable:\n",
    "        if not isinstance(layer, tfkl.BatchNormalization):\n",
    "            layer.trainable = True\n",
    "        else:\n",
    "            layer.trainable = False\n",
    "    else:\n",
    "        layer.trainable = False\n",
    "\"\"\"\n",
    "eff_net_model.summary()\n"
   ]
  },
  {
   "cell_type": "code",
   "execution_count": 25,
   "id": "61f0c521",
   "metadata": {
    "execution": {
     "iopub.execute_input": "2022-11-19T16:28:21.655351Z",
     "iopub.status.busy": "2022-11-19T16:28:21.654981Z",
     "iopub.status.idle": "2022-11-19T16:28:21.668416Z",
     "shell.execute_reply": "2022-11-19T16:28:21.667564Z"
    },
    "papermill": {
     "duration": 0.620406,
     "end_time": "2022-11-19T16:28:21.670410",
     "exception": false,
     "start_time": "2022-11-19T16:28:21.050004",
     "status": "completed"
    },
    "tags": []
   },
   "outputs": [],
   "source": [
    "# Lower learning rate for phase 2\n",
    "learning_rate = 1e-4\n",
    "eff_net.compile(loss=tfk.losses.CategoricalCrossentropy(), optimizer=tfk.optimizers.Adam(learning_rate), metrics='accuracy')"
   ]
  },
  {
   "cell_type": "code",
   "execution_count": 26,
   "id": "1b3cebce",
   "metadata": {
    "execution": {
     "iopub.execute_input": "2022-11-19T16:28:22.929503Z",
     "iopub.status.busy": "2022-11-19T16:28:22.929126Z",
     "iopub.status.idle": "2022-11-19T16:41:09.690284Z",
     "shell.execute_reply": "2022-11-19T16:41:09.689268Z"
    },
    "papermill": {
     "duration": 767.370006,
     "end_time": "2022-11-19T16:41:09.692642",
     "exception": false,
     "start_time": "2022-11-19T16:28:22.322636",
     "status": "completed"
    },
    "tags": []
   },
   "outputs": [
    {
     "name": "stdout",
     "output_type": "stream",
     "text": [
      "Epoch 1/500\n",
      "429/429 [==============================] - 16s 37ms/step - loss: 1.3452 - accuracy: 0.5347 - val_loss: 1.1543 - val_accuracy: 0.6354\n",
      "Epoch 2/500\n",
      "429/429 [==============================] - 16s 38ms/step - loss: 1.3586 - accuracy: 0.5329 - val_loss: 1.1369 - val_accuracy: 0.6528\n",
      "Epoch 3/500\n",
      "429/429 [==============================] - 18s 42ms/step - loss: 1.3100 - accuracy: 0.5335 - val_loss: 1.0748 - val_accuracy: 0.6377\n",
      "Epoch 4/500\n",
      "429/429 [==============================] - 17s 40ms/step - loss: 1.2500 - accuracy: 0.5551 - val_loss: 1.1099 - val_accuracy: 0.6273\n",
      "Epoch 5/500\n",
      "429/429 [==============================] - 20s 46ms/step - loss: 1.4477 - accuracy: 0.5504 - val_loss: 1.0034 - val_accuracy: 0.6701\n",
      "Epoch 6/500\n",
      "429/429 [==============================] - 19s 44ms/step - loss: 1.5324 - accuracy: 0.5420 - val_loss: 1.3545 - val_accuracy: 0.6250\n",
      "Epoch 7/500\n",
      "429/429 [==============================] - 18s 42ms/step - loss: 1.5053 - accuracy: 0.5251 - val_loss: 1.2778 - val_accuracy: 0.6296\n",
      "Epoch 8/500\n",
      "429/429 [==============================] - 17s 39ms/step - loss: 1.3569 - accuracy: 0.5487 - val_loss: 1.2406 - val_accuracy: 0.5799\n",
      "Epoch 9/500\n",
      "429/429 [==============================] - 20s 47ms/step - loss: 1.3597 - accuracy: 0.5338 - val_loss: 1.1270 - val_accuracy: 0.6562\n",
      "Epoch 10/500\n",
      "429/429 [==============================] - 15s 36ms/step - loss: 1.3755 - accuracy: 0.5463 - val_loss: 1.2711 - val_accuracy: 0.6181\n",
      "Epoch 11/500\n",
      "429/429 [==============================] - 17s 39ms/step - loss: 1.3062 - accuracy: 0.5507 - val_loss: 1.2119 - val_accuracy: 0.6447\n",
      "Epoch 12/500\n",
      "429/429 [==============================] - 18s 42ms/step - loss: 1.3921 - accuracy: 0.5428 - val_loss: 1.2393 - val_accuracy: 0.6204\n",
      "Epoch 13/500\n",
      "429/429 [==============================] - 19s 45ms/step - loss: 1.3461 - accuracy: 0.5507 - val_loss: 1.2138 - val_accuracy: 0.6343\n",
      "Epoch 14/500\n",
      "429/429 [==============================] - 19s 44ms/step - loss: 1.3921 - accuracy: 0.5551 - val_loss: 1.1987 - val_accuracy: 0.6458\n",
      "Epoch 15/500\n",
      "429/429 [==============================] - 16s 37ms/step - loss: 1.2783 - accuracy: 0.5510 - val_loss: 1.1400 - val_accuracy: 0.6319\n",
      "Epoch 16/500\n",
      "429/429 [==============================] - 16s 38ms/step - loss: 1.2367 - accuracy: 0.5562 - val_loss: 1.1058 - val_accuracy: 0.6701\n",
      "Epoch 17/500\n",
      "429/429 [==============================] - 15s 36ms/step - loss: 1.2907 - accuracy: 0.5490 - val_loss: 1.0180 - val_accuracy: 0.6539\n",
      "Epoch 18/500\n",
      "429/429 [==============================] - 16s 38ms/step - loss: 1.2607 - accuracy: 0.5609 - val_loss: 1.0971 - val_accuracy: 0.6331\n",
      "Epoch 19/500\n",
      "429/429 [==============================] - 16s 36ms/step - loss: 1.2953 - accuracy: 0.5478 - val_loss: 1.1160 - val_accuracy: 0.6470\n",
      "Epoch 20/500\n",
      "429/429 [==============================] - 17s 39ms/step - loss: 1.3142 - accuracy: 0.5600 - val_loss: 1.0779 - val_accuracy: 0.6458\n",
      "Epoch 21/500\n",
      "429/429 [==============================] - 15s 36ms/step - loss: 1.2655 - accuracy: 0.5559 - val_loss: 1.1533 - val_accuracy: 0.6435\n",
      "Epoch 22/500\n",
      "429/429 [==============================] - 17s 39ms/step - loss: 1.3147 - accuracy: 0.5699 - val_loss: 1.0648 - val_accuracy: 0.6852\n",
      "Epoch 23/500\n",
      "429/429 [==============================] - 15s 36ms/step - loss: 1.3787 - accuracy: 0.5492 - val_loss: 1.1664 - val_accuracy: 0.6678\n",
      "Epoch 24/500\n",
      "429/429 [==============================] - 17s 38ms/step - loss: 1.3977 - accuracy: 0.5580 - val_loss: 1.0525 - val_accuracy: 0.6933\n",
      "Epoch 25/500\n",
      "429/429 [==============================] - 15s 36ms/step - loss: 1.2988 - accuracy: 0.5513 - val_loss: 1.3167 - val_accuracy: 0.6343\n",
      "Epoch 26/500\n",
      "429/429 [==============================] - 17s 40ms/step - loss: 1.3803 - accuracy: 0.5376 - val_loss: 1.2277 - val_accuracy: 0.6667\n",
      "Epoch 27/500\n",
      "429/429 [==============================] - 16s 36ms/step - loss: 1.2799 - accuracy: 0.5533 - val_loss: 1.1605 - val_accuracy: 0.6528\n",
      "Epoch 28/500\n",
      "429/429 [==============================] - 16s 38ms/step - loss: 1.3575 - accuracy: 0.5664 - val_loss: 1.2956 - val_accuracy: 0.6181\n",
      "Epoch 29/500\n",
      "429/429 [==============================] - 17s 40ms/step - loss: 1.3125 - accuracy: 0.5530 - val_loss: 1.1218 - val_accuracy: 0.6424\n",
      "Epoch 30/500\n",
      "429/429 [==============================] - 17s 39ms/step - loss: 1.3195 - accuracy: 0.5670 - val_loss: 1.3178 - val_accuracy: 0.5833\n",
      "Epoch 31/500\n",
      "429/429 [==============================] - 22s 52ms/step - loss: 1.2718 - accuracy: 0.5516 - val_loss: 1.3050 - val_accuracy: 0.6319\n",
      "Epoch 32/500\n",
      "429/429 [==============================] - 16s 36ms/step - loss: 1.2794 - accuracy: 0.5539 - val_loss: 1.0551 - val_accuracy: 0.6597\n",
      "Epoch 33/500\n",
      "429/429 [==============================] - 16s 37ms/step - loss: 1.4016 - accuracy: 0.5603 - val_loss: 1.2299 - val_accuracy: 0.6227\n",
      "Epoch 34/500\n",
      "429/429 [==============================] - 16s 37ms/step - loss: 1.2854 - accuracy: 0.5344 - val_loss: 1.1098 - val_accuracy: 0.6181\n",
      "Epoch 35/500\n",
      "429/429 [==============================] - 16s 37ms/step - loss: 1.4589 - accuracy: 0.5589 - val_loss: 0.9738 - val_accuracy: 0.6609\n",
      "Epoch 36/500\n",
      "429/429 [==============================] - 16s 38ms/step - loss: 1.3395 - accuracy: 0.5612 - val_loss: 1.0901 - val_accuracy: 0.6493\n",
      "Epoch 37/500\n",
      "429/429 [==============================] - 16s 38ms/step - loss: 1.2275 - accuracy: 0.5696 - val_loss: 1.0394 - val_accuracy: 0.6759\n",
      "Epoch 38/500\n",
      "429/429 [==============================] - 16s 37ms/step - loss: 1.2385 - accuracy: 0.5638 - val_loss: 1.2717 - val_accuracy: 0.6331\n",
      "Epoch 39/500\n",
      "429/429 [==============================] - 17s 39ms/step - loss: 1.2832 - accuracy: 0.5583 - val_loss: 1.1848 - val_accuracy: 0.6088\n",
      "Epoch 40/500\n",
      "429/429 [==============================] - 16s 37ms/step - loss: 1.2516 - accuracy: 0.5516 - val_loss: 1.0995 - val_accuracy: 0.6412\n",
      "Epoch 41/500\n",
      "429/429 [==============================] - 17s 38ms/step - loss: 1.2181 - accuracy: 0.5693 - val_loss: 1.0859 - val_accuracy: 0.6366\n",
      "Epoch 42/500\n",
      "429/429 [==============================] - 18s 41ms/step - loss: 1.3102 - accuracy: 0.5542 - val_loss: 1.1550 - val_accuracy: 0.6516\n",
      "Epoch 43/500\n",
      "429/429 [==============================] - 18s 42ms/step - loss: 1.2752 - accuracy: 0.5498 - val_loss: 1.0784 - val_accuracy: 0.6505\n",
      "Epoch 44/500\n",
      "429/429 [==============================] - 16s 38ms/step - loss: 1.2274 - accuracy: 0.5554 - val_loss: 0.9618 - val_accuracy: 0.6748\n"
     ]
    }
   ],
   "source": [
    "# Train the model\n",
    "eff_net_model_history = eff_net_model.fit(\n",
    "    x = train_gen,\n",
    "    batch_size = 256,\n",
    "    epochs = 500,\n",
    "    validation_data = valid_gen,\n",
    "    callbacks = [tfk.callbacks.EarlyStopping(monitor='val_accuracy', mode='max', patience=patience, restore_best_weights=True)],\n",
    ").history"
   ]
  },
  {
   "cell_type": "code",
   "execution_count": 27,
   "id": "20098982",
   "metadata": {
    "_kg_hide-input": false,
    "execution": {
     "iopub.execute_input": "2022-11-19T16:41:12.289523Z",
     "iopub.status.busy": "2022-11-19T16:41:12.289162Z",
     "iopub.status.idle": "2022-11-19T16:41:12.855726Z",
     "shell.execute_reply": "2022-11-19T16:41:12.854821Z"
    },
    "papermill": {
     "duration": 1.834222,
     "end_time": "2022-11-19T16:41:12.857854",
     "exception": false,
     "start_time": "2022-11-19T16:41:11.023632",
     "status": "completed"
    },
    "tags": []
   },
   "outputs": [
    {
     "data": {
      "image/png": "[encoded data removed]",
      "text/plain": [
       "<Figure size 1080x360 with 1 Axes>"
      ]
     },
     "metadata": {
      "needs_background": "light"
     },
     "output_type": "display_data"
    },
    {
     "data": {
      "image/png": "[encoded data removed]",
      "text/plain": [
       "<Figure size 1080x360 with 1 Axes>"
      ]
     },
     "metadata": {
      "needs_background": "light"
     },
     "output_type": "display_data"
    }
   ],
   "source": [
    "# Plot the training\n",
    "plt.figure(figsize=(15,5))\n",
    "plt.plot(eff_net_model_history['loss'], label='Loss', alpha=.3, color='#ff7f0e', linestyle='--')\n",
    "plt.plot(eff_net_model_history['val_loss'], label='Val loss', alpha=.8, color='#ff7f0e')\n",
    "plt.legend(loc='upper left')\n",
    "plt.title('Categorical Crossentropy')\n",
    "plt.grid(alpha=.3)\n",
    "plt.savefig(model_name + \"cat_cr_en.png\")\n",
    "\n",
    "plt.figure(figsize=(15,5))\n",
    "plt.plot(eff_net_model_history['accuracy'], label='Accuracy', alpha=.3, color='#ff7f0e', linestyle='--')\n",
    "plt.plot(eff_net_model_history['val_accuracy'], label='Val accuracy', alpha=.8, color='#ff7f0e')\n",
    "plt.legend(loc='upper left')\n",
    "plt.title('Accuracy')\n",
    "plt.grid(alpha=.3)\n",
    "plt.savefig(model_name + \"acc.png\")\n",
    "\n",
    "plt.show()"
   ]
  },
  {
   "cell_type": "code",
   "execution_count": 28,
   "id": "e4240d16",
   "metadata": {
    "execution": {
     "iopub.execute_input": "2022-11-19T16:41:15.210879Z",
     "iopub.status.busy": "2022-11-19T16:41:15.209864Z",
     "iopub.status.idle": "2022-11-19T16:41:49.573290Z",
     "shell.execute_reply": "2022-11-19T16:41:49.572265Z"
    },
    "papermill": {
     "duration": 35.511472,
     "end_time": "2022-11-19T16:41:49.576184",
     "exception": false,
     "start_time": "2022-11-19T16:41:14.064712",
     "status": "completed"
    },
    "tags": []
   },
   "outputs": [],
   "source": [
    "# Save the best model\n",
    "eff_net_model.save(model_name)"
   ]
  },
  {
   "cell_type": "code",
   "execution_count": 29,
   "id": "b8a3d472",
   "metadata": {
    "execution": {
     "iopub.execute_input": "2022-11-19T16:41:51.981591Z",
     "iopub.status.busy": "2022-11-19T16:41:51.981205Z",
     "iopub.status.idle": "2022-11-19T16:41:53.756493Z",
     "shell.execute_reply": "2022-11-19T16:41:53.754619Z"
    },
    "papermill": {
     "duration": 2.987179,
     "end_time": "2022-11-19T16:41:53.760034",
     "exception": false,
     "start_time": "2022-11-19T16:41:50.772855",
     "status": "completed"
    },
    "tags": []
   },
   "outputs": [
    {
     "name": "stdout",
     "output_type": "stream",
     "text": [
      "108/108 [==============================] - 2s 16ms/step - loss: 1.0525 - accuracy: 0.6933\n",
      "\n",
      "Val metrics\n",
      "{'loss': 1.0524897575378418, 'accuracy': 0.6932870149612427}\n"
     ]
    }
   ],
   "source": [
    "# Evaluate on val\n",
    "val_metrics = eff_net_model.evaluate(valid_gen, return_dict=True)\n",
    "\n",
    "print()\n",
    "print(\"Val metrics\")\n",
    "print(val_metrics)"
   ]
  },
  {
   "cell_type": "code",
   "execution_count": 30,
   "id": "dc59ff7f",
   "metadata": {
    "execution": {
     "iopub.execute_input": "2022-11-19T16:41:56.362376Z",
     "iopub.status.busy": "2022-11-19T16:41:56.361999Z",
     "iopub.status.idle": "2022-11-19T16:41:56.369519Z",
     "shell.execute_reply": "2022-11-19T16:41:56.368504Z"
    },
    "papermill": {
     "duration": 1.206634,
     "end_time": "2022-11-19T16:41:56.371695",
     "exception": false,
     "start_time": "2022-11-19T16:41:55.165061",
     "status": "completed"
    },
    "tags": []
   },
   "outputs": [
    {
     "data": {
      "text/plain": [
       "'/kaggle/working/Efficient_net_fine_tuning.zip'"
      ]
     },
     "execution_count": 30,
     "metadata": {},
     "output_type": "execute_result"
    }
   ],
   "source": [
    "import shutil\n",
    "shutil.make_archive(model_name, 'zip', \"/kaggle/working/EfficientNet\")"
   ]
  }
 ],
 "metadata": {
  "kernelspec": {
   "display_name": "Python 3.10.2 64-bit",
   "language": "python",
   "name": "python3"
  },
  "language_info": {
   "codemirror_mode": {
    "name": "ipython",
    "version": 3
   },
   "file_extension": ".py",
   "mimetype": "text/x-python",
   "name": "python",
   "nbconvert_exporter": "python",
   "pygments_lexer": "ipython3",
   "version": "3.10.2"
  },
  "papermill": {
   "default_parameters": {},
   "duration": 1768.67085,
   "end_time": "2022-11-19T16:42:01.328825",
   "environment_variables": {},
   "exception": null,
   "input_path": "__notebook__.ipynb",
   "output_path": "__notebook__.ipynb",
   "parameters": {},
   "start_time": "2022-11-19T16:12:32.657975",
   "version": "2.3.4"
  },
  "vscode": {
   "interpreter": {
    "hash": "6847c98a8f86b01c6a19c518cd2f366693b80566b266804d5ca763cbb223f52b"
   }
  }
 },
 "nbformat": 4,
 "nbformat_minor": 5
}
