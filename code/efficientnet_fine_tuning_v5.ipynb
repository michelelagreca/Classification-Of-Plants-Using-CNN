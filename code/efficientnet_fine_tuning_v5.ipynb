{
 "cells": [
  {
   "cell_type": "markdown",
   "id": "fd9e3687",
   "metadata": {
    "papermill": {
     "duration": 0.00761,
     "end_time": "2022-11-21T16:23:43.235719",
     "exception": false,
     "start_time": "2022-11-21T16:23:43.228109",
     "status": "completed"
    },
    "tags": []
   },
   "source": [
    "## Prelimiary Operations"
   ]
  },
  {
   "cell_type": "markdown",
   "id": "ecc83b65",
   "metadata": {
    "papermill": {
     "duration": 0.006081,
     "end_time": "2022-11-21T16:23:43.248388",
     "exception": false,
     "start_time": "2022-11-21T16:23:43.242307",
     "status": "completed"
    },
    "tags": []
   },
   "source": [
    "### Useful operations"
   ]
  },
  {
   "cell_type": "code",
   "execution_count": 1,
   "id": "d937f32d",
   "metadata": {
    "execution": {
     "iopub.execute_input": "2022-11-21T16:23:43.263219Z",
     "iopub.status.busy": "2022-11-21T16:23:43.262643Z",
     "iopub.status.idle": "2022-11-21T16:23:43.273439Z",
     "shell.execute_reply": "2022-11-21T16:23:43.272612Z"
    },
    "papermill": {
     "duration": 0.020939,
     "end_time": "2022-11-21T16:23:43.275568",
     "exception": false,
     "start_time": "2022-11-21T16:23:43.254629",
     "status": "completed"
    },
    "tags": []
   },
   "outputs": [],
   "source": [
    "import os\n",
    "import shutil\n",
    "if os.path.exists(\"/kaggle/working/andrea\"):\n",
    "    shutil.rmtree(\"/kaggle/working/andrea\")"
   ]
  },
  {
   "cell_type": "code",
   "execution_count": 2,
   "id": "0b8bca78",
   "metadata": {
    "execution": {
     "iopub.execute_input": "2022-11-21T16:23:43.289181Z",
     "iopub.status.busy": "2022-11-21T16:23:43.288905Z",
     "iopub.status.idle": "2022-11-21T16:23:43.293118Z",
     "shell.execute_reply": "2022-11-21T16:23:43.292127Z"
    },
    "papermill": {
     "duration": 0.013334,
     "end_time": "2022-11-21T16:23:43.295218",
     "exception": false,
     "start_time": "2022-11-21T16:23:43.281884",
     "status": "completed"
    },
    "tags": []
   },
   "outputs": [],
   "source": [
    "if os.path.exists(\"/kaggle/working/EfficientNet_experiments\"):\n",
    "    shutil.rmtree(\"/kaggle/working/EfficientNet_experiments\")"
   ]
  },
  {
   "cell_type": "code",
   "execution_count": 3,
   "id": "59b617a7",
   "metadata": {
    "execution": {
     "iopub.execute_input": "2022-11-21T16:23:43.308896Z",
     "iopub.status.busy": "2022-11-21T16:23:43.308640Z",
     "iopub.status.idle": "2022-11-21T16:23:43.312898Z",
     "shell.execute_reply": "2022-11-21T16:23:43.311818Z"
    },
    "papermill": {
     "duration": 0.013669,
     "end_time": "2022-11-21T16:23:43.315028",
     "exception": false,
     "start_time": "2022-11-21T16:23:43.301359",
     "status": "completed"
    },
    "tags": []
   },
   "outputs": [],
   "source": [
    "if os.path.exists(\"/kaggle/working/EfficientNet\"):\n",
    "    shutil.rmtree(\"/kaggle/working/EfficientNet\")"
   ]
  },
  {
   "cell_type": "code",
   "execution_count": 4,
   "id": "f3b056d6",
   "metadata": {
    "execution": {
     "iopub.execute_input": "2022-11-21T16:23:43.330005Z",
     "iopub.status.busy": "2022-11-21T16:23:43.329747Z",
     "iopub.status.idle": "2022-11-21T16:23:43.334022Z",
     "shell.execute_reply": "2022-11-21T16:23:43.333105Z"
    },
    "papermill": {
     "duration": 0.014543,
     "end_time": "2022-11-21T16:23:43.335910",
     "exception": false,
     "start_time": "2022-11-21T16:23:43.321367",
     "status": "completed"
    },
    "tags": []
   },
   "outputs": [],
   "source": [
    "# to remove a file\n",
    "import os\n",
    "if os.path.exists(\"/kaggle/working/model.png\"):\n",
    "    os.remove(\"/kaggle/working/model.png\")"
   ]
  },
  {
   "cell_type": "code",
   "execution_count": 5,
   "id": "2e5ac20d",
   "metadata": {
    "execution": {
     "iopub.execute_input": "2022-11-21T16:23:43.349331Z",
     "iopub.status.busy": "2022-11-21T16:23:43.349044Z",
     "iopub.status.idle": "2022-11-21T16:23:43.354325Z",
     "shell.execute_reply": "2022-11-21T16:23:43.353177Z"
    },
    "papermill": {
     "duration": 0.014226,
     "end_time": "2022-11-21T16:23:43.356336",
     "exception": false,
     "start_time": "2022-11-21T16:23:43.342110",
     "status": "completed"
    },
    "tags": []
   },
   "outputs": [],
   "source": [
    "# to create a folder\n",
    "import os\n",
    "directory = \"EfficientNet\"\n",
    "parent_dir = \"/kaggle/working\"\n",
    "path = os.path.join(parent_dir, directory)\n",
    "if not os.path.exists(path):\n",
    "    os.mkdir(path)"
   ]
  },
  {
   "cell_type": "markdown",
   "id": "6fbaee07",
   "metadata": {
    "papermill": {
     "duration": 0.006009,
     "end_time": "2022-11-21T16:23:43.368521",
     "exception": false,
     "start_time": "2022-11-21T16:23:43.362512",
     "status": "completed"
    },
    "tags": []
   },
   "source": [
    "### Operations"
   ]
  },
  {
   "cell_type": "code",
   "execution_count": 6,
   "id": "e149f2ee",
   "metadata": {
    "execution": {
     "iopub.execute_input": "2022-11-21T16:23:43.381891Z",
     "iopub.status.busy": "2022-11-21T16:23:43.381635Z",
     "iopub.status.idle": "2022-11-21T16:23:49.316193Z",
     "shell.execute_reply": "2022-11-21T16:23:49.315180Z"
    },
    "papermill": {
     "duration": 5.944052,
     "end_time": "2022-11-21T16:23:49.318737",
     "exception": false,
     "start_time": "2022-11-21T16:23:43.374685",
     "status": "completed"
    },
    "tags": []
   },
   "outputs": [],
   "source": [
    "import tensorflow as tf\n",
    "import numpy as np\n",
    "import os\n",
    "import random\n",
    "import pandas as pd\n",
    "import seaborn as sns\n",
    "import matplotlib as mpl\n",
    "import matplotlib.pyplot as plt\n",
    "from sklearn.model_selection import train_test_split\n",
    "from sklearn.metrics import accuracy_score, f1_score, precision_score, recall_score\n",
    "from sklearn.metrics import confusion_matrix\n",
    "from PIL import Image\n",
    "\n",
    "tfk = tf.keras\n",
    "tfkl = tf.keras.layers"
   ]
  },
  {
   "cell_type": "code",
   "execution_count": 7,
   "id": "66f69675",
   "metadata": {
    "execution": {
     "iopub.execute_input": "2022-11-21T16:23:49.334190Z",
     "iopub.status.busy": "2022-11-21T16:23:49.333581Z",
     "iopub.status.idle": "2022-11-21T16:23:49.339235Z",
     "shell.execute_reply": "2022-11-21T16:23:49.338266Z"
    },
    "papermill": {
     "duration": 0.01609,
     "end_time": "2022-11-21T16:23:49.341833",
     "exception": false,
     "start_time": "2022-11-21T16:23:49.325743",
     "status": "completed"
    },
    "tags": []
   },
   "outputs": [],
   "source": [
    "# Random seed for reproducibility\n",
    "seed = 42\n",
    "\n",
    "random.seed(seed)\n",
    "os.environ['PYTHONHASHSEED'] = str(seed)\n",
    "np.random.seed(seed)\n",
    "tf.random.set_seed(seed)\n",
    "tf.compat.v1.set_random_seed(seed)"
   ]
  },
  {
   "cell_type": "code",
   "execution_count": 8,
   "id": "b6aa7c7b",
   "metadata": {
    "execution": {
     "iopub.execute_input": "2022-11-21T16:23:49.356801Z",
     "iopub.status.busy": "2022-11-21T16:23:49.356500Z",
     "iopub.status.idle": "2022-11-21T16:23:49.363740Z",
     "shell.execute_reply": "2022-11-21T16:23:49.362735Z"
    },
    "papermill": {
     "duration": 0.016706,
     "end_time": "2022-11-21T16:23:49.365792",
     "exception": false,
     "start_time": "2022-11-21T16:23:49.349086",
     "status": "completed"
    },
    "tags": []
   },
   "outputs": [],
   "source": [
    "import warnings\n",
    "import logging\n",
    "\n",
    "os.environ['TF_CPP_MIN_LOG_LEVEL'] = '2'\n",
    "warnings.simplefilter(action='ignore', category=FutureWarning)\n",
    "warnings.simplefilter(action='ignore', category=Warning)\n",
    "tf.get_logger().setLevel('INFO')\n",
    "tf.autograph.set_verbosity(0)\n",
    "\n",
    "tf.get_logger().setLevel(logging.ERROR)\n",
    "tf.get_logger().setLevel('ERROR')\n",
    "tf.compat.v1.logging.set_verbosity(tf.compat.v1.logging.ERROR)"
   ]
  },
  {
   "cell_type": "markdown",
   "id": "11ae2407",
   "metadata": {
    "papermill": {
     "duration": 0.006246,
     "end_time": "2022-11-21T16:23:49.378521",
     "exception": false,
     "start_time": "2022-11-21T16:23:49.372275",
     "status": "completed"
    },
    "tags": []
   },
   "source": [
    "## Importing data"
   ]
  },
  {
   "cell_type": "code",
   "execution_count": 9,
   "id": "3a32bf6e",
   "metadata": {
    "execution": {
     "iopub.execute_input": "2022-11-21T16:23:49.392750Z",
     "iopub.status.busy": "2022-11-21T16:23:49.392485Z",
     "iopub.status.idle": "2022-11-21T16:23:49.397949Z",
     "shell.execute_reply": "2022-11-21T16:23:49.397092Z"
    },
    "papermill": {
     "duration": 0.015156,
     "end_time": "2022-11-21T16:23:49.400186",
     "exception": false,
     "start_time": "2022-11-21T16:23:49.385030",
     "status": "completed"
    },
    "tags": []
   },
   "outputs": [],
   "source": [
    "labels = ['Species1',   # 0\n",
    "          'Species2',   # 1\n",
    "          'Species3',   # 2\n",
    "          'Species4',   # 3\n",
    "          'Species5',   # 4\n",
    "          'Species6',   # 5\n",
    "          'Species7',   # 6\n",
    "          'Species8']   # 7"
   ]
  },
  {
   "cell_type": "code",
   "execution_count": 10,
   "id": "3208fc2e",
   "metadata": {
    "execution": {
     "iopub.execute_input": "2022-11-21T16:23:49.414447Z",
     "iopub.status.busy": "2022-11-21T16:23:49.413948Z",
     "iopub.status.idle": "2022-11-21T16:23:49.418708Z",
     "shell.execute_reply": "2022-11-21T16:23:49.417616Z"
    },
    "papermill": {
     "duration": 0.014556,
     "end_time": "2022-11-21T16:23:49.421136",
     "exception": false,
     "start_time": "2022-11-21T16:23:49.406580",
     "status": "completed"
    },
    "tags": []
   },
   "outputs": [],
   "source": [
    "# Dataset folders \n",
    "dataset_dir = \"../input/splitted-dataset-no-test/splitted_dataset_no_test\"\n",
    "training_dir = os.path.join(dataset_dir, 'train')\n",
    "validation_dir = os.path.join(dataset_dir, 'val')"
   ]
  },
  {
   "cell_type": "code",
   "execution_count": 11,
   "id": "c506d57f",
   "metadata": {
    "execution": {
     "iopub.execute_input": "2022-11-21T16:23:49.435274Z",
     "iopub.status.busy": "2022-11-21T16:23:49.434992Z",
     "iopub.status.idle": "2022-11-21T16:23:50.776349Z",
     "shell.execute_reply": "2022-11-21T16:23:50.775424Z"
    },
    "papermill": {
     "duration": 1.351048,
     "end_time": "2022-11-21T16:23:50.778568",
     "exception": false,
     "start_time": "2022-11-21T16:23:49.427520",
     "status": "completed"
    },
    "tags": []
   },
   "outputs": [
    {
     "name": "stdout",
     "output_type": "stream",
     "text": [
      "Found 3432 images belonging to 8 classes.\n",
      "Found 864 images belonging to 8 classes.\n"
     ]
    }
   ],
   "source": [
    "# Images are divided into folders, one for each class. \n",
    "# If the images are organized in such a way, we can exploit the \n",
    "# ImageDataGenerator to read them from disk.\n",
    "from tensorflow.keras.preprocessing.image import ImageDataGenerator\n",
    "\n",
    "# Create an instance of ImageDataGenerator, and for the trainign with Data Augmentation\n",
    "\n",
    "# Use this for data augmentation\n",
    "train_data_gen = ImageDataGenerator(rotation_range=20,\n",
    "                                        height_shift_range=0.2,\n",
    "                                        width_shift_range=0.2,\n",
    "                                        zoom_range=0.1,\n",
    "                                        horizontal_flip=True,\n",
    "                                        fill_mode='reflect')\n",
    "\n",
    "\n",
    "# Use this for no augmentation\n",
    "#train_data_gen = ImageDataGenerator()\n",
    "valid_data_gen = ImageDataGenerator()\n",
    "\n",
    "# Obtain a data generator with the 'ImageDataGenerator.flow_from_directory' method\n",
    "train_gen = train_data_gen.flow_from_directory(directory=training_dir,\n",
    "                                                       target_size=(96,96),\n",
    "                                                       color_mode='rgb',\n",
    "                                                       classes=None, # can be set to labels\n",
    "                                                       class_mode='categorical',\n",
    "                                                       batch_size=8,\n",
    "                                                       shuffle=True,\n",
    "                                                       seed=seed)\n",
    "\n",
    "valid_gen = valid_data_gen.flow_from_directory(directory=validation_dir,\n",
    "                                               target_size=(96,96),\n",
    "                                               color_mode='rgb',\n",
    "                                               classes=None, # can be set to labels\n",
    "                                               class_mode='categorical',\n",
    "                                               batch_size=8,\n",
    "                                               shuffle=False,\n",
    "                                               seed=seed)"
   ]
  },
  {
   "cell_type": "markdown",
   "id": "bd0d3461",
   "metadata": {
    "papermill": {
     "duration": 0.00616,
     "end_time": "2022-11-21T16:23:50.791438",
     "exception": false,
     "start_time": "2022-11-21T16:23:50.785278",
     "status": "completed"
    },
    "tags": []
   },
   "source": [
    "## Model"
   ]
  },
  {
   "cell_type": "code",
   "execution_count": 12,
   "id": "57160a2d",
   "metadata": {
    "execution": {
     "iopub.execute_input": "2022-11-21T16:23:50.806782Z",
     "iopub.status.busy": "2022-11-21T16:23:50.806473Z",
     "iopub.status.idle": "2022-11-21T16:23:51.757657Z",
     "shell.execute_reply": "2022-11-21T16:23:51.756459Z"
    },
    "papermill": {
     "duration": 0.961786,
     "end_time": "2022-11-21T16:23:51.760047",
     "exception": false,
     "start_time": "2022-11-21T16:23:50.798261",
     "status": "completed"
    },
    "tags": []
   },
   "outputs": [
    {
     "name": "stdout",
     "output_type": "stream",
     "text": [
      "/bin/bash: line 0: cd: /kaggle/working/EfficieNet: No such file or directory\r\n"
     ]
    }
   ],
   "source": [
    "!cd /kaggle/working/EfficieNet"
   ]
  },
  {
   "cell_type": "code",
   "execution_count": 14,
   "id": "a5277440",
   "metadata": {
    "execution": {
     "iopub.execute_input": "2022-11-21T16:23:51.797903Z",
     "iopub.status.busy": "2022-11-21T16:23:51.797101Z",
     "iopub.status.idle": "2022-11-21T16:24:02.430833Z",
     "shell.execute_reply": "2022-11-21T16:24:02.429837Z"
    },
    "papermill": {
     "duration": 10.643707,
     "end_time": "2022-11-21T16:24:02.433412",
     "exception": false,
     "start_time": "2022-11-21T16:23:51.789705",
     "status": "completed"
    },
    "tags": []
   },
   "outputs": [
    {
     "name": "stdout",
     "output_type": "stream",
     "text": [
      "Downloading data from https://storage.googleapis.com/keras-applications/efficientnetb5_notop.h5\n",
      "115269632/115263384 [==============================] - 4s 0us/step\n",
      "115277824/115263384 [==============================] - 4s 0us/step\n"
     ]
    }
   ],
   "source": [
    "# Download and plot the EfficientNet model\n",
    "eff_net = tfk.applications.efficientnet.EfficientNetB5(\n",
    "    include_top=False,\n",
    "    weights='imagenet',\n",
    "    input_shape=(96,96,3),\n",
    ")\n",
    "\n",
    "eff_net.trainable = True # we are freezing the weights of the conv part, so that they are not updated\n",
    "                            # during the training\n",
    "#tfk.utils.plot_model(eff_net)"
   ]
  },
  {
   "cell_type": "code",
   "execution_count": 15,
   "id": "9abca51f",
   "metadata": {
    "execution": {
     "iopub.execute_input": "2022-11-21T16:24:02.455805Z",
     "iopub.status.busy": "2022-11-21T16:24:02.454915Z",
     "iopub.status.idle": "2022-11-21T16:24:02.460221Z",
     "shell.execute_reply": "2022-11-21T16:24:02.459373Z"
    },
    "papermill": {
     "duration": 0.018443,
     "end_time": "2022-11-21T16:24:02.462324",
     "exception": false,
     "start_time": "2022-11-21T16:24:02.443881",
     "status": "completed"
    },
    "tags": []
   },
   "outputs": [],
   "source": [
    "input_shape = (96, 96, 3)\n",
    "epochs = 300\n",
    "learning_rate = 1e-4\n",
    "l1=0\n",
    "l2=0"
   ]
  },
  {
   "cell_type": "code",
   "execution_count": 16,
   "id": "301d2d9e",
   "metadata": {
    "execution": {
     "iopub.execute_input": "2022-11-21T16:24:02.484617Z",
     "iopub.status.busy": "2022-11-21T16:24:02.483806Z",
     "iopub.status.idle": "2022-11-21T16:24:02.491094Z",
     "shell.execute_reply": "2022-11-21T16:24:02.490289Z"
    },
    "papermill": {
     "duration": 0.02056,
     "end_time": "2022-11-21T16:24:02.493027",
     "exception": false,
     "start_time": "2022-11-21T16:24:02.472467",
     "status": "completed"
    },
    "tags": []
   },
   "outputs": [],
   "source": [
    "def build_model(input_shape):\n",
    "\n",
    "    # Build the neural network layer by layer\n",
    "    input_layer = tfkl.Input(shape=input_shape, name='input_layer')\n",
    "    \n",
    "    efficient_net = eff_net(input_layer)    \n",
    "    x = tfkl.GlobalAveragePooling2D()(efficient_net)\n",
    "    x = tfkl.Dropout(0.2, seed=seed)(x)\n",
    "    output_layer = tfkl.Dense(\n",
    "        8, \n",
    "        activation='softmax',\n",
    "        kernel_initializer = tfk.initializers.GlorotUniform(seed))(x)\n",
    "        # Connect input and output through the Model class\n",
    "    model = tfk.Model(inputs=input_layer, outputs=output_layer, name='efficient_net_model')\n",
    "\n",
    "    # Compile the model\n",
    "    model.compile(loss=tfk.losses.CategoricalCrossentropy(), optimizer=tfk.optimizers.Adam(learning_rate), metrics='accuracy')\n",
    "\n",
    "    # Return the model\n",
    "    return model"
   ]
  },
  {
   "cell_type": "code",
   "execution_count": 17,
   "id": "eebe2b5c",
   "metadata": {
    "execution": {
     "iopub.execute_input": "2022-11-21T16:24:02.514867Z",
     "iopub.status.busy": "2022-11-21T16:24:02.514047Z",
     "iopub.status.idle": "2022-11-21T16:24:05.141192Z",
     "shell.execute_reply": "2022-11-21T16:24:05.139973Z"
    },
    "papermill": {
     "duration": 2.640272,
     "end_time": "2022-11-21T16:24:05.143387",
     "exception": false,
     "start_time": "2022-11-21T16:24:02.503115",
     "status": "completed"
    },
    "tags": []
   },
   "outputs": [
    {
     "name": "stdout",
     "output_type": "stream",
     "text": [
      "Model: \"efficient_net_model\"\n",
      "_________________________________________________________________\n",
      "Layer (type)                 Output Shape              Param #   \n",
      "=================================================================\n",
      "input_layer (InputLayer)     [(None, 96, 96, 3)]       0         \n",
      "_________________________________________________________________\n",
      "efficientnetb5 (Functional)  (None, 3, 3, 2048)        28513527  \n",
      "_________________________________________________________________\n",
      "global_average_pooling2d (Gl (None, 2048)              0         \n",
      "_________________________________________________________________\n",
      "dropout (Dropout)            (None, 2048)              0         \n",
      "_________________________________________________________________\n",
      "dense (Dense)                (None, 8)                 16392     \n",
      "=================================================================\n",
      "Total params: 28,529,919\n",
      "Trainable params: 28,357,176\n",
      "Non-trainable params: 172,743\n",
      "_________________________________________________________________\n"
     ]
    },
    {
     "data": {
      "image/png": "[encoded data removed]",
      "text/plain": [
       "<IPython.core.display.Image object>"
      ]
     },
     "execution_count": 17,
     "metadata": {},
     "output_type": "execute_result"
    }
   ],
   "source": [
    "# Build model\n",
    "model_name = \"Efficient_net_all_trainable_only_GAP\"\n",
    "\n",
    "eff_net_model = build_model(input_shape)\n",
    "eff_net_model.summary()\n",
    "tfk.utils.plot_model(eff_net_model)"
   ]
  },
  {
   "cell_type": "code",
   "execution_count": 18,
   "id": "7ae8b79d",
   "metadata": {
    "execution": {
     "iopub.execute_input": "2022-11-21T16:24:05.167349Z",
     "iopub.status.busy": "2022-11-21T16:24:05.165845Z",
     "iopub.status.idle": "2022-11-21T16:24:05.170929Z",
     "shell.execute_reply": "2022-11-21T16:24:05.170104Z"
    },
    "papermill": {
     "duration": 0.018639,
     "end_time": "2022-11-21T16:24:05.172887",
     "exception": false,
     "start_time": "2022-11-21T16:24:05.154248",
     "status": "completed"
    },
    "tags": []
   },
   "outputs": [],
   "source": [
    "patience = 20"
   ]
  },
  {
   "cell_type": "code",
   "execution_count": 19,
   "id": "aca3e5e3",
   "metadata": {
    "execution": {
     "iopub.execute_input": "2022-11-21T16:24:05.195501Z",
     "iopub.status.busy": "2022-11-21T16:24:05.194708Z",
     "iopub.status.idle": "2022-11-21T18:18:49.663098Z",
     "shell.execute_reply": "2022-11-21T18:18:49.662033Z"
    },
    "papermill": {
     "duration": 6884.482445,
     "end_time": "2022-11-21T18:18:49.665623",
     "exception": false,
     "start_time": "2022-11-21T16:24:05.183178",
     "status": "completed"
    },
    "tags": []
   },
   "outputs": [
    {
     "name": "stdout",
     "output_type": "stream",
     "text": [
      "Epoch 1/300\n",
      "429/429 [==============================] - 87s 140ms/step - loss: 1.5823 - accuracy: 0.4097 - val_loss: 1.3721 - val_accuracy: 0.4919\n",
      "Epoch 2/300\n",
      "429/429 [==============================] - 56s 131ms/step - loss: 1.1775 - accuracy: 0.5822 - val_loss: 1.1230 - val_accuracy: 0.6134\n",
      "Epoch 3/300\n",
      "429/429 [==============================] - 56s 131ms/step - loss: 1.0081 - accuracy: 0.6294 - val_loss: 0.9043 - val_accuracy: 0.6701\n",
      "Epoch 4/300\n",
      "429/429 [==============================] - 56s 130ms/step - loss: 0.8750 - accuracy: 0.6874 - val_loss: 0.8414 - val_accuracy: 0.7060\n",
      "Epoch 5/300\n",
      "429/429 [==============================] - 56s 131ms/step - loss: 0.7678 - accuracy: 0.7287 - val_loss: 0.7824 - val_accuracy: 0.7269\n",
      "Epoch 6/300\n",
      "429/429 [==============================] - 57s 133ms/step - loss: 0.6906 - accuracy: 0.7599 - val_loss: 0.6431 - val_accuracy: 0.7697\n",
      "Epoch 7/300\n",
      "429/429 [==============================] - 57s 132ms/step - loss: 0.6244 - accuracy: 0.7864 - val_loss: 0.6395 - val_accuracy: 0.7870\n",
      "Epoch 8/300\n",
      "429/429 [==============================] - 57s 132ms/step - loss: 0.5930 - accuracy: 0.7937 - val_loss: 0.5979 - val_accuracy: 0.8021\n",
      "Epoch 9/300\n",
      "429/429 [==============================] - 57s 132ms/step - loss: 0.5189 - accuracy: 0.8202 - val_loss: 0.5001 - val_accuracy: 0.8414\n",
      "Epoch 10/300\n",
      "429/429 [==============================] - 57s 133ms/step - loss: 0.4801 - accuracy: 0.8362 - val_loss: 0.5158 - val_accuracy: 0.8299\n",
      "Epoch 11/300\n",
      "429/429 [==============================] - 57s 133ms/step - loss: 0.4422 - accuracy: 0.8406 - val_loss: 0.5196 - val_accuracy: 0.8426\n",
      "Epoch 12/300\n",
      "429/429 [==============================] - 56s 131ms/step - loss: 0.4010 - accuracy: 0.8651 - val_loss: 0.4620 - val_accuracy: 0.8484\n",
      "Epoch 13/300\n",
      "429/429 [==============================] - 57s 132ms/step - loss: 0.3744 - accuracy: 0.8730 - val_loss: 0.4993 - val_accuracy: 0.8299\n",
      "Epoch 14/300\n",
      "429/429 [==============================] - 56s 131ms/step - loss: 0.3833 - accuracy: 0.8712 - val_loss: 0.4494 - val_accuracy: 0.8507\n",
      "Epoch 15/300\n",
      "429/429 [==============================] - 56s 131ms/step - loss: 0.3279 - accuracy: 0.8881 - val_loss: 0.4683 - val_accuracy: 0.8553\n",
      "Epoch 16/300\n",
      "429/429 [==============================] - 56s 130ms/step - loss: 0.3118 - accuracy: 0.8966 - val_loss: 0.4838 - val_accuracy: 0.8623\n",
      "Epoch 17/300\n",
      "429/429 [==============================] - 56s 129ms/step - loss: 0.3094 - accuracy: 0.8963 - val_loss: 0.4809 - val_accuracy: 0.8600\n",
      "Epoch 18/300\n",
      "429/429 [==============================] - 57s 132ms/step - loss: 0.2868 - accuracy: 0.9038 - val_loss: 0.4153 - val_accuracy: 0.8576\n",
      "Epoch 19/300\n",
      "429/429 [==============================] - 57s 134ms/step - loss: 0.2790 - accuracy: 0.9068 - val_loss: 0.4756 - val_accuracy: 0.8530\n",
      "Epoch 20/300\n",
      "429/429 [==============================] - 57s 134ms/step - loss: 0.2463 - accuracy: 0.9184 - val_loss: 0.4344 - val_accuracy: 0.8553\n",
      "Epoch 21/300\n",
      "429/429 [==============================] - 57s 134ms/step - loss: 0.2272 - accuracy: 0.9260 - val_loss: 0.4703 - val_accuracy: 0.8692\n",
      "Epoch 22/300\n",
      "429/429 [==============================] - 58s 135ms/step - loss: 0.2244 - accuracy: 0.9202 - val_loss: 0.5100 - val_accuracy: 0.8542\n",
      "Epoch 23/300\n",
      "429/429 [==============================] - 58s 135ms/step - loss: 0.2295 - accuracy: 0.9257 - val_loss: 0.5092 - val_accuracy: 0.8426\n",
      "Epoch 24/300\n",
      "429/429 [==============================] - 58s 135ms/step - loss: 0.1896 - accuracy: 0.9365 - val_loss: 0.5020 - val_accuracy: 0.8576\n",
      "Epoch 25/300\n",
      "429/429 [==============================] - 57s 133ms/step - loss: 0.1862 - accuracy: 0.9385 - val_loss: 0.4033 - val_accuracy: 0.8692\n",
      "Epoch 26/300\n",
      "429/429 [==============================] - 57s 134ms/step - loss: 0.1884 - accuracy: 0.9409 - val_loss: 0.4581 - val_accuracy: 0.8738\n",
      "Epoch 27/300\n",
      "429/429 [==============================] - 58s 134ms/step - loss: 0.1710 - accuracy: 0.9467 - val_loss: 0.4897 - val_accuracy: 0.8588\n",
      "Epoch 28/300\n",
      "429/429 [==============================] - 57s 133ms/step - loss: 0.1662 - accuracy: 0.9461 - val_loss: 0.4477 - val_accuracy: 0.8808\n",
      "Epoch 29/300\n",
      "429/429 [==============================] - 57s 132ms/step - loss: 0.1550 - accuracy: 0.9461 - val_loss: 0.4609 - val_accuracy: 0.8588\n",
      "Epoch 30/300\n",
      "429/429 [==============================] - 57s 132ms/step - loss: 0.1646 - accuracy: 0.9441 - val_loss: 0.4698 - val_accuracy: 0.8657\n",
      "Epoch 31/300\n",
      "429/429 [==============================] - 57s 133ms/step - loss: 0.1495 - accuracy: 0.9496 - val_loss: 0.4733 - val_accuracy: 0.8634\n",
      "Epoch 32/300\n",
      "429/429 [==============================] - 57s 133ms/step - loss: 0.1316 - accuracy: 0.9589 - val_loss: 0.5214 - val_accuracy: 0.8657\n",
      "Epoch 33/300\n",
      "429/429 [==============================] - 57s 133ms/step - loss: 0.1620 - accuracy: 0.9505 - val_loss: 0.5461 - val_accuracy: 0.8530\n",
      "Epoch 34/300\n",
      "429/429 [==============================] - 57s 132ms/step - loss: 0.1320 - accuracy: 0.9560 - val_loss: 0.4910 - val_accuracy: 0.8831\n",
      "Epoch 35/300\n",
      "429/429 [==============================] - 56s 131ms/step - loss: 0.1298 - accuracy: 0.9566 - val_loss: 0.6607 - val_accuracy: 0.8391\n",
      "Epoch 36/300\n",
      "429/429 [==============================] - 57s 133ms/step - loss: 0.1356 - accuracy: 0.9548 - val_loss: 0.4730 - val_accuracy: 0.8843\n",
      "Epoch 37/300\n",
      "429/429 [==============================] - 57s 133ms/step - loss: 0.1138 - accuracy: 0.9583 - val_loss: 0.7116 - val_accuracy: 0.8310\n",
      "Epoch 38/300\n",
      "429/429 [==============================] - 58s 134ms/step - loss: 0.1350 - accuracy: 0.9583 - val_loss: 0.4749 - val_accuracy: 0.8796\n",
      "Epoch 39/300\n",
      "429/429 [==============================] - 57s 133ms/step - loss: 0.1047 - accuracy: 0.9659 - val_loss: 0.4472 - val_accuracy: 0.8762\n",
      "Epoch 40/300\n",
      "429/429 [==============================] - 57s 132ms/step - loss: 0.1150 - accuracy: 0.9610 - val_loss: 0.4901 - val_accuracy: 0.8692\n",
      "Epoch 41/300\n",
      "429/429 [==============================] - 57s 133ms/step - loss: 0.0976 - accuracy: 0.9712 - val_loss: 0.5877 - val_accuracy: 0.8588\n",
      "Epoch 42/300\n",
      "429/429 [==============================] - 57s 133ms/step - loss: 0.0932 - accuracy: 0.9685 - val_loss: 0.5691 - val_accuracy: 0.8495\n",
      "Epoch 43/300\n",
      "429/429 [==============================] - 58s 134ms/step - loss: 0.1068 - accuracy: 0.9677 - val_loss: 0.4980 - val_accuracy: 0.8808\n",
      "Epoch 44/300\n",
      "429/429 [==============================] - 56s 131ms/step - loss: 0.1002 - accuracy: 0.9659 - val_loss: 0.4806 - val_accuracy: 0.8889\n",
      "Epoch 45/300\n",
      "429/429 [==============================] - 57s 133ms/step - loss: 0.0988 - accuracy: 0.9677 - val_loss: 0.7543 - val_accuracy: 0.8414\n",
      "Epoch 46/300\n",
      "429/429 [==============================] - 57s 134ms/step - loss: 0.1228 - accuracy: 0.9598 - val_loss: 0.4871 - val_accuracy: 0.8958\n",
      "Epoch 47/300\n",
      "429/429 [==============================] - 57s 134ms/step - loss: 0.1143 - accuracy: 0.9598 - val_loss: 0.5884 - val_accuracy: 0.8843\n",
      "Epoch 48/300\n",
      "429/429 [==============================] - 58s 135ms/step - loss: 0.0997 - accuracy: 0.9688 - val_loss: 0.5795 - val_accuracy: 0.8796\n",
      "Epoch 49/300\n",
      "429/429 [==============================] - 56s 132ms/step - loss: 0.0866 - accuracy: 0.9726 - val_loss: 0.5372 - val_accuracy: 0.8854\n",
      "Epoch 50/300\n",
      "429/429 [==============================] - 58s 134ms/step - loss: 0.0892 - accuracy: 0.9706 - val_loss: 0.4589 - val_accuracy: 0.8981\n",
      "Epoch 51/300\n",
      "429/429 [==============================] - 57s 134ms/step - loss: 0.0795 - accuracy: 0.9744 - val_loss: 0.4666 - val_accuracy: 0.8947\n",
      "Epoch 52/300\n",
      "429/429 [==============================] - 57s 133ms/step - loss: 0.0813 - accuracy: 0.9726 - val_loss: 0.4951 - val_accuracy: 0.8877\n",
      "Epoch 53/300\n",
      "429/429 [==============================] - 57s 133ms/step - loss: 0.0923 - accuracy: 0.9706 - val_loss: 0.5121 - val_accuracy: 0.8843\n",
      "Epoch 54/300\n",
      "429/429 [==============================] - 57s 133ms/step - loss: 0.0891 - accuracy: 0.9732 - val_loss: 0.5182 - val_accuracy: 0.8762\n",
      "Epoch 55/300\n",
      "429/429 [==============================] - 57s 133ms/step - loss: 0.0774 - accuracy: 0.9732 - val_loss: 0.4780 - val_accuracy: 0.8935\n",
      "Epoch 56/300\n",
      "429/429 [==============================] - 58s 134ms/step - loss: 0.0948 - accuracy: 0.9685 - val_loss: 0.5132 - val_accuracy: 0.8843\n",
      "Epoch 57/300\n",
      "429/429 [==============================] - 57s 132ms/step - loss: 0.0732 - accuracy: 0.9764 - val_loss: 0.5964 - val_accuracy: 0.8785\n",
      "Epoch 58/300\n",
      "429/429 [==============================] - 58s 134ms/step - loss: 0.0787 - accuracy: 0.9770 - val_loss: 0.6315 - val_accuracy: 0.8796\n",
      "Epoch 59/300\n",
      "429/429 [==============================] - 58s 136ms/step - loss: 0.0697 - accuracy: 0.9802 - val_loss: 0.4944 - val_accuracy: 0.8993\n",
      "Epoch 60/300\n",
      "429/429 [==============================] - 59s 137ms/step - loss: 0.0782 - accuracy: 0.9741 - val_loss: 0.5174 - val_accuracy: 0.8947\n",
      "Epoch 61/300\n",
      "429/429 [==============================] - 58s 134ms/step - loss: 0.0679 - accuracy: 0.9767 - val_loss: 0.5985 - val_accuracy: 0.8796\n",
      "Epoch 62/300\n",
      "429/429 [==============================] - 58s 135ms/step - loss: 0.0710 - accuracy: 0.9761 - val_loss: 0.6254 - val_accuracy: 0.8681\n",
      "Epoch 63/300\n",
      "429/429 [==============================] - 57s 133ms/step - loss: 0.0779 - accuracy: 0.9741 - val_loss: 0.6482 - val_accuracy: 0.8715\n",
      "Epoch 64/300\n",
      "429/429 [==============================] - 58s 134ms/step - loss: 0.0596 - accuracy: 0.9814 - val_loss: 0.6392 - val_accuracy: 0.8495\n",
      "Epoch 65/300\n",
      "429/429 [==============================] - 57s 133ms/step - loss: 0.0738 - accuracy: 0.9755 - val_loss: 0.5446 - val_accuracy: 0.8947\n",
      "Epoch 66/300\n",
      "429/429 [==============================] - 58s 135ms/step - loss: 0.0730 - accuracy: 0.9770 - val_loss: 0.6081 - val_accuracy: 0.8877\n",
      "Epoch 67/300\n",
      "429/429 [==============================] - 57s 133ms/step - loss: 0.0783 - accuracy: 0.9732 - val_loss: 0.5104 - val_accuracy: 0.8831\n",
      "Epoch 68/300\n",
      "429/429 [==============================] - 56s 130ms/step - loss: 0.0672 - accuracy: 0.9793 - val_loss: 0.5858 - val_accuracy: 0.8738\n",
      "Epoch 69/300\n",
      "429/429 [==============================] - 57s 133ms/step - loss: 0.0708 - accuracy: 0.9779 - val_loss: 0.6318 - val_accuracy: 0.8750\n",
      "Epoch 70/300\n",
      "429/429 [==============================] - 57s 134ms/step - loss: 0.0727 - accuracy: 0.9793 - val_loss: 0.7806 - val_accuracy: 0.8657\n",
      "Epoch 71/300\n",
      "429/429 [==============================] - 58s 135ms/step - loss: 0.0572 - accuracy: 0.9793 - val_loss: 0.6225 - val_accuracy: 0.8912\n",
      "Epoch 72/300\n",
      "429/429 [==============================] - 56s 132ms/step - loss: 0.0553 - accuracy: 0.9831 - val_loss: 0.6433 - val_accuracy: 0.9039\n",
      "Epoch 73/300\n",
      "429/429 [==============================] - 57s 132ms/step - loss: 0.0655 - accuracy: 0.9799 - val_loss: 0.5298 - val_accuracy: 0.8993\n",
      "Epoch 74/300\n",
      "429/429 [==============================] - 57s 132ms/step - loss: 0.0580 - accuracy: 0.9787 - val_loss: 0.5894 - val_accuracy: 0.8831\n",
      "Epoch 75/300\n",
      "429/429 [==============================] - 56s 130ms/step - loss: 0.0638 - accuracy: 0.9802 - val_loss: 0.5702 - val_accuracy: 0.8646\n",
      "Epoch 76/300\n",
      "429/429 [==============================] - 57s 133ms/step - loss: 0.0735 - accuracy: 0.9755 - val_loss: 0.9667 - val_accuracy: 0.8542\n",
      "Epoch 77/300\n",
      "429/429 [==============================] - 57s 133ms/step - loss: 0.0614 - accuracy: 0.9787 - val_loss: 0.6509 - val_accuracy: 0.8889\n",
      "Epoch 78/300\n",
      "429/429 [==============================] - 56s 130ms/step - loss: 0.0472 - accuracy: 0.9843 - val_loss: 0.6213 - val_accuracy: 0.8912\n",
      "Epoch 79/300\n",
      "429/429 [==============================] - 57s 132ms/step - loss: 0.0439 - accuracy: 0.9854 - val_loss: 0.5982 - val_accuracy: 0.8831\n",
      "Epoch 80/300\n",
      "429/429 [==============================] - 57s 132ms/step - loss: 0.0460 - accuracy: 0.9848 - val_loss: 0.5035 - val_accuracy: 0.8993\n",
      "Epoch 81/300\n",
      "429/429 [==============================] - 56s 131ms/step - loss: 0.0556 - accuracy: 0.9787 - val_loss: 0.5035 - val_accuracy: 0.9074\n",
      "Epoch 82/300\n",
      "429/429 [==============================] - 57s 133ms/step - loss: 0.0624 - accuracy: 0.9799 - val_loss: 0.5028 - val_accuracy: 0.8831\n",
      "Epoch 83/300\n",
      "429/429 [==============================] - 57s 133ms/step - loss: 0.0519 - accuracy: 0.9828 - val_loss: 0.4605 - val_accuracy: 0.8958\n",
      "Epoch 84/300\n",
      "429/429 [==============================] - 56s 130ms/step - loss: 0.0499 - accuracy: 0.9825 - val_loss: 0.5895 - val_accuracy: 0.8785\n",
      "Epoch 85/300\n",
      "429/429 [==============================] - 57s 134ms/step - loss: 0.0548 - accuracy: 0.9822 - val_loss: 0.7688 - val_accuracy: 0.8414\n",
      "Epoch 86/300\n",
      "429/429 [==============================] - 57s 133ms/step - loss: 0.0604 - accuracy: 0.9808 - val_loss: 0.6158 - val_accuracy: 0.8692\n",
      "Epoch 87/300\n",
      "429/429 [==============================] - 56s 131ms/step - loss: 0.0533 - accuracy: 0.9822 - val_loss: 0.6464 - val_accuracy: 0.8657\n",
      "Epoch 88/300\n",
      "429/429 [==============================] - 57s 134ms/step - loss: 0.0405 - accuracy: 0.9875 - val_loss: 0.6136 - val_accuracy: 0.8669\n",
      "Epoch 89/300\n",
      "429/429 [==============================] - 58s 135ms/step - loss: 0.0522 - accuracy: 0.9846 - val_loss: 0.5390 - val_accuracy: 0.8866\n",
      "Epoch 90/300\n",
      "429/429 [==============================] - 57s 132ms/step - loss: 0.0623 - accuracy: 0.9811 - val_loss: 0.5669 - val_accuracy: 0.9062\n",
      "Epoch 91/300\n",
      "429/429 [==============================] - 57s 134ms/step - loss: 0.0574 - accuracy: 0.9816 - val_loss: 0.8168 - val_accuracy: 0.8854\n",
      "Epoch 92/300\n",
      "429/429 [==============================] - 57s 133ms/step - loss: 0.0412 - accuracy: 0.9866 - val_loss: 0.7013 - val_accuracy: 0.8970\n",
      "Epoch 93/300\n",
      "429/429 [==============================] - 56s 130ms/step - loss: 0.0407 - accuracy: 0.9866 - val_loss: 0.4257 - val_accuracy: 0.9097\n",
      "Epoch 94/300\n",
      "429/429 [==============================] - 57s 134ms/step - loss: 0.0509 - accuracy: 0.9822 - val_loss: 0.4256 - val_accuracy: 0.9097\n",
      "Epoch 95/300\n",
      "429/429 [==============================] - 58s 134ms/step - loss: 0.0470 - accuracy: 0.9828 - val_loss: 0.4330 - val_accuracy: 0.9005\n",
      "Epoch 96/300\n",
      "429/429 [==============================] - 57s 134ms/step - loss: 0.0479 - accuracy: 0.9854 - val_loss: 0.4691 - val_accuracy: 0.9109\n",
      "Epoch 97/300\n",
      "429/429 [==============================] - 57s 134ms/step - loss: 0.0523 - accuracy: 0.9834 - val_loss: 0.6123 - val_accuracy: 0.9155\n",
      "Epoch 98/300\n",
      "429/429 [==============================] - 57s 134ms/step - loss: 0.0397 - accuracy: 0.9883 - val_loss: 0.4607 - val_accuracy: 0.9144\n",
      "Epoch 99/300\n",
      "429/429 [==============================] - 56s 131ms/step - loss: 0.0388 - accuracy: 0.9869 - val_loss: 0.5544 - val_accuracy: 0.9005\n",
      "Epoch 100/300\n",
      "429/429 [==============================] - 57s 134ms/step - loss: 0.0467 - accuracy: 0.9854 - val_loss: 0.5159 - val_accuracy: 0.8935\n",
      "Epoch 101/300\n",
      "429/429 [==============================] - 57s 134ms/step - loss: 0.0357 - accuracy: 0.9886 - val_loss: 0.4833 - val_accuracy: 0.9155\n",
      "Epoch 102/300\n",
      "429/429 [==============================] - 56s 131ms/step - loss: 0.0460 - accuracy: 0.9857 - val_loss: 0.5415 - val_accuracy: 0.8993\n",
      "Epoch 103/300\n",
      "429/429 [==============================] - 57s 134ms/step - loss: 0.0563 - accuracy: 0.9848 - val_loss: 0.4943 - val_accuracy: 0.8912\n",
      "Epoch 104/300\n",
      "429/429 [==============================] - 57s 133ms/step - loss: 0.0502 - accuracy: 0.9840 - val_loss: 0.4500 - val_accuracy: 0.8935\n",
      "Epoch 105/300\n",
      "429/429 [==============================] - 56s 131ms/step - loss: 0.0500 - accuracy: 0.9869 - val_loss: 0.4608 - val_accuracy: 0.8831\n",
      "Epoch 106/300\n",
      "429/429 [==============================] - 58s 135ms/step - loss: 0.0381 - accuracy: 0.9883 - val_loss: 0.6105 - val_accuracy: 0.8877\n",
      "Epoch 107/300\n",
      "429/429 [==============================] - 56s 132ms/step - loss: 0.0477 - accuracy: 0.9854 - val_loss: 0.4466 - val_accuracy: 0.9016\n",
      "Epoch 108/300\n",
      "429/429 [==============================] - 57s 133ms/step - loss: 0.0377 - accuracy: 0.9866 - val_loss: 0.4747 - val_accuracy: 0.8900\n",
      "Epoch 109/300\n",
      "429/429 [==============================] - 57s 133ms/step - loss: 0.0532 - accuracy: 0.9840 - val_loss: 0.4834 - val_accuracy: 0.8935\n",
      "Epoch 110/300\n",
      "429/429 [==============================] - 56s 131ms/step - loss: 0.0508 - accuracy: 0.9848 - val_loss: 0.6483 - val_accuracy: 0.8715\n",
      "Epoch 111/300\n",
      "429/429 [==============================] - 58s 135ms/step - loss: 0.0366 - accuracy: 0.9892 - val_loss: 0.6533 - val_accuracy: 0.8634\n",
      "Epoch 112/300\n",
      "429/429 [==============================] - 57s 134ms/step - loss: 0.0415 - accuracy: 0.9872 - val_loss: 0.5751 - val_accuracy: 0.8796\n",
      "Epoch 113/300\n",
      "429/429 [==============================] - 58s 134ms/step - loss: 0.0421 - accuracy: 0.9872 - val_loss: 0.5031 - val_accuracy: 0.8843\n",
      "Epoch 114/300\n",
      "429/429 [==============================] - 56s 131ms/step - loss: 0.0288 - accuracy: 0.9892 - val_loss: 0.4263 - val_accuracy: 0.9144\n",
      "Epoch 115/300\n",
      "429/429 [==============================] - 58s 135ms/step - loss: 0.0289 - accuracy: 0.9933 - val_loss: 0.4796 - val_accuracy: 0.8935\n",
      "Epoch 116/300\n",
      "429/429 [==============================] - 58s 136ms/step - loss: 0.0315 - accuracy: 0.9901 - val_loss: 0.8004 - val_accuracy: 0.8414\n",
      "Epoch 117/300\n",
      "429/429 [==============================] - 58s 134ms/step - loss: 0.0555 - accuracy: 0.9834 - val_loss: 0.7905 - val_accuracy: 0.8380\n"
     ]
    }
   ],
   "source": [
    "# Train the model\n",
    "eff_net_model_history = eff_net_model.fit(\n",
    "    x = train_gen,\n",
    "    batch_size = 256,\n",
    "    epochs = epochs,\n",
    "    validation_data = valid_gen,\n",
    "    callbacks = [tfk.callbacks.EarlyStopping(monitor='val_accuracy', mode='max', patience=patience, restore_best_weights=True)],\n",
    ").history"
   ]
  },
  {
   "cell_type": "code",
   "execution_count": 20,
   "id": "167cdbe5",
   "metadata": {
    "execution": {
     "iopub.execute_input": "2022-11-21T18:18:55.421166Z",
     "iopub.status.busy": "2022-11-21T18:18:55.420759Z",
     "iopub.status.idle": "2022-11-21T18:19:14.380852Z",
     "shell.execute_reply": "2022-11-21T18:19:14.379953Z"
    },
    "papermill": {
     "duration": 22.018958,
     "end_time": "2022-11-21T18:19:14.382851",
     "exception": false,
     "start_time": "2022-11-21T18:18:52.363893",
     "status": "completed"
    },
    "tags": []
   },
   "outputs": [
    {
     "data": {
      "image/png": "[encoded data removed]",
      "text/plain": [
       "<Figure size 1080x360 with 1 Axes>"
      ]
     },
     "metadata": {
      "needs_background": "light"
     },
     "output_type": "display_data"
    },
    {
     "data": {
      "image/png": "[encoded data removed]",
      "text/plain": [
       "<Figure size 1080x360 with 1 Axes>"
      ]
     },
     "metadata": {
      "needs_background": "light"
     },
     "output_type": "display_data"
    }
   ],
   "source": [
    "# Plot the training\n",
    "plt.figure(figsize=(15,5))\n",
    "plt.plot(eff_net_model_history['loss'], label='Loss', alpha=.3, color='#ff7f0e', linestyle='--')\n",
    "plt.plot(eff_net_model_history['val_loss'], label='Val loss', alpha=.8, color='#ff7f0e')\n",
    "plt.legend(loc='upper left')\n",
    "plt.title('Categorical Crossentropy')\n",
    "plt.grid(alpha=.3)\n",
    "plt.savefig(model_name + \"cat_cr_en.png\")\n",
    "\n",
    "plt.figure(figsize=(15,5))\n",
    "plt.plot(eff_net_model_history['accuracy'], label='Accuracy', alpha=.3, color='#ff7f0e', linestyle='--')\n",
    "plt.plot(eff_net_model_history['val_accuracy'], label='Val accuracy', alpha=.8, color='#ff7f0e')\n",
    "plt.legend(loc='upper left')\n",
    "plt.title('Accuracy')\n",
    "plt.grid(alpha=.3)\n",
    "plt.savefig(model_name + \"acc.png\")\n",
    "\n",
    "plt.show()"
   ]
  },
  {
   "cell_type": "code",
   "execution_count": 21,
   "id": "671aefa9",
   "metadata": {
    "execution": {
     "iopub.execute_input": "2022-11-21T18:19:20.050904Z",
     "iopub.status.busy": "2022-11-21T18:19:20.050538Z",
     "iopub.status.idle": "2022-11-21T18:20:46.238023Z",
     "shell.execute_reply": "2022-11-21T18:20:46.236931Z"
    },
    "papermill": {
     "duration": 88.894939,
     "end_time": "2022-11-21T18:20:46.244222",
     "exception": false,
     "start_time": "2022-11-21T18:19:17.349283",
     "status": "completed"
    },
    "tags": []
   },
   "outputs": [],
   "source": [
    "# Save the best model\n",
    "eff_net_model.save(model_name)"
   ]
  },
  {
   "cell_type": "code",
   "execution_count": 22,
   "id": "ad05097a",
   "metadata": {
    "execution": {
     "iopub.execute_input": "2022-11-21T18:20:52.281383Z",
     "iopub.status.busy": "2022-11-21T18:20:52.280992Z",
     "iopub.status.idle": "2022-11-21T18:20:52.381655Z",
     "shell.execute_reply": "2022-11-21T18:20:52.380692Z"
    },
    "papermill": {
     "duration": 3.002675,
     "end_time": "2022-11-21T18:20:52.383774",
     "exception": false,
     "start_time": "2022-11-21T18:20:49.381099",
     "status": "completed"
    },
    "tags": []
   },
   "outputs": [
    {
     "name": "stdout",
     "output_type": "stream",
     "text": [
      "Model: \"efficient_net_model\"\n",
      "_________________________________________________________________\n",
      "Layer (type)                 Output Shape              Param #   \n",
      "=================================================================\n",
      "input_layer (InputLayer)     [(None, 96, 96, 3)]       0         \n",
      "_________________________________________________________________\n",
      "efficientnetb5 (Functional)  (None, 3, 3, 2048)        28513527  \n",
      "_________________________________________________________________\n",
      "global_average_pooling2d (Gl (None, 2048)              0         \n",
      "_________________________________________________________________\n",
      "dropout (Dropout)            (None, 2048)              0         \n",
      "_________________________________________________________________\n",
      "dense (Dense)                (None, 8)                 16392     \n",
      "=================================================================\n",
      "Total params: 28,529,919\n",
      "Trainable params: 18,498,128\n",
      "Non-trainable params: 10,031,791\n",
      "_________________________________________________________________\n"
     ]
    }
   ],
   "source": [
    "# Make layers from 6d trainable\n",
    "eff_net_model.get_layer('efficientnetb5').trainable = False\n",
    "eff_net = eff_net_model.get_layer('efficientnetb5')\n",
    "eff_net.trainable = True\n",
    "set_trainable = False\n",
    "\n",
    "for layer in eff_net.layers:\n",
    "    if layer.name == 'block6d_se_excite':\n",
    "        set_trainable = True\n",
    "    if set_trainable:\n",
    "        if not isinstance(layer, tfkl.BatchNormalization):\n",
    "            layer.trainable = True\n",
    "        else:\n",
    "            layer.trainable = False\n",
    "    else:\n",
    "        layer.trainable = False\n",
    "        \n",
    "eff_net_model.summary()"
   ]
  },
  {
   "cell_type": "code",
   "execution_count": 23,
   "id": "bb1fa0ec",
   "metadata": {
    "execution": {
     "iopub.execute_input": "2022-11-21T18:20:58.147315Z",
     "iopub.status.busy": "2022-11-21T18:20:58.146763Z",
     "iopub.status.idle": "2022-11-21T18:20:58.152155Z",
     "shell.execute_reply": "2022-11-21T18:20:58.151096Z"
    },
    "papermill": {
     "duration": 2.853943,
     "end_time": "2022-11-21T18:20:58.154728",
     "exception": false,
     "start_time": "2022-11-21T18:20:55.300785",
     "status": "completed"
    },
    "tags": []
   },
   "outputs": [],
   "source": [
    "model_name = \"Efficient_net_from_6d_trainable_only_GAP\"\n",
    "\n",
    "epochs = 500\n",
    "patience = 30"
   ]
  },
  {
   "cell_type": "code",
   "execution_count": 24,
   "id": "90fa5d74",
   "metadata": {
    "execution": {
     "iopub.execute_input": "2022-11-21T18:21:03.688782Z",
     "iopub.status.busy": "2022-11-21T18:21:03.687953Z",
     "iopub.status.idle": "2022-11-21T18:59:44.321799Z",
     "shell.execute_reply": "2022-11-21T18:59:44.320746Z"
    },
    "papermill": {
     "duration": 2323.503707,
     "end_time": "2022-11-21T18:59:44.328443",
     "exception": false,
     "start_time": "2022-11-21T18:21:00.824736",
     "status": "completed"
    },
    "tags": []
   },
   "outputs": [
    {
     "name": "stdout",
     "output_type": "stream",
     "text": [
      "Epoch 1/500\n",
      "429/429 [==============================] - 58s 134ms/step - loss: 0.0407 - accuracy: 0.9843 - val_loss: 0.5752 - val_accuracy: 0.8924\n",
      "Epoch 2/500\n",
      "429/429 [==============================] - 59s 138ms/step - loss: 0.0617 - accuracy: 0.9825 - val_loss: 0.4916 - val_accuracy: 0.8877\n",
      "Epoch 3/500\n",
      "429/429 [==============================] - 58s 134ms/step - loss: 0.0583 - accuracy: 0.9793 - val_loss: 0.5601 - val_accuracy: 0.8866\n",
      "Epoch 4/500\n",
      "429/429 [==============================] - 59s 137ms/step - loss: 0.0453 - accuracy: 0.9857 - val_loss: 0.5500 - val_accuracy: 0.8889\n",
      "Epoch 5/500\n",
      "429/429 [==============================] - 59s 138ms/step - loss: 0.0631 - accuracy: 0.9799 - val_loss: 0.4991 - val_accuracy: 0.8935\n",
      "Epoch 6/500\n",
      "429/429 [==============================] - 57s 133ms/step - loss: 0.0549 - accuracy: 0.9831 - val_loss: 0.4911 - val_accuracy: 0.9051\n",
      "Epoch 7/500\n",
      "429/429 [==============================] - 60s 139ms/step - loss: 0.0553 - accuracy: 0.9811 - val_loss: 0.4265 - val_accuracy: 0.9039\n",
      "Epoch 8/500\n",
      "429/429 [==============================] - 59s 139ms/step - loss: 0.0350 - accuracy: 0.9895 - val_loss: 0.3861 - val_accuracy: 0.9213\n",
      "Epoch 9/500\n",
      "429/429 [==============================] - 57s 134ms/step - loss: 0.0323 - accuracy: 0.9904 - val_loss: 0.4317 - val_accuracy: 0.9097\n",
      "Epoch 10/500\n",
      "429/429 [==============================] - 59s 138ms/step - loss: 0.0367 - accuracy: 0.9875 - val_loss: 0.4687 - val_accuracy: 0.9109\n",
      "Epoch 11/500\n",
      "429/429 [==============================] - 59s 137ms/step - loss: 0.0392 - accuracy: 0.9866 - val_loss: 0.6229 - val_accuracy: 0.8831\n",
      "Epoch 12/500\n",
      "429/429 [==============================] - 60s 139ms/step - loss: 0.0654 - accuracy: 0.9781 - val_loss: 0.5056 - val_accuracy: 0.9005\n",
      "Epoch 13/500\n",
      "429/429 [==============================] - 59s 138ms/step - loss: 0.0541 - accuracy: 0.9851 - val_loss: 0.4647 - val_accuracy: 0.8912\n",
      "Epoch 14/500\n",
      "429/429 [==============================] - 60s 139ms/step - loss: 0.0375 - accuracy: 0.9869 - val_loss: 0.3754 - val_accuracy: 0.9086\n",
      "Epoch 15/500\n",
      "429/429 [==============================] - 58s 135ms/step - loss: 0.0420 - accuracy: 0.9878 - val_loss: 0.4690 - val_accuracy: 0.8935\n",
      "Epoch 16/500\n",
      "429/429 [==============================] - 60s 139ms/step - loss: 0.0410 - accuracy: 0.9851 - val_loss: 0.4780 - val_accuracy: 0.8843\n",
      "Epoch 17/500\n",
      "429/429 [==============================] - 59s 138ms/step - loss: 0.0432 - accuracy: 0.9840 - val_loss: 0.4542 - val_accuracy: 0.9051\n",
      "Epoch 18/500\n",
      "429/429 [==============================] - 58s 135ms/step - loss: 0.0359 - accuracy: 0.9895 - val_loss: 0.3959 - val_accuracy: 0.9201\n",
      "Epoch 19/500\n",
      "429/429 [==============================] - 59s 138ms/step - loss: 0.0435 - accuracy: 0.9857 - val_loss: 0.4898 - val_accuracy: 0.8981\n",
      "Epoch 20/500\n",
      "429/429 [==============================] - 58s 135ms/step - loss: 0.0266 - accuracy: 0.9898 - val_loss: 0.5384 - val_accuracy: 0.9109\n",
      "Epoch 21/500\n",
      "429/429 [==============================] - 59s 138ms/step - loss: 0.0462 - accuracy: 0.9843 - val_loss: 0.4462 - val_accuracy: 0.9086\n",
      "Epoch 22/500\n",
      "429/429 [==============================] - 59s 138ms/step - loss: 0.0610 - accuracy: 0.9784 - val_loss: 0.7118 - val_accuracy: 0.8692\n",
      "Epoch 23/500\n",
      "429/429 [==============================] - 58s 135ms/step - loss: 0.0432 - accuracy: 0.9878 - val_loss: 0.4749 - val_accuracy: 0.9039\n",
      "Epoch 24/500\n",
      "429/429 [==============================] - 60s 139ms/step - loss: 0.0440 - accuracy: 0.9866 - val_loss: 0.5150 - val_accuracy: 0.8958\n",
      "Epoch 25/500\n",
      "429/429 [==============================] - 58s 135ms/step - loss: 0.0360 - accuracy: 0.9886 - val_loss: 0.4989 - val_accuracy: 0.8981\n",
      "Epoch 26/500\n",
      "429/429 [==============================] - 59s 138ms/step - loss: 0.0400 - accuracy: 0.9875 - val_loss: 0.4742 - val_accuracy: 0.9097\n",
      "Epoch 27/500\n",
      "429/429 [==============================] - 57s 132ms/step - loss: 0.0441 - accuracy: 0.9866 - val_loss: 0.6222 - val_accuracy: 0.8831\n",
      "Epoch 28/500\n",
      "429/429 [==============================] - 59s 138ms/step - loss: 0.0320 - accuracy: 0.9883 - val_loss: 0.5046 - val_accuracy: 0.9109\n",
      "Epoch 29/500\n",
      "429/429 [==============================] - 60s 140ms/step - loss: 0.0295 - accuracy: 0.9883 - val_loss: 0.4209 - val_accuracy: 0.9097\n",
      "Epoch 30/500\n",
      "429/429 [==============================] - 59s 138ms/step - loss: 0.0378 - accuracy: 0.9878 - val_loss: 0.5950 - val_accuracy: 0.8900\n",
      "Epoch 31/500\n",
      "429/429 [==============================] - 58s 135ms/step - loss: 0.0405 - accuracy: 0.9878 - val_loss: 0.5570 - val_accuracy: 0.8912\n",
      "Epoch 32/500\n",
      "429/429 [==============================] - 58s 136ms/step - loss: 0.0457 - accuracy: 0.9860 - val_loss: 0.4943 - val_accuracy: 0.9016\n",
      "Epoch 33/500\n",
      "429/429 [==============================] - 59s 137ms/step - loss: 0.0473 - accuracy: 0.9840 - val_loss: 0.4978 - val_accuracy: 0.9144\n",
      "Epoch 34/500\n",
      "429/429 [==============================] - 58s 134ms/step - loss: 0.0304 - accuracy: 0.9921 - val_loss: 0.4331 - val_accuracy: 0.9178\n",
      "Epoch 35/500\n",
      "429/429 [==============================] - 60s 139ms/step - loss: 0.0310 - accuracy: 0.9907 - val_loss: 0.5279 - val_accuracy: 0.8981\n",
      "Epoch 36/500\n",
      "429/429 [==============================] - 57s 133ms/step - loss: 0.0230 - accuracy: 0.9921 - val_loss: 0.4612 - val_accuracy: 0.9074\n",
      "Epoch 37/500\n",
      "429/429 [==============================] - 57s 134ms/step - loss: 0.0365 - accuracy: 0.9892 - val_loss: 0.4277 - val_accuracy: 0.9155\n",
      "Epoch 38/500\n",
      "429/429 [==============================] - 57s 133ms/step - loss: 0.0355 - accuracy: 0.9881 - val_loss: 0.4360 - val_accuracy: 0.9144\n"
     ]
    }
   ],
   "source": [
    "# Train the model\n",
    "eff_net_model_history = eff_net_model.fit(\n",
    "    x = train_gen,\n",
    "    batch_size = 256,\n",
    "    epochs = epochs,\n",
    "    validation_data = valid_gen,\n",
    "    callbacks = [tfk.callbacks.EarlyStopping(monitor='val_accuracy', mode='max', patience=patience, restore_best_weights=True)],\n",
    ").history"
   ]
  },
  {
   "cell_type": "code",
   "execution_count": 25,
   "id": "42d4c15f",
   "metadata": {
    "execution": {
     "iopub.execute_input": "2022-11-21T18:59:52.033086Z",
     "iopub.status.busy": "2022-11-21T18:59:52.032702Z",
     "iopub.status.idle": "2022-11-21T18:59:52.614773Z",
     "shell.execute_reply": "2022-11-21T18:59:52.613847Z"
    },
    "papermill": {
     "duration": 4.128379,
     "end_time": "2022-11-21T18:59:52.616947",
     "exception": false,
     "start_time": "2022-11-21T18:59:48.488568",
     "status": "completed"
    },
    "tags": []
   },
   "outputs": [
    {
     "data": {
      "image/png": "[encoded data removed]",
      "text/plain": [
       "<Figure size 1080x360 with 1 Axes>"
      ]
     },
     "metadata": {
      "needs_background": "light"
     },
     "output_type": "display_data"
    },
    {
     "data": {
      "image/png": "[encoded data removed]",
      "text/plain": [
       "<Figure size 1080x360 with 1 Axes>"
      ]
     },
     "metadata": {
      "needs_background": "light"
     },
     "output_type": "display_data"
    }
   ],
   "source": [
    "# Plot the training\n",
    "plt.figure(figsize=(15,5))\n",
    "plt.plot(eff_net_model_history['loss'], label='Loss', alpha=.3, color='#ff7f0e', linestyle='--')\n",
    "plt.plot(eff_net_model_history['val_loss'], label='Val loss', alpha=.8, color='#ff7f0e')\n",
    "plt.legend(loc='upper left')\n",
    "plt.title('Categorical Crossentropy')\n",
    "plt.grid(alpha=.3)\n",
    "plt.savefig(model_name + \"cat_cr_en.png\")\n",
    "\n",
    "plt.figure(figsize=(15,5))\n",
    "plt.plot(eff_net_model_history['accuracy'], label='Accuracy', alpha=.3, color='#ff7f0e', linestyle='--')\n",
    "plt.plot(eff_net_model_history['val_accuracy'], label='Val accuracy', alpha=.8, color='#ff7f0e')\n",
    "plt.legend(loc='upper left')\n",
    "plt.title('Accuracy')\n",
    "plt.grid(alpha=.3)\n",
    "plt.savefig(model_name + \"acc.png\")\n",
    "\n",
    "plt.show()"
   ]
  },
  {
   "cell_type": "code",
   "execution_count": 26,
   "id": "2c59f4e2",
   "metadata": {
    "execution": {
     "iopub.execute_input": "2022-11-21T19:00:00.156546Z",
     "iopub.status.busy": "2022-11-21T19:00:00.156180Z",
     "iopub.status.idle": "2022-11-21T19:01:26.929771Z",
     "shell.execute_reply": "2022-11-21T19:01:26.928732Z"
    },
    "papermill": {
     "duration": 90.652658,
     "end_time": "2022-11-21T19:01:26.932681",
     "exception": false,
     "start_time": "2022-11-21T18:59:56.280023",
     "status": "completed"
    },
    "tags": []
   },
   "outputs": [],
   "source": [
    "# Save model\n",
    "eff_net_model.save(model_name)"
   ]
  },
  {
   "cell_type": "markdown",
   "id": "ea12a635",
   "metadata": {
    "papermill": {
     "duration": 3.959503,
     "end_time": "2022-11-21T19:01:34.484791",
     "exception": false,
     "start_time": "2022-11-21T19:01:30.525288",
     "status": "completed"
    },
    "tags": []
   },
   "source": [
    "## Training"
   ]
  },
  {
   "cell_type": "code",
   "execution_count": 27,
   "id": "c6d8f08d",
   "metadata": {
    "execution": {
     "iopub.execute_input": "2022-11-21T19:01:42.024793Z",
     "iopub.status.busy": "2022-11-21T19:01:42.024415Z",
     "iopub.status.idle": "2022-11-21T19:01:45.326794Z",
     "shell.execute_reply": "2022-11-21T19:01:45.325828Z"
    },
    "papermill": {
     "duration": 6.980229,
     "end_time": "2022-11-21T19:01:45.328751",
     "exception": false,
     "start_time": "2022-11-21T19:01:38.348522",
     "status": "completed"
    },
    "tags": []
   },
   "outputs": [
    {
     "name": "stdout",
     "output_type": "stream",
     "text": [
      "108/108 [==============================] - 3s 29ms/step - loss: 0.3861 - accuracy: 0.9213\n",
      "\n",
      "Val metrics\n",
      "{'loss': 0.38605380058288574, 'accuracy': 0.9212962985038757}\n"
     ]
    }
   ],
   "source": [
    "# Evaluate on val\n",
    "val_metrics = eff_net_model.evaluate(valid_gen, return_dict=True)\n",
    "\n",
    "print()\n",
    "print(\"Val metrics\")\n",
    "print(val_metrics)"
   ]
  },
  {
   "cell_type": "code",
   "execution_count": 28,
   "id": "420feaec",
   "metadata": {
    "execution": {
     "iopub.execute_input": "2022-11-21T19:01:53.208044Z",
     "iopub.status.busy": "2022-11-21T19:01:53.207668Z",
     "iopub.status.idle": "2022-11-21T19:01:53.215255Z",
     "shell.execute_reply": "2022-11-21T19:01:53.214249Z"
    },
    "papermill": {
     "duration": 3.991494,
     "end_time": "2022-11-21T19:01:53.217460",
     "exception": false,
     "start_time": "2022-11-21T19:01:49.225966",
     "status": "completed"
    },
    "tags": []
   },
   "outputs": [
    {
     "data": {
      "text/plain": [
       "'/kaggle/working/Efficient_net_from_6d_trainable_only_GAP.zip'"
      ]
     },
     "execution_count": 28,
     "metadata": {},
     "output_type": "execute_result"
    }
   ],
   "source": [
    "# Make zip archive for download\n",
    "import shutil\n",
    "shutil.make_archive(model_name, 'zip', \"/kaggle/working/EfficientNet\")"
   ]
  }
 ],
 "metadata": {
  "kernelspec": {
   "display_name": "Python 3.10.2 64-bit",
   "language": "python",
   "name": "python3"
  },
  "language_info": {
   "codemirror_mode": {
    "name": "ipython",
    "version": 3
   },
   "file_extension": ".py",
   "mimetype": "text/x-python",
   "name": "python",
   "nbconvert_exporter": "python",
   "pygments_lexer": "ipython3",
   "version": "3.10.2"
  },
  "papermill": {
   "default_parameters": {},
   "duration": 9504.519754,
   "end_time": "2022-11-21T19:01:59.925272",
   "environment_variables": {},
   "exception": null,
   "input_path": "__notebook__.ipynb",
   "output_path": "__notebook__.ipynb",
   "parameters": {},
   "start_time": "2022-11-21T16:23:35.405518",
   "version": "2.3.4"
  },
  "vscode": {
   "interpreter": {
    "hash": "6847c98a8f86b01c6a19c518cd2f366693b80566b266804d5ca763cbb223f52b"
   }
  }
 },
 "nbformat": 4,
 "nbformat_minor": 5
}
