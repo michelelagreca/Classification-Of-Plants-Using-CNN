{
 "cells": [
  {
   "cell_type": "markdown",
   "id": "631347ec",
   "metadata": {
    "papermill": {
     "duration": 0.021567,
     "end_time": "2022-11-19T16:57:38.765824",
     "exception": false,
     "start_time": "2022-11-19T16:57:38.744257",
     "status": "completed"
    },
    "tags": []
   },
   "source": [
    "## Prelimiary Operations"
   ]
  },
  {
   "cell_type": "markdown",
   "id": "53e0f6da",
   "metadata": {
    "papermill": {
     "duration": 0.019548,
     "end_time": "2022-11-19T16:57:38.805934",
     "exception": false,
     "start_time": "2022-11-19T16:57:38.786386",
     "status": "completed"
    },
    "tags": []
   },
   "source": [
    "### Manage the directories"
   ]
  },
  {
   "cell_type": "code",
   "execution_count": 1,
   "id": "2c71c218",
   "metadata": {
    "execution": {
     "iopub.execute_input": "2022-11-19T16:57:38.926750Z",
     "iopub.status.busy": "2022-11-19T16:57:38.926117Z",
     "iopub.status.idle": "2022-11-19T16:57:38.957757Z",
     "shell.execute_reply": "2022-11-19T16:57:38.958210Z",
     "shell.execute_reply.started": "2022-11-19T16:57:03.776695Z"
    },
    "papermill": {
     "duration": 0.132562,
     "end_time": "2022-11-19T16:57:38.958476",
     "exception": false,
     "start_time": "2022-11-19T16:57:38.825914",
     "status": "completed"
    },
    "tags": []
   },
   "outputs": [
    {
     "data": {
      "text/plain": [
       "['val', 'test', 'train']"
      ]
     },
     "execution_count": 1,
     "metadata": {},
     "output_type": "execute_result"
    }
   ],
   "source": [
    "# Not important\n",
    "import os\n",
    "os.listdir(\"../input/an2dlhw1bal-dataset/splitted_dataset\")"
   ]
  },
  {
   "cell_type": "code",
   "execution_count": 2,
   "id": "3a501ca6",
   "metadata": {
    "execution": {
     "iopub.execute_input": "2022-11-19T16:57:39.003620Z",
     "iopub.status.busy": "2022-11-19T16:57:39.002897Z",
     "iopub.status.idle": "2022-11-19T16:57:39.005505Z",
     "shell.execute_reply": "2022-11-19T16:57:39.005114Z",
     "shell.execute_reply.started": "2022-11-19T16:57:03.788910Z"
    },
    "papermill": {
     "duration": 0.025788,
     "end_time": "2022-11-19T16:57:39.005611",
     "exception": false,
     "start_time": "2022-11-19T16:57:38.979823",
     "status": "completed"
    },
    "tags": []
   },
   "outputs": [],
   "source": [
    "# To delete a folder\n",
    "import shutil\n",
    "if os.path.exists(\"/kaggle/working/andrea\"):\n",
    "    shutil.rmtree(\"/kaggle/working/andrea\")"
   ]
  },
  {
   "cell_type": "code",
   "execution_count": 3,
   "id": "1d54a331",
   "metadata": {
    "execution": {
     "iopub.execute_input": "2022-11-19T16:57:39.049191Z",
     "iopub.status.busy": "2022-11-19T16:57:39.048455Z",
     "iopub.status.idle": "2022-11-19T16:57:39.050478Z",
     "shell.execute_reply": "2022-11-19T16:57:39.050858Z",
     "shell.execute_reply.started": "2022-11-19T16:57:03.795140Z"
    },
    "papermill": {
     "duration": 0.025862,
     "end_time": "2022-11-19T16:57:39.050988",
     "exception": false,
     "start_time": "2022-11-19T16:57:39.025126",
     "status": "completed"
    },
    "tags": []
   },
   "outputs": [],
   "source": [
    "# to remove a file\n",
    "import os\n",
    "if os.path.exists(\"/kaggle/working/model.png\"):\n",
    "    os.remove(\"/kaggle/working/model.png\")"
   ]
  },
  {
   "cell_type": "code",
   "execution_count": 4,
   "id": "3d55233b",
   "metadata": {
    "execution": {
     "iopub.execute_input": "2022-11-19T16:57:39.094463Z",
     "iopub.status.busy": "2022-11-19T16:57:39.093794Z",
     "iopub.status.idle": "2022-11-19T16:57:39.095887Z",
     "shell.execute_reply": "2022-11-19T16:57:39.096282Z",
     "shell.execute_reply.started": "2022-11-19T16:57:03.806597Z"
    },
    "papermill": {
     "duration": 0.026047,
     "end_time": "2022-11-19T16:57:39.096399",
     "exception": false,
     "start_time": "2022-11-19T16:57:39.070352",
     "status": "completed"
    },
    "tags": []
   },
   "outputs": [],
   "source": [
    "# to create a folder\n",
    "import os\n",
    "directory = \"VGG16\"\n",
    "parent_dir = \"/kaggle/working\"\n",
    "path = os.path.join(parent_dir, directory)\n",
    "if not os.path.exists(path):\n",
    "    os.mkdir(path)"
   ]
  },
  {
   "cell_type": "code",
   "execution_count": 5,
   "id": "6e85a48e",
   "metadata": {
    "execution": {
     "iopub.execute_input": "2022-11-19T16:57:39.138683Z",
     "iopub.status.busy": "2022-11-19T16:57:39.137958Z",
     "iopub.status.idle": "2022-11-19T16:57:39.140528Z",
     "shell.execute_reply": "2022-11-19T16:57:39.140063Z",
     "shell.execute_reply.started": "2022-11-19T16:57:03.818077Z"
    },
    "papermill": {
     "duration": 0.025174,
     "end_time": "2022-11-19T16:57:39.140659",
     "exception": false,
     "start_time": "2022-11-19T16:57:39.115485",
     "status": "completed"
    },
    "tags": []
   },
   "outputs": [],
   "source": [
    "# make a folder zip file and downloadable\n",
    "#import shutil\n",
    "#shutil.make_archive(\"kaggle_model2\", 'zip', \"/kaggle/working\")"
   ]
  },
  {
   "cell_type": "markdown",
   "id": "cf7d0b19",
   "metadata": {
    "papermill": {
     "duration": 0.019318,
     "end_time": "2022-11-19T16:57:39.179406",
     "exception": false,
     "start_time": "2022-11-19T16:57:39.160088",
     "status": "completed"
    },
    "tags": []
   },
   "source": [
    "### Operations"
   ]
  },
  {
   "cell_type": "code",
   "execution_count": 6,
   "id": "054e5fe0",
   "metadata": {
    "execution": {
     "iopub.execute_input": "2022-11-19T16:57:39.223050Z",
     "iopub.status.busy": "2022-11-19T16:57:39.222356Z",
     "iopub.status.idle": "2022-11-19T16:57:43.883845Z",
     "shell.execute_reply": "2022-11-19T16:57:43.883330Z",
     "shell.execute_reply.started": "2022-11-19T16:57:03.826095Z"
    },
    "papermill": {
     "duration": 4.685068,
     "end_time": "2022-11-19T16:57:43.883986",
     "exception": false,
     "start_time": "2022-11-19T16:57:39.198918",
     "status": "completed"
    },
    "tags": []
   },
   "outputs": [
    {
     "name": "stderr",
     "output_type": "stream",
     "text": [
      "2022-11-19 16:57:39.713806: I tensorflow/stream_executor/platform/default/dso_loader.cc:49] Successfully opened dynamic library libcudart.so.11.0\n"
     ]
    }
   ],
   "source": [
    "import tensorflow as tf\n",
    "import numpy as np\n",
    "import os\n",
    "import random\n",
    "import pandas as pd\n",
    "import seaborn as sns\n",
    "import matplotlib as mpl\n",
    "import matplotlib.pyplot as plt\n",
    "from sklearn.model_selection import train_test_split\n",
    "from sklearn.metrics import accuracy_score, f1_score, precision_score, recall_score\n",
    "from sklearn.metrics import confusion_matrix\n",
    "from PIL import Image\n",
    "\n",
    "tfk = tf.keras\n",
    "tfkl = tf.keras.layers"
   ]
  },
  {
   "cell_type": "code",
   "execution_count": 7,
   "id": "bc627ff9",
   "metadata": {
    "execution": {
     "iopub.execute_input": "2022-11-19T16:57:43.929664Z",
     "iopub.status.busy": "2022-11-19T16:57:43.929035Z",
     "iopub.status.idle": "2022-11-19T16:57:43.931621Z",
     "shell.execute_reply": "2022-11-19T16:57:43.932163Z",
     "shell.execute_reply.started": "2022-11-19T16:57:03.839227Z"
    },
    "papermill": {
     "duration": 0.028245,
     "end_time": "2022-11-19T16:57:43.932341",
     "exception": false,
     "start_time": "2022-11-19T16:57:43.904096",
     "status": "completed"
    },
    "tags": []
   },
   "outputs": [],
   "source": [
    "# Random seed for reproducibility\n",
    "seed = 42\n",
    "\n",
    "random.seed(seed)\n",
    "os.environ['PYTHONHASHSEED'] = str(seed)\n",
    "np.random.seed(seed)\n",
    "tf.random.set_seed(seed)\n",
    "tf.compat.v1.set_random_seed(seed)"
   ]
  },
  {
   "cell_type": "code",
   "execution_count": 8,
   "id": "3512cca3",
   "metadata": {
    "execution": {
     "iopub.execute_input": "2022-11-19T16:57:43.978439Z",
     "iopub.status.busy": "2022-11-19T16:57:43.976866Z",
     "iopub.status.idle": "2022-11-19T16:57:43.979077Z",
     "shell.execute_reply": "2022-11-19T16:57:43.979471Z",
     "shell.execute_reply.started": "2022-11-19T16:57:03.851689Z"
    },
    "papermill": {
     "duration": 0.027573,
     "end_time": "2022-11-19T16:57:43.979589",
     "exception": false,
     "start_time": "2022-11-19T16:57:43.952016",
     "status": "completed"
    },
    "tags": []
   },
   "outputs": [],
   "source": [
    "import warnings\n",
    "import logging\n",
    "\n",
    "os.environ['TF_CPP_MIN_LOG_LEVEL'] = '2'\n",
    "warnings.simplefilter(action='ignore', category=FutureWarning)\n",
    "warnings.simplefilter(action='ignore', category=Warning)\n",
    "tf.get_logger().setLevel('INFO')\n",
    "tf.autograph.set_verbosity(0)\n",
    "\n",
    "tf.get_logger().setLevel(logging.ERROR)\n",
    "tf.get_logger().setLevel('ERROR')\n",
    "tf.compat.v1.logging.set_verbosity(tf.compat.v1.logging.ERROR)"
   ]
  },
  {
   "cell_type": "markdown",
   "id": "e9f756a9",
   "metadata": {
    "papermill": {
     "duration": 0.019246,
     "end_time": "2022-11-19T16:57:44.018316",
     "exception": false,
     "start_time": "2022-11-19T16:57:43.999070",
     "status": "completed"
    },
    "tags": []
   },
   "source": [
    "## Importing data"
   ]
  },
  {
   "cell_type": "code",
   "execution_count": 9,
   "id": "01ebf7c7",
   "metadata": {
    "execution": {
     "iopub.execute_input": "2022-11-19T16:57:44.062099Z",
     "iopub.status.busy": "2022-11-19T16:57:44.061353Z",
     "iopub.status.idle": "2022-11-19T16:57:44.063910Z",
     "shell.execute_reply": "2022-11-19T16:57:44.063458Z",
     "shell.execute_reply.started": "2022-11-19T16:57:03.861625Z"
    },
    "papermill": {
     "duration": 0.025859,
     "end_time": "2022-11-19T16:57:44.064035",
     "exception": false,
     "start_time": "2022-11-19T16:57:44.038176",
     "status": "completed"
    },
    "tags": []
   },
   "outputs": [],
   "source": [
    "# Dataset folders. No test folder. Test is performed on online test set\n",
    "dataset_dir = '../input/splitted-dataset-no-test/splitted_dataset_no_test'\n",
    "training_dir = os.path.join(dataset_dir, 'train')\n",
    "validation_dir = os.path.join(dataset_dir, 'val')"
   ]
  },
  {
   "cell_type": "code",
   "execution_count": 10,
   "id": "cfedfedf",
   "metadata": {
    "execution": {
     "iopub.execute_input": "2022-11-19T16:57:44.106340Z",
     "iopub.status.busy": "2022-11-19T16:57:44.105585Z",
     "iopub.status.idle": "2022-11-19T16:57:44.109524Z",
     "shell.execute_reply": "2022-11-19T16:57:44.109117Z",
     "shell.execute_reply.started": "2022-11-19T16:57:03.871490Z"
    },
    "papermill": {
     "duration": 0.025766,
     "end_time": "2022-11-19T16:57:44.109645",
     "exception": false,
     "start_time": "2022-11-19T16:57:44.083879",
     "status": "completed"
    },
    "tags": []
   },
   "outputs": [],
   "source": [
    "img_height = 96\n",
    "img_width =96\n",
    "batch_size = 32"
   ]
  },
  {
   "cell_type": "code",
   "execution_count": 11,
   "id": "72927d0f",
   "metadata": {
    "execution": {
     "iopub.execute_input": "2022-11-19T16:57:44.155965Z",
     "iopub.status.busy": "2022-11-19T16:57:44.155243Z",
     "iopub.status.idle": "2022-11-19T16:57:44.782231Z",
     "shell.execute_reply": "2022-11-19T16:57:44.783143Z",
     "shell.execute_reply.started": "2022-11-19T16:57:04.031313Z"
    },
    "papermill": {
     "duration": 0.653821,
     "end_time": "2022-11-19T16:57:44.783381",
     "exception": false,
     "start_time": "2022-11-19T16:57:44.129560",
     "status": "completed"
    },
    "tags": []
   },
   "outputs": [
    {
     "name": "stdout",
     "output_type": "stream",
     "text": [
      "Found 3432 images belonging to 8 classes.\n",
      "Found 864 images belonging to 8 classes.\n"
     ]
    }
   ],
   "source": [
    "# Images are divided into folders, one for each class. \n",
    "# If the images are organized in such a way, we can exploit the \n",
    "# ImageDataGenerator to read them from disk.\n",
    "from tensorflow.keras.preprocessing.image import ImageDataGenerator\n",
    "\n",
    "# Create an instance of ImageDataGenerator, and for the training with Data Augmentation\n",
    "\n",
    "# Use this for data augmentation. With no rescaling\n",
    "train_data_gen = ImageDataGenerator(rotation_range=15,\n",
    "                                        height_shift_range=0.2,\n",
    "                                        width_shift_range=0.2,\n",
    "                                        zoom_range=0.2,\n",
    "                                        horizontal_flip=True,\n",
    "                                        shear_range=0.2,\n",
    "                                        fill_mode='reflect')\n",
    "\n",
    "# Use this for no data augmentation. No rescaling\n",
    "#train_data_gen = ImageDataGenerator()\n",
    "valid_data_gen = ImageDataGenerator()\n",
    "\n",
    "# Obtain a data generator with the 'ImageDataGenerator.flow_from_directory' method\n",
    "train_gen = train_data_gen.flow_from_directory(directory=training_dir,\n",
    "                                                       target_size=(96,96),\n",
    "                                                       color_mode='rgb',\n",
    "                                                       classes=None, # can be set to labels\n",
    "                                                       class_mode='categorical',\n",
    "                                                       batch_size=8,\n",
    "                                                       shuffle=True,\n",
    "                                                       seed=seed)\n",
    "\n",
    "valid_gen = valid_data_gen.flow_from_directory(directory=validation_dir,\n",
    "                                               target_size=(96,96),\n",
    "                                               color_mode='rgb',\n",
    "                                               classes=None, # can be set to labels\n",
    "                                               class_mode='categorical',\n",
    "                                               batch_size=8,\n",
    "                                               shuffle=False,\n",
    "                                               seed=seed)"
   ]
  },
  {
   "cell_type": "markdown",
   "id": "2453a407",
   "metadata": {
    "papermill": {
     "duration": 0.033301,
     "end_time": "2022-11-19T16:57:44.859056",
     "exception": false,
     "start_time": "2022-11-19T16:57:44.825755",
     "status": "completed"
    },
    "tags": []
   },
   "source": [
    "## Model"
   ]
  },
  {
   "cell_type": "code",
   "execution_count": 12,
   "id": "b3ee58c4",
   "metadata": {
    "execution": {
     "iopub.execute_input": "2022-11-19T16:57:44.925743Z",
     "iopub.status.busy": "2022-11-19T16:57:44.924125Z",
     "iopub.status.idle": "2022-11-19T16:57:45.936897Z",
     "shell.execute_reply": "2022-11-19T16:57:45.936078Z",
     "shell.execute_reply.started": "2022-11-19T16:57:04.429163Z"
    },
    "papermill": {
     "duration": 1.046072,
     "end_time": "2022-11-19T16:57:45.937032",
     "exception": false,
     "start_time": "2022-11-19T16:57:44.890960",
     "status": "completed"
    },
    "tags": []
   },
   "outputs": [],
   "source": [
    "!cd /kaggle/working/VGG16"
   ]
  },
  {
   "cell_type": "code",
   "execution_count": 13,
   "id": "991d8f43",
   "metadata": {
    "execution": {
     "iopub.execute_input": "2022-11-19T16:57:45.987362Z",
     "iopub.status.busy": "2022-11-19T16:57:45.986847Z",
     "iopub.status.idle": "2022-11-19T16:57:52.989917Z",
     "shell.execute_reply": "2022-11-19T16:57:52.990350Z",
     "shell.execute_reply.started": "2022-11-19T16:57:05.391311Z"
    },
    "papermill": {
     "duration": 7.032344,
     "end_time": "2022-11-19T16:57:52.990502",
     "exception": false,
     "start_time": "2022-11-19T16:57:45.958158",
     "status": "completed"
    },
    "tags": []
   },
   "outputs": [
    {
     "name": "stderr",
     "output_type": "stream",
     "text": [
      "2022-11-19 16:57:46.011115: I tensorflow/compiler/jit/xla_cpu_device.cc:41] Not creating XLA devices, tf_xla_enable_xla_devices not set\n",
      "2022-11-19 16:57:46.014186: I tensorflow/stream_executor/platform/default/dso_loader.cc:49] Successfully opened dynamic library libcuda.so.1\n",
      "2022-11-19 16:57:46.071848: I tensorflow/stream_executor/cuda/cuda_gpu_executor.cc:941] successful NUMA node read from SysFS had negative value (-1), but there must be at least one NUMA node, so returning NUMA node zero\n",
      "2022-11-19 16:57:46.072596: I tensorflow/core/common_runtime/gpu/gpu_device.cc:1720] Found device 0 with properties: \n",
      "pciBusID: 0000:00:04.0 name: Tesla P100-PCIE-16GB computeCapability: 6.0\n",
      "coreClock: 1.3285GHz coreCount: 56 deviceMemorySize: 15.90GiB deviceMemoryBandwidth: 681.88GiB/s\n",
      "2022-11-19 16:57:46.072692: I tensorflow/stream_executor/platform/default/dso_loader.cc:49] Successfully opened dynamic library libcudart.so.11.0\n",
      "2022-11-19 16:57:46.097489: I tensorflow/stream_executor/platform/default/dso_loader.cc:49] Successfully opened dynamic library libcublas.so.11\n",
      "2022-11-19 16:57:46.097598: I tensorflow/stream_executor/platform/default/dso_loader.cc:49] Successfully opened dynamic library libcublasLt.so.11\n",
      "2022-11-19 16:57:46.114853: I tensorflow/stream_executor/platform/default/dso_loader.cc:49] Successfully opened dynamic library libcufft.so.10\n",
      "2022-11-19 16:57:46.121201: I tensorflow/stream_executor/platform/default/dso_loader.cc:49] Successfully opened dynamic library libcurand.so.10\n",
      "2022-11-19 16:57:46.144287: I tensorflow/stream_executor/platform/default/dso_loader.cc:49] Successfully opened dynamic library libcusolver.so.10\n",
      "2022-11-19 16:57:46.151263: I tensorflow/stream_executor/platform/default/dso_loader.cc:49] Successfully opened dynamic library libcusparse.so.11\n",
      "2022-11-19 16:57:46.153565: I tensorflow/stream_executor/platform/default/dso_loader.cc:49] Successfully opened dynamic library libcudnn.so.8\n",
      "2022-11-19 16:57:46.153759: I tensorflow/stream_executor/cuda/cuda_gpu_executor.cc:941] successful NUMA node read from SysFS had negative value (-1), but there must be at least one NUMA node, so returning NUMA node zero\n",
      "2022-11-19 16:57:46.154616: I tensorflow/stream_executor/cuda/cuda_gpu_executor.cc:941] successful NUMA node read from SysFS had negative value (-1), but there must be at least one NUMA node, so returning NUMA node zero\n",
      "2022-11-19 16:57:46.156144: I tensorflow/core/common_runtime/gpu/gpu_device.cc:1862] Adding visible gpu devices: 0\n",
      "2022-11-19 16:57:46.157411: I tensorflow/core/platform/cpu_feature_guard.cc:142] This TensorFlow binary is optimized with oneAPI Deep Neural Network Library (oneDNN) to use the following CPU instructions in performance-critical operations:  AVX2 AVX512F FMA\n",
      "To enable them in other operations, rebuild TensorFlow with the appropriate compiler flags.\n",
      "2022-11-19 16:57:46.157672: I tensorflow/compiler/jit/xla_gpu_device.cc:99] Not creating XLA devices, tf_xla_enable_xla_devices not set\n",
      "2022-11-19 16:57:46.157852: I tensorflow/stream_executor/cuda/cuda_gpu_executor.cc:941] successful NUMA node read from SysFS had negative value (-1), but there must be at least one NUMA node, so returning NUMA node zero\n",
      "2022-11-19 16:57:46.158680: I tensorflow/core/common_runtime/gpu/gpu_device.cc:1720] Found device 0 with properties: \n",
      "pciBusID: 0000:00:04.0 name: Tesla P100-PCIE-16GB computeCapability: 6.0\n",
      "coreClock: 1.3285GHz coreCount: 56 deviceMemorySize: 15.90GiB deviceMemoryBandwidth: 681.88GiB/s\n",
      "2022-11-19 16:57:46.158746: I tensorflow/stream_executor/platform/default/dso_loader.cc:49] Successfully opened dynamic library libcudart.so.11.0\n",
      "2022-11-19 16:57:46.158785: I tensorflow/stream_executor/platform/default/dso_loader.cc:49] Successfully opened dynamic library libcublas.so.11\n",
      "2022-11-19 16:57:46.158813: I tensorflow/stream_executor/platform/default/dso_loader.cc:49] Successfully opened dynamic library libcublasLt.so.11\n",
      "2022-11-19 16:57:46.158843: I tensorflow/stream_executor/platform/default/dso_loader.cc:49] Successfully opened dynamic library libcufft.so.10\n",
      "2022-11-19 16:57:46.158867: I tensorflow/stream_executor/platform/default/dso_loader.cc:49] Successfully opened dynamic library libcurand.so.10\n",
      "2022-11-19 16:57:46.158890: I tensorflow/stream_executor/platform/default/dso_loader.cc:49] Successfully opened dynamic library libcusolver.so.10\n",
      "2022-11-19 16:57:46.158921: I tensorflow/stream_executor/platform/default/dso_loader.cc:49] Successfully opened dynamic library libcusparse.so.11\n",
      "2022-11-19 16:57:46.158948: I tensorflow/stream_executor/platform/default/dso_loader.cc:49] Successfully opened dynamic library libcudnn.so.8\n",
      "2022-11-19 16:57:46.159063: I tensorflow/stream_executor/cuda/cuda_gpu_executor.cc:941] successful NUMA node read from SysFS had negative value (-1), but there must be at least one NUMA node, so returning NUMA node zero\n",
      "2022-11-19 16:57:46.159952: I tensorflow/stream_executor/cuda/cuda_gpu_executor.cc:941] successful NUMA node read from SysFS had negative value (-1), but there must be at least one NUMA node, so returning NUMA node zero\n",
      "2022-11-19 16:57:46.160714: I tensorflow/core/common_runtime/gpu/gpu_device.cc:1862] Adding visible gpu devices: 0\n",
      "2022-11-19 16:57:46.161655: I tensorflow/stream_executor/platform/default/dso_loader.cc:49] Successfully opened dynamic library libcudart.so.11.0\n",
      "2022-11-19 16:57:47.632837: I tensorflow/core/common_runtime/gpu/gpu_device.cc:1261] Device interconnect StreamExecutor with strength 1 edge matrix:\n",
      "2022-11-19 16:57:47.632883: I tensorflow/core/common_runtime/gpu/gpu_device.cc:1267]      0 \n",
      "2022-11-19 16:57:47.632894: I tensorflow/core/common_runtime/gpu/gpu_device.cc:1280] 0:   N \n",
      "2022-11-19 16:57:47.635046: I tensorflow/stream_executor/cuda/cuda_gpu_executor.cc:941] successful NUMA node read from SysFS had negative value (-1), but there must be at least one NUMA node, so returning NUMA node zero\n",
      "2022-11-19 16:57:47.635951: I tensorflow/stream_executor/cuda/cuda_gpu_executor.cc:941] successful NUMA node read from SysFS had negative value (-1), but there must be at least one NUMA node, so returning NUMA node zero\n",
      "2022-11-19 16:57:47.636616: I tensorflow/stream_executor/cuda/cuda_gpu_executor.cc:941] successful NUMA node read from SysFS had negative value (-1), but there must be at least one NUMA node, so returning NUMA node zero\n",
      "2022-11-19 16:57:47.637192: I tensorflow/core/common_runtime/gpu/gpu_device.cc:1406] Created TensorFlow device (/job:localhost/replica:0/task:0/device:GPU:0 with 14957 MB memory) -> physical GPU (device: 0, name: Tesla P100-PCIE-16GB, pci bus id: 0000:00:04.0, compute capability: 6.0)\n"
     ]
    },
    {
     "name": "stdout",
     "output_type": "stream",
     "text": [
      "Downloading data from https://storage.googleapis.com/tensorflow/keras-applications/vgg16/vgg16_weights_tf_dim_ordering_tf_kernels_notop.h5\n",
      "58892288/58889256 [==============================] - 3s 0us/step\n",
      "Model: \"vgg16\"\n",
      "_________________________________________________________________\n",
      "Layer (type)                 Output Shape              Param #   \n",
      "=================================================================\n",
      "input_1 (InputLayer)         [(None, 96, 96, 3)]       0         \n",
      "_________________________________________________________________\n",
      "block1_conv1 (Conv2D)        (None, 96, 96, 64)        1792      \n",
      "_________________________________________________________________\n",
      "block1_conv2 (Conv2D)        (None, 96, 96, 64)        36928     \n",
      "_________________________________________________________________\n",
      "block1_pool (MaxPooling2D)   (None, 48, 48, 64)        0         \n",
      "_________________________________________________________________\n",
      "block2_conv1 (Conv2D)        (None, 48, 48, 128)       73856     \n",
      "_________________________________________________________________\n",
      "block2_conv2 (Conv2D)        (None, 48, 48, 128)       147584    \n",
      "_________________________________________________________________\n",
      "block2_pool (MaxPooling2D)   (None, 24, 24, 128)       0         \n",
      "_________________________________________________________________\n",
      "block3_conv1 (Conv2D)        (None, 24, 24, 256)       295168    \n",
      "_________________________________________________________________\n",
      "block3_conv2 (Conv2D)        (None, 24, 24, 256)       590080    \n",
      "_________________________________________________________________\n",
      "block3_conv3 (Conv2D)        (None, 24, 24, 256)       590080    \n",
      "_________________________________________________________________\n",
      "block3_pool (MaxPooling2D)   (None, 12, 12, 256)       0         \n",
      "_________________________________________________________________\n",
      "block4_conv1 (Conv2D)        (None, 12, 12, 512)       1180160   \n",
      "_________________________________________________________________\n",
      "block4_conv2 (Conv2D)        (None, 12, 12, 512)       2359808   \n",
      "_________________________________________________________________\n",
      "block4_conv3 (Conv2D)        (None, 12, 12, 512)       2359808   \n",
      "_________________________________________________________________\n",
      "block4_pool (MaxPooling2D)   (None, 6, 6, 512)         0         \n",
      "_________________________________________________________________\n",
      "block5_conv1 (Conv2D)        (None, 6, 6, 512)         2359808   \n",
      "_________________________________________________________________\n",
      "block5_conv2 (Conv2D)        (None, 6, 6, 512)         2359808   \n",
      "_________________________________________________________________\n",
      "block5_conv3 (Conv2D)        (None, 6, 6, 512)         2359808   \n",
      "_________________________________________________________________\n",
      "block5_pool (MaxPooling2D)   (None, 3, 3, 512)         0         \n",
      "=================================================================\n",
      "Total params: 14,714,688\n",
      "Trainable params: 14,714,688\n",
      "Non-trainable params: 0\n",
      "_________________________________________________________________\n"
     ]
    },
    {
     "data": {
      "image/png": "[encoded data removed]",
      "text/plain": [
       "<IPython.core.display.Image object>"
      ]
     },
     "execution_count": 13,
     "metadata": {},
     "output_type": "execute_result"
    }
   ],
   "source": [
    "# Download and plot the VGG16 model\n",
    "supernet = tfk.applications.VGG16(\n",
    "    include_top=False,\n",
    "    weights=\"imagenet\",\n",
    "    input_shape=(96,96,3)\n",
    ")\n",
    "supernet.summary()\n",
    "tfk.utils.plot_model(supernet)"
   ]
  },
  {
   "cell_type": "code",
   "execution_count": 14,
   "id": "bd75db0c",
   "metadata": {
    "execution": {
     "iopub.execute_input": "2022-11-19T16:57:53.065130Z",
     "iopub.status.busy": "2022-11-19T16:57:53.064457Z",
     "iopub.status.idle": "2022-11-19T16:57:53.067314Z",
     "shell.execute_reply": "2022-11-19T16:57:53.066864Z",
     "shell.execute_reply.started": "2022-11-19T16:57:05.847922Z"
    },
    "papermill": {
     "duration": 0.041647,
     "end_time": "2022-11-19T16:57:53.067422",
     "exception": false,
     "start_time": "2022-11-19T16:57:53.025775",
     "status": "completed"
    },
    "tags": []
   },
   "outputs": [],
   "source": [
    "# Define parameters for training. Here the learning rate is higher since it is only for phase 1 of training\n",
    "input_shape = (96, 96, 3)\n",
    "epochs = 200\n",
    "l1=1e-4\n",
    "l2=1e-3\n",
    "learning_rate = 1e-2"
   ]
  },
  {
   "cell_type": "code",
   "execution_count": 15,
   "id": "322eca74",
   "metadata": {
    "execution": {
     "iopub.execute_input": "2022-11-19T16:57:53.143417Z",
     "iopub.status.busy": "2022-11-19T16:57:53.142668Z",
     "iopub.status.idle": "2022-11-19T16:57:53.144709Z",
     "shell.execute_reply": "2022-11-19T16:57:53.145090Z",
     "shell.execute_reply.started": "2022-11-19T16:57:05.856364Z"
    },
    "papermill": {
     "duration": 0.042686,
     "end_time": "2022-11-19T16:57:53.145222",
     "exception": false,
     "start_time": "2022-11-19T16:57:53.102536",
     "status": "completed"
    },
    "tags": []
   },
   "outputs": [],
   "source": [
    "# Re-load the model after transfer learning\n",
    "# tl_model = tfk.models.load_model('/kaggle/input/vgg-fine-tuned/VGG16FineTuning')\n",
    "# tl_model.summary()"
   ]
  },
  {
   "cell_type": "code",
   "execution_count": 16,
   "id": "337b5dd9",
   "metadata": {
    "execution": {
     "iopub.execute_input": "2022-11-19T16:57:53.228042Z",
     "iopub.status.busy": "2022-11-19T16:57:53.227189Z",
     "iopub.status.idle": "2022-11-19T16:57:53.690617Z",
     "shell.execute_reply": "2022-11-19T16:57:53.691249Z",
     "shell.execute_reply.started": "2022-11-19T16:57:05.865126Z"
    },
    "papermill": {
     "duration": 0.511128,
     "end_time": "2022-11-19T16:57:53.691412",
     "exception": false,
     "start_time": "2022-11-19T16:57:53.180284",
     "status": "completed"
    },
    "tags": []
   },
   "outputs": [
    {
     "name": "stdout",
     "output_type": "stream",
     "text": [
      "Model: \"model\"\n",
      "_________________________________________________________________\n",
      "Layer (type)                 Output Shape              Param #   \n",
      "=================================================================\n",
      "input_layer (InputLayer)     [(None, 96, 96, 3)]       0         \n",
      "_________________________________________________________________\n",
      "vgg16 (Functional)           (None, 3, 3, 512)         14714688  \n",
      "_________________________________________________________________\n",
      "global_average_pooling2d (Gl (None, 512)               0         \n",
      "_________________________________________________________________\n",
      "dropout (Dropout)            (None, 512)               0         \n",
      "_________________________________________________________________\n",
      "classifier1 (Dense)          (None, 512)               262656    \n",
      "_________________________________________________________________\n",
      "batch_normalization (BatchNo (None, 512)               2048      \n",
      "_________________________________________________________________\n",
      "dropout_1 (Dropout)          (None, 512)               0         \n",
      "_________________________________________________________________\n",
      "classifier2 (Dense)          (None, 64)                32832     \n",
      "_________________________________________________________________\n",
      "batch_normalization_1 (Batch (None, 64)                256       \n",
      "_________________________________________________________________\n",
      "dropout_2 (Dropout)          (None, 64)                0         \n",
      "_________________________________________________________________\n",
      "dense (Dense)                (None, 8)                 520       \n",
      "=================================================================\n",
      "Total params: 15,013,000\n",
      "Trainable params: 297,160\n",
      "Non-trainable params: 14,715,840\n",
      "_________________________________________________________________\n"
     ]
    },
    {
     "data": {
      "image/png": "[encoded data removed]",
      "text/plain": [
       "<IPython.core.display.Image object>"
      ]
     },
     "execution_count": 16,
     "metadata": {},
     "output_type": "execute_result"
    }
   ],
   "source": [
    "###### Use this if no network saved\n",
    "\n",
    "from tensorflow.python.framework.tensor_util import GetNumpyAppendFn\n",
    "\n",
    "# Use the supernet as feature extractor\n",
    "supernet.trainable = False\n",
    "# in this way we keep the weights of the CNN part and we will train only the weights of the classifier\n",
    "\n",
    "input_layer = tfkl.Input(shape=input_shape, name='input_layer')\n",
    "x = supernet(input_layer)\n",
    "x = tfkl.GlobalAveragePooling2D()(x)\n",
    "x = tfkl.Dropout(0.2, seed=seed)(x)\n",
    "x = tfkl.Dense(units=512, name='classifier1', \n",
    "               kernel_initializer=tfk.initializers.HeUniform(seed),\n",
    "               activation='relu',\n",
    "               kernel_regularizer=tfk.regularizers.L1L2(l1=l1, l2=l2))(x)\n",
    "x = tfkl.BatchNormalization()(x)\n",
    "x = tfkl.Dropout(0.3, seed=seed)(x)\n",
    "x = tfkl.Dense(units=64, name='classifier2', \n",
    "               kernel_initializer=tfk.initializers.HeUniform(seed),\n",
    "               activation='relu',\n",
    "               kernel_regularizer=tfk.regularizers.L1L2(l1=l1, l2=l2))(x)\n",
    "x = tfkl.BatchNormalization()(x)\n",
    "x = tfkl.Dropout(0.3, seed=seed)(x)\n",
    "outputs = tfkl.Dense(\n",
    "    8, \n",
    "    activation='softmax',\n",
    "    kernel_initializer = tfk.initializers.GlorotUniform(seed))(x)\n",
    "\n",
    "\n",
    "# Connect input and output through the Model class\n",
    "tl_model = tfk.Model(inputs=input_layer, outputs=outputs, name='model')\n",
    "\n",
    "# Compile the model\n",
    "tl_model.summary()\n",
    "tfk.utils.plot_model(tl_model)"
   ]
  },
  {
   "cell_type": "code",
   "execution_count": 17,
   "id": "1858ee3a",
   "metadata": {
    "execution": {
     "iopub.execute_input": "2022-11-19T16:57:53.771384Z",
     "iopub.status.busy": "2022-11-19T16:57:53.770619Z",
     "iopub.status.idle": "2022-11-19T16:57:53.772740Z",
     "shell.execute_reply": "2022-11-19T16:57:53.773145Z",
     "shell.execute_reply.started": "2022-11-19T16:57:06.150203Z"
    },
    "papermill": {
     "duration": 0.044554,
     "end_time": "2022-11-19T16:57:53.773278",
     "exception": false,
     "start_time": "2022-11-19T16:57:53.728724",
     "status": "completed"
    },
    "tags": []
   },
   "outputs": [],
   "source": [
    "# Phase 1: train only the classifier. Keep the vgg16 layer non-trainable\n",
    "tl_model.get_layer('vgg16').trainable = False"
   ]
  },
  {
   "cell_type": "code",
   "execution_count": 18,
   "id": "08a04333",
   "metadata": {
    "execution": {
     "iopub.execute_input": "2022-11-19T16:57:53.858171Z",
     "iopub.status.busy": "2022-11-19T16:57:53.857375Z",
     "iopub.status.idle": "2022-11-19T16:57:53.864362Z",
     "shell.execute_reply": "2022-11-19T16:57:53.863957Z",
     "shell.execute_reply.started": "2022-11-19T16:57:06.156968Z"
    },
    "papermill": {
     "duration": 0.055143,
     "end_time": "2022-11-19T16:57:53.864487",
     "exception": false,
     "start_time": "2022-11-19T16:57:53.809344",
     "status": "completed"
    },
    "tags": []
   },
   "outputs": [],
   "source": [
    "# Compile the model. Use RMSProp instead of Adam\n",
    "tl_model.compile(loss=tfk.losses.CategoricalCrossentropy(), optimizer=tfk.optimizers.RMSprop(learning_rate), metrics='accuracy')"
   ]
  },
  {
   "cell_type": "markdown",
   "id": "3c255a2b",
   "metadata": {
    "papermill": {
     "duration": 0.035977,
     "end_time": "2022-11-19T16:57:53.936694",
     "exception": false,
     "start_time": "2022-11-19T16:57:53.900717",
     "status": "completed"
    },
    "tags": []
   },
   "source": [
    "## Training"
   ]
  },
  {
   "cell_type": "code",
   "execution_count": 19,
   "id": "e934691f",
   "metadata": {
    "execution": {
     "iopub.execute_input": "2022-11-19T16:57:54.012968Z",
     "iopub.status.busy": "2022-11-19T16:57:54.012357Z",
     "iopub.status.idle": "2022-11-19T16:57:54.015610Z",
     "shell.execute_reply": "2022-11-19T16:57:54.015186Z",
     "shell.execute_reply.started": "2022-11-19T16:57:06.183430Z"
    },
    "papermill": {
     "duration": 0.042994,
     "end_time": "2022-11-19T16:57:54.015746",
     "exception": false,
     "start_time": "2022-11-19T16:57:53.972752",
     "status": "completed"
    },
    "tags": []
   },
   "outputs": [],
   "source": [
    "patience = 20"
   ]
  },
  {
   "cell_type": "code",
   "execution_count": 20,
   "id": "43ce7f34",
   "metadata": {
    "execution": {
     "iopub.execute_input": "2022-11-19T16:57:54.093696Z",
     "iopub.status.busy": "2022-11-19T16:57:54.093046Z",
     "iopub.status.idle": "2022-11-19T17:09:18.824099Z",
     "shell.execute_reply": "2022-11-19T17:09:18.823529Z",
     "shell.execute_reply.started": "2022-11-19T16:57:06.190723Z"
    },
    "papermill": {
     "duration": 684.772298,
     "end_time": "2022-11-19T17:09:18.824253",
     "exception": false,
     "start_time": "2022-11-19T16:57:54.051955",
     "status": "completed"
    },
    "tags": []
   },
   "outputs": [
    {
     "name": "stderr",
     "output_type": "stream",
     "text": [
      "2022-11-19 16:57:54.230601: I tensorflow/compiler/mlir/mlir_graph_optimization_pass.cc:116] None of the MLIR optimization passes are enabled (registered 2)\n",
      "2022-11-19 16:57:54.234072: I tensorflow/core/platform/profile_utils/cpu_utils.cc:112] CPU Frequency: 2000140000 Hz\n"
     ]
    },
    {
     "name": "stdout",
     "output_type": "stream",
     "text": [
      "Epoch 1/50\n"
     ]
    },
    {
     "name": "stderr",
     "output_type": "stream",
     "text": [
      "2022-11-19 16:57:55.502530: I tensorflow/stream_executor/platform/default/dso_loader.cc:49] Successfully opened dynamic library libcublas.so.11\n",
      "2022-11-19 16:57:56.331282: I tensorflow/stream_executor/platform/default/dso_loader.cc:49] Successfully opened dynamic library libcublasLt.so.11\n",
      "2022-11-19 16:57:56.350174: I tensorflow/stream_executor/platform/default/dso_loader.cc:49] Successfully opened dynamic library libcudnn.so.8\n"
     ]
    },
    {
     "name": "stdout",
     "output_type": "stream",
     "text": [
      "429/429 [==============================] - 35s 63ms/step - loss: 3.4097 - accuracy: 0.3104 - val_loss: 2.5240 - val_accuracy: 0.3507\n",
      "Epoch 2/50\n",
      "429/429 [==============================] - 14s 32ms/step - loss: 2.5461 - accuracy: 0.3328 - val_loss: 2.2218 - val_accuracy: 0.4317\n",
      "Epoch 3/50\n",
      "429/429 [==============================] - 13s 30ms/step - loss: 2.4282 - accuracy: 0.3470 - val_loss: 2.2627 - val_accuracy: 0.4155\n",
      "Epoch 4/50\n",
      "429/429 [==============================] - 13s 31ms/step - loss: 2.3829 - accuracy: 0.3391 - val_loss: 2.1085 - val_accuracy: 0.4074\n",
      "Epoch 5/50\n",
      "429/429 [==============================] - 13s 30ms/step - loss: 2.3064 - accuracy: 0.3696 - val_loss: 2.2014 - val_accuracy: 0.3854\n",
      "Epoch 6/50\n",
      "429/429 [==============================] - 13s 31ms/step - loss: 2.2857 - accuracy: 0.3518 - val_loss: 2.0304 - val_accuracy: 0.4583\n",
      "Epoch 7/50\n",
      "429/429 [==============================] - 13s 31ms/step - loss: 2.2561 - accuracy: 0.3621 - val_loss: 2.0408 - val_accuracy: 0.4375\n",
      "Epoch 8/50\n",
      "429/429 [==============================] - 13s 30ms/step - loss: 2.2495 - accuracy: 0.3631 - val_loss: 2.0723 - val_accuracy: 0.4549\n",
      "Epoch 9/50\n",
      "429/429 [==============================] - 14s 32ms/step - loss: 2.2328 - accuracy: 0.3560 - val_loss: 1.8972 - val_accuracy: 0.4583\n",
      "Epoch 10/50\n",
      "429/429 [==============================] - 13s 31ms/step - loss: 2.1668 - accuracy: 0.3757 - val_loss: 1.9531 - val_accuracy: 0.4514\n",
      "Epoch 11/50\n",
      "429/429 [==============================] - 14s 32ms/step - loss: 2.1816 - accuracy: 0.3615 - val_loss: 2.4026 - val_accuracy: 0.3310\n",
      "Epoch 12/50\n",
      "429/429 [==============================] - 13s 30ms/step - loss: 2.1506 - accuracy: 0.3768 - val_loss: 1.9714 - val_accuracy: 0.4525\n",
      "Epoch 13/50\n",
      "429/429 [==============================] - 14s 32ms/step - loss: 2.1467 - accuracy: 0.3786 - val_loss: 2.0033 - val_accuracy: 0.4178\n",
      "Epoch 14/50\n",
      "429/429 [==============================] - 13s 31ms/step - loss: 2.1458 - accuracy: 0.3476 - val_loss: 2.0288 - val_accuracy: 0.4317\n",
      "Epoch 15/50\n",
      "429/429 [==============================] - 13s 31ms/step - loss: 2.1681 - accuracy: 0.3661 - val_loss: 1.8352 - val_accuracy: 0.4769\n",
      "Epoch 16/50\n",
      "429/429 [==============================] - 14s 32ms/step - loss: 2.1716 - accuracy: 0.3631 - val_loss: 1.9406 - val_accuracy: 0.4271\n",
      "Epoch 17/50\n",
      "429/429 [==============================] - 13s 31ms/step - loss: 2.1191 - accuracy: 0.3749 - val_loss: 2.0527 - val_accuracy: 0.3958\n",
      "Epoch 18/50\n",
      "429/429 [==============================] - 13s 30ms/step - loss: 2.1129 - accuracy: 0.3840 - val_loss: 1.8766 - val_accuracy: 0.4769\n",
      "Epoch 19/50\n",
      "429/429 [==============================] - 13s 31ms/step - loss: 2.1032 - accuracy: 0.3735 - val_loss: 1.8633 - val_accuracy: 0.4618\n",
      "Epoch 20/50\n",
      "429/429 [==============================] - 13s 31ms/step - loss: 2.1226 - accuracy: 0.3645 - val_loss: 2.2759 - val_accuracy: 0.3495\n",
      "Epoch 21/50\n",
      "429/429 [==============================] - 14s 32ms/step - loss: 2.0631 - accuracy: 0.3830 - val_loss: 1.8992 - val_accuracy: 0.4572\n",
      "Epoch 22/50\n",
      "429/429 [==============================] - 14s 32ms/step - loss: 2.1155 - accuracy: 0.3840 - val_loss: 1.8910 - val_accuracy: 0.4630\n",
      "Epoch 23/50\n",
      "429/429 [==============================] - 13s 31ms/step - loss: 2.1208 - accuracy: 0.3640 - val_loss: 1.9807 - val_accuracy: 0.4086\n",
      "Epoch 24/50\n",
      "429/429 [==============================] - 13s 31ms/step - loss: 2.0671 - accuracy: 0.3988 - val_loss: 1.7939 - val_accuracy: 0.4745\n",
      "Epoch 25/50\n",
      "429/429 [==============================] - 14s 33ms/step - loss: 2.0868 - accuracy: 0.3727 - val_loss: 1.9214 - val_accuracy: 0.4062\n",
      "Epoch 26/50\n",
      "429/429 [==============================] - 13s 31ms/step - loss: 2.1257 - accuracy: 0.3610 - val_loss: 1.9418 - val_accuracy: 0.4421\n",
      "Epoch 27/50\n",
      "429/429 [==============================] - 14s 32ms/step - loss: 2.0642 - accuracy: 0.3965 - val_loss: 1.9808 - val_accuracy: 0.4363\n",
      "Epoch 28/50\n",
      "429/429 [==============================] - 13s 31ms/step - loss: 2.0914 - accuracy: 0.3834 - val_loss: 1.9851 - val_accuracy: 0.3623\n",
      "Epoch 29/50\n",
      "429/429 [==============================] - 14s 32ms/step - loss: 2.0643 - accuracy: 0.3893 - val_loss: 1.7764 - val_accuracy: 0.5127\n",
      "Epoch 30/50\n",
      "429/429 [==============================] - 14s 32ms/step - loss: 2.0890 - accuracy: 0.3614 - val_loss: 1.8222 - val_accuracy: 0.4560\n",
      "Epoch 31/50\n",
      "429/429 [==============================] - 13s 31ms/step - loss: 2.0605 - accuracy: 0.3766 - val_loss: 1.8163 - val_accuracy: 0.4907\n",
      "Epoch 32/50\n",
      "429/429 [==============================] - 14s 33ms/step - loss: 2.0618 - accuracy: 0.3569 - val_loss: 1.9109 - val_accuracy: 0.4653\n",
      "Epoch 33/50\n",
      "429/429 [==============================] - 14s 33ms/step - loss: 2.0707 - accuracy: 0.3820 - val_loss: 1.9623 - val_accuracy: 0.3889\n",
      "Epoch 34/50\n",
      "429/429 [==============================] - 15s 34ms/step - loss: 2.0481 - accuracy: 0.3813 - val_loss: 1.8284 - val_accuracy: 0.4468\n",
      "Epoch 35/50\n",
      "429/429 [==============================] - 13s 31ms/step - loss: 2.0434 - accuracy: 0.3863 - val_loss: 1.7481 - val_accuracy: 0.4699\n",
      "Epoch 36/50\n",
      "429/429 [==============================] - 13s 30ms/step - loss: 2.0489 - accuracy: 0.3967 - val_loss: 1.8952 - val_accuracy: 0.4329\n",
      "Epoch 37/50\n",
      "429/429 [==============================] - 15s 34ms/step - loss: 2.0371 - accuracy: 0.3851 - val_loss: 1.8575 - val_accuracy: 0.4375\n",
      "Epoch 38/50\n",
      "429/429 [==============================] - 13s 30ms/step - loss: 2.0275 - accuracy: 0.3767 - val_loss: 1.8993 - val_accuracy: 0.4363\n",
      "Epoch 39/50\n",
      "429/429 [==============================] - 14s 33ms/step - loss: 2.0488 - accuracy: 0.3565 - val_loss: 1.9309 - val_accuracy: 0.4306\n",
      "Epoch 40/50\n",
      "429/429 [==============================] - 13s 31ms/step - loss: 2.0383 - accuracy: 0.3712 - val_loss: 1.7112 - val_accuracy: 0.4815\n",
      "Epoch 41/50\n",
      "429/429 [==============================] - 13s 31ms/step - loss: 2.0108 - accuracy: 0.4043 - val_loss: 1.7662 - val_accuracy: 0.4907\n",
      "Epoch 42/50\n",
      "429/429 [==============================] - 14s 34ms/step - loss: 1.9915 - accuracy: 0.3884 - val_loss: 1.9149 - val_accuracy: 0.4375\n",
      "Epoch 43/50\n",
      "429/429 [==============================] - 13s 30ms/step - loss: 2.0300 - accuracy: 0.3942 - val_loss: 1.9373 - val_accuracy: 0.3970\n",
      "Epoch 44/50\n",
      "429/429 [==============================] - 14s 34ms/step - loss: 2.0176 - accuracy: 0.3707 - val_loss: 1.7916 - val_accuracy: 0.4306\n",
      "Epoch 45/50\n",
      "429/429 [==============================] - 13s 30ms/step - loss: 2.0357 - accuracy: 0.3783 - val_loss: 1.8461 - val_accuracy: 0.4572\n",
      "Epoch 46/50\n",
      "429/429 [==============================] - 13s 30ms/step - loss: 2.0386 - accuracy: 0.3748 - val_loss: 1.8021 - val_accuracy: 0.4525\n",
      "Epoch 47/50\n",
      "429/429 [==============================] - 15s 34ms/step - loss: 2.0291 - accuracy: 0.3708 - val_loss: 1.7600 - val_accuracy: 0.4780\n",
      "Epoch 48/50\n",
      "429/429 [==============================] - 13s 30ms/step - loss: 2.0492 - accuracy: 0.3616 - val_loss: 1.7996 - val_accuracy: 0.4259\n",
      "Epoch 49/50\n",
      "429/429 [==============================] - 15s 36ms/step - loss: 2.0426 - accuracy: 0.3674 - val_loss: 1.7525 - val_accuracy: 0.4653\n"
     ]
    }
   ],
   "source": [
    "# Train the model\n",
    "tl_history = tl_model.fit(\n",
    "    x = train_gen,\n",
    "    batch_size = 256,\n",
    "    epochs = 50,\n",
    "    validation_data = valid_gen,\n",
    "    callbacks = [tfk.callbacks.EarlyStopping(monitor='val_accuracy', mode='max', patience=patience, restore_best_weights=True)],\n",
    ").history"
   ]
  },
  {
   "cell_type": "code",
   "execution_count": 21,
   "id": "e3f00943",
   "metadata": {
    "execution": {
     "iopub.execute_input": "2022-11-19T17:09:23.926848Z",
     "iopub.status.busy": "2022-11-19T17:09:23.925993Z",
     "iopub.status.idle": "2022-11-19T17:09:24.556912Z",
     "shell.execute_reply": "2022-11-19T17:09:24.557328Z",
     "shell.execute_reply.started": "2022-11-19T16:57:17.483440Z"
    },
    "papermill": {
     "duration": 3.158117,
     "end_time": "2022-11-19T17:09:24.557488",
     "exception": false,
     "start_time": "2022-11-19T17:09:21.399371",
     "status": "completed"
    },
    "tags": []
   },
   "outputs": [
    {
     "data": {
      "image/png": "[encoded data removed]",
      "text/plain": [
       "<Figure size 1080x360 with 1 Axes>"
      ]
     },
     "metadata": {
      "needs_background": "light"
     },
     "output_type": "display_data"
    },
    {
     "data": {
      "image/png": "[encoded data removed]",
      "text/plain": [
       "<Figure size 1080x360 with 1 Axes>"
      ]
     },
     "metadata": {
      "needs_background": "light"
     },
     "output_type": "display_data"
    }
   ],
   "source": [
    "# Plot the training\n",
    "plt.figure(figsize=(15,5))\n",
    "plt.plot(tl_history['loss'], label='Training', alpha=.3, color='#4D61E2', linestyle='--')\n",
    "plt.plot(tl_history['val_loss'], label='Validation', alpha=.8, color='#4D61E2')\n",
    "plt.legend(loc='upper left')\n",
    "plt.title('Categorical Crossentropy')\n",
    "plt.grid(alpha=.3)\n",
    "plt.savefig(\"VGG16_fine_tuning_loss.png\")\n",
    "\n",
    "plt.figure(figsize=(15,5))\n",
    "plt.plot(tl_history['accuracy'], label='Training',alpha=.3, color='#4D61E2', linestyle='--')\n",
    "plt.plot(tl_history['val_accuracy'], label='Validation', alpha=.8, color='#4D61E2')\n",
    "plt.legend(loc='upper left')\n",
    "plt.title('Accuracy')\n",
    "plt.grid(alpha=.3)\n",
    "plt.savefig(\"VGG16_fine_tuning_acc.png\")\n",
    "\n",
    "plt.show()"
   ]
  },
  {
   "cell_type": "code",
   "execution_count": 22,
   "id": "e8af9e7b",
   "metadata": {
    "execution": {
     "iopub.execute_input": "2022-11-19T17:09:29.926542Z",
     "iopub.status.busy": "2022-11-19T17:09:29.924306Z",
     "iopub.status.idle": "2022-11-19T17:09:29.937834Z",
     "shell.execute_reply": "2022-11-19T17:09:29.938240Z",
     "shell.execute_reply.started": "2022-11-19T16:57:17.485276Z"
    },
    "papermill": {
     "duration": 2.779918,
     "end_time": "2022-11-19T17:09:29.938395",
     "exception": false,
     "start_time": "2022-11-19T17:09:27.158477",
     "status": "completed"
    },
    "tags": []
   },
   "outputs": [
    {
     "name": "stdout",
     "output_type": "stream",
     "text": [
      "0 input_1 False\n",
      "1 block1_conv1 False\n",
      "2 block1_conv2 False\n",
      "3 block1_pool False\n",
      "4 block2_conv1 False\n",
      "5 block2_conv2 False\n",
      "6 block2_pool False\n",
      "7 block3_conv1 False\n",
      "8 block3_conv2 False\n",
      "9 block3_conv3 False\n",
      "10 block3_pool True\n",
      "11 block4_conv1 True\n",
      "12 block4_conv2 True\n",
      "13 block4_conv3 True\n",
      "14 block4_pool True\n",
      "15 block5_conv1 True\n",
      "16 block5_conv2 True\n",
      "17 block5_conv3 True\n",
      "18 block5_pool True\n",
      "Model: \"model\"\n",
      "_________________________________________________________________\n",
      "Layer (type)                 Output Shape              Param #   \n",
      "=================================================================\n",
      "input_layer (InputLayer)     [(None, 96, 96, 3)]       0         \n",
      "_________________________________________________________________\n",
      "vgg16 (Functional)           (None, 3, 3, 512)         14714688  \n",
      "_________________________________________________________________\n",
      "global_average_pooling2d (Gl (None, 512)               0         \n",
      "_________________________________________________________________\n",
      "dropout (Dropout)            (None, 512)               0         \n",
      "_________________________________________________________________\n",
      "classifier1 (Dense)          (None, 512)               262656    \n",
      "_________________________________________________________________\n",
      "batch_normalization (BatchNo (None, 512)               2048      \n",
      "_________________________________________________________________\n",
      "dropout_1 (Dropout)          (None, 512)               0         \n",
      "_________________________________________________________________\n",
      "classifier2 (Dense)          (None, 64)                32832     \n",
      "_________________________________________________________________\n",
      "batch_normalization_1 (Batch (None, 64)                256       \n",
      "_________________________________________________________________\n",
      "dropout_2 (Dropout)          (None, 64)                0         \n",
      "_________________________________________________________________\n",
      "dense (Dense)                (None, 8)                 520       \n",
      "=================================================================\n",
      "Total params: 15,013,000\n",
      "Trainable params: 13,276,360\n",
      "Non-trainable params: 1,736,640\n",
      "_________________________________________________________________\n"
     ]
    }
   ],
   "source": [
    "# Phase 2: freeze first N layers and unlock last layers\n",
    "tl_model.get_layer('vgg16').trainable = True\n",
    "N = 10\n",
    "\n",
    "for i, layer in enumerate(tl_model.get_layer('vgg16').layers[:N]):\n",
    "  layer.trainable=False\n",
    "for i, layer in enumerate(tl_model.get_layer('vgg16').layers):\n",
    "   print(i, layer.name, layer.trainable)\n",
    "tl_model.summary()"
   ]
  },
  {
   "cell_type": "code",
   "execution_count": 23,
   "id": "1d327f61",
   "metadata": {
    "execution": {
     "iopub.execute_input": "2022-11-19T17:09:35.106175Z",
     "iopub.status.busy": "2022-11-19T17:09:35.105548Z",
     "iopub.status.idle": "2022-11-19T17:09:35.115915Z",
     "shell.execute_reply": "2022-11-19T17:09:35.115353Z",
     "shell.execute_reply.started": "2022-11-19T16:57:17.491148Z"
    },
    "papermill": {
     "duration": 2.628643,
     "end_time": "2022-11-19T17:09:35.116059",
     "exception": false,
     "start_time": "2022-11-19T17:09:32.487416",
     "status": "completed"
    },
    "tags": []
   },
   "outputs": [],
   "source": [
    "# Decrease learning rate and recompile with the part of vgg trainable\n",
    "learning_rate = 1e-4\n",
    "tl_model.compile(loss=tfk.losses.CategoricalCrossentropy(), optimizer=tfk.optimizers.RMSprop(learning_rate), metrics='accuracy')"
   ]
  },
  {
   "cell_type": "code",
   "execution_count": 25,
   "id": "7d8a9e58",
   "metadata": {
    "execution": {
     "iopub.execute_input": "2022-11-19T17:22:32.834800Z",
     "iopub.status.busy": "2022-11-19T17:22:32.829716Z",
     "iopub.status.idle": "2022-11-19T17:32:49.938547Z",
     "shell.execute_reply": "2022-11-19T17:32:49.938082Z",
     "shell.execute_reply.started": "2022-11-19T16:57:17.495414Z"
    },
    "papermill": {
     "duration": 622.920535,
     "end_time": "2022-11-19T17:32:49.938717",
     "exception": false,
     "start_time": "2022-11-19T17:22:27.018182",
     "status": "completed"
    },
    "tags": []
   },
   "outputs": [
    {
     "name": "stdout",
     "output_type": "stream",
     "text": [
      "Epoch 1/500\n",
      "429/429 [==============================] - 14s 32ms/step - loss: 0.5239 - accuracy: 0.8622 - val_loss: 0.8449 - val_accuracy: 0.7928\n",
      "Epoch 2/500\n",
      "429/429 [==============================] - 14s 32ms/step - loss: 0.5228 - accuracy: 0.8648 - val_loss: 0.6025 - val_accuracy: 0.8495\n",
      "Epoch 3/500\n",
      "429/429 [==============================] - 15s 34ms/step - loss: 0.4906 - accuracy: 0.8724 - val_loss: 0.8259 - val_accuracy: 0.8044\n",
      "Epoch 4/500\n",
      "429/429 [==============================] - 14s 32ms/step - loss: 0.4810 - accuracy: 0.8776 - val_loss: 0.8345 - val_accuracy: 0.7847\n",
      "Epoch 5/500\n",
      "429/429 [==============================] - 18s 43ms/step - loss: 0.4943 - accuracy: 0.8718 - val_loss: 0.6962 - val_accuracy: 0.8241\n",
      "Epoch 6/500\n",
      "429/429 [==============================] - 14s 33ms/step - loss: 0.4866 - accuracy: 0.8776 - val_loss: 0.7037 - val_accuracy: 0.8171\n",
      "Epoch 7/500\n",
      "429/429 [==============================] - 15s 34ms/step - loss: 0.4803 - accuracy: 0.8794 - val_loss: 0.6274 - val_accuracy: 0.8553\n",
      "Epoch 8/500\n",
      "429/429 [==============================] - 14s 32ms/step - loss: 0.4588 - accuracy: 0.8849 - val_loss: 0.5782 - val_accuracy: 0.8322\n",
      "Epoch 9/500\n",
      "429/429 [==============================] - 15s 36ms/step - loss: 0.4677 - accuracy: 0.8855 - val_loss: 0.7572 - val_accuracy: 0.8056\n",
      "Epoch 10/500\n",
      "429/429 [==============================] - 17s 39ms/step - loss: 0.4480 - accuracy: 0.8902 - val_loss: 0.6605 - val_accuracy: 0.8264\n",
      "Epoch 11/500\n",
      "429/429 [==============================] - 15s 35ms/step - loss: 0.4355 - accuracy: 0.8925 - val_loss: 0.7355 - val_accuracy: 0.8252\n",
      "Epoch 12/500\n",
      "429/429 [==============================] - 14s 32ms/step - loss: 0.4391 - accuracy: 0.8884 - val_loss: 0.7331 - val_accuracy: 0.8090\n",
      "Epoch 13/500\n",
      "429/429 [==============================] - 14s 33ms/step - loss: 0.4135 - accuracy: 0.8948 - val_loss: 0.7835 - val_accuracy: 0.8102\n",
      "Epoch 14/500\n",
      "429/429 [==============================] - 17s 41ms/step - loss: 0.4286 - accuracy: 0.8928 - val_loss: 1.8292 - val_accuracy: 0.6389\n",
      "Epoch 15/500\n",
      "429/429 [==============================] - 15s 35ms/step - loss: 0.4335 - accuracy: 0.8913 - val_loss: 0.7454 - val_accuracy: 0.8183\n",
      "Epoch 16/500\n",
      "429/429 [==============================] - 14s 32ms/step - loss: 0.3969 - accuracy: 0.8992 - val_loss: 0.6424 - val_accuracy: 0.8356\n",
      "Epoch 17/500\n",
      "429/429 [==============================] - 14s 33ms/step - loss: 0.4186 - accuracy: 0.8945 - val_loss: 0.7741 - val_accuracy: 0.8183\n",
      "Epoch 18/500\n",
      "429/429 [==============================] - 14s 33ms/step - loss: 0.3926 - accuracy: 0.9036 - val_loss: 0.8451 - val_accuracy: 0.8044\n",
      "Epoch 19/500\n",
      "429/429 [==============================] - 18s 43ms/step - loss: 0.4050 - accuracy: 0.9038 - val_loss: 1.1528 - val_accuracy: 0.7477\n",
      "Epoch 20/500\n",
      "429/429 [==============================] - 14s 33ms/step - loss: 0.4317 - accuracy: 0.8945 - val_loss: 1.3260 - val_accuracy: 0.6863\n",
      "Epoch 21/500\n",
      "429/429 [==============================] - 14s 32ms/step - loss: 0.4027 - accuracy: 0.8992 - val_loss: 0.3976 - val_accuracy: 0.8947\n",
      "Epoch 22/500\n",
      "429/429 [==============================] - 15s 34ms/step - loss: 0.3992 - accuracy: 0.8995 - val_loss: 0.4713 - val_accuracy: 0.8704\n",
      "Epoch 23/500\n",
      "429/429 [==============================] - 14s 33ms/step - loss: 0.4178 - accuracy: 0.9030 - val_loss: 0.9928 - val_accuracy: 0.7812\n",
      "Epoch 24/500\n",
      "429/429 [==============================] - 19s 44ms/step - loss: 0.4049 - accuracy: 0.9047 - val_loss: 0.8228 - val_accuracy: 0.8056\n",
      "Epoch 25/500\n",
      "429/429 [==============================] - 14s 33ms/step - loss: 0.3735 - accuracy: 0.9053 - val_loss: 0.6176 - val_accuracy: 0.8542\n",
      "Epoch 26/500\n",
      "429/429 [==============================] - 14s 34ms/step - loss: 0.3846 - accuracy: 0.9126 - val_loss: 0.9766 - val_accuracy: 0.7662\n",
      "Epoch 27/500\n",
      "429/429 [==============================] - 14s 32ms/step - loss: 0.3645 - accuracy: 0.9129 - val_loss: 0.5956 - val_accuracy: 0.8519\n",
      "Epoch 28/500\n",
      "429/429 [==============================] - 16s 38ms/step - loss: 0.3538 - accuracy: 0.9123 - val_loss: 0.5229 - val_accuracy: 0.8646\n",
      "Epoch 29/500\n",
      "429/429 [==============================] - 16s 38ms/step - loss: 0.3333 - accuracy: 0.9251 - val_loss: 0.8093 - val_accuracy: 0.8252\n",
      "Epoch 30/500\n",
      "429/429 [==============================] - 15s 34ms/step - loss: 0.3602 - accuracy: 0.9143 - val_loss: 0.5067 - val_accuracy: 0.8727\n",
      "Epoch 31/500\n",
      "429/429 [==============================] - 14s 32ms/step - loss: 0.3603 - accuracy: 0.9161 - val_loss: 0.6390 - val_accuracy: 0.8449\n",
      "Epoch 32/500\n",
      "429/429 [==============================] - 14s 32ms/step - loss: 0.3340 - accuracy: 0.9193 - val_loss: 0.5565 - val_accuracy: 0.8530\n",
      "Epoch 33/500\n",
      "429/429 [==============================] - 18s 42ms/step - loss: 0.3470 - accuracy: 0.9184 - val_loss: 0.5095 - val_accuracy: 0.8715\n",
      "Epoch 34/500\n",
      "429/429 [==============================] - 15s 36ms/step - loss: 0.3404 - accuracy: 0.9205 - val_loss: 0.5410 - val_accuracy: 0.8611\n",
      "Epoch 35/500\n",
      "429/429 [==============================] - 14s 33ms/step - loss: 0.3563 - accuracy: 0.9143 - val_loss: 0.7407 - val_accuracy: 0.8287\n",
      "Epoch 36/500\n",
      "429/429 [==============================] - 14s 32ms/step - loss: 0.3504 - accuracy: 0.9129 - val_loss: 0.4959 - val_accuracy: 0.8762\n",
      "Epoch 37/500\n",
      "429/429 [==============================] - 14s 34ms/step - loss: 0.3405 - accuracy: 0.9161 - val_loss: 0.5555 - val_accuracy: 0.8588\n",
      "Epoch 38/500\n",
      "429/429 [==============================] - 19s 44ms/step - loss: 0.3437 - accuracy: 0.9138 - val_loss: 0.6811 - val_accuracy: 0.8403\n",
      "Epoch 39/500\n",
      "429/429 [==============================] - 15s 34ms/step - loss: 0.3582 - accuracy: 0.9158 - val_loss: 0.8026 - val_accuracy: 0.8113\n",
      "Epoch 40/500\n",
      "429/429 [==============================] - 14s 33ms/step - loss: 0.3263 - accuracy: 0.9205 - val_loss: 0.5007 - val_accuracy: 0.8796\n",
      "Epoch 41/500\n",
      "429/429 [==============================] - 14s 33ms/step - loss: 0.3083 - accuracy: 0.9240 - val_loss: 0.6866 - val_accuracy: 0.8368\n"
     ]
    }
   ],
   "source": [
    "# Train the model\n",
    "tl_history = tl_model.fit(\n",
    "    x = train_gen,\n",
    "    batch_size = 256,\n",
    "    epochs = 500,\n",
    "    validation_data = valid_gen,\n",
    "    callbacks = [tfk.callbacks.EarlyStopping(monitor='val_accuracy', mode='max', patience=patience, restore_best_weights=True)],\n",
    ").history"
   ]
  },
  {
   "cell_type": "code",
   "execution_count": 26,
   "id": "daeb51fb",
   "metadata": {
    "execution": {
     "iopub.execute_input": "2022-11-19T17:33:05.017824Z",
     "iopub.status.busy": "2022-11-19T17:33:05.017278Z",
     "iopub.status.idle": "2022-11-19T17:33:09.087506Z",
     "shell.execute_reply": "2022-11-19T17:33:09.088136Z",
     "shell.execute_reply.started": "2022-11-19T16:57:17.497326Z"
    },
    "papermill": {
     "duration": 11.459355,
     "end_time": "2022-11-19T17:33:09.088362",
     "exception": false,
     "start_time": "2022-11-19T17:32:57.629007",
     "status": "completed"
    },
    "tags": []
   },
   "outputs": [
    {
     "name": "stderr",
     "output_type": "stream",
     "text": [
      "2022-11-19 17:33:06.265213: W tensorflow/python/util/util.cc:348] Sets are not currently considered sequences, but this may change in the future, so consider avoiding using them.\n"
     ]
    }
   ],
   "source": [
    "# Save the best model\n",
    "tl_model.save('VGG16_fine_tuning')\n",
    "#del tl_model"
   ]
  },
  {
   "cell_type": "code",
   "execution_count": 27,
   "id": "f405b911",
   "metadata": {
    "execution": {
     "iopub.execute_input": "2022-11-19T17:33:24.774702Z",
     "iopub.status.busy": "2022-11-19T17:33:24.774126Z",
     "iopub.status.idle": "2022-11-19T17:33:25.870286Z",
     "shell.execute_reply": "2022-11-19T17:33:25.870737Z",
     "shell.execute_reply.started": "2022-11-19T16:57:17.503105Z"
    },
    "papermill": {
     "duration": 8.882624,
     "end_time": "2022-11-19T17:33:25.870951",
     "exception": false,
     "start_time": "2022-11-19T17:33:16.988327",
     "status": "completed"
    },
    "tags": []
   },
   "outputs": [
    {
     "name": "stdout",
     "output_type": "stream",
     "text": [
      "108/108 [==============================] - 1s 10ms/step - loss: 0.3976 - accuracy: 0.8947\n",
      "\n",
      "Val metrics\n",
      "{'loss': 0.39762958884239197, 'accuracy': 0.8946759104728699}\n"
     ]
    }
   ],
   "source": [
    "# Evaluate on val\n",
    "val_metrics = tl_model.evaluate(valid_gen, return_dict=True)\n",
    "\n",
    "print()\n",
    "print(\"Val metrics\")\n",
    "print(val_metrics)"
   ]
  },
  {
   "cell_type": "code",
   "execution_count": 28,
   "id": "8dfa712e",
   "metadata": {
    "execution": {
     "iopub.execute_input": "2022-11-19T17:33:41.260231Z",
     "iopub.status.busy": "2022-11-19T17:33:41.259402Z",
     "iopub.status.idle": "2022-11-19T17:33:47.321721Z",
     "shell.execute_reply": "2022-11-19T17:33:47.322161Z",
     "shell.execute_reply.started": "2022-11-19T16:57:17.504736Z"
    },
    "papermill": {
     "duration": 13.744323,
     "end_time": "2022-11-19T17:33:47.322348",
     "exception": false,
     "start_time": "2022-11-19T17:33:33.578025",
     "status": "completed"
    },
    "tags": []
   },
   "outputs": [
    {
     "data": {
      "text/plain": [
       "'/kaggle/working/VGG16FineTuning.zip'"
      ]
     },
     "execution_count": 28,
     "metadata": {},
     "output_type": "execute_result"
    }
   ],
   "source": [
    "import shutil\n",
    "shutil.make_archive(\"VGG16FineTuning\", 'zip', \"/kaggle/working/VGG16_fine_tuning/\")"
   ]
  }
 ],
 "metadata": {
  "kernelspec": {
   "display_name": "Python 3.10.2 64-bit",
   "language": "python",
   "name": "python3"
  },
  "language_info": {
   "codemirror_mode": {
    "name": "ipython",
    "version": 3
   },
   "file_extension": ".py",
   "mimetype": "text/x-python",
   "name": "python",
   "nbconvert_exporter": "python",
   "pygments_lexer": "ipython3",
   "version": "3.10.2"
  },
  "papermill": {
   "default_parameters": {},
   "duration": 2186.601286,
   "end_time": "2022-11-19T17:33:58.874847",
   "environment_variables": {},
   "exception": null,
   "input_path": "__notebook__.ipynb",
   "output_path": "__notebook__.ipynb",
   "parameters": {},
   "start_time": "2022-11-19T16:57:32.273561",
   "version": "2.3.3"
  },
  "vscode": {
   "interpreter": {
    "hash": "6847c98a8f86b01c6a19c518cd2f366693b80566b266804d5ca763cbb223f52b"
   }
  }
 },
 "nbformat": 4,
 "nbformat_minor": 5
}
