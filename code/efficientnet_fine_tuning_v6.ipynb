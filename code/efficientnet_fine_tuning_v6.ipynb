{
 "cells": [
  {
   "cell_type": "markdown",
   "id": "002f5c6f",
   "metadata": {
    "papermill": {
     "duration": 0.00826,
     "end_time": "2022-11-22T18:34:13.298673",
     "exception": false,
     "start_time": "2022-11-22T18:34:13.290413",
     "status": "completed"
    },
    "tags": []
   },
   "source": [
    "## Prelimiary Operations"
   ]
  },
  {
   "cell_type": "markdown",
   "id": "b5199e38",
   "metadata": {
    "papermill": {
     "duration": 0.005214,
     "end_time": "2022-11-22T18:34:13.309457",
     "exception": false,
     "start_time": "2022-11-22T18:34:13.304243",
     "status": "completed"
    },
    "tags": []
   },
   "source": [
    "### Useful operations"
   ]
  },
  {
   "cell_type": "code",
   "execution_count": 1,
   "id": "fdc59925",
   "metadata": {
    "execution": {
     "iopub.execute_input": "2022-11-22T18:34:13.322113Z",
     "iopub.status.busy": "2022-11-22T18:34:13.321282Z",
     "iopub.status.idle": "2022-11-22T18:34:13.331765Z",
     "shell.execute_reply": "2022-11-22T18:34:13.330945Z"
    },
    "papermill": {
     "duration": 0.019247,
     "end_time": "2022-11-22T18:34:13.333806",
     "exception": false,
     "start_time": "2022-11-22T18:34:13.314559",
     "status": "completed"
    },
    "tags": []
   },
   "outputs": [],
   "source": [
    "import os\n",
    "import shutil\n",
    "if os.path.exists(\"/kaggle/working/andrea\"):\n",
    "    shutil.rmtree(\"/kaggle/working/andrea\")"
   ]
  },
  {
   "cell_type": "code",
   "execution_count": 2,
   "id": "640e423e",
   "metadata": {
    "execution": {
     "iopub.execute_input": "2022-11-22T18:34:13.345584Z",
     "iopub.status.busy": "2022-11-22T18:34:13.344833Z",
     "iopub.status.idle": "2022-11-22T18:34:13.349124Z",
     "shell.execute_reply": "2022-11-22T18:34:13.348190Z"
    },
    "papermill": {
     "duration": 0.01386,
     "end_time": "2022-11-22T18:34:13.352791",
     "exception": false,
     "start_time": "2022-11-22T18:34:13.338931",
     "status": "completed"
    },
    "tags": []
   },
   "outputs": [],
   "source": [
    "if os.path.exists(\"/kaggle/working/EfficientNet_experiments\"):\n",
    "    shutil.rmtree(\"/kaggle/working/EfficientNet_experiments\")"
   ]
  },
  {
   "cell_type": "code",
   "execution_count": 3,
   "id": "f4ffc1e3",
   "metadata": {
    "execution": {
     "iopub.execute_input": "2022-11-22T18:34:13.376139Z",
     "iopub.status.busy": "2022-11-22T18:34:13.375525Z",
     "iopub.status.idle": "2022-11-22T18:34:13.384373Z",
     "shell.execute_reply": "2022-11-22T18:34:13.382364Z"
    },
    "papermill": {
     "duration": 0.027122,
     "end_time": "2022-11-22T18:34:13.392043",
     "exception": false,
     "start_time": "2022-11-22T18:34:13.364921",
     "status": "completed"
    },
    "tags": []
   },
   "outputs": [],
   "source": [
    "if os.path.exists(\"/kaggle/working/EfficientNet\"):\n",
    "    shutil.rmtree(\"/kaggle/working/EfficientNet\")"
   ]
  },
  {
   "cell_type": "code",
   "execution_count": 4,
   "id": "c706c65c",
   "metadata": {
    "execution": {
     "iopub.execute_input": "2022-11-22T18:34:13.406549Z",
     "iopub.status.busy": "2022-11-22T18:34:13.406269Z",
     "iopub.status.idle": "2022-11-22T18:34:13.410991Z",
     "shell.execute_reply": "2022-11-22T18:34:13.410030Z"
    },
    "papermill": {
     "duration": 0.015959,
     "end_time": "2022-11-22T18:34:13.414620",
     "exception": false,
     "start_time": "2022-11-22T18:34:13.398661",
     "status": "completed"
    },
    "tags": []
   },
   "outputs": [],
   "source": [
    "# to remove a file\n",
    "import os\n",
    "if os.path.exists(\"/kaggle/working/model.png\"):\n",
    "    os.remove(\"/kaggle/working/model.png\")"
   ]
  },
  {
   "cell_type": "code",
   "execution_count": 5,
   "id": "07d116e8",
   "metadata": {
    "execution": {
     "iopub.execute_input": "2022-11-22T18:34:13.430995Z",
     "iopub.status.busy": "2022-11-22T18:34:13.430354Z",
     "iopub.status.idle": "2022-11-22T18:34:13.437582Z",
     "shell.execute_reply": "2022-11-22T18:34:13.436167Z"
    },
    "papermill": {
     "duration": 0.018476,
     "end_time": "2022-11-22T18:34:13.440399",
     "exception": false,
     "start_time": "2022-11-22T18:34:13.421923",
     "status": "completed"
    },
    "tags": []
   },
   "outputs": [],
   "source": [
    "# to create a folder\n",
    "import os\n",
    "directory = \"EfficientNet\"\n",
    "parent_dir = \"/kaggle/working\"\n",
    "path = os.path.join(parent_dir, directory)\n",
    "if not os.path.exists(path):\n",
    "    os.mkdir(path)"
   ]
  },
  {
   "cell_type": "markdown",
   "id": "2b9c0e64",
   "metadata": {
    "papermill": {
     "duration": 0.007294,
     "end_time": "2022-11-22T18:34:13.456831",
     "exception": false,
     "start_time": "2022-11-22T18:34:13.449537",
     "status": "completed"
    },
    "tags": []
   },
   "source": [
    "### Operations"
   ]
  },
  {
   "cell_type": "code",
   "execution_count": 6,
   "id": "9939da8f",
   "metadata": {
    "execution": {
     "iopub.execute_input": "2022-11-22T18:34:13.468684Z",
     "iopub.status.busy": "2022-11-22T18:34:13.467915Z",
     "iopub.status.idle": "2022-11-22T18:34:19.657762Z",
     "shell.execute_reply": "2022-11-22T18:34:19.656689Z"
    },
    "papermill": {
     "duration": 6.198531,
     "end_time": "2022-11-22T18:34:19.660459",
     "exception": false,
     "start_time": "2022-11-22T18:34:13.461928",
     "status": "completed"
    },
    "tags": []
   },
   "outputs": [],
   "source": [
    "import tensorflow as tf\n",
    "import numpy as np\n",
    "import os\n",
    "import random\n",
    "import pandas as pd\n",
    "import seaborn as sns\n",
    "import matplotlib as mpl\n",
    "import matplotlib.pyplot as plt\n",
    "from sklearn.model_selection import train_test_split\n",
    "from sklearn.metrics import accuracy_score, f1_score, precision_score, recall_score\n",
    "from sklearn.metrics import confusion_matrix\n",
    "from PIL import Image\n",
    "\n",
    "tfk = tf.keras\n",
    "tfkl = tf.keras.layers"
   ]
  },
  {
   "cell_type": "code",
   "execution_count": 7,
   "id": "613d635e",
   "metadata": {
    "execution": {
     "iopub.execute_input": "2022-11-22T18:34:19.674173Z",
     "iopub.status.busy": "2022-11-22T18:34:19.672460Z",
     "iopub.status.idle": "2022-11-22T18:34:19.679152Z",
     "shell.execute_reply": "2022-11-22T18:34:19.678295Z"
    },
    "papermill": {
     "duration": 0.014943,
     "end_time": "2022-11-22T18:34:19.681068",
     "exception": false,
     "start_time": "2022-11-22T18:34:19.666125",
     "status": "completed"
    },
    "tags": []
   },
   "outputs": [],
   "source": [
    "# Random seed for reproducibility\n",
    "seed = 42\n",
    "\n",
    "random.seed(seed)\n",
    "os.environ['PYTHONHASHSEED'] = str(seed)\n",
    "np.random.seed(seed)\n",
    "tf.random.set_seed(seed)\n",
    "tf.compat.v1.set_random_seed(seed)"
   ]
  },
  {
   "cell_type": "code",
   "execution_count": 8,
   "id": "bce2b631",
   "metadata": {
    "execution": {
     "iopub.execute_input": "2022-11-22T18:34:19.692886Z",
     "iopub.status.busy": "2022-11-22T18:34:19.692166Z",
     "iopub.status.idle": "2022-11-22T18:34:19.698850Z",
     "shell.execute_reply": "2022-11-22T18:34:19.697388Z"
    },
    "papermill": {
     "duration": 0.014681,
     "end_time": "2022-11-22T18:34:19.700812",
     "exception": false,
     "start_time": "2022-11-22T18:34:19.686131",
     "status": "completed"
    },
    "tags": []
   },
   "outputs": [],
   "source": [
    "import warnings\n",
    "import logging\n",
    "\n",
    "os.environ['TF_CPP_MIN_LOG_LEVEL'] = '2'\n",
    "warnings.simplefilter(action='ignore', category=FutureWarning)\n",
    "warnings.simplefilter(action='ignore', category=Warning)\n",
    "tf.get_logger().setLevel('INFO')\n",
    "tf.autograph.set_verbosity(0)\n",
    "\n",
    "tf.get_logger().setLevel(logging.ERROR)\n",
    "tf.get_logger().setLevel('ERROR')\n",
    "tf.compat.v1.logging.set_verbosity(tf.compat.v1.logging.ERROR)"
   ]
  },
  {
   "cell_type": "markdown",
   "id": "976a5006",
   "metadata": {
    "papermill": {
     "duration": 0.004918,
     "end_time": "2022-11-22T18:34:19.710793",
     "exception": false,
     "start_time": "2022-11-22T18:34:19.705875",
     "status": "completed"
    },
    "tags": []
   },
   "source": [
    "## Importing data"
   ]
  },
  {
   "cell_type": "code",
   "execution_count": 9,
   "id": "4ee344f8",
   "metadata": {
    "execution": {
     "iopub.execute_input": "2022-11-22T18:34:19.722503Z",
     "iopub.status.busy": "2022-11-22T18:34:19.721726Z",
     "iopub.status.idle": "2022-11-22T18:34:19.726195Z",
     "shell.execute_reply": "2022-11-22T18:34:19.725276Z"
    },
    "papermill": {
     "duration": 0.012591,
     "end_time": "2022-11-22T18:34:19.728436",
     "exception": false,
     "start_time": "2022-11-22T18:34:19.715845",
     "status": "completed"
    },
    "tags": []
   },
   "outputs": [],
   "source": [
    "labels = ['Species1',   # 0\n",
    "          'Species2',   # 1\n",
    "          'Species3',   # 2\n",
    "          'Species4',   # 3\n",
    "          'Species5',   # 4\n",
    "          'Species6',   # 5\n",
    "          'Species7',   # 6\n",
    "          'Species8']   # 7"
   ]
  },
  {
   "cell_type": "code",
   "execution_count": 10,
   "id": "ff89f4a4",
   "metadata": {
    "execution": {
     "iopub.execute_input": "2022-11-22T18:34:19.740271Z",
     "iopub.status.busy": "2022-11-22T18:34:19.739425Z",
     "iopub.status.idle": "2022-11-22T18:34:19.744299Z",
     "shell.execute_reply": "2022-11-22T18:34:19.743477Z"
    },
    "papermill": {
     "duration": 0.012649,
     "end_time": "2022-11-22T18:34:19.746206",
     "exception": false,
     "start_time": "2022-11-22T18:34:19.733557",
     "status": "completed"
    },
    "tags": []
   },
   "outputs": [],
   "source": [
    "# Dataset folders \n",
    "dataset_dir = \"../input/splitted-dataset-no-test/splitted_dataset_no_test\"\n",
    "training_dir = os.path.join(dataset_dir, 'train')\n",
    "validation_dir = os.path.join(dataset_dir, 'val')"
   ]
  },
  {
   "cell_type": "code",
   "execution_count": 11,
   "id": "4e044771",
   "metadata": {
    "execution": {
     "iopub.execute_input": "2022-11-22T18:34:19.758107Z",
     "iopub.status.busy": "2022-11-22T18:34:19.757310Z",
     "iopub.status.idle": "2022-11-22T18:34:20.187234Z",
     "shell.execute_reply": "2022-11-22T18:34:20.186225Z"
    },
    "papermill": {
     "duration": 0.439222,
     "end_time": "2022-11-22T18:34:20.190526",
     "exception": false,
     "start_time": "2022-11-22T18:34:19.751304",
     "status": "completed"
    },
    "tags": []
   },
   "outputs": [
    {
     "name": "stdout",
     "output_type": "stream",
     "text": [
      "Found 3432 images belonging to 8 classes.\n",
      "Found 864 images belonging to 8 classes.\n"
     ]
    }
   ],
   "source": [
    "# Images are divided into folders, one for each class. \n",
    "# If the images are organized in such a way, we can exploit the \n",
    "# ImageDataGenerator to read them from disk.\n",
    "from tensorflow.keras.preprocessing.image import ImageDataGenerator\n",
    "\n",
    "# Create an instance of ImageDataGenerator, and for the trainign with Data Augmentation\n",
    "\n",
    "# Use this for data augmentation\n",
    "train_data_gen = ImageDataGenerator(rotation_range=30,\n",
    "                                        height_shift_range=0.4,\n",
    "                                        width_shift_range=0.4,\n",
    "                                        zoom_range=0.4,\n",
    "                                        horizontal_flip=True,\n",
    "                                        fill_mode='reflect')\n",
    "\n",
    "\n",
    "\n",
    "# Use this for no augmentation\n",
    "#train_data_gen = ImageDataGenerator()\n",
    "valid_data_gen = ImageDataGenerator()\n",
    "\n",
    "# Obtain a data generator with the 'ImageDataGenerator.flow_from_directory' method\n",
    "train_gen = train_data_gen.flow_from_directory(directory=training_dir,\n",
    "                                                       target_size=(96,96),\n",
    "                                                       color_mode='rgb',\n",
    "                                                       classes=None, # can be set to labels\n",
    "                                                       class_mode='categorical',\n",
    "                                                       batch_size=8,\n",
    "                                                       shuffle=True,\n",
    "                                                       seed=seed)\n",
    "\n",
    "valid_gen = valid_data_gen.flow_from_directory(directory=validation_dir,\n",
    "                                               target_size=(96,96),\n",
    "                                               color_mode='rgb',\n",
    "                                               classes=None, # can be set to labels\n",
    "                                               class_mode='categorical',\n",
    "                                               batch_size=8,\n",
    "                                               shuffle=False,\n",
    "                                               seed=seed)"
   ]
  },
  {
   "cell_type": "markdown",
   "id": "1402d285",
   "metadata": {
    "papermill": {
     "duration": 0.005071,
     "end_time": "2022-11-22T18:34:20.202175",
     "exception": false,
     "start_time": "2022-11-22T18:34:20.197104",
     "status": "completed"
    },
    "tags": []
   },
   "source": [
    "## Model"
   ]
  },
  {
   "cell_type": "code",
   "execution_count": 12,
   "id": "a92e8432",
   "metadata": {
    "execution": {
     "iopub.execute_input": "2022-11-22T18:34:20.214666Z",
     "iopub.status.busy": "2022-11-22T18:34:20.213724Z",
     "iopub.status.idle": "2022-11-22T18:34:21.156062Z",
     "shell.execute_reply": "2022-11-22T18:34:21.154942Z"
    },
    "papermill": {
     "duration": 0.951298,
     "end_time": "2022-11-22T18:34:21.158785",
     "exception": false,
     "start_time": "2022-11-22T18:34:20.207487",
     "status": "completed"
    },
    "tags": []
   },
   "outputs": [
    {
     "name": "stdout",
     "output_type": "stream",
     "text": [
      "/bin/bash: line 0: cd: /kaggle/working/EfficieNet: No such file or directory\r\n"
     ]
    }
   ],
   "source": [
    "!cd /kaggle/working/EfficieNet"
   ]
  },
  {
   "cell_type": "code",
   "execution_count": 14,
   "id": "149b7af3",
   "metadata": {
    "execution": {
     "iopub.execute_input": "2022-11-22T18:34:21.189614Z",
     "iopub.status.busy": "2022-11-22T18:34:21.188776Z",
     "iopub.status.idle": "2022-11-22T18:34:28.510052Z",
     "shell.execute_reply": "2022-11-22T18:34:28.508917Z"
    },
    "papermill": {
     "duration": 7.330416,
     "end_time": "2022-11-22T18:34:28.513018",
     "exception": false,
     "start_time": "2022-11-22T18:34:21.182602",
     "status": "completed"
    },
    "tags": []
   },
   "outputs": [
    {
     "name": "stdout",
     "output_type": "stream",
     "text": [
      "Downloading data from https://storage.googleapis.com/keras-applications/efficientnetb5_notop.h5\n",
      "115269632/115263384 [==============================] - 1s 0us/step\n",
      "115277824/115263384 [==============================] - 1s 0us/step\n"
     ]
    }
   ],
   "source": [
    "# Download and plot the EfficientNet model\n",
    "eff_net = tfk.applications.efficientnet.EfficientNetB5(\n",
    "    include_top=False,\n",
    "    weights='imagenet',\n",
    "    input_shape=(96,96,3),\n",
    ")\n",
    "\n",
    "eff_net.trainable = True # we are freezing the weights of the conv part, so that they are not updated\n",
    "                            # during the training\n",
    "#tfk.utils.plot_model(eff_net)"
   ]
  },
  {
   "cell_type": "code",
   "execution_count": 15,
   "id": "1dc20de5",
   "metadata": {
    "execution": {
     "iopub.execute_input": "2022-11-22T18:34:28.529893Z",
     "iopub.status.busy": "2022-11-22T18:34:28.528013Z",
     "iopub.status.idle": "2022-11-22T18:34:28.534937Z",
     "shell.execute_reply": "2022-11-22T18:34:28.533980Z"
    },
    "papermill": {
     "duration": 0.01706,
     "end_time": "2022-11-22T18:34:28.537125",
     "exception": false,
     "start_time": "2022-11-22T18:34:28.520065",
     "status": "completed"
    },
    "tags": []
   },
   "outputs": [],
   "source": [
    "input_shape = (96, 96, 3)\n",
    "epochs = 300\n",
    "learning_rate = 1e-4\n",
    "l1=0\n",
    "l2=0"
   ]
  },
  {
   "cell_type": "code",
   "execution_count": 16,
   "id": "f80069cc",
   "metadata": {
    "execution": {
     "iopub.execute_input": "2022-11-22T18:34:28.553206Z",
     "iopub.status.busy": "2022-11-22T18:34:28.551663Z",
     "iopub.status.idle": "2022-11-22T18:34:28.559887Z",
     "shell.execute_reply": "2022-11-22T18:34:28.558890Z"
    },
    "papermill": {
     "duration": 0.018506,
     "end_time": "2022-11-22T18:34:28.562286",
     "exception": false,
     "start_time": "2022-11-22T18:34:28.543780",
     "status": "completed"
    },
    "tags": []
   },
   "outputs": [],
   "source": [
    "def build_model(input_shape):\n",
    "\n",
    "    # Build the neural network layer by layer\n",
    "    input_layer = tfkl.Input(shape=input_shape, name='input_layer')\n",
    "    \n",
    "    efficient_net = eff_net(input_layer)    \n",
    "    x = tfkl.GlobalAveragePooling2D()(efficient_net)\n",
    "    x = tfkl.Dropout(0.3, seed=seed)(x)\n",
    "    output_layer = tfkl.Dense(\n",
    "        8, \n",
    "        activation='softmax',\n",
    "        kernel_initializer = tfk.initializers.GlorotUniform(seed))(x)\n",
    "        # Connect input and output through the Model class\n",
    "    model = tfk.Model(inputs=input_layer, outputs=output_layer, name='efficient_net_model')\n",
    "\n",
    "    # Compile the model\n",
    "    model.compile(loss=tfk.losses.CategoricalCrossentropy(), optimizer=tfk.optimizers.Adam(learning_rate), metrics='accuracy')\n",
    "\n",
    "    # Return the model\n",
    "    return model"
   ]
  },
  {
   "cell_type": "code",
   "execution_count": 17,
   "id": "b9bf9ee8",
   "metadata": {
    "execution": {
     "iopub.execute_input": "2022-11-22T18:34:28.576173Z",
     "iopub.status.busy": "2022-11-22T18:34:28.575842Z",
     "iopub.status.idle": "2022-11-22T18:34:31.297487Z",
     "shell.execute_reply": "2022-11-22T18:34:31.296404Z"
    },
    "papermill": {
     "duration": 2.731199,
     "end_time": "2022-11-22T18:34:31.299882",
     "exception": false,
     "start_time": "2022-11-22T18:34:28.568683",
     "status": "completed"
    },
    "tags": []
   },
   "outputs": [
    {
     "name": "stdout",
     "output_type": "stream",
     "text": [
      "Model: \"efficient_net_model\"\n",
      "_________________________________________________________________\n",
      "Layer (type)                 Output Shape              Param #   \n",
      "=================================================================\n",
      "input_layer (InputLayer)     [(None, 96, 96, 3)]       0         \n",
      "_________________________________________________________________\n",
      "efficientnetb5 (Functional)  (None, 3, 3, 2048)        28513527  \n",
      "_________________________________________________________________\n",
      "global_average_pooling2d (Gl (None, 2048)              0         \n",
      "_________________________________________________________________\n",
      "dropout (Dropout)            (None, 2048)              0         \n",
      "_________________________________________________________________\n",
      "dense (Dense)                (None, 8)                 16392     \n",
      "=================================================================\n",
      "Total params: 28,529,919\n",
      "Trainable params: 28,357,176\n",
      "Non-trainable params: 172,743\n",
      "_________________________________________________________________\n"
     ]
    },
    {
     "data": {
      "image/png": "[encoded data removed]",
      "text/plain": [
       "<IPython.core.display.Image object>"
      ]
     },
     "execution_count": 17,
     "metadata": {},
     "output_type": "execute_result"
    }
   ],
   "source": [
    "# Build model\n",
    "model_name = \"Efficient_net_all_trainable_only_GAP\"\n",
    "\n",
    "eff_net_model = build_model(input_shape)\n",
    "eff_net_model.summary()\n",
    "tfk.utils.plot_model(eff_net_model)"
   ]
  },
  {
   "cell_type": "code",
   "execution_count": 18,
   "id": "e3000c18",
   "metadata": {
    "execution": {
     "iopub.execute_input": "2022-11-22T18:34:31.314308Z",
     "iopub.status.busy": "2022-11-22T18:34:31.313973Z",
     "iopub.status.idle": "2022-11-22T18:34:31.318766Z",
     "shell.execute_reply": "2022-11-22T18:34:31.317772Z"
    },
    "papermill": {
     "duration": 0.014224,
     "end_time": "2022-11-22T18:34:31.320710",
     "exception": false,
     "start_time": "2022-11-22T18:34:31.306486",
     "status": "completed"
    },
    "tags": []
   },
   "outputs": [],
   "source": [
    "patience = 20"
   ]
  },
  {
   "cell_type": "code",
   "execution_count": 19,
   "id": "dfdb4ac6",
   "metadata": {
    "execution": {
     "iopub.execute_input": "2022-11-22T18:34:31.334525Z",
     "iopub.status.busy": "2022-11-22T18:34:31.334227Z",
     "iopub.status.idle": "2022-11-22T19:28:50.797936Z",
     "shell.execute_reply": "2022-11-22T19:28:50.796930Z"
    },
    "papermill": {
     "duration": 3259.473281,
     "end_time": "2022-11-22T19:28:50.800387",
     "exception": false,
     "start_time": "2022-11-22T18:34:31.327106",
     "status": "completed"
    },
    "tags": []
   },
   "outputs": [
    {
     "name": "stdout",
     "output_type": "stream",
     "text": [
      "Epoch 1/300\n",
      "429/429 [==============================] - 87s 141ms/step - loss: 1.6811 - accuracy: 0.3636 - val_loss: 1.4444 - val_accuracy: 0.4745\n",
      "Epoch 2/300\n",
      "429/429 [==============================] - 57s 132ms/step - loss: 1.3251 - accuracy: 0.5020 - val_loss: 1.2494 - val_accuracy: 0.5694\n",
      "Epoch 3/300\n",
      "429/429 [==============================] - 57s 133ms/step - loss: 1.1895 - accuracy: 0.5679 - val_loss: 0.9946 - val_accuracy: 0.6574\n",
      "Epoch 4/300\n",
      "429/429 [==============================] - 57s 134ms/step - loss: 1.0865 - accuracy: 0.6116 - val_loss: 0.8678 - val_accuracy: 0.7060\n",
      "Epoch 5/300\n",
      "429/429 [==============================] - 56s 131ms/step - loss: 0.9851 - accuracy: 0.6378 - val_loss: 0.8415 - val_accuracy: 0.6933\n",
      "Epoch 6/300\n",
      "429/429 [==============================] - 57s 134ms/step - loss: 0.9406 - accuracy: 0.6594 - val_loss: 0.7415 - val_accuracy: 0.7338\n",
      "Epoch 7/300\n",
      "429/429 [==============================] - 57s 133ms/step - loss: 0.8942 - accuracy: 0.6786 - val_loss: 0.6874 - val_accuracy: 0.7523\n",
      "Epoch 8/300\n",
      "429/429 [==============================] - 57s 132ms/step - loss: 0.8692 - accuracy: 0.6859 - val_loss: 0.6252 - val_accuracy: 0.7951\n",
      "Epoch 9/300\n",
      "429/429 [==============================] - 57s 134ms/step - loss: 0.8039 - accuracy: 0.7142 - val_loss: 0.5747 - val_accuracy: 0.7940\n",
      "Epoch 10/300\n",
      "429/429 [==============================] - 57s 132ms/step - loss: 0.7574 - accuracy: 0.7316 - val_loss: 0.5379 - val_accuracy: 0.8009\n",
      "Epoch 11/300\n",
      "429/429 [==============================] - 57s 133ms/step - loss: 0.7367 - accuracy: 0.7319 - val_loss: 0.4688 - val_accuracy: 0.8322\n",
      "Epoch 12/300\n",
      "429/429 [==============================] - 57s 132ms/step - loss: 0.6895 - accuracy: 0.7488 - val_loss: 0.4275 - val_accuracy: 0.8542\n",
      "Epoch 13/300\n",
      "429/429 [==============================] - 57s 133ms/step - loss: 0.6870 - accuracy: 0.7564 - val_loss: 0.4527 - val_accuracy: 0.8438\n",
      "Epoch 14/300\n",
      "429/429 [==============================] - 56s 132ms/step - loss: 0.6670 - accuracy: 0.7695 - val_loss: 0.4838 - val_accuracy: 0.8241\n",
      "Epoch 15/300\n",
      "429/429 [==============================] - 56s 131ms/step - loss: 0.6396 - accuracy: 0.7721 - val_loss: 0.4647 - val_accuracy: 0.8414\n",
      "Epoch 16/300\n",
      "429/429 [==============================] - 57s 134ms/step - loss: 0.5806 - accuracy: 0.7917 - val_loss: 0.4557 - val_accuracy: 0.8380\n",
      "Epoch 17/300\n",
      "429/429 [==============================] - 59s 137ms/step - loss: 0.6141 - accuracy: 0.7870 - val_loss: 0.4106 - val_accuracy: 0.8681\n",
      "Epoch 18/300\n",
      "429/429 [==============================] - 59s 137ms/step - loss: 0.5612 - accuracy: 0.8045 - val_loss: 0.4896 - val_accuracy: 0.8403\n",
      "Epoch 19/300\n",
      "429/429 [==============================] - 57s 132ms/step - loss: 0.5332 - accuracy: 0.8164 - val_loss: 0.4491 - val_accuracy: 0.8484\n",
      "Epoch 20/300\n",
      "429/429 [==============================] - 57s 133ms/step - loss: 0.5341 - accuracy: 0.8211 - val_loss: 0.4550 - val_accuracy: 0.8495\n",
      "Epoch 21/300\n",
      "429/429 [==============================] - 58s 134ms/step - loss: 0.4938 - accuracy: 0.8325 - val_loss: 0.4041 - val_accuracy: 0.8692\n",
      "Epoch 22/300\n",
      "429/429 [==============================] - 57s 133ms/step - loss: 0.4764 - accuracy: 0.8319 - val_loss: 0.4105 - val_accuracy: 0.8785\n",
      "Epoch 23/300\n",
      "429/429 [==============================] - 56s 130ms/step - loss: 0.4955 - accuracy: 0.8275 - val_loss: 0.4585 - val_accuracy: 0.8542\n",
      "Epoch 24/300\n",
      "429/429 [==============================] - 56s 130ms/step - loss: 0.4419 - accuracy: 0.8529 - val_loss: 0.3740 - val_accuracy: 0.8831\n",
      "Epoch 25/300\n",
      "429/429 [==============================] - 55s 128ms/step - loss: 0.4635 - accuracy: 0.8328 - val_loss: 0.4629 - val_accuracy: 0.8461\n",
      "Epoch 26/300\n",
      "429/429 [==============================] - 56s 130ms/step - loss: 0.4346 - accuracy: 0.8499 - val_loss: 0.3848 - val_accuracy: 0.8785\n",
      "Epoch 27/300\n",
      "429/429 [==============================] - 55s 129ms/step - loss: 0.4022 - accuracy: 0.8648 - val_loss: 0.4197 - val_accuracy: 0.8646\n",
      "Epoch 28/300\n",
      "429/429 [==============================] - 56s 130ms/step - loss: 0.4195 - accuracy: 0.8587 - val_loss: 0.4551 - val_accuracy: 0.8553\n",
      "Epoch 29/300\n",
      "429/429 [==============================] - 55s 129ms/step - loss: 0.4115 - accuracy: 0.8566 - val_loss: 0.4186 - val_accuracy: 0.8762\n",
      "Epoch 30/300\n",
      "429/429 [==============================] - 56s 130ms/step - loss: 0.3907 - accuracy: 0.8648 - val_loss: 0.4104 - val_accuracy: 0.8808\n",
      "Epoch 31/300\n",
      "429/429 [==============================] - 55s 128ms/step - loss: 0.3722 - accuracy: 0.8747 - val_loss: 0.3388 - val_accuracy: 0.8727\n",
      "Epoch 32/300\n",
      "429/429 [==============================] - 56s 130ms/step - loss: 0.3760 - accuracy: 0.8776 - val_loss: 0.4337 - val_accuracy: 0.8773\n",
      "Epoch 33/300\n",
      "429/429 [==============================] - 55s 128ms/step - loss: 0.3792 - accuracy: 0.8759 - val_loss: 0.4279 - val_accuracy: 0.8553\n",
      "Epoch 34/300\n",
      "429/429 [==============================] - 56s 132ms/step - loss: 0.3561 - accuracy: 0.8858 - val_loss: 0.3237 - val_accuracy: 0.9039\n",
      "Epoch 35/300\n",
      "429/429 [==============================] - 58s 135ms/step - loss: 0.3704 - accuracy: 0.8712 - val_loss: 0.3473 - val_accuracy: 0.8877\n",
      "Epoch 36/300\n",
      "429/429 [==============================] - 56s 130ms/step - loss: 0.3421 - accuracy: 0.8805 - val_loss: 0.4758 - val_accuracy: 0.8796\n",
      "Epoch 37/300\n",
      "429/429 [==============================] - 55s 129ms/step - loss: 0.3289 - accuracy: 0.8887 - val_loss: 0.6135 - val_accuracy: 0.8414\n",
      "Epoch 38/300\n",
      "429/429 [==============================] - 56s 130ms/step - loss: 0.3179 - accuracy: 0.8867 - val_loss: 0.5148 - val_accuracy: 0.8669\n",
      "Epoch 39/300\n",
      "429/429 [==============================] - 56s 131ms/step - loss: 0.3297 - accuracy: 0.8837 - val_loss: 0.4265 - val_accuracy: 0.8843\n",
      "Epoch 40/300\n",
      "429/429 [==============================] - 56s 130ms/step - loss: 0.2919 - accuracy: 0.9009 - val_loss: 0.4907 - val_accuracy: 0.8692\n",
      "Epoch 41/300\n",
      "429/429 [==============================] - 56s 132ms/step - loss: 0.3043 - accuracy: 0.8960 - val_loss: 0.4150 - val_accuracy: 0.8657\n",
      "Epoch 42/300\n",
      "429/429 [==============================] - 55s 129ms/step - loss: 0.3033 - accuracy: 0.8980 - val_loss: 0.4244 - val_accuracy: 0.8854\n",
      "Epoch 43/300\n",
      "429/429 [==============================] - 56s 131ms/step - loss: 0.2991 - accuracy: 0.8977 - val_loss: 0.4618 - val_accuracy: 0.8831\n",
      "Epoch 44/300\n",
      "429/429 [==============================] - 56s 131ms/step - loss: 0.2952 - accuracy: 0.9015 - val_loss: 0.5213 - val_accuracy: 0.8461\n",
      "Epoch 45/300\n",
      "429/429 [==============================] - 56s 130ms/step - loss: 0.2941 - accuracy: 0.9024 - val_loss: 0.3793 - val_accuracy: 0.8900\n",
      "Epoch 46/300\n",
      "429/429 [==============================] - 57s 132ms/step - loss: 0.2882 - accuracy: 0.9015 - val_loss: 0.3728 - val_accuracy: 0.8912\n",
      "Epoch 47/300\n",
      "429/429 [==============================] - 56s 131ms/step - loss: 0.2843 - accuracy: 0.9053 - val_loss: 0.4392 - val_accuracy: 0.8843\n",
      "Epoch 48/300\n",
      "429/429 [==============================] - 56s 132ms/step - loss: 0.2939 - accuracy: 0.9027 - val_loss: 0.4736 - val_accuracy: 0.8762\n",
      "Epoch 49/300\n",
      "429/429 [==============================] - 56s 130ms/step - loss: 0.2427 - accuracy: 0.9158 - val_loss: 0.5099 - val_accuracy: 0.8715\n",
      "Epoch 50/300\n",
      "429/429 [==============================] - 56s 130ms/step - loss: 0.2653 - accuracy: 0.9149 - val_loss: 0.3852 - val_accuracy: 0.8981\n",
      "Epoch 51/300\n",
      "429/429 [==============================] - 56s 131ms/step - loss: 0.2607 - accuracy: 0.9088 - val_loss: 0.4299 - val_accuracy: 0.8981\n",
      "Epoch 52/300\n",
      "429/429 [==============================] - 56s 131ms/step - loss: 0.2347 - accuracy: 0.9207 - val_loss: 0.3919 - val_accuracy: 0.8900\n",
      "Epoch 53/300\n",
      "429/429 [==============================] - 57s 132ms/step - loss: 0.2540 - accuracy: 0.9126 - val_loss: 0.5031 - val_accuracy: 0.8808\n",
      "Epoch 54/300\n",
      "429/429 [==============================] - 56s 131ms/step - loss: 0.2350 - accuracy: 0.9210 - val_loss: 0.5218 - val_accuracy: 0.8588\n"
     ]
    }
   ],
   "source": [
    "# Train the model\n",
    "eff_net_model_history = eff_net_model.fit(\n",
    "    x = train_gen,\n",
    "    batch_size = 256,\n",
    "    epochs = epochs,\n",
    "    validation_data = valid_gen,\n",
    "    callbacks = [tfk.callbacks.EarlyStopping(monitor='val_accuracy', mode='max', patience=patience, restore_best_weights=True)],\n",
    ").history"
   ]
  },
  {
   "cell_type": "code",
   "execution_count": 20,
   "id": "ad5d5ecc",
   "metadata": {
    "execution": {
     "iopub.execute_input": "2022-11-22T19:28:53.296297Z",
     "iopub.status.busy": "2022-11-22T19:28:53.295753Z",
     "iopub.status.idle": "2022-11-22T19:28:53.977887Z",
     "shell.execute_reply": "2022-11-22T19:28:53.976975Z"
    },
    "papermill": {
     "duration": 1.917967,
     "end_time": "2022-11-22T19:28:53.979907",
     "exception": false,
     "start_time": "2022-11-22T19:28:52.061940",
     "status": "completed"
    },
    "tags": []
   },
   "outputs": [
    {
     "data": {
      "image/png": "[encoded data removed]",
      "text/plain": [
       "<Figure size 1080x360 with 1 Axes>"
      ]
     },
     "metadata": {
      "needs_background": "light"
     },
     "output_type": "display_data"
    },
    {
     "data": {
      "image/png": "[encoded data removed]",
      "text/plain": [
       "<Figure size 1080x360 with 1 Axes>"
      ]
     },
     "metadata": {
      "needs_background": "light"
     },
     "output_type": "display_data"
    }
   ],
   "source": [
    "# Plot the training\n",
    "plt.figure(figsize=(15,5))\n",
    "plt.plot(eff_net_model_history['loss'], label='Loss', alpha=.3, color='#ff7f0e', linestyle='--')\n",
    "plt.plot(eff_net_model_history['val_loss'], label='Val loss', alpha=.8, color='#ff7f0e')\n",
    "plt.legend(loc='upper left')\n",
    "plt.title('Categorical Crossentropy')\n",
    "plt.grid(alpha=.3)\n",
    "plt.savefig(model_name + \"cat_cr_en.png\")\n",
    "\n",
    "plt.figure(figsize=(15,5))\n",
    "plt.plot(eff_net_model_history['accuracy'], label='Accuracy', alpha=.3, color='#ff7f0e', linestyle='--')\n",
    "plt.plot(eff_net_model_history['val_accuracy'], label='Val accuracy', alpha=.8, color='#ff7f0e')\n",
    "plt.legend(loc='upper left')\n",
    "plt.title('Accuracy')\n",
    "plt.grid(alpha=.3)\n",
    "plt.savefig(model_name + \"acc.png\")\n",
    "\n",
    "plt.show()"
   ]
  },
  {
   "cell_type": "code",
   "execution_count": 21,
   "id": "14ecbcb3",
   "metadata": {
    "execution": {
     "iopub.execute_input": "2022-11-22T19:28:56.899163Z",
     "iopub.status.busy": "2022-11-22T19:28:56.898788Z",
     "iopub.status.idle": "2022-11-22T19:30:22.859567Z",
     "shell.execute_reply": "2022-11-22T19:30:22.858479Z"
    },
    "papermill": {
     "duration": 87.239392,
     "end_time": "2022-11-22T19:30:22.862604",
     "exception": false,
     "start_time": "2022-11-22T19:28:55.623212",
     "status": "completed"
    },
    "tags": []
   },
   "outputs": [],
   "source": [
    "# Save the best model\n",
    "eff_net_model.save(model_name)"
   ]
  },
  {
   "cell_type": "code",
   "execution_count": 22,
   "id": "e7618281",
   "metadata": {
    "execution": {
     "iopub.execute_input": "2022-11-22T19:30:25.453095Z",
     "iopub.status.busy": "2022-11-22T19:30:25.452704Z",
     "iopub.status.idle": "2022-11-22T19:30:25.491173Z",
     "shell.execute_reply": "2022-11-22T19:30:25.490149Z"
    },
    "papermill": {
     "duration": 1.355761,
     "end_time": "2022-11-22T19:30:25.493314",
     "exception": false,
     "start_time": "2022-11-22T19:30:24.137553",
     "status": "completed"
    },
    "tags": []
   },
   "outputs": [
    {
     "data": {
      "text/plain": [
       "'/kaggle/working/Efficient_net_all_trainable_only_GAP.zip'"
      ]
     },
     "execution_count": 22,
     "metadata": {},
     "output_type": "execute_result"
    }
   ],
   "source": [
    "# Make zip archive for download\n",
    "import shutil\n",
    "name = \"/kaggle/working/EfficientNet/\" + model_name\n",
    "shutil.make_archive(model_name, 'zip', \"/kaggle/working/EfficientNet\")"
   ]
  }
 ],
 "metadata": {
  "kernelspec": {
   "display_name": "Python 3.10.2 64-bit",
   "language": "python",
   "name": "python3"
  },
  "language_info": {
   "codemirror_mode": {
    "name": "ipython",
    "version": 3
   },
   "file_extension": ".py",
   "mimetype": "text/x-python",
   "name": "python",
   "nbconvert_exporter": "python",
   "pygments_lexer": "ipython3",
   "version": "3.10.2"
  },
  "papermill": {
   "default_parameters": {},
   "duration": 3384.162104,
   "end_time": "2022-11-22T19:30:29.870154",
   "environment_variables": {},
   "exception": null,
   "input_path": "__notebook__.ipynb",
   "output_path": "__notebook__.ipynb",
   "parameters": {},
   "start_time": "2022-11-22T18:34:05.708050",
   "version": "2.3.4"
  },
  "vscode": {
   "interpreter": {
    "hash": "6847c98a8f86b01c6a19c518cd2f366693b80566b266804d5ca763cbb223f52b"
   }
  }
 },
 "nbformat": 4,
 "nbformat_minor": 5
}
