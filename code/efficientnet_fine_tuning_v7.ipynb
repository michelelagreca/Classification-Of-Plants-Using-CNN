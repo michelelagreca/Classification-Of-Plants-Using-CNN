{
 "cells": [
  {
   "cell_type": "markdown",
   "id": "966d7883",
   "metadata": {
    "papermill": {
     "duration": 0.009209,
     "end_time": "2022-11-23T12:00:23.052473",
     "exception": false,
     "start_time": "2022-11-23T12:00:23.043264",
     "status": "completed"
    },
    "tags": []
   },
   "source": [
    "## Prelimiary Operations"
   ]
  },
  {
   "cell_type": "markdown",
   "id": "f92e4baf",
   "metadata": {
    "papermill": {
     "duration": 0.007093,
     "end_time": "2022-11-23T12:00:23.067344",
     "exception": false,
     "start_time": "2022-11-23T12:00:23.060251",
     "status": "completed"
    },
    "tags": []
   },
   "source": [
    "### Useful operations"
   ]
  },
  {
   "cell_type": "code",
   "execution_count": 1,
   "id": "f360ff1c",
   "metadata": {
    "execution": {
     "iopub.execute_input": "2022-11-23T12:00:23.085024Z",
     "iopub.status.busy": "2022-11-23T12:00:23.083932Z",
     "iopub.status.idle": "2022-11-23T12:00:23.097938Z",
     "shell.execute_reply": "2022-11-23T12:00:23.096653Z"
    },
    "papermill": {
     "duration": 0.026332,
     "end_time": "2022-11-23T12:00:23.101231",
     "exception": false,
     "start_time": "2022-11-23T12:00:23.074899",
     "status": "completed"
    },
    "tags": []
   },
   "outputs": [],
   "source": [
    "import os\n",
    "import shutil\n",
    "if os.path.exists(\"/kaggle/working/andrea\"):\n",
    "    shutil.rmtree(\"/kaggle/working/andrea\")"
   ]
  },
  {
   "cell_type": "code",
   "execution_count": 2,
   "id": "b22eedf6",
   "metadata": {
    "execution": {
     "iopub.execute_input": "2022-11-23T12:00:23.118220Z",
     "iopub.status.busy": "2022-11-23T12:00:23.116923Z",
     "iopub.status.idle": "2022-11-23T12:00:23.122010Z",
     "shell.execute_reply": "2022-11-23T12:00:23.121234Z"
    },
    "papermill": {
     "duration": 0.015911,
     "end_time": "2022-11-23T12:00:23.124466",
     "exception": false,
     "start_time": "2022-11-23T12:00:23.108555",
     "status": "completed"
    },
    "tags": []
   },
   "outputs": [],
   "source": [
    "if os.path.exists(\"/kaggle/working/EfficientNet_experiments\"):\n",
    "    shutil.rmtree(\"/kaggle/working/EfficientNet_experiments\")"
   ]
  },
  {
   "cell_type": "code",
   "execution_count": 3,
   "id": "236e57a6",
   "metadata": {
    "execution": {
     "iopub.execute_input": "2022-11-23T12:00:23.141398Z",
     "iopub.status.busy": "2022-11-23T12:00:23.139939Z",
     "iopub.status.idle": "2022-11-23T12:00:23.145273Z",
     "shell.execute_reply": "2022-11-23T12:00:23.144409Z"
    },
    "papermill": {
     "duration": 0.016952,
     "end_time": "2022-11-23T12:00:23.148515",
     "exception": false,
     "start_time": "2022-11-23T12:00:23.131563",
     "status": "completed"
    },
    "tags": []
   },
   "outputs": [],
   "source": [
    "if os.path.exists(\"/kaggle/working/EfficientNet\"):\n",
    "    shutil.rmtree(\"/kaggle/working/EfficientNet\")"
   ]
  },
  {
   "cell_type": "code",
   "execution_count": 4,
   "id": "b2539b60",
   "metadata": {
    "execution": {
     "iopub.execute_input": "2022-11-23T12:00:23.165285Z",
     "iopub.status.busy": "2022-11-23T12:00:23.164060Z",
     "iopub.status.idle": "2022-11-23T12:00:23.169807Z",
     "shell.execute_reply": "2022-11-23T12:00:23.168844Z"
    },
    "papermill": {
     "duration": 0.017003,
     "end_time": "2022-11-23T12:00:23.172650",
     "exception": false,
     "start_time": "2022-11-23T12:00:23.155647",
     "status": "completed"
    },
    "tags": []
   },
   "outputs": [],
   "source": [
    "# to remove a file\n",
    "import os\n",
    "if os.path.exists(\"/kaggle/working/model.png\"):\n",
    "    os.remove(\"/kaggle/working/model.png\")"
   ]
  },
  {
   "cell_type": "code",
   "execution_count": 5,
   "id": "6da38c84",
   "metadata": {
    "execution": {
     "iopub.execute_input": "2022-11-23T12:00:23.188729Z",
     "iopub.status.busy": "2022-11-23T12:00:23.188304Z",
     "iopub.status.idle": "2022-11-23T12:00:23.194552Z",
     "shell.execute_reply": "2022-11-23T12:00:23.193268Z"
    },
    "papermill": {
     "duration": 0.016852,
     "end_time": "2022-11-23T12:00:23.196764",
     "exception": false,
     "start_time": "2022-11-23T12:00:23.179912",
     "status": "completed"
    },
    "tags": []
   },
   "outputs": [],
   "source": [
    "# to create a folder\n",
    "import os\n",
    "directory = \"EfficientNet\"\n",
    "parent_dir = \"/kaggle/working\"\n",
    "path = os.path.join(parent_dir, directory)\n",
    "if not os.path.exists(path):\n",
    "    os.mkdir(path)"
   ]
  },
  {
   "cell_type": "markdown",
   "id": "3106ad5d",
   "metadata": {
    "papermill": {
     "duration": 0.008969,
     "end_time": "2022-11-23T12:00:23.212874",
     "exception": false,
     "start_time": "2022-11-23T12:00:23.203905",
     "status": "completed"
    },
    "tags": []
   },
   "source": [
    "### Operations"
   ]
  },
  {
   "cell_type": "code",
   "execution_count": 6,
   "id": "6c51ae09",
   "metadata": {
    "execution": {
     "iopub.execute_input": "2022-11-23T12:00:23.231200Z",
     "iopub.status.busy": "2022-11-23T12:00:23.230048Z",
     "iopub.status.idle": "2022-11-23T12:00:31.678820Z",
     "shell.execute_reply": "2022-11-23T12:00:31.677623Z"
    },
    "papermill": {
     "duration": 8.460454,
     "end_time": "2022-11-23T12:00:31.681887",
     "exception": false,
     "start_time": "2022-11-23T12:00:23.221433",
     "status": "completed"
    },
    "tags": []
   },
   "outputs": [],
   "source": [
    "import tensorflow as tf\n",
    "import numpy as np\n",
    "import os\n",
    "import random\n",
    "import pandas as pd\n",
    "import seaborn as sns\n",
    "import matplotlib as mpl\n",
    "import matplotlib.pyplot as plt\n",
    "from sklearn.model_selection import train_test_split\n",
    "from sklearn.metrics import accuracy_score, f1_score, precision_score, recall_score\n",
    "from sklearn.metrics import confusion_matrix\n",
    "from PIL import Image\n",
    "\n",
    "tfk = tf.keras\n",
    "tfkl = tf.keras.layers"
   ]
  },
  {
   "cell_type": "code",
   "execution_count": 7,
   "id": "17b32fa2",
   "metadata": {
    "execution": {
     "iopub.execute_input": "2022-11-23T12:00:31.698344Z",
     "iopub.status.busy": "2022-11-23T12:00:31.697661Z",
     "iopub.status.idle": "2022-11-23T12:00:31.704838Z",
     "shell.execute_reply": "2022-11-23T12:00:31.703322Z"
    },
    "papermill": {
     "duration": 0.018101,
     "end_time": "2022-11-23T12:00:31.707320",
     "exception": false,
     "start_time": "2022-11-23T12:00:31.689219",
     "status": "completed"
    },
    "tags": []
   },
   "outputs": [],
   "source": [
    "# Random seed for reproducibility\n",
    "seed = 42\n",
    "\n",
    "random.seed(seed)\n",
    "os.environ['PYTHONHASHSEED'] = str(seed)\n",
    "np.random.seed(seed)\n",
    "tf.random.set_seed(seed)\n",
    "tf.compat.v1.set_random_seed(seed)"
   ]
  },
  {
   "cell_type": "code",
   "execution_count": 8,
   "id": "0130dad6",
   "metadata": {
    "execution": {
     "iopub.execute_input": "2022-11-23T12:00:31.723409Z",
     "iopub.status.busy": "2022-11-23T12:00:31.722907Z",
     "iopub.status.idle": "2022-11-23T12:00:31.730378Z",
     "shell.execute_reply": "2022-11-23T12:00:31.729142Z"
    },
    "papermill": {
     "duration": 0.018542,
     "end_time": "2022-11-23T12:00:31.732937",
     "exception": false,
     "start_time": "2022-11-23T12:00:31.714395",
     "status": "completed"
    },
    "tags": []
   },
   "outputs": [],
   "source": [
    "import warnings\n",
    "import logging\n",
    "\n",
    "os.environ['TF_CPP_MIN_LOG_LEVEL'] = '2'\n",
    "warnings.simplefilter(action='ignore', category=FutureWarning)\n",
    "warnings.simplefilter(action='ignore', category=Warning)\n",
    "tf.get_logger().setLevel('INFO')\n",
    "tf.autograph.set_verbosity(0)\n",
    "\n",
    "tf.get_logger().setLevel(logging.ERROR)\n",
    "tf.get_logger().setLevel('ERROR')\n",
    "tf.compat.v1.logging.set_verbosity(tf.compat.v1.logging.ERROR)"
   ]
  },
  {
   "cell_type": "markdown",
   "id": "b526871b",
   "metadata": {
    "papermill": {
     "duration": 0.006652,
     "end_time": "2022-11-23T12:00:31.746963",
     "exception": false,
     "start_time": "2022-11-23T12:00:31.740311",
     "status": "completed"
    },
    "tags": []
   },
   "source": [
    "## Importing data"
   ]
  },
  {
   "cell_type": "code",
   "execution_count": 9,
   "id": "3d06cab1",
   "metadata": {
    "execution": {
     "iopub.execute_input": "2022-11-23T12:00:31.764295Z",
     "iopub.status.busy": "2022-11-23T12:00:31.763294Z",
     "iopub.status.idle": "2022-11-23T12:00:31.769972Z",
     "shell.execute_reply": "2022-11-23T12:00:31.768625Z"
    },
    "papermill": {
     "duration": 0.01811,
     "end_time": "2022-11-23T12:00:31.772542",
     "exception": false,
     "start_time": "2022-11-23T12:00:31.754432",
     "status": "completed"
    },
    "tags": []
   },
   "outputs": [],
   "source": [
    "labels = ['Species1',   # 0\n",
    "          'Species2',   # 1\n",
    "          'Species3',   # 2\n",
    "          'Species4',   # 3\n",
    "          'Species5',   # 4\n",
    "          'Species6',   # 5\n",
    "          'Species7',   # 6\n",
    "          'Species8']   # 7"
   ]
  },
  {
   "cell_type": "code",
   "execution_count": 10,
   "id": "992c65d0",
   "metadata": {
    "execution": {
     "iopub.execute_input": "2022-11-23T12:00:31.789641Z",
     "iopub.status.busy": "2022-11-23T12:00:31.789235Z",
     "iopub.status.idle": "2022-11-23T12:00:31.794373Z",
     "shell.execute_reply": "2022-11-23T12:00:31.793165Z"
    },
    "papermill": {
     "duration": 0.016527,
     "end_time": "2022-11-23T12:00:31.796742",
     "exception": false,
     "start_time": "2022-11-23T12:00:31.780215",
     "status": "completed"
    },
    "tags": []
   },
   "outputs": [],
   "source": [
    "# Dataset folders \n",
    "dataset_dir = \"../input/splitted-dataset-no-test/splitted_dataset_no_test\"\n",
    "training_dir = os.path.join(dataset_dir, 'train')\n",
    "validation_dir = os.path.join(dataset_dir, 'val')"
   ]
  },
  {
   "cell_type": "code",
   "execution_count": 11,
   "id": "da621155",
   "metadata": {
    "execution": {
     "iopub.execute_input": "2022-11-23T12:00:31.812170Z",
     "iopub.status.busy": "2022-11-23T12:00:31.811766Z",
     "iopub.status.idle": "2022-11-23T12:00:32.351133Z",
     "shell.execute_reply": "2022-11-23T12:00:32.350235Z"
    },
    "papermill": {
     "duration": 0.550079,
     "end_time": "2022-11-23T12:00:32.353753",
     "exception": false,
     "start_time": "2022-11-23T12:00:31.803674",
     "status": "completed"
    },
    "tags": []
   },
   "outputs": [
    {
     "name": "stdout",
     "output_type": "stream",
     "text": [
      "Found 3432 images belonging to 8 classes.\n",
      "Found 864 images belonging to 8 classes.\n"
     ]
    }
   ],
   "source": [
    "# Images are divided into folders, one for each class. \n",
    "# If the images are organized in such a way, we can exploit the \n",
    "# ImageDataGenerator to read them from disk.\n",
    "from tensorflow.keras.preprocessing.image import ImageDataGenerator\n",
    "\n",
    "# Create an instance of ImageDataGenerator, and for the trainign with Data Augmentation\n",
    "\n",
    "# Use this for data augmentation\n",
    "train_data_gen = ImageDataGenerator(rotation_range=40,\n",
    "                                        height_shift_range=0.5,\n",
    "                                        width_shift_range=0.5,\n",
    "                                        zoom_range=0.5,\n",
    "                                        horizontal_flip=True,\n",
    "                                        fill_mode='reflect')\n",
    "\n",
    "\n",
    "\n",
    "# Use this for no augmentation\n",
    "#train_data_gen = ImageDataGenerator()\n",
    "valid_data_gen = ImageDataGenerator()\n",
    "\n",
    "# Obtain a data generator with the 'ImageDataGenerator.flow_from_directory' method\n",
    "train_gen = train_data_gen.flow_from_directory(directory=training_dir,\n",
    "                                                       target_size=(96,96),\n",
    "                                                       color_mode='rgb',\n",
    "                                                       classes=None, # can be set to labels\n",
    "                                                       class_mode='categorical',\n",
    "                                                       batch_size=8,\n",
    "                                                       shuffle=True,\n",
    "                                                       seed=seed)\n",
    "\n",
    "valid_gen = valid_data_gen.flow_from_directory(directory=validation_dir,\n",
    "                                               target_size=(96,96),\n",
    "                                               color_mode='rgb',\n",
    "                                               classes=None, # can be set to labels\n",
    "                                               class_mode='categorical',\n",
    "                                               batch_size=8,\n",
    "                                               shuffle=False,\n",
    "                                               seed=seed)"
   ]
  },
  {
   "cell_type": "markdown",
   "id": "aa9b7b69",
   "metadata": {
    "papermill": {
     "duration": 0.006808,
     "end_time": "2022-11-23T12:00:32.367962",
     "exception": false,
     "start_time": "2022-11-23T12:00:32.361154",
     "status": "completed"
    },
    "tags": []
   },
   "source": [
    "## Model"
   ]
  },
  {
   "cell_type": "code",
   "execution_count": 12,
   "id": "3dda9755",
   "metadata": {
    "execution": {
     "iopub.execute_input": "2022-11-23T12:00:32.384201Z",
     "iopub.status.busy": "2022-11-23T12:00:32.383399Z",
     "iopub.status.idle": "2022-11-23T12:00:33.489835Z",
     "shell.execute_reply": "2022-11-23T12:00:33.488589Z"
    },
    "papermill": {
     "duration": 1.117529,
     "end_time": "2022-11-23T12:00:33.492505",
     "exception": false,
     "start_time": "2022-11-23T12:00:32.374976",
     "status": "completed"
    },
    "tags": []
   },
   "outputs": [
    {
     "name": "stdout",
     "output_type": "stream",
     "text": [
      "/bin/bash: line 0: cd: /kaggle/working/EfficieNet: No such file or directory\r\n"
     ]
    }
   ],
   "source": [
    "!cd /kaggle/working/EfficieNet"
   ]
  },
  {
   "cell_type": "code",
   "execution_count": 14,
   "id": "197c2da5",
   "metadata": {
    "execution": {
     "iopub.execute_input": "2022-11-23T12:00:33.534300Z",
     "iopub.status.busy": "2022-11-23T12:00:33.533596Z",
     "iopub.status.idle": "2022-11-23T12:00:37.412652Z",
     "shell.execute_reply": "2022-11-23T12:00:37.411221Z"
    },
    "papermill": {
     "duration": 3.890774,
     "end_time": "2022-11-23T12:00:37.415409",
     "exception": false,
     "start_time": "2022-11-23T12:00:33.524635",
     "status": "completed"
    },
    "tags": []
   },
   "outputs": [
    {
     "name": "stdout",
     "output_type": "stream",
     "text": [
      "Downloading data from https://storage.googleapis.com/keras-applications/efficientnetb3_notop.h5\n",
      "43941888/43941136 [==============================] - 0s 0us/step\n",
      "43950080/43941136 [==============================] - 0s 0us/step\n"
     ]
    }
   ],
   "source": [
    "# Download and plot the EfficientNet model\n",
    "eff_net = tfk.applications.efficientnet.EfficientNetB3(\n",
    "    include_top=False,\n",
    "    weights='imagenet',\n",
    "    input_shape=(96,96,3),\n",
    ")\n",
    "\n",
    "eff_net.trainable = True # we are freezing the weights of the conv part, so that they are not updated\n",
    "                            # during the training\n",
    "#tfk.utils.plot_model(eff_net)"
   ]
  },
  {
   "cell_type": "code",
   "execution_count": 15,
   "id": "fa6892eb",
   "metadata": {
    "execution": {
     "iopub.execute_input": "2022-11-23T12:00:37.433778Z",
     "iopub.status.busy": "2022-11-23T12:00:37.433306Z",
     "iopub.status.idle": "2022-11-23T12:00:37.440671Z",
     "shell.execute_reply": "2022-11-23T12:00:37.439234Z"
    },
    "papermill": {
     "duration": 0.020315,
     "end_time": "2022-11-23T12:00:37.444247",
     "exception": false,
     "start_time": "2022-11-23T12:00:37.423932",
     "status": "completed"
    },
    "tags": []
   },
   "outputs": [],
   "source": [
    "input_shape = (96, 96, 3)\n",
    "epochs = 300\n",
    "learning_rate = 1e-4\n",
    "l1=1e-4\n",
    "l2=1e-3"
   ]
  },
  {
   "cell_type": "code",
   "execution_count": 16,
   "id": "6e783966",
   "metadata": {
    "execution": {
     "iopub.execute_input": "2022-11-23T12:00:37.462378Z",
     "iopub.status.busy": "2022-11-23T12:00:37.461935Z",
     "iopub.status.idle": "2022-11-23T12:01:06.547749Z",
     "shell.execute_reply": "2022-11-23T12:01:06.546207Z"
    },
    "papermill": {
     "duration": 29.098281,
     "end_time": "2022-11-23T12:01:06.550467",
     "exception": false,
     "start_time": "2022-11-23T12:00:37.452186",
     "status": "completed"
    },
    "tags": []
   },
   "outputs": [
    {
     "name": "stdout",
     "output_type": "stream",
     "text": [
      "Model: \"efficient_net_model\"\n",
      "_________________________________________________________________\n",
      "Layer (type)                 Output Shape              Param #   \n",
      "=================================================================\n",
      "input_layer (InputLayer)     [(None, 96, 96, 3)]       0         \n",
      "_________________________________________________________________\n",
      "efficientnetb3 (Functional)  (None, 3, 3, 1536)        10783535  \n",
      "_________________________________________________________________\n",
      "global_average_pooling2d (Gl (None, 1536)              0         \n",
      "_________________________________________________________________\n",
      "dropout (Dropout)            (None, 1536)              0         \n",
      "_________________________________________________________________\n",
      "dense (Dense)                (None, 8)                 12296     \n",
      "=================================================================\n",
      "Total params: 10,795,831\n",
      "Trainable params: 10,708,528\n",
      "Non-trainable params: 87,303\n",
      "_________________________________________________________________\n"
     ]
    }
   ],
   "source": [
    "eff_net_model = tfk.models.load_model(\"/kaggle/input/efficient-net-b3/EfficientNetB3_Only_GAP_more_augmentation\")\n",
    "eff_net_model.summary()"
   ]
  },
  {
   "cell_type": "code",
   "execution_count": 17,
   "id": "1b08d617",
   "metadata": {
    "execution": {
     "iopub.execute_input": "2022-11-23T12:01:06.568033Z",
     "iopub.status.busy": "2022-11-23T12:01:06.567560Z",
     "iopub.status.idle": "2022-11-23T12:01:06.591570Z",
     "shell.execute_reply": "2022-11-23T12:01:06.590351Z"
    },
    "papermill": {
     "duration": 0.036016,
     "end_time": "2022-11-23T12:01:06.594431",
     "exception": false,
     "start_time": "2022-11-23T12:01:06.558415",
     "status": "completed"
    },
    "tags": []
   },
   "outputs": [],
   "source": [
    "eff_net = eff_net_model.get_layer(\"efficientnetb3\")\n",
    "eff_net.trainable=False\n",
    "out_cs = eff_net_model.get_layer(\"dense\")\n",
    "out_cs.trainable=False"
   ]
  },
  {
   "cell_type": "code",
   "execution_count": 18,
   "id": "cf845c02",
   "metadata": {
    "execution": {
     "iopub.execute_input": "2022-11-23T12:01:06.612275Z",
     "iopub.status.busy": "2022-11-23T12:01:06.611578Z",
     "iopub.status.idle": "2022-11-23T12:01:06.620323Z",
     "shell.execute_reply": "2022-11-23T12:01:06.618906Z"
    },
    "papermill": {
     "duration": 0.020939,
     "end_time": "2022-11-23T12:01:06.623213",
     "exception": false,
     "start_time": "2022-11-23T12:01:06.602274",
     "status": "completed"
    },
    "tags": []
   },
   "outputs": [],
   "source": [
    "def build_model(input_shape):\n",
    "\n",
    "    # Build the neural network layer by layer\n",
    "    input_layer = tfkl.Input(input_shape)\n",
    "    efficient_net_layer = eff_net(input_layer)    \n",
    "    x = tfkl.GlobalAveragePooling2D()(efficient_net_layer)\n",
    "    x = tfkl.Dropout(0.3, seed=seed)(x)\n",
    "    x = tfkl.Dense(128, activation='relu', kernel_initializer=tfk.initializers.HeUniform(seed), kernel_regularizer=tfk.regularizers.L1L2(l1=l1, l2=l2))(x)\n",
    "    x = tfkl.Dropout(0.3, seed=seed)(x)\n",
    "    output_layer = tfkl.Dense(8, activation='softmax', kernel_initializer=tfk.initializers.GlorotUniform(seed))(x)\n",
    "        # Connect input and output through the Model class\n",
    "    model = tfk.Model(inputs=input_layer, outputs=output_layer, name='efficient_net_model')\n",
    "\n",
    "    # Compile the model\n",
    "    model.compile(loss=tfk.losses.CategoricalCrossentropy(), optimizer=tfk.optimizers.Adam(learning_rate), metrics='accuracy')\n",
    "\n",
    "    # Return the model\n",
    "    return model"
   ]
  },
  {
   "cell_type": "code",
   "execution_count": 19,
   "id": "0293066f",
   "metadata": {
    "execution": {
     "iopub.execute_input": "2022-11-23T12:01:06.640869Z",
     "iopub.status.busy": "2022-11-23T12:01:06.640454Z",
     "iopub.status.idle": "2022-11-23T12:01:09.336744Z",
     "shell.execute_reply": "2022-11-23T12:01:09.335199Z"
    },
    "papermill": {
     "duration": 2.708196,
     "end_time": "2022-11-23T12:01:09.339495",
     "exception": false,
     "start_time": "2022-11-23T12:01:06.631299",
     "status": "completed"
    },
    "tags": []
   },
   "outputs": [
    {
     "name": "stdout",
     "output_type": "stream",
     "text": [
      "Model: \"efficient_net_model\"\n",
      "_________________________________________________________________\n",
      "Layer (type)                 Output Shape              Param #   \n",
      "=================================================================\n",
      "input_2 (InputLayer)         [(None, 96, 96, 3)]       0         \n",
      "_________________________________________________________________\n",
      "efficientnetb3 (Functional)  (None, 3, 3, 1536)        10783535  \n",
      "_________________________________________________________________\n",
      "global_average_pooling2d (Gl (None, 1536)              0         \n",
      "_________________________________________________________________\n",
      "dropout (Dropout)            (None, 1536)              0         \n",
      "_________________________________________________________________\n",
      "dense (Dense)                (None, 128)               196736    \n",
      "_________________________________________________________________\n",
      "dropout_1 (Dropout)          (None, 128)               0         \n",
      "_________________________________________________________________\n",
      "dense_1 (Dense)              (None, 8)                 1032      \n",
      "=================================================================\n",
      "Total params: 10,981,303\n",
      "Trainable params: 197,768\n",
      "Non-trainable params: 10,783,535\n",
      "_________________________________________________________________\n"
     ]
    },
    {
     "data": {
      "image/png": "[encoded data removed]",
      "text/plain": [
       "<IPython.core.display.Image object>"
      ]
     },
     "execution_count": 19,
     "metadata": {},
     "output_type": "execute_result"
    }
   ],
   "source": [
    "# Build model\n",
    "model_name = \"Efficient_net_B3_loaded_128_dense\"\n",
    "\n",
    "eff_net_model = build_model(input_shape)\n",
    "eff_net_model.summary()\n",
    "tfk.utils.plot_model(eff_net_model)"
   ]
  },
  {
   "cell_type": "code",
   "execution_count": 20,
   "id": "7dc12075",
   "metadata": {
    "execution": {
     "iopub.execute_input": "2022-11-23T12:01:09.359527Z",
     "iopub.status.busy": "2022-11-23T12:01:09.359054Z",
     "iopub.status.idle": "2022-11-23T12:01:09.365286Z",
     "shell.execute_reply": "2022-11-23T12:01:09.363933Z"
    },
    "papermill": {
     "duration": 0.019583,
     "end_time": "2022-11-23T12:01:09.368160",
     "exception": false,
     "start_time": "2022-11-23T12:01:09.348577",
     "status": "completed"
    },
    "tags": []
   },
   "outputs": [],
   "source": [
    "patience = 20"
   ]
  },
  {
   "cell_type": "code",
   "execution_count": 21,
   "id": "0d89a143",
   "metadata": {
    "execution": {
     "iopub.execute_input": "2022-11-23T12:01:09.387584Z",
     "iopub.status.busy": "2022-11-23T12:01:09.386702Z",
     "iopub.status.idle": "2022-11-23T12:58:07.713736Z",
     "shell.execute_reply": "2022-11-23T12:58:07.712488Z"
    },
    "papermill": {
     "duration": 3419.49211,
     "end_time": "2022-11-23T12:58:08.868834",
     "exception": false,
     "start_time": "2022-11-23T12:01:09.376724",
     "status": "completed"
    },
    "tags": []
   },
   "outputs": [
    {
     "name": "stdout",
     "output_type": "stream",
     "text": [
      "Epoch 1/300\n",
      "429/429 [==============================] - 94s 193ms/step - loss: 1.8365 - accuracy: 0.6946 - val_loss: 1.2513 - val_accuracy: 0.8796\n",
      "Epoch 2/300\n",
      "429/429 [==============================] - 69s 161ms/step - loss: 1.1871 - accuracy: 0.9079 - val_loss: 1.2007 - val_accuracy: 0.8785\n",
      "Epoch 3/300\n",
      "429/429 [==============================] - 70s 164ms/step - loss: 1.0967 - accuracy: 0.9228 - val_loss: 1.1609 - val_accuracy: 0.8924\n",
      "Epoch 4/300\n",
      "429/429 [==============================] - 68s 158ms/step - loss: 1.0363 - accuracy: 0.9254 - val_loss: 1.1488 - val_accuracy: 0.8796\n",
      "Epoch 5/300\n",
      "429/429 [==============================] - 69s 162ms/step - loss: 1.0011 - accuracy: 0.9237 - val_loss: 1.1026 - val_accuracy: 0.8900\n",
      "Epoch 6/300\n",
      "429/429 [==============================] - 67s 157ms/step - loss: 0.9489 - accuracy: 0.9321 - val_loss: 1.0897 - val_accuracy: 0.8843\n",
      "Epoch 7/300\n",
      "429/429 [==============================] - 68s 157ms/step - loss: 0.9264 - accuracy: 0.9263 - val_loss: 1.0201 - val_accuracy: 0.9005\n",
      "Epoch 8/300\n",
      "429/429 [==============================] - 68s 159ms/step - loss: 0.8931 - accuracy: 0.9289 - val_loss: 0.9995 - val_accuracy: 0.8958\n",
      "Epoch 9/300\n",
      "429/429 [==============================] - 69s 162ms/step - loss: 0.8462 - accuracy: 0.9350 - val_loss: 1.0062 - val_accuracy: 0.8843\n",
      "Epoch 10/300\n",
      "429/429 [==============================] - 71s 165ms/step - loss: 0.8166 - accuracy: 0.9368 - val_loss: 0.9558 - val_accuracy: 0.8947\n",
      "Epoch 11/300\n",
      "429/429 [==============================] - 68s 160ms/step - loss: 0.7815 - accuracy: 0.9336 - val_loss: 0.9002 - val_accuracy: 0.8958\n",
      "Epoch 12/300\n",
      "429/429 [==============================] - 69s 160ms/step - loss: 0.7426 - accuracy: 0.9455 - val_loss: 0.8909 - val_accuracy: 0.8993\n",
      "Epoch 13/300\n",
      "429/429 [==============================] - 69s 160ms/step - loss: 0.7218 - accuracy: 0.9347 - val_loss: 0.8533 - val_accuracy: 0.8981\n",
      "Epoch 14/300\n",
      "429/429 [==============================] - 68s 158ms/step - loss: 0.7000 - accuracy: 0.9344 - val_loss: 0.8937 - val_accuracy: 0.8831\n",
      "Epoch 15/300\n",
      "429/429 [==============================] - 70s 163ms/step - loss: 0.6624 - accuracy: 0.9441 - val_loss: 0.8455 - val_accuracy: 0.8877\n",
      "Epoch 16/300\n",
      "429/429 [==============================] - 69s 160ms/step - loss: 0.6383 - accuracy: 0.9429 - val_loss: 0.8031 - val_accuracy: 0.8970\n",
      "Epoch 17/300\n",
      "429/429 [==============================] - 70s 164ms/step - loss: 0.6121 - accuracy: 0.9403 - val_loss: 0.7720 - val_accuracy: 0.8981\n",
      "Epoch 18/300\n",
      "429/429 [==============================] - 69s 161ms/step - loss: 0.5752 - accuracy: 0.9476 - val_loss: 0.7391 - val_accuracy: 0.9016\n",
      "Epoch 19/300\n",
      "429/429 [==============================] - 68s 158ms/step - loss: 0.5702 - accuracy: 0.9435 - val_loss: 0.7153 - val_accuracy: 0.8970\n",
      "Epoch 20/300\n",
      "429/429 [==============================] - 68s 158ms/step - loss: 0.5408 - accuracy: 0.9432 - val_loss: 0.7110 - val_accuracy: 0.9005\n",
      "Epoch 21/300\n",
      "429/429 [==============================] - 69s 160ms/step - loss: 0.5371 - accuracy: 0.9429 - val_loss: 0.6646 - val_accuracy: 0.9028\n",
      "Epoch 22/300\n",
      "429/429 [==============================] - 70s 164ms/step - loss: 0.5192 - accuracy: 0.9443 - val_loss: 0.6739 - val_accuracy: 0.9074\n",
      "Epoch 23/300\n",
      "429/429 [==============================] - 69s 161ms/step - loss: 0.5060 - accuracy: 0.9438 - val_loss: 0.6528 - val_accuracy: 0.9120\n",
      "Epoch 24/300\n",
      "429/429 [==============================] - 71s 166ms/step - loss: 0.4848 - accuracy: 0.9481 - val_loss: 0.6515 - val_accuracy: 0.8947\n",
      "Epoch 25/300\n",
      "429/429 [==============================] - 69s 162ms/step - loss: 0.4801 - accuracy: 0.9414 - val_loss: 0.6331 - val_accuracy: 0.8924\n",
      "Epoch 26/300\n",
      "429/429 [==============================] - 69s 161ms/step - loss: 0.4435 - accuracy: 0.9481 - val_loss: 0.6101 - val_accuracy: 0.8947\n",
      "Epoch 27/300\n",
      "429/429 [==============================] - 68s 159ms/step - loss: 0.4400 - accuracy: 0.9458 - val_loss: 0.6023 - val_accuracy: 0.8947\n",
      "Epoch 28/300\n",
      "429/429 [==============================] - 70s 162ms/step - loss: 0.4565 - accuracy: 0.9391 - val_loss: 0.5618 - val_accuracy: 0.9097\n",
      "Epoch 29/300\n",
      "429/429 [==============================] - 69s 160ms/step - loss: 0.4045 - accuracy: 0.9516 - val_loss: 0.5776 - val_accuracy: 0.8970\n",
      "Epoch 30/300\n",
      "429/429 [==============================] - 70s 162ms/step - loss: 0.4157 - accuracy: 0.9429 - val_loss: 0.5725 - val_accuracy: 0.8993\n",
      "Epoch 31/300\n",
      "429/429 [==============================] - 71s 166ms/step - loss: 0.3972 - accuracy: 0.9496 - val_loss: 0.5533 - val_accuracy: 0.9028\n",
      "Epoch 32/300\n",
      "429/429 [==============================] - 70s 164ms/step - loss: 0.3924 - accuracy: 0.9490 - val_loss: 0.5677 - val_accuracy: 0.8993\n",
      "Epoch 33/300\n",
      "429/429 [==============================] - 69s 162ms/step - loss: 0.3795 - accuracy: 0.9470 - val_loss: 0.5331 - val_accuracy: 0.9005\n",
      "Epoch 34/300\n",
      "429/429 [==============================] - 69s 160ms/step - loss: 0.3600 - accuracy: 0.9522 - val_loss: 0.5477 - val_accuracy: 0.8935\n",
      "Epoch 35/300\n",
      "429/429 [==============================] - 67s 156ms/step - loss: 0.3701 - accuracy: 0.9473 - val_loss: 0.5318 - val_accuracy: 0.9074\n",
      "Epoch 36/300\n",
      "429/429 [==============================] - 70s 164ms/step - loss: 0.3528 - accuracy: 0.9499 - val_loss: 0.5501 - val_accuracy: 0.8981\n",
      "Epoch 37/300\n",
      "429/429 [==============================] - 69s 161ms/step - loss: 0.3537 - accuracy: 0.9476 - val_loss: 0.5354 - val_accuracy: 0.9028\n",
      "Epoch 38/300\n",
      "429/429 [==============================] - 70s 164ms/step - loss: 0.3335 - accuracy: 0.9548 - val_loss: 0.5353 - val_accuracy: 0.8947\n",
      "Epoch 39/300\n",
      "429/429 [==============================] - 71s 164ms/step - loss: 0.3472 - accuracy: 0.9510 - val_loss: 0.5152 - val_accuracy: 0.8900\n",
      "Epoch 40/300\n",
      "429/429 [==============================] - 69s 161ms/step - loss: 0.3245 - accuracy: 0.9528 - val_loss: 0.5124 - val_accuracy: 0.8958\n",
      "Epoch 41/300\n",
      "429/429 [==============================] - 69s 161ms/step - loss: 0.3021 - accuracy: 0.9569 - val_loss: 0.5046 - val_accuracy: 0.9005\n",
      "Epoch 42/300\n",
      "429/429 [==============================] - 69s 160ms/step - loss: 0.3221 - accuracy: 0.9510 - val_loss: 0.5026 - val_accuracy: 0.9097\n",
      "Epoch 43/300\n",
      "429/429 [==============================] - 69s 161ms/step - loss: 0.3049 - accuracy: 0.9548 - val_loss: 0.5384 - val_accuracy: 0.8912\n"
     ]
    }
   ],
   "source": [
    "# Train the model\n",
    "eff_net_model_history = eff_net_model.fit(\n",
    "    x = train_gen,\n",
    "    batch_size = 256,\n",
    "    epochs = epochs,\n",
    "    validation_data = valid_gen,\n",
    "    callbacks = [tfk.callbacks.EarlyStopping(monitor='val_accuracy', mode='max', patience=patience, restore_best_weights=True)],\n",
    ").history"
   ]
  },
  {
   "cell_type": "code",
   "execution_count": 22,
   "id": "bef74f1b",
   "metadata": {
    "execution": {
     "iopub.execute_input": "2022-11-23T12:58:11.280156Z",
     "iopub.status.busy": "2022-11-23T12:58:11.279769Z",
     "iopub.status.idle": "2022-11-23T12:58:11.960053Z",
     "shell.execute_reply": "2022-11-23T12:58:11.958580Z"
    },
    "papermill": {
     "duration": 1.850009,
     "end_time": "2022-11-23T12:58:11.962483",
     "exception": false,
     "start_time": "2022-11-23T12:58:10.112474",
     "status": "completed"
    },
    "tags": []
   },
   "outputs": [
    {
     "data": {
      "image/png": "[encoded data removed]",
      "text/plain": [
       "<Figure size 1080x360 with 1 Axes>"
      ]
     },
     "metadata": {
      "needs_background": "light"
     },
     "output_type": "display_data"
    },
    {
     "data": {
      "image/png": "[encoded data removed]",
      "text/plain": [
       "<Figure size 1080x360 with 1 Axes>"
      ]
     },
     "metadata": {
      "needs_background": "light"
     },
     "output_type": "display_data"
    }
   ],
   "source": [
    "# Plot the training\n",
    "plt.figure(figsize=(15,5))\n",
    "plt.plot(eff_net_model_history['loss'], label='Loss', alpha=.3, color='#ff7f0e', linestyle='--')\n",
    "plt.plot(eff_net_model_history['val_loss'], label='Val loss', alpha=.8, color='#ff7f0e')\n",
    "plt.legend(loc='upper left')\n",
    "plt.title('Categorical Crossentropy')\n",
    "plt.grid(alpha=.3)\n",
    "plt.savefig(model_name + \"cat_cr_en.png\")\n",
    "\n",
    "plt.figure(figsize=(15,5))\n",
    "plt.plot(eff_net_model_history['accuracy'], label='Accuracy', alpha=.3, color='#ff7f0e', linestyle='--')\n",
    "plt.plot(eff_net_model_history['val_accuracy'], label='Val accuracy', alpha=.8, color='#ff7f0e')\n",
    "plt.legend(loc='upper left')\n",
    "plt.title('Accuracy')\n",
    "plt.grid(alpha=.3)\n",
    "plt.savefig(model_name + \"acc.png\")\n",
    "\n",
    "plt.show()"
   ]
  },
  {
   "cell_type": "code",
   "execution_count": 23,
   "id": "a1252598",
   "metadata": {
    "execution": {
     "iopub.execute_input": "2022-11-23T12:58:14.420139Z",
     "iopub.status.busy": "2022-11-23T12:58:14.419266Z",
     "iopub.status.idle": "2022-11-23T12:59:23.900635Z",
     "shell.execute_reply": "2022-11-23T12:59:23.899530Z"
    },
    "papermill": {
     "duration": 70.707576,
     "end_time": "2022-11-23T12:59:23.903372",
     "exception": false,
     "start_time": "2022-11-23T12:58:13.195796",
     "status": "completed"
    },
    "tags": []
   },
   "outputs": [],
   "source": [
    "# Save the best model\n",
    "eff_net_model.save(model_name)"
   ]
  },
  {
   "cell_type": "code",
   "execution_count": 24,
   "id": "4536e512",
   "metadata": {
    "execution": {
     "iopub.execute_input": "2022-11-23T12:59:26.358973Z",
     "iopub.status.busy": "2022-11-23T12:59:26.357898Z",
     "iopub.status.idle": "2022-11-23T12:59:26.388422Z",
     "shell.execute_reply": "2022-11-23T12:59:26.387127Z"
    },
    "papermill": {
     "duration": 1.2642,
     "end_time": "2022-11-23T12:59:26.392268",
     "exception": false,
     "start_time": "2022-11-23T12:59:25.128068",
     "status": "completed"
    },
    "tags": []
   },
   "outputs": [
    {
     "data": {
      "text/plain": [
       "'/kaggle/working/EfficientNet/Efficient_net_B3_loaded_128_dense.zip'"
      ]
     },
     "execution_count": 24,
     "metadata": {},
     "output_type": "execute_result"
    }
   ],
   "source": [
    "# Make zip archive for download\n",
    "import shutil\n",
    "name = \"/kaggle/working/EfficientNet/\" + model_name\n",
    "shutil.make_archive(name, 'zip', \"/kaggle/working/EfficientNet\")"
   ]
  }
 ],
 "metadata": {
  "kernelspec": {
   "display_name": "Python 3.10.2 64-bit",
   "language": "python",
   "name": "python3"
  },
  "language_info": {
   "codemirror_mode": {
    "name": "ipython",
    "version": 3
   },
   "file_extension": ".py",
   "mimetype": "text/x-python",
   "name": "python",
   "nbconvert_exporter": "python",
   "pygments_lexer": "ipython3",
   "version": "3.10.2"
  },
  "papermill": {
   "default_parameters": {},
   "duration": 3556.908437,
   "end_time": "2022-11-23T12:59:30.459361",
   "environment_variables": {},
   "exception": null,
   "input_path": "__notebook__.ipynb",
   "output_path": "__notebook__.ipynb",
   "parameters": {},
   "start_time": "2022-11-23T12:00:13.550924",
   "version": "2.3.4"
  },
  "vscode": {
   "interpreter": {
    "hash": "6847c98a8f86b01c6a19c518cd2f366693b80566b266804d5ca763cbb223f52b"
   }
  }
 },
 "nbformat": 4,
 "nbformat_minor": 5
}
